{
 "cells": [
  {
   "cell_type": "code",
   "outputs": [
    {
     "name": "stdout",
     "output_type": "stream",
     "text": [
      "WARNING:tensorflow:From C:\\Users\\amith\\AppData\\Local\\Programs\\Python\\Python311\\Lib\\site-packages\\keras\\src\\losses.py:2976: The name tf.losses.sparse_softmax_cross_entropy is deprecated. Please use tf.compat.v1.losses.sparse_softmax_cross_entropy instead.\n"
     ]
    }
   ],
   "source": [
    "import numpy as np\n",
    "import pandas as pd\n",
    "import matplotlib.pyplot as plt\n",
    "import seaborn as sns\n",
    "import warnings\n",
    "warnings.filterwarnings(\"ignore\")\n",
    "from sklearn.linear_model import *\n",
    "from sklearn.metrics import *\n",
    "import tensorflow as tf"
   ],
   "metadata": {
    "collapsed": false,
    "ExecuteTime": {
     "end_time": "2024-02-09T00:53:20.041511400Z",
     "start_time": "2024-02-09T00:53:08.476116700Z"
    }
   },
   "id": "efb61b9aa6bd4b66",
   "execution_count": 1
  },
  {
   "cell_type": "code",
   "outputs": [
    {
     "data": {
      "text/plain": "   Unnamed: 0    cut color clarity  carat_weight cut_quality  lab   symmetry  \\\n0           0  Round     E    VVS2          0.09   Excellent  IGI  Very Good   \n1           1  Round     E    VVS2          0.09   Very Good  IGI  Very Good   \n2           2  Round     E    VVS2          0.09   Excellent  IGI  Very Good   \n3           3  Round     E    VVS2          0.09   Excellent  IGI  Very Good   \n4           4  Round     E    VVS2          0.09   Very Good  IGI  Very Good   \n\n      polish eye_clean  ... meas_depth girdle_min  girdle_max  fluor_color  \\\n0  Very Good   unknown  ...       1.79          M           M      unknown   \n1  Very Good   unknown  ...       1.78        STK         STK      unknown   \n2  Very Good   unknown  ...       1.77         TN           M      unknown   \n3  Very Good   unknown  ...       1.78          M         STK      unknown   \n4  Excellent   unknown  ...       1.82        STK         STK      unknown   \n\n   fluor_intensity  fancy_color_dominant_color  fancy_color_secondary_color  \\\n0              NaN                     unknown                      unknown   \n1              NaN                     unknown                      unknown   \n2              NaN                     unknown                      unknown   \n3              NaN                     unknown                      unknown   \n4              NaN                     unknown                      unknown   \n\n  fancy_color_overtone fancy_color_intensity total_sales_price  \n0              unknown               unknown               200  \n1              unknown               unknown               200  \n2              unknown               unknown               200  \n3              unknown               unknown               200  \n4              unknown               unknown               200  \n\n[5 rows x 26 columns]",
      "text/html": "<div>\n<style scoped>\n    .dataframe tbody tr th:only-of-type {\n        vertical-align: middle;\n    }\n\n    .dataframe tbody tr th {\n        vertical-align: top;\n    }\n\n    .dataframe thead th {\n        text-align: right;\n    }\n</style>\n<table border=\"1\" class=\"dataframe\">\n  <thead>\n    <tr style=\"text-align: right;\">\n      <th></th>\n      <th>Unnamed: 0</th>\n      <th>cut</th>\n      <th>color</th>\n      <th>clarity</th>\n      <th>carat_weight</th>\n      <th>cut_quality</th>\n      <th>lab</th>\n      <th>symmetry</th>\n      <th>polish</th>\n      <th>eye_clean</th>\n      <th>...</th>\n      <th>meas_depth</th>\n      <th>girdle_min</th>\n      <th>girdle_max</th>\n      <th>fluor_color</th>\n      <th>fluor_intensity</th>\n      <th>fancy_color_dominant_color</th>\n      <th>fancy_color_secondary_color</th>\n      <th>fancy_color_overtone</th>\n      <th>fancy_color_intensity</th>\n      <th>total_sales_price</th>\n    </tr>\n  </thead>\n  <tbody>\n    <tr>\n      <th>0</th>\n      <td>0</td>\n      <td>Round</td>\n      <td>E</td>\n      <td>VVS2</td>\n      <td>0.09</td>\n      <td>Excellent</td>\n      <td>IGI</td>\n      <td>Very Good</td>\n      <td>Very Good</td>\n      <td>unknown</td>\n      <td>...</td>\n      <td>1.79</td>\n      <td>M</td>\n      <td>M</td>\n      <td>unknown</td>\n      <td>NaN</td>\n      <td>unknown</td>\n      <td>unknown</td>\n      <td>unknown</td>\n      <td>unknown</td>\n      <td>200</td>\n    </tr>\n    <tr>\n      <th>1</th>\n      <td>1</td>\n      <td>Round</td>\n      <td>E</td>\n      <td>VVS2</td>\n      <td>0.09</td>\n      <td>Very Good</td>\n      <td>IGI</td>\n      <td>Very Good</td>\n      <td>Very Good</td>\n      <td>unknown</td>\n      <td>...</td>\n      <td>1.78</td>\n      <td>STK</td>\n      <td>STK</td>\n      <td>unknown</td>\n      <td>NaN</td>\n      <td>unknown</td>\n      <td>unknown</td>\n      <td>unknown</td>\n      <td>unknown</td>\n      <td>200</td>\n    </tr>\n    <tr>\n      <th>2</th>\n      <td>2</td>\n      <td>Round</td>\n      <td>E</td>\n      <td>VVS2</td>\n      <td>0.09</td>\n      <td>Excellent</td>\n      <td>IGI</td>\n      <td>Very Good</td>\n      <td>Very Good</td>\n      <td>unknown</td>\n      <td>...</td>\n      <td>1.77</td>\n      <td>TN</td>\n      <td>M</td>\n      <td>unknown</td>\n      <td>NaN</td>\n      <td>unknown</td>\n      <td>unknown</td>\n      <td>unknown</td>\n      <td>unknown</td>\n      <td>200</td>\n    </tr>\n    <tr>\n      <th>3</th>\n      <td>3</td>\n      <td>Round</td>\n      <td>E</td>\n      <td>VVS2</td>\n      <td>0.09</td>\n      <td>Excellent</td>\n      <td>IGI</td>\n      <td>Very Good</td>\n      <td>Very Good</td>\n      <td>unknown</td>\n      <td>...</td>\n      <td>1.78</td>\n      <td>M</td>\n      <td>STK</td>\n      <td>unknown</td>\n      <td>NaN</td>\n      <td>unknown</td>\n      <td>unknown</td>\n      <td>unknown</td>\n      <td>unknown</td>\n      <td>200</td>\n    </tr>\n    <tr>\n      <th>4</th>\n      <td>4</td>\n      <td>Round</td>\n      <td>E</td>\n      <td>VVS2</td>\n      <td>0.09</td>\n      <td>Very Good</td>\n      <td>IGI</td>\n      <td>Very Good</td>\n      <td>Excellent</td>\n      <td>unknown</td>\n      <td>...</td>\n      <td>1.82</td>\n      <td>STK</td>\n      <td>STK</td>\n      <td>unknown</td>\n      <td>NaN</td>\n      <td>unknown</td>\n      <td>unknown</td>\n      <td>unknown</td>\n      <td>unknown</td>\n      <td>200</td>\n    </tr>\n  </tbody>\n</table>\n<p>5 rows × 26 columns</p>\n</div>"
     },
     "execution_count": 4,
     "metadata": {},
     "output_type": "execute_result"
    }
   ],
   "source": [
    "df = pd.read_csv(\"diamonds.csv\")\n",
    "df.head()"
   ],
   "metadata": {
    "collapsed": false,
    "ExecuteTime": {
     "end_time": "2024-02-09T01:00:53.166274800Z",
     "start_time": "2024-02-09T01:00:52.249376300Z"
    }
   },
   "id": "1c4b6b5fa3e6829f",
   "execution_count": 4
  },
  {
   "cell_type": "markdown",
   "source": [
    "### Data Preprocessing"
   ],
   "metadata": {
    "collapsed": false
   },
   "id": "11c3bb974d5f141d"
  },
  {
   "cell_type": "code",
   "outputs": [
    {
     "data": {
      "text/plain": "     cut color clarity  carat_weight cut_quality  lab   symmetry     polish  \\\n0  Round     E    VVS2          0.09   Excellent  IGI  Very Good  Very Good   \n1  Round     E    VVS2          0.09   Very Good  IGI  Very Good  Very Good   \n2  Round     E    VVS2          0.09   Excellent  IGI  Very Good  Very Good   \n3  Round     E    VVS2          0.09   Excellent  IGI  Very Good  Very Good   \n4  Round     E    VVS2          0.09   Very Good  IGI  Very Good  Excellent   \n\n  eye_clean culet_size  ... meas_depth  girdle_min  girdle_max  fluor_color  \\\n0   unknown          N  ...       1.79           M           M      unknown   \n1   unknown          N  ...       1.78         STK         STK      unknown   \n2   unknown    unknown  ...       1.77          TN           M      unknown   \n3   unknown    unknown  ...       1.78           M         STK      unknown   \n4   unknown          N  ...       1.82         STK         STK      unknown   \n\n   fluor_intensity  fancy_color_dominant_color fancy_color_secondary_color  \\\n0              NaN                     unknown                     unknown   \n1              NaN                     unknown                     unknown   \n2              NaN                     unknown                     unknown   \n3              NaN                     unknown                     unknown   \n4              NaN                     unknown                     unknown   \n\n  fancy_color_overtone fancy_color_intensity total_sales_price  \n0              unknown               unknown               200  \n1              unknown               unknown               200  \n2              unknown               unknown               200  \n3              unknown               unknown               200  \n4              unknown               unknown               200  \n\n[5 rows x 25 columns]",
      "text/html": "<div>\n<style scoped>\n    .dataframe tbody tr th:only-of-type {\n        vertical-align: middle;\n    }\n\n    .dataframe tbody tr th {\n        vertical-align: top;\n    }\n\n    .dataframe thead th {\n        text-align: right;\n    }\n</style>\n<table border=\"1\" class=\"dataframe\">\n  <thead>\n    <tr style=\"text-align: right;\">\n      <th></th>\n      <th>cut</th>\n      <th>color</th>\n      <th>clarity</th>\n      <th>carat_weight</th>\n      <th>cut_quality</th>\n      <th>lab</th>\n      <th>symmetry</th>\n      <th>polish</th>\n      <th>eye_clean</th>\n      <th>culet_size</th>\n      <th>...</th>\n      <th>meas_depth</th>\n      <th>girdle_min</th>\n      <th>girdle_max</th>\n      <th>fluor_color</th>\n      <th>fluor_intensity</th>\n      <th>fancy_color_dominant_color</th>\n      <th>fancy_color_secondary_color</th>\n      <th>fancy_color_overtone</th>\n      <th>fancy_color_intensity</th>\n      <th>total_sales_price</th>\n    </tr>\n  </thead>\n  <tbody>\n    <tr>\n      <th>0</th>\n      <td>Round</td>\n      <td>E</td>\n      <td>VVS2</td>\n      <td>0.09</td>\n      <td>Excellent</td>\n      <td>IGI</td>\n      <td>Very Good</td>\n      <td>Very Good</td>\n      <td>unknown</td>\n      <td>N</td>\n      <td>...</td>\n      <td>1.79</td>\n      <td>M</td>\n      <td>M</td>\n      <td>unknown</td>\n      <td>NaN</td>\n      <td>unknown</td>\n      <td>unknown</td>\n      <td>unknown</td>\n      <td>unknown</td>\n      <td>200</td>\n    </tr>\n    <tr>\n      <th>1</th>\n      <td>Round</td>\n      <td>E</td>\n      <td>VVS2</td>\n      <td>0.09</td>\n      <td>Very Good</td>\n      <td>IGI</td>\n      <td>Very Good</td>\n      <td>Very Good</td>\n      <td>unknown</td>\n      <td>N</td>\n      <td>...</td>\n      <td>1.78</td>\n      <td>STK</td>\n      <td>STK</td>\n      <td>unknown</td>\n      <td>NaN</td>\n      <td>unknown</td>\n      <td>unknown</td>\n      <td>unknown</td>\n      <td>unknown</td>\n      <td>200</td>\n    </tr>\n    <tr>\n      <th>2</th>\n      <td>Round</td>\n      <td>E</td>\n      <td>VVS2</td>\n      <td>0.09</td>\n      <td>Excellent</td>\n      <td>IGI</td>\n      <td>Very Good</td>\n      <td>Very Good</td>\n      <td>unknown</td>\n      <td>unknown</td>\n      <td>...</td>\n      <td>1.77</td>\n      <td>TN</td>\n      <td>M</td>\n      <td>unknown</td>\n      <td>NaN</td>\n      <td>unknown</td>\n      <td>unknown</td>\n      <td>unknown</td>\n      <td>unknown</td>\n      <td>200</td>\n    </tr>\n    <tr>\n      <th>3</th>\n      <td>Round</td>\n      <td>E</td>\n      <td>VVS2</td>\n      <td>0.09</td>\n      <td>Excellent</td>\n      <td>IGI</td>\n      <td>Very Good</td>\n      <td>Very Good</td>\n      <td>unknown</td>\n      <td>unknown</td>\n      <td>...</td>\n      <td>1.78</td>\n      <td>M</td>\n      <td>STK</td>\n      <td>unknown</td>\n      <td>NaN</td>\n      <td>unknown</td>\n      <td>unknown</td>\n      <td>unknown</td>\n      <td>unknown</td>\n      <td>200</td>\n    </tr>\n    <tr>\n      <th>4</th>\n      <td>Round</td>\n      <td>E</td>\n      <td>VVS2</td>\n      <td>0.09</td>\n      <td>Very Good</td>\n      <td>IGI</td>\n      <td>Very Good</td>\n      <td>Excellent</td>\n      <td>unknown</td>\n      <td>N</td>\n      <td>...</td>\n      <td>1.82</td>\n      <td>STK</td>\n      <td>STK</td>\n      <td>unknown</td>\n      <td>NaN</td>\n      <td>unknown</td>\n      <td>unknown</td>\n      <td>unknown</td>\n      <td>unknown</td>\n      <td>200</td>\n    </tr>\n  </tbody>\n</table>\n<p>5 rows × 25 columns</p>\n</div>"
     },
     "execution_count": 5,
     "metadata": {},
     "output_type": "execute_result"
    }
   ],
   "source": [
    "df_1 = df.drop(columns=[\"Unnamed: 0\"])\n",
    "df_1.head()"
   ],
   "metadata": {
    "collapsed": false,
    "ExecuteTime": {
     "end_time": "2024-02-09T01:01:25.520376800Z",
     "start_time": "2024-02-09T01:01:25.464617600Z"
    }
   },
   "id": "39159f2db47683f9",
   "execution_count": 5
  },
  {
   "cell_type": "code",
   "outputs": [
    {
     "data": {
      "text/plain": "cut                             0.00\ncolor                           0.00\nclarity                         0.00\ncarat_weight                    0.00\ncut_quality                     0.00\nlab                             0.00\nsymmetry                        0.00\npolish                          0.00\neye_clean                       0.00\nculet_size                      0.00\nculet_condition                 0.00\ndepth_percent                   0.00\ntable_percent                   0.00\nmeas_length                     0.00\nmeas_width                      0.00\nmeas_depth                      0.00\ngirdle_min                      0.00\ngirdle_max                      0.00\nfluor_color                     0.00\nfluor_intensity                65.31\nfancy_color_dominant_color      0.00\nfancy_color_secondary_color     0.00\nfancy_color_overtone            0.75\nfancy_color_intensity           0.00\ntotal_sales_price               0.00\ndtype: float64"
     },
     "execution_count": 8,
     "metadata": {},
     "output_type": "execute_result"
    }
   ],
   "source": [
    "(df_1.isna().sum() * 100 / len(df_1)).round(2)"
   ],
   "metadata": {
    "collapsed": false,
    "ExecuteTime": {
     "end_time": "2024-02-09T01:02:29.969829200Z",
     "start_time": "2024-02-09T01:02:29.825415800Z"
    }
   },
   "id": "c233c61de5c46696",
   "execution_count": 8
  },
  {
   "cell_type": "code",
   "outputs": [
    {
     "data": {
      "text/plain": "1.77"
     },
     "execution_count": 13,
     "metadata": {},
     "output_type": "execute_result"
    }
   ],
   "source": [
    "(df_1.duplicated().sum() * 100 / len(df_1)).round(2)"
   ],
   "metadata": {
    "collapsed": false,
    "ExecuteTime": {
     "end_time": "2024-02-09T01:03:53.853684400Z",
     "start_time": "2024-02-09T01:03:53.309332200Z"
    }
   },
   "id": "8d64dd72c1743753",
   "execution_count": 13
  },
  {
   "cell_type": "code",
   "outputs": [
    {
     "data": {
      "text/plain": "fluor_intensity         140711\nfancy_color_overtone      1630\ndtype: int64"
     },
     "execution_count": 16,
     "metadata": {},
     "output_type": "execute_result"
    }
   ],
   "source": [
    "df_2 = df_1.drop_duplicates()\n",
    "pp = df_2.isna().sum()\n",
    "pp[pp>0]"
   ],
   "metadata": {
    "collapsed": false,
    "ExecuteTime": {
     "end_time": "2024-02-09T01:05:26.857227Z",
     "start_time": "2024-02-09T01:05:26.239810600Z"
    }
   },
   "id": "c112dac930bebae5",
   "execution_count": 16
  },
  {
   "cell_type": "code",
   "outputs": [
    {
     "data": {
      "text/plain": "array([nan, 'Very Slight', 'Strong', 'Medium', 'Faint', 'Very Strong',\n       'unknown', 'Slight'], dtype=object)"
     },
     "execution_count": 17,
     "metadata": {},
     "output_type": "execute_result"
    }
   ],
   "source": [
    "df_2[\"fluor_intensity\"].unique()"
   ],
   "metadata": {
    "collapsed": false,
    "ExecuteTime": {
     "end_time": "2024-02-09T01:07:11.352021200Z",
     "start_time": "2024-02-09T01:07:11.290218100Z"
    }
   },
   "id": "b77d213ec36d7fec",
   "execution_count": 17
  },
  {
   "cell_type": "code",
   "outputs": [
    {
     "data": {
      "text/plain": "array(['unknown', nan, 'Yellowish', 'Brownish', 'Pinkish', 'Greenish',\n       'Orangey', 'Purplish', 'Grayish'], dtype=object)"
     },
     "execution_count": 20,
     "metadata": {},
     "output_type": "execute_result"
    }
   ],
   "source": [
    "df_2[\"fancy_color_overtone\"].unique()"
   ],
   "metadata": {
    "collapsed": false,
    "ExecuteTime": {
     "end_time": "2024-02-09T01:09:31.120177300Z",
     "start_time": "2024-02-09T01:09:31.099019200Z"
    }
   },
   "id": "f0b83e3a10cb8571",
   "execution_count": 20
  },
  {
   "cell_type": "code",
   "outputs": [
    {
     "data": {
      "text/plain": "0"
     },
     "execution_count": 22,
     "metadata": {},
     "output_type": "execute_result"
    }
   ],
   "source": [
    "df_3 = df_2.copy()\n",
    "df_3[\"fluor_intensity\"] = df_3[\"fluor_intensity\"].fillna(\"unknown\")\n",
    "df_3[\"fancy_color_overtone\"] = df_3[\"fancy_color_overtone\"].fillna(\"unknown\")\n",
    "df_3.isna().sum().sum()"
   ],
   "metadata": {
    "collapsed": false,
    "ExecuteTime": {
     "end_time": "2024-02-09T01:10:19.741539500Z",
     "start_time": "2024-02-09T01:10:19.524327100Z"
    }
   },
   "id": "c3b16a4dc239797c",
   "execution_count": 22
  },
  {
   "cell_type": "code",
   "outputs": [
    {
     "data": {
      "text/plain": "             cut    color clarity  carat_weight cut_quality  lab   symmetry  \\\n0          Round        E    VVS2          0.09   Excellent  IGI  Very Good   \n1          Round        E    VVS2          0.09   Very Good  IGI  Very Good   \n2          Round        E    VVS2          0.09   Excellent  IGI  Very Good   \n3          Round        E    VVS2          0.09   Excellent  IGI  Very Good   \n4          Round        E    VVS2          0.09   Very Good  IGI  Very Good   \n...          ...      ...     ...           ...         ...  ...        ...   \n219698     Round        E     VS1         10.65   Excellent  GIA  Excellent   \n219699   Radiant  unknown     VS2          5.17     unknown  GIA  Very Good   \n219700     Round        E     VS1         18.07   Excellent  GIA  Excellent   \n219701  Princess  unknown     SI2          0.90     unknown  GIA       Good   \n219702      Pear  unknown    VVS2         10.03     unknown  GIA  Very Good   \n\n           polish eye_clean culet_size  ... meas_depth  girdle_min  \\\n0       Very Good   unknown          N  ...       1.79           M   \n1       Very Good   unknown          N  ...       1.78         STK   \n2       Very Good   unknown    unknown  ...       1.77          TN   \n3       Very Good   unknown    unknown  ...       1.78           M   \n4       Excellent   unknown          N  ...       1.82         STK   \n...           ...       ...        ...  ...        ...         ...   \n219698  Excellent   unknown          N  ...       8.66           M   \n219699  Very Good   unknown    unknown  ...       5.71          TK   \n219700  Excellent   unknown          N  ...      10.20          TN   \n219701       Good   unknown          N  ...       3.47         XTN   \n219702  Excellent   unknown    unknown  ...       7.39     unknown   \n\n        girdle_max  fluor_color  fluor_intensity  fancy_color_dominant_color  \\\n0                M      unknown          unknown                     unknown   \n1              STK      unknown          unknown                     unknown   \n2                M      unknown          unknown                     unknown   \n3              STK      unknown          unknown                     unknown   \n4              STK      unknown          unknown                     unknown   \n...            ...          ...              ...                         ...   \n219698         STK      unknown          unknown                     unknown   \n219699         XTK      unknown          unknown                       Green   \n219700           M      unknown          unknown                     unknown   \n219701         VTK      unknown            Faint                         Red   \n219702     unknown      unknown          unknown                      Yellow   \n\n       fancy_color_secondary_color fancy_color_overtone fancy_color_intensity  \\\n0                          unknown              unknown               unknown   \n1                          unknown              unknown               unknown   \n2                          unknown              unknown               unknown   \n3                          unknown              unknown               unknown   \n4                          unknown              unknown               unknown   \n...                            ...                  ...                   ...   \n219698                     unknown              unknown               unknown   \n219699                     unknown              unknown           Fancy Light   \n219700                     unknown              unknown               unknown   \n219701                     unknown              unknown                 Fancy   \n219702                     unknown              unknown           Fancy Vivid   \n\n       total_sales_price  \n0                    200  \n1                    200  \n2                    200  \n3                    200  \n4                    200  \n...                  ...  \n219698           1210692  \n219699           1292500  \n219700           1315496  \n219701           1350000  \n219702           1449881  \n\n[215823 rows x 25 columns]",
      "text/html": "<div>\n<style scoped>\n    .dataframe tbody tr th:only-of-type {\n        vertical-align: middle;\n    }\n\n    .dataframe tbody tr th {\n        vertical-align: top;\n    }\n\n    .dataframe thead th {\n        text-align: right;\n    }\n</style>\n<table border=\"1\" class=\"dataframe\">\n  <thead>\n    <tr style=\"text-align: right;\">\n      <th></th>\n      <th>cut</th>\n      <th>color</th>\n      <th>clarity</th>\n      <th>carat_weight</th>\n      <th>cut_quality</th>\n      <th>lab</th>\n      <th>symmetry</th>\n      <th>polish</th>\n      <th>eye_clean</th>\n      <th>culet_size</th>\n      <th>...</th>\n      <th>meas_depth</th>\n      <th>girdle_min</th>\n      <th>girdle_max</th>\n      <th>fluor_color</th>\n      <th>fluor_intensity</th>\n      <th>fancy_color_dominant_color</th>\n      <th>fancy_color_secondary_color</th>\n      <th>fancy_color_overtone</th>\n      <th>fancy_color_intensity</th>\n      <th>total_sales_price</th>\n    </tr>\n  </thead>\n  <tbody>\n    <tr>\n      <th>0</th>\n      <td>Round</td>\n      <td>E</td>\n      <td>VVS2</td>\n      <td>0.09</td>\n      <td>Excellent</td>\n      <td>IGI</td>\n      <td>Very Good</td>\n      <td>Very Good</td>\n      <td>unknown</td>\n      <td>N</td>\n      <td>...</td>\n      <td>1.79</td>\n      <td>M</td>\n      <td>M</td>\n      <td>unknown</td>\n      <td>unknown</td>\n      <td>unknown</td>\n      <td>unknown</td>\n      <td>unknown</td>\n      <td>unknown</td>\n      <td>200</td>\n    </tr>\n    <tr>\n      <th>1</th>\n      <td>Round</td>\n      <td>E</td>\n      <td>VVS2</td>\n      <td>0.09</td>\n      <td>Very Good</td>\n      <td>IGI</td>\n      <td>Very Good</td>\n      <td>Very Good</td>\n      <td>unknown</td>\n      <td>N</td>\n      <td>...</td>\n      <td>1.78</td>\n      <td>STK</td>\n      <td>STK</td>\n      <td>unknown</td>\n      <td>unknown</td>\n      <td>unknown</td>\n      <td>unknown</td>\n      <td>unknown</td>\n      <td>unknown</td>\n      <td>200</td>\n    </tr>\n    <tr>\n      <th>2</th>\n      <td>Round</td>\n      <td>E</td>\n      <td>VVS2</td>\n      <td>0.09</td>\n      <td>Excellent</td>\n      <td>IGI</td>\n      <td>Very Good</td>\n      <td>Very Good</td>\n      <td>unknown</td>\n      <td>unknown</td>\n      <td>...</td>\n      <td>1.77</td>\n      <td>TN</td>\n      <td>M</td>\n      <td>unknown</td>\n      <td>unknown</td>\n      <td>unknown</td>\n      <td>unknown</td>\n      <td>unknown</td>\n      <td>unknown</td>\n      <td>200</td>\n    </tr>\n    <tr>\n      <th>3</th>\n      <td>Round</td>\n      <td>E</td>\n      <td>VVS2</td>\n      <td>0.09</td>\n      <td>Excellent</td>\n      <td>IGI</td>\n      <td>Very Good</td>\n      <td>Very Good</td>\n      <td>unknown</td>\n      <td>unknown</td>\n      <td>...</td>\n      <td>1.78</td>\n      <td>M</td>\n      <td>STK</td>\n      <td>unknown</td>\n      <td>unknown</td>\n      <td>unknown</td>\n      <td>unknown</td>\n      <td>unknown</td>\n      <td>unknown</td>\n      <td>200</td>\n    </tr>\n    <tr>\n      <th>4</th>\n      <td>Round</td>\n      <td>E</td>\n      <td>VVS2</td>\n      <td>0.09</td>\n      <td>Very Good</td>\n      <td>IGI</td>\n      <td>Very Good</td>\n      <td>Excellent</td>\n      <td>unknown</td>\n      <td>N</td>\n      <td>...</td>\n      <td>1.82</td>\n      <td>STK</td>\n      <td>STK</td>\n      <td>unknown</td>\n      <td>unknown</td>\n      <td>unknown</td>\n      <td>unknown</td>\n      <td>unknown</td>\n      <td>unknown</td>\n      <td>200</td>\n    </tr>\n    <tr>\n      <th>...</th>\n      <td>...</td>\n      <td>...</td>\n      <td>...</td>\n      <td>...</td>\n      <td>...</td>\n      <td>...</td>\n      <td>...</td>\n      <td>...</td>\n      <td>...</td>\n      <td>...</td>\n      <td>...</td>\n      <td>...</td>\n      <td>...</td>\n      <td>...</td>\n      <td>...</td>\n      <td>...</td>\n      <td>...</td>\n      <td>...</td>\n      <td>...</td>\n      <td>...</td>\n      <td>...</td>\n    </tr>\n    <tr>\n      <th>219698</th>\n      <td>Round</td>\n      <td>E</td>\n      <td>VS1</td>\n      <td>10.65</td>\n      <td>Excellent</td>\n      <td>GIA</td>\n      <td>Excellent</td>\n      <td>Excellent</td>\n      <td>unknown</td>\n      <td>N</td>\n      <td>...</td>\n      <td>8.66</td>\n      <td>M</td>\n      <td>STK</td>\n      <td>unknown</td>\n      <td>unknown</td>\n      <td>unknown</td>\n      <td>unknown</td>\n      <td>unknown</td>\n      <td>unknown</td>\n      <td>1210692</td>\n    </tr>\n    <tr>\n      <th>219699</th>\n      <td>Radiant</td>\n      <td>unknown</td>\n      <td>VS2</td>\n      <td>5.17</td>\n      <td>unknown</td>\n      <td>GIA</td>\n      <td>Very Good</td>\n      <td>Very Good</td>\n      <td>unknown</td>\n      <td>unknown</td>\n      <td>...</td>\n      <td>5.71</td>\n      <td>TK</td>\n      <td>XTK</td>\n      <td>unknown</td>\n      <td>unknown</td>\n      <td>Green</td>\n      <td>unknown</td>\n      <td>unknown</td>\n      <td>Fancy Light</td>\n      <td>1292500</td>\n    </tr>\n    <tr>\n      <th>219700</th>\n      <td>Round</td>\n      <td>E</td>\n      <td>VS1</td>\n      <td>18.07</td>\n      <td>Excellent</td>\n      <td>GIA</td>\n      <td>Excellent</td>\n      <td>Excellent</td>\n      <td>unknown</td>\n      <td>N</td>\n      <td>...</td>\n      <td>10.20</td>\n      <td>TN</td>\n      <td>M</td>\n      <td>unknown</td>\n      <td>unknown</td>\n      <td>unknown</td>\n      <td>unknown</td>\n      <td>unknown</td>\n      <td>unknown</td>\n      <td>1315496</td>\n    </tr>\n    <tr>\n      <th>219701</th>\n      <td>Princess</td>\n      <td>unknown</td>\n      <td>SI2</td>\n      <td>0.90</td>\n      <td>unknown</td>\n      <td>GIA</td>\n      <td>Good</td>\n      <td>Good</td>\n      <td>unknown</td>\n      <td>N</td>\n      <td>...</td>\n      <td>3.47</td>\n      <td>XTN</td>\n      <td>VTK</td>\n      <td>unknown</td>\n      <td>Faint</td>\n      <td>Red</td>\n      <td>unknown</td>\n      <td>unknown</td>\n      <td>Fancy</td>\n      <td>1350000</td>\n    </tr>\n    <tr>\n      <th>219702</th>\n      <td>Pear</td>\n      <td>unknown</td>\n      <td>VVS2</td>\n      <td>10.03</td>\n      <td>unknown</td>\n      <td>GIA</td>\n      <td>Very Good</td>\n      <td>Excellent</td>\n      <td>unknown</td>\n      <td>unknown</td>\n      <td>...</td>\n      <td>7.39</td>\n      <td>unknown</td>\n      <td>unknown</td>\n      <td>unknown</td>\n      <td>unknown</td>\n      <td>Yellow</td>\n      <td>unknown</td>\n      <td>unknown</td>\n      <td>Fancy Vivid</td>\n      <td>1449881</td>\n    </tr>\n  </tbody>\n</table>\n<p>215823 rows × 25 columns</p>\n</div>"
     },
     "execution_count": 23,
     "metadata": {},
     "output_type": "execute_result"
    }
   ],
   "source": [
    "df_3"
   ],
   "metadata": {
    "collapsed": false,
    "ExecuteTime": {
     "end_time": "2024-02-09T01:10:46.201222200Z",
     "start_time": "2024-02-09T01:10:45.974342300Z"
    }
   },
   "id": "a0ae3fee1d8faf16",
   "execution_count": 23
  },
  {
   "cell_type": "code",
   "outputs": [],
   "source": [],
   "metadata": {
    "collapsed": false
   },
   "id": "92abfa4fb1765aca"
  }
 ],
 "metadata": {
  "kernelspec": {
   "display_name": "Python 3",
   "language": "python",
   "name": "python3"
  },
  "language_info": {
   "codemirror_mode": {
    "name": "ipython",
    "version": 2
   },
   "file_extension": ".py",
   "mimetype": "text/x-python",
   "name": "python",
   "nbconvert_exporter": "python",
   "pygments_lexer": "ipython2",
   "version": "2.7.6"
  }
 },
 "nbformat": 4,
 "nbformat_minor": 5
}
