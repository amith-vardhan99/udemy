{
 "cells": [
  {
   "cell_type": "code",
   "execution_count": 30,
   "id": "initial_id",
   "metadata": {
    "collapsed": true,
    "ExecuteTime": {
     "end_time": "2024-02-25T01:58:22.657516Z",
     "start_time": "2024-02-25T01:58:22.651056Z"
    }
   },
   "outputs": [],
   "source": [
    "import os\n",
    "import numpy as np\n",
    "import pandas as pd\n",
    "import matplotlib.pyplot as plt\n",
    "import seaborn as sns\n",
    "import tensorflow as tf\n",
    "import cv2\n",
    "import warnings\n",
    "warnings.filterwarnings(\"ignore\")\n",
    "import shutil\n",
    "from sklearn.metrics import *\n",
    "import cv2"
   ]
  },
  {
   "cell_type": "code",
   "outputs": [],
   "source": [
    "model = tf.keras.models.load_model(\"model.h5\")"
   ],
   "metadata": {
    "collapsed": false,
    "ExecuteTime": {
     "end_time": "2024-02-25T01:58:23.183879Z",
     "start_time": "2024-02-25T01:58:23.020673Z"
    }
   },
   "id": "6712dc7a5ac4e42c",
   "execution_count": 31
  },
  {
   "cell_type": "code",
   "outputs": [],
   "source": [
    "img_path = \"C:\\\\Users\\\\amith\\\\Documents\\\\GitHub\\\\udemy\\\\Classification of Brain Tumours with CNN and OpenCV\\\\ML_model\\\\data\\\\test\\\\No\\\\Not Cancer  (1).jpg\""
   ],
   "metadata": {
    "collapsed": false,
    "ExecuteTime": {
     "end_time": "2024-02-25T01:58:23.416016Z",
     "start_time": "2024-02-25T01:58:23.410934Z"
    }
   },
   "id": "888410d2e9ffe20a",
   "execution_count": 32
  },
  {
   "cell_type": "code",
   "outputs": [
    {
     "data": {
      "text/plain": "1"
     },
     "execution_count": 38,
     "metadata": {},
     "output_type": "execute_result"
    }
   ],
   "source": [
    "img_org = cv2.imread(img_path)\n",
    "img_grey = cv2.cvtColor(img_org, cv2.COLOR_BGR2GRAY)\n",
    "img = cv2.resize(src=img_grey, dsize=(128,128))\n",
    "img = img / 255.0\n",
    "img = img.reshape((1,128,128,1))\n",
    "pred = int(model.predict(img,verbose=0)[0][0])\n",
    "pred"
   ],
   "metadata": {
    "collapsed": false,
    "ExecuteTime": {
     "end_time": "2024-02-25T01:59:36.877343Z",
     "start_time": "2024-02-25T01:59:36.784880Z"
    }
   },
   "id": "e42c51b45b5c74f7",
   "execution_count": 38
  },
  {
   "cell_type": "code",
   "outputs": [
    {
     "ename": "NameError",
     "evalue": "name 'history' is not defined",
     "output_type": "error",
     "traceback": [
      "\u001B[1;31m---------------------------------------------------------------------------\u001B[0m",
      "\u001B[1;31mNameError\u001B[0m                                 Traceback (most recent call last)",
      "Cell \u001B[1;32mIn[21], line 1\u001B[0m\n\u001B[1;32m----> 1\u001B[0m \u001B[43mhistory\u001B[49m\u001B[38;5;241m.\u001B[39mhistory\n",
      "\u001B[1;31mNameError\u001B[0m: name 'history' is not defined"
     ]
    }
   ],
   "source": [
    "history.history"
   ],
   "metadata": {
    "collapsed": false,
    "ExecuteTime": {
     "end_time": "2024-02-25T01:37:02.492185Z",
     "start_time": "2024-02-25T01:37:02.474905Z"
    }
   },
   "id": "2239240a2bf71ba8",
   "execution_count": 21
  },
  {
   "cell_type": "code",
   "outputs": [],
   "source": [],
   "metadata": {
    "collapsed": false
   },
   "id": "4fb9269db565ae14"
  }
 ],
 "metadata": {
  "kernelspec": {
   "display_name": "Python 3",
   "language": "python",
   "name": "python3"
  },
  "language_info": {
   "codemirror_mode": {
    "name": "ipython",
    "version": 2
   },
   "file_extension": ".py",
   "mimetype": "text/x-python",
   "name": "python",
   "nbconvert_exporter": "python",
   "pygments_lexer": "ipython2",
   "version": "2.7.6"
  }
 },
 "nbformat": 4,
 "nbformat_minor": 5
}
