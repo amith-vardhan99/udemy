{
 "cells": [
  {
   "cell_type": "code",
   "execution_count": 29,
   "id": "initial_id",
   "metadata": {
    "collapsed": true,
    "ExecuteTime": {
     "end_time": "2024-02-20T01:36:31.493162Z",
     "start_time": "2024-02-20T01:36:31.486465Z"
    }
   },
   "outputs": [],
   "source": [
    "import os\n",
    "import numpy as np\n",
    "import pandas as pd\n",
    "import matplotlib.pyplot as plt\n",
    "import seaborn as sns\n",
    "import torch\n",
    "from torchvision import *\n",
    "import cv2"
   ]
  },
  {
   "cell_type": "code",
   "outputs": [
    {
     "data": {
      "text/plain": "'C:/Users/amith/Documents/GitHub/udemy/Classification of Brain Tumours with CNN and OpenCV/ML_model/data'"
     },
     "execution_count": 30,
     "metadata": {},
     "output_type": "execute_result"
    }
   ],
   "source": [
    "current_working_directory = os.getcwd().replace(\"\\\\\",\"/\")\n",
    "data_directory = current_working_directory + \"/data\"\n",
    "data_directory"
   ],
   "metadata": {
    "collapsed": false,
    "ExecuteTime": {
     "end_time": "2024-02-20T01:36:31.936681Z",
     "start_time": "2024-02-20T01:36:31.931060Z"
    }
   },
   "id": "bbd305b0d89832e0",
   "execution_count": 30
  },
  {
   "cell_type": "code",
   "outputs": [
    {
     "data": {
      "text/plain": "tensor([[[0., 0., 0.,  ..., 0., 0., 0.],\n         [0., 0., 0.,  ..., 0., 0., 0.],\n         [0., 0., 0.,  ..., 0., 0., 0.],\n         ...,\n         [0., 0., 0.,  ..., 0., 0., 0.],\n         [0., 0., 0.,  ..., 0., 0., 0.],\n         [0., 0., 0.,  ..., 0., 0., 0.]],\n\n        [[0., 0., 0.,  ..., 0., 0., 0.],\n         [0., 0., 0.,  ..., 0., 0., 0.],\n         [0., 0., 0.,  ..., 0., 0., 0.],\n         ...,\n         [0., 0., 0.,  ..., 0., 0., 0.],\n         [0., 0., 0.,  ..., 0., 0., 0.],\n         [0., 0., 0.,  ..., 0., 0., 0.]],\n\n        [[0., 0., 0.,  ..., 0., 0., 0.],\n         [0., 0., 0.,  ..., 0., 0., 0.],\n         [0., 0., 0.,  ..., 0., 0., 0.],\n         ...,\n         [0., 0., 0.,  ..., 0., 0., 0.],\n         [0., 0., 0.,  ..., 0., 0., 0.],\n         [0., 0., 0.,  ..., 0., 0., 0.]]])"
     },
     "execution_count": 31,
     "metadata": {},
     "output_type": "execute_result"
    }
   ],
   "source": [
    "path = \"C:/Users/amith/Documents/GitHub/udemy/Classification of Brain Tumours with CNN and OpenCV/ML_model/data/No/Not Cancer  (1).jpeg\"\n",
    "img = cv2.imread(path)\n",
    "transform_image = transforms.Compose(transforms=[\n",
    "    transforms.ToTensor(),\n",
    "    transforms.Resize(size=(256,256))\n",
    "])\n",
    "transform_image(img)"
   ],
   "metadata": {
    "collapsed": false,
    "ExecuteTime": {
     "end_time": "2024-02-20T01:36:32.508109Z",
     "start_time": "2024-02-20T01:36:32.463994Z"
    }
   },
   "id": "18ab9c036ef78b0e",
   "execution_count": 31
  },
  {
   "cell_type": "code",
   "outputs": [],
   "source": [
    "image_dataset = datasets.ImageFolder(root=data_directory, transform=transform_image)\n",
    "loaded_data = torch.utils.data.DataLoader(image_dataset, batch_size=64, shuffle=True)\n",
    "ctr = 0"
   ],
   "metadata": {
    "collapsed": false,
    "ExecuteTime": {
     "end_time": "2024-02-20T01:36:33.062839Z",
     "start_time": "2024-02-20T01:36:33.031398Z"
    }
   },
   "id": "7f10450c4fa8fb22",
   "execution_count": 32
  },
  {
   "cell_type": "code",
   "outputs": [],
   "source": [
    "no_of_elements = len(image_dataset)\n",
    "no_of_batches = sum([1 for i,j in enumerate(loaded_data)])"
   ],
   "metadata": {
    "collapsed": false,
    "ExecuteTime": {
     "end_time": "2024-02-20T02:07:14.621499Z",
     "start_time": "2024-02-20T02:06:56.939724Z"
    }
   },
   "id": "3e3ffbdd589353bd",
   "execution_count": 58
  },
  {
   "cell_type": "code",
   "outputs": [
    {
     "name": "stdout",
     "output_type": "stream",
     "text": [
      "46\n",
      "58\n"
     ]
    }
   ],
   "source": [
    "val_test_threshold = int(np.round(no_of_batches * 0.8))\n",
    "train_val_threshold = int(np.round(val_test_threshold * 0.8))\n",
    "\n",
    "print(train_val_threshold)\n",
    "print(val_test_threshold)"
   ],
   "metadata": {
    "collapsed": false,
    "ExecuteTime": {
     "end_time": "2024-02-20T02:09:50.555988Z",
     "start_time": "2024-02-20T02:09:50.549556Z"
    }
   },
   "id": "154292313ae9502c",
   "execution_count": 65
  },
  {
   "cell_type": "code",
   "outputs": [],
   "source": [],
   "metadata": {
    "collapsed": false
   },
   "id": "71e8c644428029b8"
  },
  {
   "cell_type": "markdown",
   "source": [
    "### Creating a Convolutional Neural Network model"
   ],
   "metadata": {
    "collapsed": false
   },
   "id": "861f43af2e042758"
  },
  {
   "cell_type": "code",
   "outputs": [],
   "source": [
    "model = torch.nn.Sequential(\n",
    "    torch.nn.Conv2d(in_channels=3,out_channels=32,kernel_size=(3,3)),\n",
    "    torch.nn.ReLU(),\n",
    "    torch.nn.MaxPool2d(kernel_size=(2,2)),\n",
    "\n",
    "    torch.nn.Conv2d(in_channels=32,out_channels=64,kernel_size=(3,3)),\n",
    "    torch.nn.ReLU(),\n",
    "    torch.nn.MaxPool2d(kernel_size=(2,2)),\n",
    "\n",
    "    torch.nn.Conv2d(in_channels=64,out_channels=128,kernel_size=(3,3)),\n",
    "    torch.nn.ReLU(),\n",
    "    torch.nn.MaxPool2d(kernel_size=(2,2)),\n",
    "\n",
    "    torch.nn.Conv2d(in_channels=128,out_channels=256,kernel_size=(3,3)),\n",
    "    torch.nn.ReLU(),\n",
    "    torch.nn.MaxPool2d(kernel_size=(2,2)),\n",
    "    \n",
    "    torch.nn.Flatten(),\n",
    "    \n",
    "    torch.nn.Linear(in_features=256, out_features=256),\n",
    "    torch.nn.ReLU(),\n",
    "    \n",
    "    torch.nn.Linear(in_features=256,out_features=1),\n",
    "    torch.nn.Softmax()\n",
    ")"
   ],
   "metadata": {
    "collapsed": false,
    "ExecuteTime": {
     "end_time": "2024-02-20T01:36:56.415192Z",
     "start_time": "2024-02-20T01:36:56.404053Z"
    }
   },
   "id": "e2d5943b3dcfe0c",
   "execution_count": 34
  },
  {
   "cell_type": "code",
   "outputs": [
    {
     "name": "stdout",
     "output_type": "stream",
     "text": [
      "Sequential(\n",
      "  (0): Conv2d(3, 32, kernel_size=(3, 3), stride=(1, 1))\n",
      "  (1): ReLU()\n",
      "  (2): MaxPool2d(kernel_size=(2, 2), stride=(2, 2), padding=0, dilation=1, ceil_mode=False)\n",
      "  (3): Conv2d(32, 64, kernel_size=(3, 3), stride=(1, 1))\n",
      "  (4): ReLU()\n",
      "  (5): MaxPool2d(kernel_size=(2, 2), stride=(2, 2), padding=0, dilation=1, ceil_mode=False)\n",
      "  (6): Conv2d(64, 128, kernel_size=(3, 3), stride=(1, 1))\n",
      "  (7): ReLU()\n",
      "  (8): MaxPool2d(kernel_size=(2, 2), stride=(2, 2), padding=0, dilation=1, ceil_mode=False)\n",
      "  (9): Conv2d(128, 256, kernel_size=(3, 3), stride=(1, 1))\n",
      "  (10): ReLU()\n",
      "  (11): MaxPool2d(kernel_size=(2, 2), stride=(2, 2), padding=0, dilation=1, ceil_mode=False)\n",
      "  (12): Flatten(start_dim=1, end_dim=-1)\n",
      "  (13): Linear(in_features=256, out_features=256, bias=True)\n",
      "  (14): ReLU()\n",
      "  (15): Linear(in_features=256, out_features=1, bias=True)\n",
      "  (16): Softmax(dim=None)\n",
      ")\n"
     ]
    }
   ],
   "source": [
    "print(model)"
   ],
   "metadata": {
    "collapsed": false,
    "ExecuteTime": {
     "end_time": "2024-02-20T01:56:22.051880Z",
     "start_time": "2024-02-20T01:56:22.046744Z"
    }
   },
   "id": "98c3d4c31d048948",
   "execution_count": 37
  },
  {
   "cell_type": "code",
   "outputs": [
    {
     "data": {
      "text/plain": "<generator object Module.parameters at 0x0000025033124740>"
     },
     "execution_count": 36,
     "metadata": {},
     "output_type": "execute_result"
    }
   ],
   "source": [
    "model.parameters()"
   ],
   "metadata": {
    "collapsed": false,
    "ExecuteTime": {
     "end_time": "2024-02-20T01:56:16.432573Z",
     "start_time": "2024-02-20T01:56:16.423316Z"
    }
   },
   "id": "ce836fb4e9f64939",
   "execution_count": 36
  },
  {
   "cell_type": "code",
   "outputs": [],
   "source": [
    "def compile_model():\n",
    "    optimizer = torch.optim.Adam(params=model.parameters())\n",
    "    loss = torch.nn.CrossEntropyLoss()\n",
    "    return optimizer,loss"
   ],
   "metadata": {
    "collapsed": false,
    "ExecuteTime": {
     "end_time": "2024-02-20T01:57:10.391556Z",
     "start_time": "2024-02-20T01:57:10.386878Z"
    }
   },
   "id": "3ddebae592357252",
   "execution_count": 38
  },
  {
   "cell_type": "code",
   "outputs": [],
   "source": [
    "epochs = 100\n",
    "\n",
    "for epoch in range(epochs):\n",
    "    for _,i in enumerate()"
   ],
   "metadata": {
    "collapsed": false
   },
   "id": "fadb2d96de97d1a7"
  }
 ],
 "metadata": {
  "kernelspec": {
   "display_name": "Python 3",
   "language": "python",
   "name": "python3"
  },
  "language_info": {
   "codemirror_mode": {
    "name": "ipython",
    "version": 2
   },
   "file_extension": ".py",
   "mimetype": "text/x-python",
   "name": "python",
   "nbconvert_exporter": "python",
   "pygments_lexer": "ipython2",
   "version": "2.7.6"
  }
 },
 "nbformat": 4,
 "nbformat_minor": 5
}
