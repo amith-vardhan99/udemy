{
 "cells": [
  {
   "cell_type": "code",
   "execution_count": 29,
   "id": "initial_id",
   "metadata": {
    "collapsed": true,
    "ExecuteTime": {
     "end_time": "2024-02-20T01:36:31.493162Z",
     "start_time": "2024-02-20T01:36:31.486465Z"
    }
   },
   "outputs": [],
   "source": [
    "import os\n",
    "import numpy as np\n",
    "import pandas as pd\n",
    "import matplotlib.pyplot as plt\n",
    "import seaborn as sns\n",
    "import torch\n",
    "from torchvision import *\n",
    "import cv2"
   ]
  },
  {
   "cell_type": "code",
   "outputs": [
    {
     "data": {
      "text/plain": "'C:/Users/amith/Documents/GitHub/udemy/Classification of Brain Tumours with CNN and OpenCV/ML_model/data'"
     },
     "execution_count": 30,
     "metadata": {},
     "output_type": "execute_result"
    }
   ],
   "source": [
    "current_working_directory = os.getcwd().replace(\"\\\\\",\"/\")\n",
    "data_directory = current_working_directory + \"/data\"\n",
    "data_directory"
   ],
   "metadata": {
    "collapsed": false,
    "ExecuteTime": {
     "end_time": "2024-02-20T01:36:31.936681Z",
     "start_time": "2024-02-20T01:36:31.931060Z"
    }
   },
   "id": "bbd305b0d89832e0",
   "execution_count": 30
  },
  {
   "cell_type": "code",
   "outputs": [
    {
     "data": {
      "text/plain": "tensor([[[0., 0., 0.,  ..., 0., 0., 0.],\n         [0., 0., 0.,  ..., 0., 0., 0.],\n         [0., 0., 0.,  ..., 0., 0., 0.],\n         ...,\n         [0., 0., 0.,  ..., 0., 0., 0.],\n         [0., 0., 0.,  ..., 0., 0., 0.],\n         [0., 0., 0.,  ..., 0., 0., 0.]],\n\n        [[0., 0., 0.,  ..., 0., 0., 0.],\n         [0., 0., 0.,  ..., 0., 0., 0.],\n         [0., 0., 0.,  ..., 0., 0., 0.],\n         ...,\n         [0., 0., 0.,  ..., 0., 0., 0.],\n         [0., 0., 0.,  ..., 0., 0., 0.],\n         [0., 0., 0.,  ..., 0., 0., 0.]],\n\n        [[0., 0., 0.,  ..., 0., 0., 0.],\n         [0., 0., 0.,  ..., 0., 0., 0.],\n         [0., 0., 0.,  ..., 0., 0., 0.],\n         ...,\n         [0., 0., 0.,  ..., 0., 0., 0.],\n         [0., 0., 0.,  ..., 0., 0., 0.],\n         [0., 0., 0.,  ..., 0., 0., 0.]]])"
     },
     "execution_count": 31,
     "metadata": {},
     "output_type": "execute_result"
    }
   ],
   "source": [
    "path = \"C:/Users/amith/Documents/GitHub/udemy/Classification of Brain Tumours with CNN and OpenCV/ML_model/data/No/Not Cancer  (1).jpeg\"\n",
    "img = cv2.imread(path)\n",
    "transform_image = transforms.Compose(transforms=[\n",
    "    transforms.ToTensor(),\n",
    "    transforms.Resize(size=(256,256))\n",
    "])\n",
    "transform_image(img)"
   ],
   "metadata": {
    "collapsed": false,
    "ExecuteTime": {
     "end_time": "2024-02-20T01:36:32.508109Z",
     "start_time": "2024-02-20T01:36:32.463994Z"
    }
   },
   "id": "18ab9c036ef78b0e",
   "execution_count": 31
  },
  {
   "cell_type": "code",
   "outputs": [],
   "source": [
    "image_dataset = datasets.ImageFolder(root=data_directory, transform=transform_image)\n",
    "loaded_data = torch.utils.data.DataLoader(image_dataset, batch_size=64, shuffle=True)\n",
    "ctr = 0"
   ],
   "metadata": {
    "collapsed": false,
    "ExecuteTime": {
     "end_time": "2024-02-20T01:36:33.062839Z",
     "start_time": "2024-02-20T01:36:33.031398Z"
    }
   },
   "id": "7f10450c4fa8fb22",
   "execution_count": 32
  },
  {
   "cell_type": "code",
   "outputs": [
    {
     "name": "stdout",
     "output_type": "stream",
     "text": [
      "1\n",
      "2\n",
      "3\n",
      "4\n",
      "5\n",
      "6\n",
      "7\n",
      "8\n",
      "9\n",
      "10\n",
      "11\n",
      "12\n",
      "13\n",
      "14\n",
      "15\n",
      "16\n",
      "17\n",
      "18\n",
      "19\n",
      "20\n",
      "21\n",
      "22\n",
      "23\n",
      "24\n",
      "25\n",
      "26\n",
      "27\n",
      "28\n",
      "29\n",
      "30\n",
      "31\n",
      "32\n",
      "33\n",
      "34\n",
      "35\n",
      "36\n",
      "37\n",
      "38\n",
      "39\n",
      "40\n",
      "41\n",
      "42\n",
      "43\n",
      "44\n",
      "45\n",
      "46\n",
      "47\n",
      "48\n",
      "49\n",
      "50\n",
      "51\n",
      "52\n",
      "53\n",
      "54\n",
      "55\n",
      "56\n",
      "57\n",
      "58\n",
      "59\n",
      "60\n",
      "61\n",
      "62\n",
      "63\n",
      "64\n",
      "65\n",
      "66\n",
      "67\n",
      "68\n",
      "69\n",
      "70\n",
      "71\n",
      "72\n"
     ]
    }
   ],
   "source": [
    "for i in enumerate(loaded_data):\n",
    "    r = i\n",
    "    ctr += 1\n",
    "    print(ctr)"
   ],
   "metadata": {
    "collapsed": false,
    "ExecuteTime": {
     "end_time": "2024-02-20T01:36:48.376868Z",
     "start_time": "2024-02-20T01:36:33.542281Z"
    }
   },
   "id": "40efad2fc802e262",
   "execution_count": 33
  },
  {
   "cell_type": "markdown",
   "source": [
    "### Creating a Convolutional Neural Network model"
   ],
   "metadata": {
    "collapsed": false
   },
   "id": "861f43af2e042758"
  },
  {
   "cell_type": "code",
   "outputs": [],
   "source": [
    "model = torch.nn.Sequential(\n",
    "    torch.nn.Conv2d(in_channels=3,out_channels=32,kernel_size=(3,3)),\n",
    "    torch.nn.ReLU(),\n",
    "    torch.nn.MaxPool2d(kernel_size=(2,2)),\n",
    "\n",
    "    torch.nn.Conv2d(in_channels=32,out_channels=64,kernel_size=(3,3)),\n",
    "    torch.nn.ReLU(),\n",
    "    torch.nn.MaxPool2d(kernel_size=(2,2)),\n",
    "\n",
    "    torch.nn.Conv2d(in_channels=64,out_channels=128,kernel_size=(3,3)),\n",
    "    torch.nn.ReLU(),\n",
    "    torch.nn.MaxPool2d(kernel_size=(2,2)),\n",
    "\n",
    "    torch.nn.Conv2d(in_channels=128,out_channels=256,kernel_size=(3,3)),\n",
    "    torch.nn.ReLU(),\n",
    "    torch.nn.MaxPool2d(kernel_size=(2,2)),\n",
    "    \n",
    "    torch.nn.Flatten(),\n",
    "    \n",
    "    torch.nn.Linear(in_features=256, out_features=256),\n",
    "    torch.nn.ReLU(),\n",
    "    \n",
    "    torch.nn.Linear(in_features=256,out_features=1),\n",
    "    torch.nn.Softmax()\n",
    ")"
   ],
   "metadata": {
    "collapsed": false,
    "ExecuteTime": {
     "end_time": "2024-02-20T01:36:56.415192Z",
     "start_time": "2024-02-20T01:36:56.404053Z"
    }
   },
   "id": "e2d5943b3dcfe0c",
   "execution_count": 34
  },
  {
   "cell_type": "code",
   "outputs": [],
   "source": [
    "def compile_model()"
   ],
   "metadata": {
    "collapsed": false
   },
   "id": "3ddebae592357252"
  },
  {
   "cell_type": "code",
   "outputs": [],
   "source": [],
   "metadata": {
    "collapsed": false
   },
   "id": "32b21d7ae50d4c6d"
  }
 ],
 "metadata": {
  "kernelspec": {
   "display_name": "Python 3",
   "language": "python",
   "name": "python3"
  },
  "language_info": {
   "codemirror_mode": {
    "name": "ipython",
    "version": 2
   },
   "file_extension": ".py",
   "mimetype": "text/x-python",
   "name": "python",
   "nbconvert_exporter": "python",
   "pygments_lexer": "ipython2",
   "version": "2.7.6"
  }
 },
 "nbformat": 4,
 "nbformat_minor": 5
}
