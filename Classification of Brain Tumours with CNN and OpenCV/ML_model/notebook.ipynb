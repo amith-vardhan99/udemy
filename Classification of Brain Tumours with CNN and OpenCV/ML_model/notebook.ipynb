{
 "cells": [
  {
   "cell_type": "code",
   "execution_count": 1,
   "id": "initial_id",
   "metadata": {
    "collapsed": true,
    "ExecuteTime": {
     "end_time": "2024-02-20T18:21:36.051953Z",
     "start_time": "2024-02-20T18:21:27.393994Z"
    }
   },
   "outputs": [],
   "source": [
    "import os\n",
    "import numpy as np\n",
    "import pandas as pd\n",
    "import matplotlib.pyplot as plt\n",
    "import seaborn as sns\n",
    "import torch\n",
    "from torchvision import *\n",
    "import cv2"
   ]
  },
  {
   "cell_type": "code",
   "outputs": [
    {
     "data": {
      "text/plain": "'C:/Users/amith/Documents/GitHub/udemy/Classification of Brain Tumours with CNN and OpenCV/ML_model/data'"
     },
     "execution_count": 2,
     "metadata": {},
     "output_type": "execute_result"
    }
   ],
   "source": [
    "current_working_directory = os.getcwd().replace(\"\\\\\",\"/\")\n",
    "data_directory = current_working_directory + \"/data\"\n",
    "data_directory"
   ],
   "metadata": {
    "collapsed": false,
    "ExecuteTime": {
     "end_time": "2024-02-20T18:21:38.561373Z",
     "start_time": "2024-02-20T18:21:38.546554Z"
    }
   },
   "id": "bbd305b0d89832e0",
   "execution_count": 2
  },
  {
   "cell_type": "code",
   "outputs": [
    {
     "data": {
      "text/plain": "tensor([[[0., 0., 0.,  ..., 0., 0., 0.],\n         [0., 0., 0.,  ..., 0., 0., 0.],\n         [0., 0., 0.,  ..., 0., 0., 0.],\n         ...,\n         [0., 0., 0.,  ..., 0., 0., 0.],\n         [0., 0., 0.,  ..., 0., 0., 0.],\n         [0., 0., 0.,  ..., 0., 0., 0.]],\n\n        [[0., 0., 0.,  ..., 0., 0., 0.],\n         [0., 0., 0.,  ..., 0., 0., 0.],\n         [0., 0., 0.,  ..., 0., 0., 0.],\n         ...,\n         [0., 0., 0.,  ..., 0., 0., 0.],\n         [0., 0., 0.,  ..., 0., 0., 0.],\n         [0., 0., 0.,  ..., 0., 0., 0.]],\n\n        [[0., 0., 0.,  ..., 0., 0., 0.],\n         [0., 0., 0.,  ..., 0., 0., 0.],\n         [0., 0., 0.,  ..., 0., 0., 0.],\n         ...,\n         [0., 0., 0.,  ..., 0., 0., 0.],\n         [0., 0., 0.,  ..., 0., 0., 0.],\n         [0., 0., 0.,  ..., 0., 0., 0.]]])"
     },
     "execution_count": 3,
     "metadata": {},
     "output_type": "execute_result"
    }
   ],
   "source": [
    "path = \"C:/Users/amith/Documents/GitHub/udemy/Classification of Brain Tumours with CNN and OpenCV/ML_model/data/No/Not Cancer  (1).jpeg\"\n",
    "img = cv2.imread(path)\n",
    "transform_image = transforms.Compose(transforms=[\n",
    "    transforms.ToTensor(),\n",
    "    transforms.Resize(size=(256,256))\n",
    "])\n",
    "transform_image(img)"
   ],
   "metadata": {
    "collapsed": false,
    "ExecuteTime": {
     "end_time": "2024-02-20T18:21:39.217099Z",
     "start_time": "2024-02-20T18:21:39.140533Z"
    }
   },
   "id": "18ab9c036ef78b0e",
   "execution_count": 3
  },
  {
   "cell_type": "code",
   "outputs": [],
   "source": [
    "image_dataset = datasets.ImageFolder(root=data_directory, transform=transform_image)\n",
    "loaded_data = torch.utils.data.DataLoader(image_dataset, batch_size=64, shuffle=True)\n",
    "ctr = 0"
   ],
   "metadata": {
    "collapsed": false,
    "ExecuteTime": {
     "end_time": "2024-02-20T18:21:39.998719Z",
     "start_time": "2024-02-20T18:21:39.746318Z"
    }
   },
   "id": "7f10450c4fa8fb22",
   "execution_count": 4
  },
  {
   "cell_type": "code",
   "outputs": [],
   "source": [
    "no_of_elements = len(image_dataset)\n",
    "no_of_batches = sum([1 for i,j in enumerate(loaded_data)])"
   ],
   "metadata": {
    "collapsed": false,
    "ExecuteTime": {
     "end_time": "2024-02-20T18:22:54.637590Z",
     "start_time": "2024-02-20T18:22:22.763608Z"
    }
   },
   "id": "3e3ffbdd589353bd",
   "execution_count": 6
  },
  {
   "cell_type": "code",
   "outputs": [
    {
     "name": "stdout",
     "output_type": "stream",
     "text": [
      "46\n",
      "58\n"
     ]
    }
   ],
   "source": [
    "val_test_threshold = int(np.round(no_of_batches * 0.8))\n",
    "train_val_threshold = int(np.round(val_test_threshold * 0.8))\n",
    "\n",
    "print(train_val_threshold)\n",
    "print(val_test_threshold)"
   ],
   "metadata": {
    "collapsed": false,
    "ExecuteTime": {
     "end_time": "2024-02-20T18:23:09.558289Z",
     "start_time": "2024-02-20T18:23:09.547629Z"
    }
   },
   "id": "154292313ae9502c",
   "execution_count": 7
  },
  {
   "cell_type": "code",
   "outputs": [
    {
     "name": "stdout",
     "output_type": "stream",
     "text": [
      "Train      :  0\n",
      "Train      :  1\n",
      "Train      :  2\n",
      "Train      :  3\n",
      "Train      :  4\n",
      "Train      :  5\n",
      "Train      :  6\n",
      "Train      :  7\n",
      "Train      :  8\n",
      "Train      :  9\n",
      "Train      :  10\n",
      "Train      :  11\n",
      "Train      :  12\n",
      "Train      :  13\n",
      "Train      :  14\n",
      "Train      :  15\n",
      "Train      :  16\n",
      "Train      :  17\n",
      "Train      :  18\n",
      "Train      :  19\n",
      "Train      :  20\n",
      "Train      :  21\n",
      "Train      :  22\n",
      "Train      :  23\n",
      "Train      :  24\n",
      "Train      :  25\n",
      "Train      :  26\n",
      "Train      :  27\n",
      "Train      :  28\n",
      "Train      :  29\n",
      "Train      :  30\n",
      "Train      :  31\n",
      "Train      :  32\n",
      "Train      :  33\n",
      "Train      :  34\n",
      "Train      :  35\n",
      "Train      :  36\n",
      "Train      :  37\n",
      "Train      :  38\n",
      "Train      :  39\n",
      "Train      :  40\n",
      "Train      :  41\n",
      "Train      :  42\n",
      "Train      :  43\n",
      "Train      :  44\n",
      "Train      :  45\n",
      "Validation :  46\n",
      "Validation :  47\n",
      "Validation :  48\n",
      "Validation :  49\n",
      "Validation :  50\n",
      "Validation :  51\n",
      "Validation :  52\n",
      "Validation :  53\n",
      "Validation :  54\n",
      "Validation :  55\n",
      "Validation :  56\n",
      "Validation :  57\n",
      "Test       :  58\n",
      "Test       :  59\n",
      "Test       :  60\n",
      "Test       :  61\n",
      "Test       :  62\n",
      "Test       :  63\n",
      "Test       :  64\n",
      "Test       :  65\n",
      "Test       :  66\n",
      "Test       :  67\n",
      "Test       :  68\n",
      "Test       :  69\n",
      "Test       :  70\n",
      "Test       :  71\n"
     ]
    }
   ],
   "source": [
    "ctr = 0\n",
    "\n",
    "train_inputs = []\n",
    "train_labels = []\n",
    "\n",
    "val_inputs = []\n",
    "val_labels = []\n",
    "\n",
    "test_inputs = []\n",
    "test_labels = []\n",
    "\n",
    "for _,i in enumerate(loaded_data):\n",
    "    if ctr < train_val_threshold:\n",
    "        train_inputs.append(i[0])\n",
    "        train_labels.append(i[1])\n",
    "        print(\"Train      : \",ctr)\n",
    "    elif ctr < val_test_threshold:\n",
    "        val_inputs.append(i[0])\n",
    "        val_labels.append(i[1])\n",
    "        print(\"Validation : \",ctr)\n",
    "    else:\n",
    "        test_inputs.append(i[0])\n",
    "        test_labels.append(i[1])  \n",
    "        print(\"Test       : \",ctr)\n",
    "    ctr += 1"
   ],
   "metadata": {
    "collapsed": false,
    "ExecuteTime": {
     "end_time": "2024-02-20T18:23:41.870819Z",
     "start_time": "2024-02-20T18:23:10.199229Z"
    }
   },
   "id": "3e63a441de70d3c4",
   "execution_count": 8
  },
  {
   "cell_type": "markdown",
   "source": [
    "### Creating a Convolutional Neural Network model"
   ],
   "metadata": {
    "collapsed": false
   },
   "id": "861f43af2e042758"
  },
  {
   "cell_type": "code",
   "outputs": [],
   "source": [
    "model = torch.nn.Sequential(\n",
    "    torch.nn.Conv2d(in_channels=3,out_channels=32,kernel_size=(3,3)),\n",
    "    torch.nn.ReLU(),\n",
    "    torch.nn.MaxPool2d(kernel_size=(2,2)),\n",
    "\n",
    "    torch.nn.Conv2d(in_channels=32,out_channels=64,kernel_size=(3,3)),\n",
    "    torch.nn.ReLU(),\n",
    "    torch.nn.MaxPool2d(kernel_size=(2,2)),\n",
    "\n",
    "    torch.nn.Conv2d(in_channels=64,out_channels=128,kernel_size=(3,3)),\n",
    "    torch.nn.ReLU(),\n",
    "    torch.nn.MaxPool2d(kernel_size=(2,2)),\n",
    "\n",
    "    torch.nn.Conv2d(in_channels=128,out_channels=256,kernel_size=(3,3)),\n",
    "    torch.nn.ReLU(),\n",
    "    torch.nn.MaxPool2d(kernel_size=(2,2)),\n",
    "    \n",
    "    torch.nn.Flatten(),\n",
    "    \n",
    "    torch.nn.Linear(in_features=256, out_features=256),\n",
    "    torch.nn.ReLU(),\n",
    "    \n",
    "    torch.nn.Linear(in_features=256,out_features=1),\n",
    "    torch.nn.Softmax()\n",
    ")"
   ],
   "metadata": {
    "collapsed": false,
    "ExecuteTime": {
     "end_time": "2024-02-20T18:24:04.000335Z",
     "start_time": "2024-02-20T18:24:03.969718Z"
    }
   },
   "id": "e2d5943b3dcfe0c",
   "execution_count": 9
  },
  {
   "cell_type": "code",
   "outputs": [
    {
     "name": "stdout",
     "output_type": "stream",
     "text": [
      "Sequential(\n",
      "  (0): Conv2d(3, 32, kernel_size=(3, 3), stride=(1, 1))\n",
      "  (1): ReLU()\n",
      "  (2): MaxPool2d(kernel_size=(2, 2), stride=(2, 2), padding=0, dilation=1, ceil_mode=False)\n",
      "  (3): Conv2d(32, 64, kernel_size=(3, 3), stride=(1, 1))\n",
      "  (4): ReLU()\n",
      "  (5): MaxPool2d(kernel_size=(2, 2), stride=(2, 2), padding=0, dilation=1, ceil_mode=False)\n",
      "  (6): Conv2d(64, 128, kernel_size=(3, 3), stride=(1, 1))\n",
      "  (7): ReLU()\n",
      "  (8): MaxPool2d(kernel_size=(2, 2), stride=(2, 2), padding=0, dilation=1, ceil_mode=False)\n",
      "  (9): Conv2d(128, 256, kernel_size=(3, 3), stride=(1, 1))\n",
      "  (10): ReLU()\n",
      "  (11): MaxPool2d(kernel_size=(2, 2), stride=(2, 2), padding=0, dilation=1, ceil_mode=False)\n",
      "  (12): Flatten(start_dim=1, end_dim=-1)\n",
      "  (13): Linear(in_features=256, out_features=256, bias=True)\n",
      "  (14): ReLU()\n",
      "  (15): Linear(in_features=256, out_features=1, bias=True)\n",
      "  (16): Softmax(dim=None)\n",
      ")\n"
     ]
    }
   ],
   "source": [
    "print(model)"
   ],
   "metadata": {
    "collapsed": false,
    "ExecuteTime": {
     "end_time": "2024-02-20T18:24:04.607475Z",
     "start_time": "2024-02-20T18:24:04.600058Z"
    }
   },
   "id": "98c3d4c31d048948",
   "execution_count": 10
  },
  {
   "cell_type": "code",
   "outputs": [
    {
     "data": {
      "text/plain": "<generator object Module.parameters at 0x000001F8BDA8BBC0>"
     },
     "execution_count": 11,
     "metadata": {},
     "output_type": "execute_result"
    }
   ],
   "source": [
    "model.parameters()"
   ],
   "metadata": {
    "collapsed": false,
    "ExecuteTime": {
     "end_time": "2024-02-20T18:24:05.186842Z",
     "start_time": "2024-02-20T18:24:05.176160Z"
    }
   },
   "id": "ce836fb4e9f64939",
   "execution_count": 11
  },
  {
   "cell_type": "code",
   "outputs": [],
   "source": [
    "def compile_model():\n",
    "    optimizer = torch.optim.Adam(params=model.parameters())\n",
    "    loss = torch.nn.CrossEntropyLoss()\n",
    "    return optimizer,loss"
   ],
   "metadata": {
    "collapsed": false,
    "ExecuteTime": {
     "end_time": "2024-02-20T18:24:05.689265Z",
     "start_time": "2024-02-20T18:24:05.681092Z"
    }
   },
   "id": "3ddebae592357252",
   "execution_count": 12
  },
  {
   "cell_type": "code",
   "outputs": [],
   "source": [
    "optimizer, loss = compile_model()"
   ],
   "metadata": {
    "collapsed": false,
    "ExecuteTime": {
     "end_time": "2024-02-20T18:24:06.493765Z",
     "start_time": "2024-02-20T18:24:06.484832Z"
    }
   },
   "id": "fdf8e26c606fee43",
   "execution_count": 13
  },
  {
   "cell_type": "code",
   "outputs": [
    {
     "ename": "RuntimeError",
     "evalue": "mat1 and mat2 shapes cannot be multiplied (64x50176 and 256x256)",
     "output_type": "error",
     "traceback": [
      "\u001B[1;31m---------------------------------------------------------------------------\u001B[0m",
      "\u001B[1;31mRuntimeError\u001B[0m                              Traceback (most recent call last)",
      "Cell \u001B[1;32mIn[14], line 8\u001B[0m\n\u001B[0;32m      6\u001B[0m \u001B[38;5;28;01mfor\u001B[39;00m ctr \u001B[38;5;129;01min\u001B[39;00m \u001B[38;5;28mrange\u001B[39m(\u001B[38;5;28mlen\u001B[39m(train_inputs)):\n\u001B[0;32m      7\u001B[0m     optimizer\u001B[38;5;241m.\u001B[39mzero_grad()\n\u001B[1;32m----> 8\u001B[0m     train_pred \u001B[38;5;241m=\u001B[39m \u001B[43mmodel\u001B[49m\u001B[43m(\u001B[49m\u001B[43mtrain_inputs\u001B[49m\u001B[43m[\u001B[49m\u001B[43mctr\u001B[49m\u001B[43m]\u001B[49m\u001B[43m)\u001B[49m\n\u001B[0;32m      9\u001B[0m     loss_metric \u001B[38;5;241m=\u001B[39m loss(train_pred,train_labels[ctr])\n\u001B[0;32m     10\u001B[0m     loss_metric\u001B[38;5;241m.\u001B[39mbackward()\n",
      "File \u001B[1;32m~\\AppData\\Local\\Programs\\Python\\Python311\\Lib\\site-packages\\torch\\nn\\modules\\module.py:1511\u001B[0m, in \u001B[0;36mModule._wrapped_call_impl\u001B[1;34m(self, *args, **kwargs)\u001B[0m\n\u001B[0;32m   1509\u001B[0m     \u001B[38;5;28;01mreturn\u001B[39;00m \u001B[38;5;28mself\u001B[39m\u001B[38;5;241m.\u001B[39m_compiled_call_impl(\u001B[38;5;241m*\u001B[39margs, \u001B[38;5;241m*\u001B[39m\u001B[38;5;241m*\u001B[39mkwargs)  \u001B[38;5;66;03m# type: ignore[misc]\u001B[39;00m\n\u001B[0;32m   1510\u001B[0m \u001B[38;5;28;01melse\u001B[39;00m:\n\u001B[1;32m-> 1511\u001B[0m     \u001B[38;5;28;01mreturn\u001B[39;00m \u001B[38;5;28;43mself\u001B[39;49m\u001B[38;5;241;43m.\u001B[39;49m\u001B[43m_call_impl\u001B[49m\u001B[43m(\u001B[49m\u001B[38;5;241;43m*\u001B[39;49m\u001B[43margs\u001B[49m\u001B[43m,\u001B[49m\u001B[43m \u001B[49m\u001B[38;5;241;43m*\u001B[39;49m\u001B[38;5;241;43m*\u001B[39;49m\u001B[43mkwargs\u001B[49m\u001B[43m)\u001B[49m\n",
      "File \u001B[1;32m~\\AppData\\Local\\Programs\\Python\\Python311\\Lib\\site-packages\\torch\\nn\\modules\\module.py:1520\u001B[0m, in \u001B[0;36mModule._call_impl\u001B[1;34m(self, *args, **kwargs)\u001B[0m\n\u001B[0;32m   1515\u001B[0m \u001B[38;5;66;03m# If we don't have any hooks, we want to skip the rest of the logic in\u001B[39;00m\n\u001B[0;32m   1516\u001B[0m \u001B[38;5;66;03m# this function, and just call forward.\u001B[39;00m\n\u001B[0;32m   1517\u001B[0m \u001B[38;5;28;01mif\u001B[39;00m \u001B[38;5;129;01mnot\u001B[39;00m (\u001B[38;5;28mself\u001B[39m\u001B[38;5;241m.\u001B[39m_backward_hooks \u001B[38;5;129;01mor\u001B[39;00m \u001B[38;5;28mself\u001B[39m\u001B[38;5;241m.\u001B[39m_backward_pre_hooks \u001B[38;5;129;01mor\u001B[39;00m \u001B[38;5;28mself\u001B[39m\u001B[38;5;241m.\u001B[39m_forward_hooks \u001B[38;5;129;01mor\u001B[39;00m \u001B[38;5;28mself\u001B[39m\u001B[38;5;241m.\u001B[39m_forward_pre_hooks\n\u001B[0;32m   1518\u001B[0m         \u001B[38;5;129;01mor\u001B[39;00m _global_backward_pre_hooks \u001B[38;5;129;01mor\u001B[39;00m _global_backward_hooks\n\u001B[0;32m   1519\u001B[0m         \u001B[38;5;129;01mor\u001B[39;00m _global_forward_hooks \u001B[38;5;129;01mor\u001B[39;00m _global_forward_pre_hooks):\n\u001B[1;32m-> 1520\u001B[0m     \u001B[38;5;28;01mreturn\u001B[39;00m \u001B[43mforward_call\u001B[49m\u001B[43m(\u001B[49m\u001B[38;5;241;43m*\u001B[39;49m\u001B[43margs\u001B[49m\u001B[43m,\u001B[49m\u001B[43m \u001B[49m\u001B[38;5;241;43m*\u001B[39;49m\u001B[38;5;241;43m*\u001B[39;49m\u001B[43mkwargs\u001B[49m\u001B[43m)\u001B[49m\n\u001B[0;32m   1522\u001B[0m \u001B[38;5;28;01mtry\u001B[39;00m:\n\u001B[0;32m   1523\u001B[0m     result \u001B[38;5;241m=\u001B[39m \u001B[38;5;28;01mNone\u001B[39;00m\n",
      "File \u001B[1;32m~\\AppData\\Local\\Programs\\Python\\Python311\\Lib\\site-packages\\torch\\nn\\modules\\container.py:217\u001B[0m, in \u001B[0;36mSequential.forward\u001B[1;34m(self, input)\u001B[0m\n\u001B[0;32m    215\u001B[0m \u001B[38;5;28;01mdef\u001B[39;00m \u001B[38;5;21mforward\u001B[39m(\u001B[38;5;28mself\u001B[39m, \u001B[38;5;28minput\u001B[39m):\n\u001B[0;32m    216\u001B[0m     \u001B[38;5;28;01mfor\u001B[39;00m module \u001B[38;5;129;01min\u001B[39;00m \u001B[38;5;28mself\u001B[39m:\n\u001B[1;32m--> 217\u001B[0m         \u001B[38;5;28minput\u001B[39m \u001B[38;5;241m=\u001B[39m \u001B[43mmodule\u001B[49m\u001B[43m(\u001B[49m\u001B[38;5;28;43minput\u001B[39;49m\u001B[43m)\u001B[49m\n\u001B[0;32m    218\u001B[0m     \u001B[38;5;28;01mreturn\u001B[39;00m \u001B[38;5;28minput\u001B[39m\n",
      "File \u001B[1;32m~\\AppData\\Local\\Programs\\Python\\Python311\\Lib\\site-packages\\torch\\nn\\modules\\module.py:1511\u001B[0m, in \u001B[0;36mModule._wrapped_call_impl\u001B[1;34m(self, *args, **kwargs)\u001B[0m\n\u001B[0;32m   1509\u001B[0m     \u001B[38;5;28;01mreturn\u001B[39;00m \u001B[38;5;28mself\u001B[39m\u001B[38;5;241m.\u001B[39m_compiled_call_impl(\u001B[38;5;241m*\u001B[39margs, \u001B[38;5;241m*\u001B[39m\u001B[38;5;241m*\u001B[39mkwargs)  \u001B[38;5;66;03m# type: ignore[misc]\u001B[39;00m\n\u001B[0;32m   1510\u001B[0m \u001B[38;5;28;01melse\u001B[39;00m:\n\u001B[1;32m-> 1511\u001B[0m     \u001B[38;5;28;01mreturn\u001B[39;00m \u001B[38;5;28;43mself\u001B[39;49m\u001B[38;5;241;43m.\u001B[39;49m\u001B[43m_call_impl\u001B[49m\u001B[43m(\u001B[49m\u001B[38;5;241;43m*\u001B[39;49m\u001B[43margs\u001B[49m\u001B[43m,\u001B[49m\u001B[43m \u001B[49m\u001B[38;5;241;43m*\u001B[39;49m\u001B[38;5;241;43m*\u001B[39;49m\u001B[43mkwargs\u001B[49m\u001B[43m)\u001B[49m\n",
      "File \u001B[1;32m~\\AppData\\Local\\Programs\\Python\\Python311\\Lib\\site-packages\\torch\\nn\\modules\\module.py:1520\u001B[0m, in \u001B[0;36mModule._call_impl\u001B[1;34m(self, *args, **kwargs)\u001B[0m\n\u001B[0;32m   1515\u001B[0m \u001B[38;5;66;03m# If we don't have any hooks, we want to skip the rest of the logic in\u001B[39;00m\n\u001B[0;32m   1516\u001B[0m \u001B[38;5;66;03m# this function, and just call forward.\u001B[39;00m\n\u001B[0;32m   1517\u001B[0m \u001B[38;5;28;01mif\u001B[39;00m \u001B[38;5;129;01mnot\u001B[39;00m (\u001B[38;5;28mself\u001B[39m\u001B[38;5;241m.\u001B[39m_backward_hooks \u001B[38;5;129;01mor\u001B[39;00m \u001B[38;5;28mself\u001B[39m\u001B[38;5;241m.\u001B[39m_backward_pre_hooks \u001B[38;5;129;01mor\u001B[39;00m \u001B[38;5;28mself\u001B[39m\u001B[38;5;241m.\u001B[39m_forward_hooks \u001B[38;5;129;01mor\u001B[39;00m \u001B[38;5;28mself\u001B[39m\u001B[38;5;241m.\u001B[39m_forward_pre_hooks\n\u001B[0;32m   1518\u001B[0m         \u001B[38;5;129;01mor\u001B[39;00m _global_backward_pre_hooks \u001B[38;5;129;01mor\u001B[39;00m _global_backward_hooks\n\u001B[0;32m   1519\u001B[0m         \u001B[38;5;129;01mor\u001B[39;00m _global_forward_hooks \u001B[38;5;129;01mor\u001B[39;00m _global_forward_pre_hooks):\n\u001B[1;32m-> 1520\u001B[0m     \u001B[38;5;28;01mreturn\u001B[39;00m \u001B[43mforward_call\u001B[49m\u001B[43m(\u001B[49m\u001B[38;5;241;43m*\u001B[39;49m\u001B[43margs\u001B[49m\u001B[43m,\u001B[49m\u001B[43m \u001B[49m\u001B[38;5;241;43m*\u001B[39;49m\u001B[38;5;241;43m*\u001B[39;49m\u001B[43mkwargs\u001B[49m\u001B[43m)\u001B[49m\n\u001B[0;32m   1522\u001B[0m \u001B[38;5;28;01mtry\u001B[39;00m:\n\u001B[0;32m   1523\u001B[0m     result \u001B[38;5;241m=\u001B[39m \u001B[38;5;28;01mNone\u001B[39;00m\n",
      "File \u001B[1;32m~\\AppData\\Local\\Programs\\Python\\Python311\\Lib\\site-packages\\torch\\nn\\modules\\linear.py:116\u001B[0m, in \u001B[0;36mLinear.forward\u001B[1;34m(self, input)\u001B[0m\n\u001B[0;32m    115\u001B[0m \u001B[38;5;28;01mdef\u001B[39;00m \u001B[38;5;21mforward\u001B[39m(\u001B[38;5;28mself\u001B[39m, \u001B[38;5;28minput\u001B[39m: Tensor) \u001B[38;5;241m-\u001B[39m\u001B[38;5;241m>\u001B[39m Tensor:\n\u001B[1;32m--> 116\u001B[0m     \u001B[38;5;28;01mreturn\u001B[39;00m \u001B[43mF\u001B[49m\u001B[38;5;241;43m.\u001B[39;49m\u001B[43mlinear\u001B[49m\u001B[43m(\u001B[49m\u001B[38;5;28;43minput\u001B[39;49m\u001B[43m,\u001B[49m\u001B[43m \u001B[49m\u001B[38;5;28;43mself\u001B[39;49m\u001B[38;5;241;43m.\u001B[39;49m\u001B[43mweight\u001B[49m\u001B[43m,\u001B[49m\u001B[43m \u001B[49m\u001B[38;5;28;43mself\u001B[39;49m\u001B[38;5;241;43m.\u001B[39;49m\u001B[43mbias\u001B[49m\u001B[43m)\u001B[49m\n",
      "\u001B[1;31mRuntimeError\u001B[0m: mat1 and mat2 shapes cannot be multiplied (64x50176 and 256x256)"
     ]
    }
   ],
   "source": [
    "epochs = 100\n",
    "running_loss = 0\n",
    "\n",
    "for epoch in range(epochs):\n",
    "    model.train()\n",
    "    for ctr in range(len(train_inputs)):\n",
    "        optimizer.zero_grad()\n",
    "        train_pred = model(train_inputs[ctr])\n",
    "        loss_metric = loss(train_pred,train_labels[ctr])\n",
    "        loss_metric.backward()\n",
    "        optimizer.step()\n",
    "        running_loss += loss_metric.item()\n",
    "    print(\"Epoch\",(epoch+1))"
   ],
   "metadata": {
    "collapsed": false,
    "ExecuteTime": {
     "end_time": "2024-02-20T18:24:15.269284Z",
     "start_time": "2024-02-20T18:24:07.325158Z"
    }
   },
   "id": "fadb2d96de97d1a7",
   "execution_count": 14
  },
  {
   "cell_type": "code",
   "outputs": [],
   "source": [],
   "metadata": {
    "collapsed": false
   },
   "id": "4d2d7e97319c893f"
  }
 ],
 "metadata": {
  "kernelspec": {
   "display_name": "Python 3",
   "language": "python",
   "name": "python3"
  },
  "language_info": {
   "codemirror_mode": {
    "name": "ipython",
    "version": 2
   },
   "file_extension": ".py",
   "mimetype": "text/x-python",
   "name": "python",
   "nbconvert_exporter": "python",
   "pygments_lexer": "ipython2",
   "version": "2.7.6"
  }
 },
 "nbformat": 4,
 "nbformat_minor": 5
}
