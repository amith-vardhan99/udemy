{
 "cells": [
  {
   "cell_type": "code",
   "execution_count": 25,
   "id": "initial_id",
   "metadata": {
    "collapsed": true,
    "ExecuteTime": {
     "end_time": "2024-02-22T00:01:12.334204Z",
     "start_time": "2024-02-22T00:01:12.326669Z"
    }
   },
   "outputs": [],
   "source": [
    "import os\n",
    "import numpy as np\n",
    "import pandas as pd\n",
    "import matplotlib.pyplot as plt\n",
    "import seaborn as sns\n",
    "import tensorflow as tf\n",
    "import cv2\n",
    "import warnings \n",
    "warnings.filterwarnings(\"ignore\")\n",
    "import shutil"
   ]
  },
  {
   "cell_type": "markdown",
   "source": [
    "### Current Working Directory"
   ],
   "metadata": {
    "collapsed": false
   },
   "id": "cfc8384699ef5405"
  },
  {
   "cell_type": "code",
   "outputs": [
    {
     "data": {
      "text/plain": "'C:/Users/amith/Documents/GitHub/udemy/Classification of Brain Tumours with CNN and OpenCV/ML_model'"
     },
     "execution_count": 31,
     "metadata": {},
     "output_type": "execute_result"
    }
   ],
   "source": [
    "current_working_directory = os.getcwd().replace('\\\\', '/')\n",
    "current_working_directory"
   ],
   "metadata": {
    "collapsed": false,
    "ExecuteTime": {
     "end_time": "2024-02-22T00:06:16.216376Z",
     "start_time": "2024-02-22T00:06:16.194033Z"
    }
   },
   "id": "fc3f842b303327fc",
   "execution_count": 31
  },
  {
   "cell_type": "code",
   "outputs": [],
   "source": [
    "files_with_no_tumour = np.array(os.listdir(current_working_directory + \"/data/no\"))\n",
    "files_with_tumour = np.array(os.listdir(current_working_directory + \"/data/Yes\"))\n",
    "np.random.shuffle(files_with_no_tumour)\n",
    "np.random.shuffle(files_with_tumour)"
   ],
   "metadata": {
    "collapsed": false,
    "ExecuteTime": {
     "end_time": "2024-02-22T00:11:34.443859Z",
     "start_time": "2024-02-22T00:11:34.402860Z"
    }
   },
   "id": "b8bd9c87101eb23b",
   "execution_count": 37
  },
  {
   "cell_type": "code",
   "outputs": [],
   "source": [
    "val_test_threshold_no_tumour = int(np.round(0.8 * files_with_no_tumour.shape[0]))\n",
    "train_val_threshold_no_tumour = int(np.round(0.8 * val_test_threshold_no_tumour))\n",
    "\n",
    "val_test_threshold_tumour = int(np.round(0.8 * files_with_tumour.shape[0]))\n",
    "train_val_threshold_tumour = int(np.round(0.8 * val_test_threshold_tumour))"
   ],
   "metadata": {
    "collapsed": false
   },
   "id": "26ec86a4f5bf7320"
  },
  {
   "cell_type": "code",
   "outputs": [],
   "source": [
    "train_files_with_no_tumour = \n",
    "val_files_with_no_tumour =\n",
    "test_files_with_no_tumour =\n",
    "\n",
    "train_files_with_tumour =\n",
    "val_files_with_tumour = \n",
    "test_files_with_tumour = "
   ],
   "metadata": {
    "collapsed": false
   },
   "id": "b446cf97f2eb0fd5"
  },
  {
   "cell_type": "code",
   "outputs": [
    {
     "name": "stdout",
     "output_type": "stream",
     "text": [
      "Found 3681 images belonging to 2 classes.\n",
      "Found 919 images belonging to 2 classes.\n"
     ]
    }
   ],
   "source": [
    "dataset_generator = tf.keras.preprocessing.image.ImageDataGenerator(rescale=1./255, validation_split=0.2)\n",
    "\n",
    "train_data = dataset_generator.flow_from_directory(directory=current_working_directory, subset=\"training\", class_mode=\"binary\", batch_size=32)\n",
    "val_data = dataset_generator.flow_from_directory(directory=current_working_directory, subset=\"validation\", class_mode=\"binary\", batch_size=32)"
   ],
   "metadata": {
    "collapsed": false,
    "ExecuteTime": {
     "end_time": "2024-02-21T15:37:06.704527Z",
     "start_time": "2024-02-21T15:37:06.509621Z"
    }
   },
   "id": "1ca7a9322a09da7a",
   "execution_count": 20
  },
  {
   "cell_type": "code",
   "outputs": [
    {
     "data": {
      "text/plain": "256"
     },
     "execution_count": 21,
     "metadata": {},
     "output_type": "execute_result"
    }
   ],
   "source": [
    "len(train_data[0][0][0])"
   ],
   "metadata": {
    "collapsed": false,
    "ExecuteTime": {
     "end_time": "2024-02-21T15:37:07.581656Z",
     "start_time": "2024-02-21T15:37:07.497398Z"
    }
   },
   "id": "fe1b6fa83fa3b029",
   "execution_count": 21
  },
  {
   "cell_type": "code",
   "outputs": [
    {
     "data": {
      "text/plain": "256"
     },
     "execution_count": 22,
     "metadata": {},
     "output_type": "execute_result"
    }
   ],
   "source": [
    "len(train_data[0][0][0][0])"
   ],
   "metadata": {
    "collapsed": false,
    "ExecuteTime": {
     "end_time": "2024-02-21T15:37:08.211609Z",
     "start_time": "2024-02-21T15:37:08.126864Z"
    }
   },
   "id": "619c84c7fa308e2a",
   "execution_count": 22
  },
  {
   "cell_type": "code",
   "outputs": [
    {
     "data": {
      "text/plain": "3"
     },
     "execution_count": 23,
     "metadata": {},
     "output_type": "execute_result"
    }
   ],
   "source": [
    "len(train_data[0][0][0][0][0])"
   ],
   "metadata": {
    "collapsed": false,
    "ExecuteTime": {
     "end_time": "2024-02-21T15:37:08.890716Z",
     "start_time": "2024-02-21T15:37:08.823342Z"
    }
   },
   "id": "d07153041ea38c76",
   "execution_count": 23
  },
  {
   "cell_type": "code",
   "outputs": [],
   "source": [
    "model = tf.keras.models.Sequential(layers=[\n",
    "    \n",
    "    tf.keras.layers.Conv2D(filters=32, kernel_size=(3,3), activation=\"relu\", input_shape=(256,256,3)),\n",
    "    tf.keras.layers.MaxPooling2D(pool_size=(2,2)),\n",
    "    \n",
    "    tf.keras.layers.Conv2D(filters=32, kernel_size=(3,3), activation=\"relu\", input_shape=(256,256,3)),\n",
    "    tf.keras.layers.MaxPooling2D(pool_size=(2,2)),\n",
    "    \n",
    "    tf.keras.layers.Conv2D(filters=32, kernel_size=(3,3), activation=\"relu\", input_shape=(256,256,3)),\n",
    "    tf.keras.layers.MaxPooling2D(pool_size=(2,2)),\n",
    "    \n",
    "    tf.keras.layers.Conv2D(filters=32, kernel_size=(3,3), activation=\"relu\", input_shape=(256,256,3)),\n",
    "    tf.keras.layers.MaxPooling2D(pool_size=(2,2)),\n",
    "    \n",
    "    tf.keras.layers.Flatten(),\n",
    "    \n",
    "    tf.keras.layers.Dense(units=256, activation=\"relu\"),\n",
    "    \n",
    "    tf.keras.layers.Dense(units=1, activation=\"softmax\")\n",
    "])"
   ],
   "metadata": {
    "collapsed": false,
    "ExecuteTime": {
     "end_time": "2024-02-21T15:37:09.471700Z",
     "start_time": "2024-02-21T15:37:09.385301Z"
    }
   },
   "id": "491d8ba6451c18aa",
   "execution_count": 24
  },
  {
   "cell_type": "code",
   "outputs": [],
   "source": [
    "model.compile(optimizer=\"adam\", loss=\"binary_crossentropy\", metrics=[\"accuracy\"])"
   ],
   "metadata": {
    "collapsed": false,
    "ExecuteTime": {
     "end_time": "2024-02-21T15:37:09.988741Z",
     "start_time": "2024-02-21T15:37:09.969738Z"
    }
   },
   "id": "efe888d2aa65f446",
   "execution_count": 25
  },
  {
   "cell_type": "code",
   "outputs": [
    {
     "name": "stdout",
     "output_type": "stream",
     "text": [
      "Epoch 1/100\n",
      "WARNING:tensorflow:From C:\\Users\\amith\\AppData\\Local\\Programs\\Python\\Python39\\lib\\site-packages\\keras\\src\\utils\\tf_utils.py:492: The name tf.ragged.RaggedTensorValue is deprecated. Please use tf.compat.v1.ragged.RaggedTensorValue instead.\n",
      "WARNING:tensorflow:From C:\\Users\\amith\\AppData\\Local\\Programs\\Python\\Python39\\lib\\site-packages\\keras\\src\\engine\\base_layer_utils.py:384: The name tf.executing_eagerly_outside_functions is deprecated. Please use tf.compat.v1.executing_eagerly_outside_functions instead.\n",
      "116/116 [==============================] - 32s 260ms/step - loss: 0.5473 - accuracy: 0.5463 - val_loss: 0.4384 - val_accuracy: 0.5462\n",
      "Epoch 2/100\n",
      "116/116 [==============================] - 29s 246ms/step - loss: 0.3703 - accuracy: 0.5463 - val_loss: 0.4404 - val_accuracy: 0.5462\n",
      "Epoch 3/100\n",
      "116/116 [==============================] - 30s 258ms/step - loss: 0.2735 - accuracy: 0.5463 - val_loss: 0.3009 - val_accuracy: 0.5462\n",
      "Epoch 4/100\n",
      "116/116 [==============================] - 29s 245ms/step - loss: 0.2878 - accuracy: 0.5463 - val_loss: 0.1910 - val_accuracy: 0.5462\n",
      "Epoch 5/100\n",
      " 39/116 [=========>....................] - ETA: 17s - loss: 0.1738 - accuracy: 0.5553"
     ]
    }
   ],
   "source": [
    "model.fit(train_data, steps_per_epoch=len(train_data), epochs=100, verbose=1, validation_split=0.2, shuffle=True, callbacks=tf.keras.callbacks.EarlyStopping(patience=2), validation_data=val_data)"
   ],
   "metadata": {
    "collapsed": false,
    "ExecuteTime": {
     "start_time": "2024-02-21T15:37:10.523906Z"
    }
   },
   "id": "19fae03912ced31",
   "execution_count": null
  },
  {
   "cell_type": "code",
   "outputs": [],
   "source": [],
   "metadata": {
    "collapsed": false
   },
   "id": "b06784c83a191a64"
  }
 ],
 "metadata": {
  "kernelspec": {
   "display_name": "Python 3",
   "language": "python",
   "name": "python3"
  },
  "language_info": {
   "codemirror_mode": {
    "name": "ipython",
    "version": 2
   },
   "file_extension": ".py",
   "mimetype": "text/x-python",
   "name": "python",
   "nbconvert_exporter": "python",
   "pygments_lexer": "ipython2",
   "version": "2.7.6"
  }
 },
 "nbformat": 4,
 "nbformat_minor": 5
}
