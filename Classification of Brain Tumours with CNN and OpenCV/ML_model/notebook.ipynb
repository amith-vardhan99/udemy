{
 "cells": [
  {
   "cell_type": "code",
   "execution_count": 1,
   "id": "initial_id",
   "metadata": {
    "collapsed": true,
    "ExecuteTime": {
     "end_time": "2024-02-21T15:54:17.882477Z",
     "start_time": "2024-02-21T15:54:13.152926Z"
    }
   },
   "outputs": [
    {
     "name": "stdout",
     "output_type": "stream",
     "text": [
      "WARNING:tensorflow:From C:\\Users\\amith\\AppData\\Local\\Programs\\Python\\Python39\\lib\\site-packages\\keras\\src\\losses.py:2976: The name tf.losses.sparse_softmax_cross_entropy is deprecated. Please use tf.compat.v1.losses.sparse_softmax_cross_entropy instead.\n"
     ]
    }
   ],
   "source": [
    "import os\n",
    "import numpy as np\n",
    "import pandas as pd\n",
    "import matplotlib.pyplot as plt\n",
    "import seaborn as sns\n",
    "import tensorflow as tf\n",
    "import cv2\n",
    "import warnings\n",
    "warnings.filterwarnings(\"ignore\")"
   ]
  },
  {
   "cell_type": "markdown",
   "source": [
    "### Current Working Directory"
   ],
   "metadata": {
    "collapsed": false
   },
   "id": "cfc8384699ef5405"
  },
  {
   "cell_type": "code",
   "outputs": [],
   "source": [
    "current_working_directory = os.getcwd().replace(\"\\\\\",\"/\") + \"/data\"\n",
    "data_directory = {i : current_working_directory + \"/\" + i for i in os.listdir(current_working_directory)}\n",
    "no_tumour = np.array([current_working_directory + \"/\" + i for i in os.listdir(data_directory[\"No\"])])\n",
    "yes_tumour = np.array([current_working_directory + \"/\" + i for i in os.listdir(data_directory[\"Yes\"])])\n",
    "np.random.shuffle(no_tumour)\n",
    "np.random.shuffle(y)"
   ],
   "metadata": {
    "collapsed": false,
    "ExecuteTime": {
     "end_time": "2024-02-21T15:56:41.775698Z",
     "start_time": "2024-02-21T15:56:41.754056Z"
    }
   },
   "id": "ffd401fa71e42802",
   "execution_count": 8
  },
  {
   "cell_type": "code",
   "outputs": [
    {
     "data": {
      "text/plain": "array(['C:/Users/amith/Documents/GitHub/udemy/Classification of Brain Tumours with CNN and OpenCV/ML_model/data/Not Cancer  (1).jpeg',\n       'C:/Users/amith/Documents/GitHub/udemy/Classification of Brain Tumours with CNN and OpenCV/ML_model/data/Not Cancer  (1).jpg',\n       'C:/Users/amith/Documents/GitHub/udemy/Classification of Brain Tumours with CNN and OpenCV/ML_model/data/Not Cancer  (1).png',\n       ...,\n       'C:/Users/amith/Documents/GitHub/udemy/Classification of Brain Tumours with CNN and OpenCV/ML_model/data/Not Cancer  (997).jpg',\n       'C:/Users/amith/Documents/GitHub/udemy/Classification of Brain Tumours with CNN and OpenCV/ML_model/data/Not Cancer  (998).jpg',\n       'C:/Users/amith/Documents/GitHub/udemy/Classification of Brain Tumours with CNN and OpenCV/ML_model/data/Not Cancer  (999).jpg'],\n      dtype='<U126')"
     },
     "execution_count": 9,
     "metadata": {},
     "output_type": "execute_result"
    }
   ],
   "source": [
    "no_tumour"
   ],
   "metadata": {
    "collapsed": false,
    "ExecuteTime": {
     "end_time": "2024-02-21T15:56:42.226704Z",
     "start_time": "2024-02-21T15:56:42.218015Z"
    }
   },
   "id": "a6b7606c08ba9fbe",
   "execution_count": 9
  },
  {
   "cell_type": "code",
   "outputs": [
    {
     "data": {
      "text/plain": "'C:/Users/amith/Documents/GitHub/udemy/Classification of Brain Tumours with CNN and OpenCV/ML_model/data/test'"
     },
     "execution_count": 4,
     "metadata": {},
     "output_type": "execute_result"
    }
   ],
   "source": [
    "test_directory = current_working_directory + \"/test\"\n",
    "test_directory"
   ],
   "metadata": {
    "collapsed": false,
    "ExecuteTime": {
     "end_time": "2024-02-21T15:51:02.688994Z",
     "start_time": "2024-02-21T15:51:02.677978Z"
    }
   },
   "id": "1bd689412761bf22",
   "execution_count": 4
  },
  {
   "cell_type": "code",
   "outputs": [
    {
     "name": "stdout",
     "output_type": "stream",
     "text": [
      "Found 3681 images belonging to 2 classes.\n",
      "Found 919 images belonging to 2 classes.\n"
     ]
    }
   ],
   "source": [
    "dataset_generator = tf.keras.preprocessing.image.ImageDataGenerator(rescale=1./255, validation_split=0.2)\n",
    "\n",
    "train_data = dataset_generator.flow_from_directory(directory=current_working_directory, subset=\"training\", class_mode=\"binary\", batch_size=32)\n",
    "val_data = dataset_generator.flow_from_directory(directory=current_working_directory, subset=\"validation\", class_mode=\"binary\", batch_size=32)"
   ],
   "metadata": {
    "collapsed": false,
    "ExecuteTime": {
     "end_time": "2024-02-21T15:37:06.704527Z",
     "start_time": "2024-02-21T15:37:06.509621Z"
    }
   },
   "id": "1ca7a9322a09da7a",
   "execution_count": 20
  },
  {
   "cell_type": "code",
   "outputs": [
    {
     "data": {
      "text/plain": "256"
     },
     "execution_count": 21,
     "metadata": {},
     "output_type": "execute_result"
    }
   ],
   "source": [
    "len(train_data[0][0][0])"
   ],
   "metadata": {
    "collapsed": false,
    "ExecuteTime": {
     "end_time": "2024-02-21T15:37:07.581656Z",
     "start_time": "2024-02-21T15:37:07.497398Z"
    }
   },
   "id": "fe1b6fa83fa3b029",
   "execution_count": 21
  },
  {
   "cell_type": "code",
   "outputs": [
    {
     "data": {
      "text/plain": "256"
     },
     "execution_count": 22,
     "metadata": {},
     "output_type": "execute_result"
    }
   ],
   "source": [
    "len(train_data[0][0][0][0])"
   ],
   "metadata": {
    "collapsed": false,
    "ExecuteTime": {
     "end_time": "2024-02-21T15:37:08.211609Z",
     "start_time": "2024-02-21T15:37:08.126864Z"
    }
   },
   "id": "619c84c7fa308e2a",
   "execution_count": 22
  },
  {
   "cell_type": "code",
   "outputs": [
    {
     "data": {
      "text/plain": "3"
     },
     "execution_count": 23,
     "metadata": {},
     "output_type": "execute_result"
    }
   ],
   "source": [
    "len(train_data[0][0][0][0][0])"
   ],
   "metadata": {
    "collapsed": false,
    "ExecuteTime": {
     "end_time": "2024-02-21T15:37:08.890716Z",
     "start_time": "2024-02-21T15:37:08.823342Z"
    }
   },
   "id": "d07153041ea38c76",
   "execution_count": 23
  },
  {
   "cell_type": "code",
   "outputs": [],
   "source": [
    "model = tf.keras.models.Sequential(layers=[\n",
    "    \n",
    "    tf.keras.layers.Conv2D(filters=32, kernel_size=(3,3), activation=\"relu\", input_shape=(256,256,3)),\n",
    "    tf.keras.layers.MaxPooling2D(pool_size=(2,2)),\n",
    "    \n",
    "    tf.keras.layers.Conv2D(filters=32, kernel_size=(3,3), activation=\"relu\", input_shape=(256,256,3)),\n",
    "    tf.keras.layers.MaxPooling2D(pool_size=(2,2)),\n",
    "    \n",
    "    tf.keras.layers.Conv2D(filters=32, kernel_size=(3,3), activation=\"relu\", input_shape=(256,256,3)),\n",
    "    tf.keras.layers.MaxPooling2D(pool_size=(2,2)),\n",
    "    \n",
    "    tf.keras.layers.Conv2D(filters=32, kernel_size=(3,3), activation=\"relu\", input_shape=(256,256,3)),\n",
    "    tf.keras.layers.MaxPooling2D(pool_size=(2,2)),\n",
    "    \n",
    "    tf.keras.layers.Flatten(),\n",
    "    \n",
    "    tf.keras.layers.Dense(units=256, activation=\"relu\"),\n",
    "    \n",
    "    tf.keras.layers.Dense(units=1, activation=\"softmax\")\n",
    "])"
   ],
   "metadata": {
    "collapsed": false,
    "ExecuteTime": {
     "end_time": "2024-02-21T15:37:09.471700Z",
     "start_time": "2024-02-21T15:37:09.385301Z"
    }
   },
   "id": "491d8ba6451c18aa",
   "execution_count": 24
  },
  {
   "cell_type": "code",
   "outputs": [],
   "source": [
    "model.compile(optimizer=\"adam\", loss=\"binary_crossentropy\", metrics=[\"accuracy\"])"
   ],
   "metadata": {
    "collapsed": false,
    "ExecuteTime": {
     "end_time": "2024-02-21T15:37:09.988741Z",
     "start_time": "2024-02-21T15:37:09.969738Z"
    }
   },
   "id": "efe888d2aa65f446",
   "execution_count": 25
  },
  {
   "cell_type": "code",
   "outputs": [
    {
     "name": "stdout",
     "output_type": "stream",
     "text": [
      "Epoch 1/100\n",
      "WARNING:tensorflow:From C:\\Users\\amith\\AppData\\Local\\Programs\\Python\\Python39\\lib\\site-packages\\keras\\src\\utils\\tf_utils.py:492: The name tf.ragged.RaggedTensorValue is deprecated. Please use tf.compat.v1.ragged.RaggedTensorValue instead.\n",
      "WARNING:tensorflow:From C:\\Users\\amith\\AppData\\Local\\Programs\\Python\\Python39\\lib\\site-packages\\keras\\src\\engine\\base_layer_utils.py:384: The name tf.executing_eagerly_outside_functions is deprecated. Please use tf.compat.v1.executing_eagerly_outside_functions instead.\n",
      "116/116 [==============================] - 32s 260ms/step - loss: 0.5473 - accuracy: 0.5463 - val_loss: 0.4384 - val_accuracy: 0.5462\n",
      "Epoch 2/100\n",
      "116/116 [==============================] - 29s 246ms/step - loss: 0.3703 - accuracy: 0.5463 - val_loss: 0.4404 - val_accuracy: 0.5462\n",
      "Epoch 3/100\n",
      "116/116 [==============================] - 30s 258ms/step - loss: 0.2735 - accuracy: 0.5463 - val_loss: 0.3009 - val_accuracy: 0.5462\n",
      "Epoch 4/100\n",
      "116/116 [==============================] - 29s 245ms/step - loss: 0.2878 - accuracy: 0.5463 - val_loss: 0.1910 - val_accuracy: 0.5462\n",
      "Epoch 5/100\n",
      " 39/116 [=========>....................] - ETA: 17s - loss: 0.1738 - accuracy: 0.5553"
     ]
    }
   ],
   "source": [
    "model.fit(train_data, steps_per_epoch=len(train_data), epochs=100, verbose=1, validation_split=0.2, shuffle=True, callbacks=tf.keras.callbacks.EarlyStopping(patience=2), validation_data=val_data)"
   ],
   "metadata": {
    "collapsed": false,
    "ExecuteTime": {
     "start_time": "2024-02-21T15:37:10.523906Z"
    }
   },
   "id": "19fae03912ced31",
   "execution_count": null
  },
  {
   "cell_type": "code",
   "outputs": [],
   "source": [],
   "metadata": {
    "collapsed": false
   },
   "id": "b06784c83a191a64"
  }
 ],
 "metadata": {
  "kernelspec": {
   "display_name": "Python 3",
   "language": "python",
   "name": "python3"
  },
  "language_info": {
   "codemirror_mode": {
    "name": "ipython",
    "version": 2
   },
   "file_extension": ".py",
   "mimetype": "text/x-python",
   "name": "python",
   "nbconvert_exporter": "python",
   "pygments_lexer": "ipython2",
   "version": "2.7.6"
  }
 },
 "nbformat": 4,
 "nbformat_minor": 5
}
