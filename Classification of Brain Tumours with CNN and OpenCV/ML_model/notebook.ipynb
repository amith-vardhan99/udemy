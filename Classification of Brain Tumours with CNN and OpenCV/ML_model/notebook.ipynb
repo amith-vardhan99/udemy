{
 "cells": [
  {
   "cell_type": "code",
   "execution_count": 1,
   "id": "initial_id",
   "metadata": {
    "collapsed": true,
    "ExecuteTime": {
     "end_time": "2024-02-24T20:17:10.449859Z",
     "start_time": "2024-02-24T20:17:04.630435Z"
    }
   },
   "outputs": [
    {
     "name": "stdout",
     "output_type": "stream",
     "text": [
      "WARNING:tensorflow:From C:\\Users\\amith\\AppData\\Local\\Programs\\Python\\Python39\\lib\\site-packages\\keras\\src\\losses.py:2976: The name tf.losses.sparse_softmax_cross_entropy is deprecated. Please use tf.compat.v1.losses.sparse_softmax_cross_entropy instead.\n"
     ]
    }
   ],
   "source": [
    "import os\n",
    "import numpy as np\n",
    "import pandas as pd\n",
    "import matplotlib.pyplot as plt\n",
    "import seaborn as sns\n",
    "import tensorflow as tf\n",
    "import cv2\n",
    "import warnings \n",
    "warnings.filterwarnings(\"ignore\")\n",
    "import shutil"
   ]
  },
  {
   "cell_type": "markdown",
   "source": [
    "### Current Working Directory"
   ],
   "metadata": {
    "collapsed": false
   },
   "id": "cfc8384699ef5405"
  },
  {
   "cell_type": "code",
   "outputs": [
    {
     "data": {
      "text/plain": "'C:/Users/amith/Documents/GitHub/udemy/Classification of Brain Tumours with CNN and OpenCV/ML_model'"
     },
     "execution_count": 2,
     "metadata": {},
     "output_type": "execute_result"
    }
   ],
   "source": [
    "current_working_directory = os.getcwd().replace('\\\\', '/')\n",
    "current_working_directory"
   ],
   "metadata": {
    "collapsed": false,
    "ExecuteTime": {
     "end_time": "2024-02-24T20:17:15.582952Z",
     "start_time": "2024-02-24T20:17:15.567954Z"
    }
   },
   "id": "fc3f842b303327fc",
   "execution_count": 2
  },
  {
   "cell_type": "code",
   "outputs": [],
   "source": [
    "files_with_no_tumour = np.array(os.listdir(current_working_directory + \"/data/no\"))\n",
    "files_with_tumour = np.array(os.listdir(current_working_directory + \"/data/Yes\"))\n",
    "np.random.shuffle(files_with_no_tumour)\n",
    "np.random.shuffle(files_with_tumour)"
   ],
   "metadata": {
    "collapsed": false,
    "ExecuteTime": {
     "end_time": "2024-02-24T20:17:16.594931Z",
     "start_time": "2024-02-24T20:17:16.573873Z"
    }
   },
   "id": "b8bd9c87101eb23b",
   "execution_count": 3
  },
  {
   "cell_type": "code",
   "outputs": [],
   "source": [
    "val_test_threshold_no_tumour = int(np.round(0.8 * files_with_no_tumour.shape[0]))\n",
    "train_val_threshold_no_tumour = int(np.round(0.8 * val_test_threshold_no_tumour))\n",
    "\n",
    "val_test_threshold_tumour = int(np.round(0.8 * files_with_tumour.shape[0]))\n",
    "train_val_threshold_tumour = int(np.round(0.8 * val_test_threshold_tumour))"
   ],
   "metadata": {
    "collapsed": false,
    "ExecuteTime": {
     "end_time": "2024-02-24T20:17:17.473541Z",
     "start_time": "2024-02-24T20:17:17.463423Z"
    }
   },
   "id": "26ec86a4f5bf7320",
   "execution_count": 4
  },
  {
   "cell_type": "code",
   "outputs": [
    {
     "data": {
      "text/plain": "array(['Not Cancer  (1831).jpg', 'Not Cancer  (92).jpg',\n       'Not Cancer  (1589).jpg', ..., 'Not Cancer  (256).jpg',\n       'Not Cancer  (886).jpg', 'Not Cancer  (699).jpg'], dtype='<U22')"
     },
     "execution_count": 5,
     "metadata": {},
     "output_type": "execute_result"
    }
   ],
   "source": [
    "files_with_no_tumour"
   ],
   "metadata": {
    "collapsed": false,
    "ExecuteTime": {
     "end_time": "2024-02-24T20:17:18.220233Z",
     "start_time": "2024-02-24T20:17:18.214252Z"
    }
   },
   "id": "7d2a97b6cbe97608",
   "execution_count": 5
  },
  {
   "cell_type": "code",
   "outputs": [],
   "source": [
    "train_files_with_no_tumour = files_with_no_tumour[:train_val_threshold_no_tumour]\n",
    "val_files_with_no_tumour = files_with_no_tumour[train_val_threshold_no_tumour:val_test_threshold_no_tumour]\n",
    "test_files_with_no_tumour = files_with_no_tumour[val_test_threshold_no_tumour:]\n",
    "\n",
    "train_files_with_tumour = files_with_tumour[:train_val_threshold_tumour]\n",
    "val_files_with_tumour = files_with_tumour[train_val_threshold_tumour:val_test_threshold_tumour]\n",
    "test_files_with_tumour = files_with_tumour[val_test_threshold_tumour:]"
   ],
   "metadata": {
    "collapsed": false,
    "ExecuteTime": {
     "end_time": "2024-02-24T20:17:22.184258Z",
     "start_time": "2024-02-24T20:17:22.170155Z"
    }
   },
   "id": "b446cf97f2eb0fd5",
   "execution_count": 6
  },
  {
   "cell_type": "code",
   "outputs": [],
   "source": [
    "train_dir = \"C:\\\\Users\\\\amith\\\\Documents\\\\GitHub\\\\udemy\\\\Classification of Brain Tumours with CNN and OpenCV\\\\ML_model\\\\data\\\\train\".replace(\"\\\\\",\"/\")\n",
    "val_dir = \"C:\\\\Users\\\\amith\\\\Documents\\\\GitHub\\\\udemy\\\\Classification of Brain Tumours with CNN and OpenCV\\\\ML_model\\\\data\\\\val\".replace(\"\\\\\",\"/\")\n",
    "test_dir = \"C:\\\\Users\\\\amith\\\\Documents\\\\GitHub\\\\udemy\\\\Classification of Brain Tumours with CNN and OpenCV\\\\ML_model\\\\data\\\\test\".replace(\"\\\\\",\"/\")"
   ],
   "metadata": {
    "collapsed": false,
    "ExecuteTime": {
     "end_time": "2024-02-24T20:21:31.877754Z",
     "start_time": "2024-02-24T20:21:31.860077Z"
    }
   },
   "id": "30e9a41f35e48a3a",
   "execution_count": 10
  },
  {
   "cell_type": "code",
   "outputs": [],
   "source": [
    "train_dir = "
   ],
   "metadata": {
    "collapsed": false
   },
   "id": "cdd726f990059e05"
  },
  {
   "cell_type": "code",
   "outputs": [
    {
     "name": "stdout",
     "output_type": "stream",
     "text": [
      "Found 3680 images belonging to 1 classes.\n",
      "Found 920 images belonging to 1 classes.\n"
     ]
    }
   ],
   "source": [
    "dataset_generator = tf.keras.preprocessing.image.ImageDataGenerator(rescale=1./255, validation_split=0.2)\n",
    "\n",
    "train_data = dataset_generator.flow_from_directory(directory=current_working_directory, subset=\"training\", class_mode=\"binary\", batch_size=32)\n",
    "val_data = dataset_generator.flow_from_directory(directory=current_working_directory, subset=\"validation\", class_mode=\"binary\", batch_size=32)"
   ],
   "metadata": {
    "collapsed": false,
    "ExecuteTime": {
     "end_time": "2024-02-24T20:17:24.085435Z",
     "start_time": "2024-02-24T20:17:23.847507Z"
    }
   },
   "id": "1ca7a9322a09da7a",
   "execution_count": 7
  },
  {
   "cell_type": "code",
   "outputs": [
    {
     "data": {
      "text/plain": "256"
     },
     "execution_count": 21,
     "metadata": {},
     "output_type": "execute_result"
    }
   ],
   "source": [
    "len(train_data[0][0][0])"
   ],
   "metadata": {
    "collapsed": false,
    "ExecuteTime": {
     "end_time": "2024-02-21T15:37:07.581656Z",
     "start_time": "2024-02-21T15:37:07.497398Z"
    }
   },
   "id": "fe1b6fa83fa3b029",
   "execution_count": 21
  },
  {
   "cell_type": "code",
   "outputs": [
    {
     "data": {
      "text/plain": "256"
     },
     "execution_count": 22,
     "metadata": {},
     "output_type": "execute_result"
    }
   ],
   "source": [
    "len(train_data[0][0][0][0])"
   ],
   "metadata": {
    "collapsed": false,
    "ExecuteTime": {
     "end_time": "2024-02-21T15:37:08.211609Z",
     "start_time": "2024-02-21T15:37:08.126864Z"
    }
   },
   "id": "619c84c7fa308e2a",
   "execution_count": 22
  },
  {
   "cell_type": "code",
   "outputs": [
    {
     "data": {
      "text/plain": "3"
     },
     "execution_count": 23,
     "metadata": {},
     "output_type": "execute_result"
    }
   ],
   "source": [
    "len(train_data[0][0][0][0][0])"
   ],
   "metadata": {
    "collapsed": false,
    "ExecuteTime": {
     "end_time": "2024-02-21T15:37:08.890716Z",
     "start_time": "2024-02-21T15:37:08.823342Z"
    }
   },
   "id": "d07153041ea38c76",
   "execution_count": 23
  },
  {
   "cell_type": "code",
   "outputs": [],
   "source": [
    "model = tf.keras.models.Sequential(layers=[\n",
    "    \n",
    "    tf.keras.layers.Conv2D(filters=32, kernel_size=(3,3), activation=\"relu\", input_shape=(256,256,3)),\n",
    "    tf.keras.layers.MaxPooling2D(pool_size=(2,2)),\n",
    "    \n",
    "    tf.keras.layers.Conv2D(filters=32, kernel_size=(3,3), activation=\"relu\", input_shape=(256,256,3)),\n",
    "    tf.keras.layers.MaxPooling2D(pool_size=(2,2)),\n",
    "    \n",
    "    tf.keras.layers.Conv2D(filters=32, kernel_size=(3,3), activation=\"relu\", input_shape=(256,256,3)),\n",
    "    tf.keras.layers.MaxPooling2D(pool_size=(2,2)),\n",
    "    \n",
    "    tf.keras.layers.Conv2D(filters=32, kernel_size=(3,3), activation=\"relu\", input_shape=(256,256,3)),\n",
    "    tf.keras.layers.MaxPooling2D(pool_size=(2,2)),\n",
    "    \n",
    "    tf.keras.layers.Flatten(),\n",
    "    \n",
    "    tf.keras.layers.Dense(units=256, activation=\"relu\"),\n",
    "    \n",
    "    tf.keras.layers.Dense(units=1, activation=\"softmax\")\n",
    "])"
   ],
   "metadata": {
    "collapsed": false,
    "ExecuteTime": {
     "end_time": "2024-02-21T15:37:09.471700Z",
     "start_time": "2024-02-21T15:37:09.385301Z"
    }
   },
   "id": "491d8ba6451c18aa",
   "execution_count": 24
  },
  {
   "cell_type": "code",
   "outputs": [],
   "source": [
    "model.compile(optimizer=\"adam\", loss=\"binary_crossentropy\", metrics=[\"accuracy\"])"
   ],
   "metadata": {
    "collapsed": false,
    "ExecuteTime": {
     "end_time": "2024-02-21T15:37:09.988741Z",
     "start_time": "2024-02-21T15:37:09.969738Z"
    }
   },
   "id": "efe888d2aa65f446",
   "execution_count": 25
  },
  {
   "cell_type": "code",
   "outputs": [
    {
     "name": "stdout",
     "output_type": "stream",
     "text": [
      "Epoch 1/100\n",
      "WARNING:tensorflow:From C:\\Users\\amith\\AppData\\Local\\Programs\\Python\\Python39\\lib\\site-packages\\keras\\src\\utils\\tf_utils.py:492: The name tf.ragged.RaggedTensorValue is deprecated. Please use tf.compat.v1.ragged.RaggedTensorValue instead.\n",
      "WARNING:tensorflow:From C:\\Users\\amith\\AppData\\Local\\Programs\\Python\\Python39\\lib\\site-packages\\keras\\src\\engine\\base_layer_utils.py:384: The name tf.executing_eagerly_outside_functions is deprecated. Please use tf.compat.v1.executing_eagerly_outside_functions instead.\n",
      "116/116 [==============================] - 32s 260ms/step - loss: 0.5473 - accuracy: 0.5463 - val_loss: 0.4384 - val_accuracy: 0.5462\n",
      "Epoch 2/100\n",
      "116/116 [==============================] - 29s 246ms/step - loss: 0.3703 - accuracy: 0.5463 - val_loss: 0.4404 - val_accuracy: 0.5462\n",
      "Epoch 3/100\n",
      "116/116 [==============================] - 30s 258ms/step - loss: 0.2735 - accuracy: 0.5463 - val_loss: 0.3009 - val_accuracy: 0.5462\n",
      "Epoch 4/100\n",
      "116/116 [==============================] - 29s 245ms/step - loss: 0.2878 - accuracy: 0.5463 - val_loss: 0.1910 - val_accuracy: 0.5462\n",
      "Epoch 5/100\n",
      " 39/116 [=========>....................] - ETA: 17s - loss: 0.1738 - accuracy: 0.5553"
     ]
    }
   ],
   "source": [
    "model.fit(train_data, steps_per_epoch=len(train_data), epochs=100, verbose=1, validation_split=0.2, shuffle=True, callbacks=tf.keras.callbacks.EarlyStopping(patience=2), validation_data=val_data)"
   ],
   "metadata": {
    "collapsed": false,
    "ExecuteTime": {
     "start_time": "2024-02-21T15:37:10.523906Z"
    }
   },
   "id": "19fae03912ced31",
   "execution_count": null
  },
  {
   "cell_type": "code",
   "outputs": [],
   "source": [],
   "metadata": {
    "collapsed": false
   },
   "id": "b06784c83a191a64"
  }
 ],
 "metadata": {
  "kernelspec": {
   "display_name": "Python 3",
   "language": "python",
   "name": "python3"
  },
  "language_info": {
   "codemirror_mode": {
    "name": "ipython",
    "version": 2
   },
   "file_extension": ".py",
   "mimetype": "text/x-python",
   "name": "python",
   "nbconvert_exporter": "python",
   "pygments_lexer": "ipython2",
   "version": "2.7.6"
  }
 },
 "nbformat": 4,
 "nbformat_minor": 5
}
