{
 "cells": [
  {
   "cell_type": "code",
   "execution_count": 1,
   "id": "initial_id",
   "metadata": {
    "collapsed": true,
    "ExecuteTime": {
     "end_time": "2024-02-20T20:38:32.714939Z",
     "start_time": "2024-02-20T20:38:28.085580Z"
    }
   },
   "outputs": [],
   "source": [
    "import os\n",
    "import numpy as np\n",
    "import pandas as pd\n",
    "import matplotlib.pyplot as plt\n",
    "import seaborn as sns\n",
    "import torch\n",
    "from torchvision import *\n",
    "import cv2"
   ]
  },
  {
   "cell_type": "markdown",
   "source": [
    "### Current Working Directory"
   ],
   "metadata": {
    "collapsed": false
   },
   "id": "cfc8384699ef5405"
  },
  {
   "cell_type": "code",
   "outputs": [
    {
     "data": {
      "text/plain": "'C:/Users/amith/Documents/GitHub/udemy/Classification of Brain Tumours with CNN and OpenCV/ML_model/data'"
     },
     "execution_count": 2,
     "metadata": {},
     "output_type": "execute_result"
    }
   ],
   "source": [
    "current_working_directory = os.getcwd().replace(\"\\\\\",\"/\")\n",
    "data_directory = current_working_directory + \"/data\"\n",
    "data_directory"
   ],
   "metadata": {
    "collapsed": false,
    "ExecuteTime": {
     "end_time": "2024-02-20T20:38:33.684198Z",
     "start_time": "2024-02-20T20:38:33.677561Z"
    }
   },
   "id": "bbd305b0d89832e0",
   "execution_count": 2
  },
  {
   "cell_type": "markdown",
   "source": [
    "### Image Transformer"
   ],
   "metadata": {
    "collapsed": false
   },
   "id": "550a7f51670a37f5"
  },
  {
   "cell_type": "code",
   "outputs": [],
   "source": [
    "transform_image = transforms.Compose(transforms=[\n",
    "    transforms.ToTensor(),\n",
    "    transforms.Resize(size=(256,256))\n",
    "])"
   ],
   "metadata": {
    "collapsed": false,
    "ExecuteTime": {
     "end_time": "2024-02-20T20:38:34.800266Z",
     "start_time": "2024-02-20T20:38:34.796300Z"
    }
   },
   "id": "1fef10d0acb59ce6",
   "execution_count": 3
  },
  {
   "cell_type": "markdown",
   "source": [
    "### Testing the Image Transformet"
   ],
   "metadata": {
    "collapsed": false
   },
   "id": "35533b32a5fa98b1"
  },
  {
   "cell_type": "code",
   "outputs": [
    {
     "data": {
      "text/plain": "tensor([[[0., 0., 0.,  ..., 0., 0., 0.],\n         [0., 0., 0.,  ..., 0., 0., 0.],\n         [0., 0., 0.,  ..., 0., 0., 0.],\n         ...,\n         [0., 0., 0.,  ..., 0., 0., 0.],\n         [0., 0., 0.,  ..., 0., 0., 0.],\n         [0., 0., 0.,  ..., 0., 0., 0.]],\n\n        [[0., 0., 0.,  ..., 0., 0., 0.],\n         [0., 0., 0.,  ..., 0., 0., 0.],\n         [0., 0., 0.,  ..., 0., 0., 0.],\n         ...,\n         [0., 0., 0.,  ..., 0., 0., 0.],\n         [0., 0., 0.,  ..., 0., 0., 0.],\n         [0., 0., 0.,  ..., 0., 0., 0.]],\n\n        [[0., 0., 0.,  ..., 0., 0., 0.],\n         [0., 0., 0.,  ..., 0., 0., 0.],\n         [0., 0., 0.,  ..., 0., 0., 0.],\n         ...,\n         [0., 0., 0.,  ..., 0., 0., 0.],\n         [0., 0., 0.,  ..., 0., 0., 0.],\n         [0., 0., 0.,  ..., 0., 0., 0.]]])"
     },
     "execution_count": 4,
     "metadata": {},
     "output_type": "execute_result"
    }
   ],
   "source": [
    "path = \"C:/Users/amith/Documents/GitHub/udemy/Classification of Brain Tumours with CNN and OpenCV/ML_model/data/No/Not Cancer  (1).jpeg\"\n",
    "img = cv2.imread(path)\n",
    "transform_image(img)"
   ],
   "metadata": {
    "collapsed": false,
    "ExecuteTime": {
     "end_time": "2024-02-20T20:38:35.611051Z",
     "start_time": "2024-02-20T20:38:35.579621Z"
    }
   },
   "id": "18ab9c036ef78b0e",
   "execution_count": 4
  },
  {
   "cell_type": "markdown",
   "source": [
    "### Retrieving the images from each folder and dividing them into training, validation and testing sets"
   ],
   "metadata": {
    "collapsed": false
   },
   "id": "5c57fca4d00156c9"
  },
  {
   "cell_type": "markdown",
   "source": [
    "#### Each folder denotes class (if brain tumour is present or not)"
   ],
   "metadata": {
    "collapsed": false
   },
   "id": "e548b5a79f9ae82d"
  },
  {
   "cell_type": "code",
   "outputs": [],
   "source": [
    "image_dataset = datasets.ImageFolder(root=data_directory, transform=transform_image)\n",
    "\n",
    "train_size = int(np.round(len(image_dataset) * 0.6))\n",
    "val_size = int(np.round(len(image_dataset) * 0.2))\n",
    "test_size = int(np.round(len(image_dataset) * 0.2))\n",
    "\n",
    "randomiser = torch.Generator().manual_seed(np.random.randint(0,1000))\n",
    "\n",
    "train_data, val_data, test_data = torch.utils.data.random_split(dataset=image_dataset, lengths=[train_size, val_size, test_size], generator=randomiser)"
   ],
   "metadata": {
    "collapsed": false,
    "ExecuteTime": {
     "end_time": "2024-02-20T20:47:34.961291Z",
     "start_time": "2024-02-20T20:47:34.924382Z"
    }
   },
   "id": "7f10450c4fa8fb22",
   "execution_count": 19
  },
  {
   "cell_type": "markdown",
   "source": [
    "### Creating a Convolutional Neural Network model"
   ],
   "metadata": {
    "collapsed": false
   },
   "id": "861f43af2e042758"
  },
  {
   "cell_type": "code",
   "outputs": [],
   "source": [
    "model = torch.nn.Sequential(\n",
    "    # First layer of the Convolutional Neural Network\n",
    "    torch.nn.Conv2d(in_channels=3,out_channels=32,kernel_size=(3,3)),\n",
    "    torch.nn.ReLU(),\n",
    "    torch.nn.MaxPool2d(kernel_size=(2,2)),\n",
    "\n",
    "    # Second layer of the Convolutional Neural Network\n",
    "    torch.nn.Conv2d(in_channels=32,out_channels=64,kernel_size=(3,3)),\n",
    "    torch.nn.ReLU(),\n",
    "    torch.nn.MaxPool2d(kernel_size=(2,2)),\n",
    "\n",
    "    # Third layer of the Convolutional Neural Network\n",
    "    torch.nn.Conv2d(in_channels=64,out_channels=128,kernel_size=(3,3)),\n",
    "    torch.nn.ReLU(),\n",
    "    torch.nn.MaxPool2d(kernel_size=(2,2)),\n",
    "\n",
    "    # Fourth layer of the Convolutional Neural Network\n",
    "    torch.nn.Conv2d(in_channels=128,out_channels=256,kernel_size=(3,3)),\n",
    "    torch.nn.ReLU(),\n",
    "    torch.nn.MaxPool2d(kernel_size=(2,2)),\n",
    "\n",
    "    # Flattening layer\n",
    "    torch.nn.Flatten(),\n",
    "\n",
    "    # First Fully Connected layer\n",
    "    torch.nn.Linear(in_features=256, out_features=256),\n",
    "    torch.nn.ReLU(),\n",
    "\n",
    "    # Final Fully Connected layer\n",
    "    torch.nn.Linear(in_features=256,out_features=1),\n",
    "    torch.nn.Softmax()\n",
    ")"
   ],
   "metadata": {
    "collapsed": false,
    "ExecuteTime": {
     "end_time": "2024-02-20T21:01:01.927248Z",
     "start_time": "2024-02-20T21:01:01.909578Z"
    }
   },
   "id": "b91c2a7862ede550",
   "execution_count": 29
  },
  {
   "cell_type": "code",
   "outputs": [],
   "source": [
    "optimizer = torch.optim."
   ],
   "metadata": {
    "collapsed": false
   },
   "id": "9ece50f183470d6e"
  },
  {
   "cell_type": "code",
   "outputs": [
    {
     "data": {
      "text/plain": "<generator object Module.parameters at 0x000001DED4A67BC0>"
     },
     "execution_count": 16,
     "metadata": {},
     "output_type": "execute_result"
    }
   ],
   "source": [
    "model.parameters()"
   ],
   "metadata": {
    "collapsed": false,
    "ExecuteTime": {
     "end_time": "2024-02-20T20:22:46.403448Z",
     "start_time": "2024-02-20T20:22:46.398640Z"
    }
   },
   "id": "ce836fb4e9f64939",
   "execution_count": 16
  },
  {
   "cell_type": "code",
   "outputs": [],
   "source": [
    "def compile_model():\n",
    "    optimizer = torch.optim.Adam(params=model.parameters())\n",
    "    loss = torch.nn.CrossEntropyLoss()\n",
    "    return optimizer,loss"
   ],
   "metadata": {
    "collapsed": false,
    "ExecuteTime": {
     "end_time": "2024-02-20T20:22:46.725112Z",
     "start_time": "2024-02-20T20:22:46.720909Z"
    }
   },
   "id": "3ddebae592357252",
   "execution_count": 17
  },
  {
   "cell_type": "code",
   "outputs": [],
   "source": [
    "optimizer, loss = compile_model()"
   ],
   "metadata": {
    "collapsed": false,
    "ExecuteTime": {
     "end_time": "2024-02-20T20:22:47.265130Z",
     "start_time": "2024-02-20T20:22:47.259507Z"
    }
   },
   "id": "fdf8e26c606fee43",
   "execution_count": 18
  },
  {
   "cell_type": "code",
   "outputs": [
    {
     "name": "stdout",
     "output_type": "stream",
     "text": [
      "0\n",
      "1\n",
      "2\n",
      "3\n",
      "4\n",
      "5\n",
      "6\n",
      "7\n",
      "8\n",
      "9\n",
      "10\n",
      "11\n",
      "12\n",
      "13\n",
      "14\n",
      "15\n",
      "16\n",
      "17\n",
      "18\n",
      "19\n",
      "20\n",
      "21\n",
      "22\n",
      "23\n",
      "24\n",
      "25\n",
      "26\n",
      "27\n",
      "28\n",
      "29\n",
      "30\n",
      "31\n",
      "32\n",
      "33\n",
      "34\n",
      "35\n",
      "36\n",
      "37\n",
      "38\n",
      "39\n",
      "40\n",
      "41\n",
      "42\n",
      "43\n",
      "44\n",
      "45\n"
     ]
    }
   ],
   "source": [
    "epochs = 100\n",
    "running_loss = 0\n",
    "\n",
    "for epoch in range(epochs):\n",
    "    model.train()\n",
    "    for ctr in range(len(train_inputs)):\n",
    "        # Inputs and labels\n",
    "        inputs = train_inputs[ctr]\n",
    "        labels = train_labels[ctr]\n",
    "    break"
   ],
   "metadata": {
    "collapsed": false,
    "ExecuteTime": {
     "end_time": "2024-02-20T20:24:33.167470Z",
     "start_time": "2024-02-20T20:24:33.162307Z"
    }
   },
   "id": "fadb2d96de97d1a7",
   "execution_count": 20
  },
  {
   "cell_type": "code",
   "outputs": [],
   "source": [],
   "metadata": {
    "collapsed": false
   },
   "id": "4d2d7e97319c893f"
  }
 ],
 "metadata": {
  "kernelspec": {
   "display_name": "Python 3",
   "language": "python",
   "name": "python3"
  },
  "language_info": {
   "codemirror_mode": {
    "name": "ipython",
    "version": 2
   },
   "file_extension": ".py",
   "mimetype": "text/x-python",
   "name": "python",
   "nbconvert_exporter": "python",
   "pygments_lexer": "ipython2",
   "version": "2.7.6"
  }
 },
 "nbformat": 4,
 "nbformat_minor": 5
}
