{
 "cells": [
  {
   "cell_type": "code",
   "execution_count": 1,
   "id": "initial_id",
   "metadata": {
    "collapsed": true,
    "ExecuteTime": {
     "end_time": "2024-03-18T23:24:42.600784Z",
     "start_time": "2024-03-18T23:24:37.794072Z"
    }
   },
   "outputs": [
    {
     "name": "stdout",
     "output_type": "stream",
     "text": [
      "WARNING:tensorflow:From C:\\Users\\amith\\AppData\\Local\\Programs\\Python\\Python311\\Lib\\site-packages\\keras\\src\\losses.py:2976: The name tf.losses.sparse_softmax_cross_entropy is deprecated. Please use tf.compat.v1.losses.sparse_softmax_cross_entropy instead.\n"
     ]
    }
   ],
   "source": [
    "import os\n",
    "import numpy as np\n",
    "import pandas as pd\n",
    "import matplotlib.pyplot as plt\n",
    "import seaborn as sns\n",
    "import tensorflow as tf\n",
    "import cv2\n",
    "from tqdm import *\n",
    "from sklearn.metrics import *"
   ]
  },
  {
   "cell_type": "code",
   "outputs": [
    {
     "name": "stderr",
     "output_type": "stream",
     "text": [
      "Training of COVID-19 images: 100%|██████████| 4795/4795 [00:16<00:00, 285.21it/s]\n",
      "Training of Non-COVID-19 images: 100%|██████████| 604/604 [00:02<00:00, 254.67it/s]\n"
     ]
    }
   ],
   "source": [
    "train_images = []\n",
    "train_labels = []\n",
    "\n",
    "covid_19 = \"C:\\\\Users\\\\amith\\\\Documents\\\\Datasets\\\\7 - COVID-19 Detection from CT Scans using ResNet, DenseNet, and VGG Mode\\\\train\\\\COVID-19\\\\\"\n",
    "non_covid_19 = \"C:\\\\Users\\\\amith\\\\Documents\\\\Datasets\\\\7 - COVID-19 Detection from CT Scans using ResNet, DenseNet, and VGG Mode\\\\train\\\\Non-COVID-19\\\\\"\n",
    "\n",
    "for i in tqdm(os.listdir(covid_19),desc=\"Training of COVID-19 images\"):\n",
    "    file_name = covid_19 + i\n",
    "    img = cv2.imread(file_name)\n",
    "    img_grey = cv2.cvtColor(img, cv2.COLOR_BGR2GRAY)\n",
    "    img_resized = cv2.resize(src=img_grey,dsize=(64,64))\n",
    "    img_reshaped = img_resized / 255.0\n",
    "    img_reshaped = img_reshaped.reshape((64,64,1))\n",
    "    train_images.append(img_reshaped)\n",
    "    train_labels.append(1)\n",
    "\n",
    "for i in tqdm(os.listdir(non_covid_19),desc=\"Training of Non-COVID-19 images\"):\n",
    "    file_name = non_covid_19 + i\n",
    "    img = cv2.imread(file_name)\n",
    "    img_grey = cv2.cvtColor(img, cv2.COLOR_BGR2GRAY)\n",
    "    img_resized = cv2.resize(src=img_grey,dsize=(64,64))\n",
    "    img_reshaped = img_resized / 255.0\n",
    "    img_reshaped = img_reshaped.reshape((64,64,1))\n",
    "    train_images.append(img_reshaped)\n",
    "    train_labels.append(0)\n",
    "\n",
    "train_images = np.array(train_images)\n",
    "train_labels = np.array(train_labels)"
   ],
   "metadata": {
    "collapsed": false,
    "ExecuteTime": {
     "end_time": "2024-03-18T23:25:02.632708Z",
     "start_time": "2024-03-18T23:24:43.328244Z"
    }
   },
   "id": "a62d02f751b17e7e",
   "execution_count": 2
  },
  {
   "cell_type": "code",
   "outputs": [
    {
     "name": "stderr",
     "output_type": "stream",
     "text": [
      "Validation of COVID-19 images: 100%|██████████| 1200/1200 [00:03<00:00, 300.40it/s]\n",
      "Validation of Non-COVID-19 images: 100%|██████████| 150/150 [00:00<00:00, 303.71it/s]\n"
     ]
    }
   ],
   "source": [
    "val_images = []\n",
    "val_labels = []\n",
    "\n",
    "covid_19 = \"C:\\\\Users\\\\amith\\\\Documents\\\\Datasets\\\\7 - COVID-19 Detection from CT Scans using ResNet, DenseNet, and VGG Mode\\\\val\\\\COVID-19\\\\\"\n",
    "non_covid_19 = \"C:\\\\Users\\\\amith\\\\Documents\\\\Datasets\\\\7 - COVID-19 Detection from CT Scans using ResNet, DenseNet, and VGG Mode\\\\val\\\\Non-COVID-19\\\\\"\n",
    "\n",
    "for i in tqdm(os.listdir(covid_19),desc=\"Validation of COVID-19 images\"):\n",
    "    file_name = covid_19 + i\n",
    "    img = cv2.imread(file_name)\n",
    "    img_grey = cv2.cvtColor(img, cv2.COLOR_BGR2GRAY)\n",
    "    img_resized = cv2.resize(src=img_grey,dsize=(64,64))\n",
    "    img_reshaped = img_resized / 255.0\n",
    "    img_reshaped = img_reshaped.reshape((64,64,1))\n",
    "    val_images.append(img_reshaped)\n",
    "    val_labels.append(1)\n",
    "\n",
    "for i in tqdm(os.listdir(non_covid_19),desc=\"Validation of Non-COVID-19 images\"):\n",
    "    file_name = non_covid_19 + i\n",
    "    img = cv2.imread(file_name)\n",
    "    img_grey = cv2.cvtColor(img, cv2.COLOR_BGR2GRAY)\n",
    "    img_resized = cv2.resize(src=img_grey,dsize=(64,64))\n",
    "    img_reshaped = img_resized / 255.0\n",
    "    img_reshaped = img_reshaped.reshape((64,64,1))\n",
    "    val_images.append(img_reshaped)\n",
    "    val_labels.append(0)\n",
    "\n",
    "val_images = np.array(val_images)\n",
    "val_labels = np.array(val_labels)"
   ],
   "metadata": {
    "collapsed": false,
    "ExecuteTime": {
     "end_time": "2024-03-18T23:25:07.158987Z",
     "start_time": "2024-03-18T23:25:02.634952Z"
    }
   },
   "id": "cfc37dfe621a3b40",
   "execution_count": 3
  },
  {
   "cell_type": "code",
   "outputs": [
    {
     "name": "stderr",
     "output_type": "stream",
     "text": [
      "Testing of COVID-19 images: 100%|██████████| 1500/1500 [00:03<00:00, 414.01it/s]\n",
      "Testing of Non-COVID-19 images: 100%|██████████| 190/190 [00:00<00:00, 395.54it/s]\n"
     ]
    }
   ],
   "source": [
    "test_images = []\n",
    "test_labels = []\n",
    "\n",
    "covid_19 = \"C:\\\\Users\\\\amith\\\\Documents\\\\Datasets\\\\7 - COVID-19 Detection from CT Scans using ResNet, DenseNet, and VGG Mode\\\\test\\\\COVID-19\\\\\"\n",
    "non_covid_19 = \"C:\\\\Users\\\\amith\\\\Documents\\\\Datasets\\\\7 - COVID-19 Detection from CT Scans using ResNet, DenseNet, and VGG Mode\\\\test\\\\Non-COVID-19\\\\\"\n",
    "\n",
    "for i in tqdm(os.listdir(covid_19),desc=\"Testing of COVID-19 images\"):\n",
    "    file_name = covid_19 + i\n",
    "    img = cv2.imread(file_name)\n",
    "    img_grey = cv2.cvtColor(img, cv2.COLOR_BGR2GRAY)\n",
    "    img_resized = cv2.resize(src=img_grey,dsize=(64,64))\n",
    "    img_reshaped = img_resized / 255.0\n",
    "    img_reshaped = img_reshaped.reshape((64,64,1))\n",
    "    test_images.append(img_reshaped)\n",
    "    test_labels.append(1)\n",
    "\n",
    "for i in tqdm(os.listdir(non_covid_19),desc=\"Testing of Non-COVID-19 images\"):\n",
    "    file_name = non_covid_19 + i\n",
    "    img = cv2.imread(file_name)\n",
    "    img_grey = cv2.cvtColor(img, cv2.COLOR_BGR2GRAY)\n",
    "    img_resized = cv2.resize(src=img_grey,dsize=(64,64))\n",
    "    img_reshaped = img_resized / 255.0\n",
    "    img_reshaped = img_reshaped.reshape((64,64,1))\n",
    "    test_images.append(img_reshaped)\n",
    "    test_labels.append(0)\n",
    "\n",
    "test_images = np.array(test_images)\n",
    "test_labels = np.array(test_labels)"
   ],
   "metadata": {
    "collapsed": false,
    "ExecuteTime": {
     "end_time": "2024-03-18T23:25:11.299991Z",
     "start_time": "2024-03-18T23:25:07.160059Z"
    }
   },
   "id": "119d875fe482ba07",
   "execution_count": 4
  },
  {
   "cell_type": "code",
   "outputs": [
    {
     "name": "stdout",
     "output_type": "stream",
     "text": [
      "WARNING:tensorflow:From C:\\Users\\amith\\AppData\\Local\\Programs\\Python\\Python311\\Lib\\site-packages\\keras\\src\\backend.py:873: The name tf.get_default_graph is deprecated. Please use tf.compat.v1.get_default_graph instead.\n"
     ]
    }
   ],
   "source": [
    "model = tf.keras.models.Sequential(layers=[\n",
    "    tf.keras.layers.Conv2D(filters=4,kernel_size=(3,3),activation=\"relu\",input_shape=(64,64,1)),\n",
    "    tf.keras.layers.Conv2D(filters=8,kernel_size=(3,3),activation=\"relu\"),\n",
    "    tf.keras.layers.Conv2D(filters=16,kernel_size=(3,3),activation=\"relu\"),\n",
    "    tf.keras.layers.Conv2D(filters=32,kernel_size=(3,3),activation=\"relu\"),\n",
    "    \n",
    "    tf.keras.layers.Flatten(),\n",
    "    \n",
    "    tf.keras.layers.Dense(units=32,activation=\"relu\"),\n",
    "    tf.keras.layers.Dense(units=1,activation=\"softmax\")\n",
    "])"
   ],
   "metadata": {
    "collapsed": false,
    "ExecuteTime": {
     "end_time": "2024-03-18T23:25:11.657655Z",
     "start_time": "2024-03-18T23:25:11.302125Z"
    }
   },
   "id": "ec700b6470c26e7d",
   "execution_count": 5
  },
  {
   "cell_type": "code",
   "outputs": [],
   "source": [
    "model.compile(optimizer=tf.keras.optimizers.Adam(),loss=tf.keras.losses.binary_crossentropy,metrics=[\"accuracy\"])"
   ],
   "metadata": {
    "collapsed": false,
    "ExecuteTime": {
     "end_time": "2024-03-18T23:25:11.673916Z",
     "start_time": "2024-03-18T23:25:11.658691Z"
    }
   },
   "id": "29cffac46a928b69",
   "execution_count": 6
  },
  {
   "cell_type": "code",
   "outputs": [
    {
     "name": "stdout",
     "output_type": "stream",
     "text": [
      "Epoch 1/10\n",
      "WARNING:tensorflow:From C:\\Users\\amith\\AppData\\Local\\Programs\\Python\\Python311\\Lib\\site-packages\\keras\\src\\utils\\tf_utils.py:492: The name tf.ragged.RaggedTensorValue is deprecated. Please use tf.compat.v1.ragged.RaggedTensorValue instead.\n",
      "WARNING:tensorflow:From C:\\Users\\amith\\AppData\\Local\\Programs\\Python\\Python311\\Lib\\site-packages\\keras\\src\\engine\\base_layer_utils.py:384: The name tf.executing_eagerly_outside_functions is deprecated. Please use tf.compat.v1.executing_eagerly_outside_functions instead.\n",
      "169/169 [==============================] - 7s 32ms/step - loss: 0.1830 - accuracy: 0.8881 - val_loss: 0.1518 - val_accuracy: 0.8889\n",
      "Epoch 2/10\n",
      "169/169 [==============================] - 5s 31ms/step - loss: 0.0252 - accuracy: 0.8881 - val_loss: 0.2138 - val_accuracy: 0.8889\n"
     ]
    },
    {
     "data": {
      "text/plain": "<keras.src.callbacks.History at 0x224041afa10>"
     },
     "execution_count": 7,
     "metadata": {},
     "output_type": "execute_result"
    }
   ],
   "source": [
    "model.fit(x=train_images,y=train_labels,batch_size=32,epochs=10,verbose=1,callbacks=tf.keras.callbacks.EarlyStopping(patience=1),validation_data=(val_images,val_labels),shuffle=True)"
   ],
   "metadata": {
    "collapsed": false,
    "ExecuteTime": {
     "end_time": "2024-03-18T23:25:23.885124Z",
     "start_time": "2024-03-18T23:25:11.674947Z"
    }
   },
   "id": "88f7b4bb1998014a",
   "execution_count": 7
  },
  {
   "cell_type": "code",
   "outputs": [
    {
     "name": "stdout",
     "output_type": "stream",
     "text": [
      "53/53 [==============================] - 1s 10ms/step - loss: 0.4309 - accuracy: 0.8876\n"
     ]
    },
    {
     "data": {
      "text/plain": "[0.430940717458725, 0.8875739574432373]"
     },
     "execution_count": 8,
     "metadata": {},
     "output_type": "execute_result"
    }
   ],
   "source": [
    "model.evaluate(x=test_images,y=test_labels)"
   ],
   "metadata": {
    "collapsed": false,
    "ExecuteTime": {
     "end_time": "2024-03-18T23:25:24.531735Z",
     "start_time": "2024-03-18T23:25:23.886182Z"
    }
   },
   "id": "ecae60f2588fea8c",
   "execution_count": 8
  },
  {
   "cell_type": "code",
   "outputs": [
    {
     "name": "stdout",
     "output_type": "stream",
     "text": [
      "53/53 [==============================] - 1s 11ms/step\n"
     ]
    },
    {
     "data": {
      "text/plain": "array([[1.],\n       [1.],\n       [1.],\n       ...,\n       [1.],\n       [1.],\n       [1.]], dtype=float32)"
     },
     "execution_count": 9,
     "metadata": {},
     "output_type": "execute_result"
    }
   ],
   "source": [
    "pred_labels = model.predict(x=test_images)\n",
    "pred_labels"
   ],
   "metadata": {
    "collapsed": false,
    "ExecuteTime": {
     "end_time": "2024-03-18T23:25:25.343811Z",
     "start_time": "2024-03-18T23:25:24.533412Z"
    }
   },
   "id": "b3185a3854102746",
   "execution_count": 9
  },
  {
   "cell_type": "code",
   "outputs": [
    {
     "data": {
      "text/plain": "94.04"
     },
     "execution_count": 10,
     "metadata": {},
     "output_type": "execute_result"
    }
   ],
   "source": [
    "acc = np.round(f1_score(y_true=test_labels,y_pred=pred_labels) * 100,2)\n",
    "acc"
   ],
   "metadata": {
    "collapsed": false,
    "ExecuteTime": {
     "end_time": "2024-03-18T23:25:25.355361Z",
     "start_time": "2024-03-18T23:25:25.345258Z"
    }
   },
   "id": "c46e519fe0edc9b0",
   "execution_count": 10
  },
  {
   "cell_type": "code",
   "outputs": [
    {
     "name": "stderr",
     "output_type": "stream",
     "text": [
      "C:\\Users\\amith\\AppData\\Local\\Temp\\ipykernel_83576\\1601814802.py:1: UserWarning: You are saving your model as an HDF5 file via `model.save()`. This file format is considered legacy. We recommend using instead the native Keras format, e.g. `model.save('my_model.keras')`.\n",
      "  tf.keras.models.save_model(model=model,filepath=\"C:\\\\Users\\\\amith\\\\Documents\\\\GitHub\\\\udemy\\\\7 - COVID-19 Detection from CT Scans using ResNet, DenseNet, and VGG Mode\\\\app\\\\model.h5\")\n"
     ]
    }
   ],
   "source": [
    "tf.keras.models.save_model(model=model,filepath=\"C:\\\\Users\\\\amith\\\\Documents\\\\GitHub\\\\udemy\\\\7 - COVID-19 Detection from CT Scans using ResNet, DenseNet, and VGG Mode\\\\app\\\\model.h5\")"
   ],
   "metadata": {
    "collapsed": false,
    "ExecuteTime": {
     "end_time": "2024-03-18T23:25:25.427820Z",
     "start_time": "2024-03-18T23:25:25.357539Z"
    }
   },
   "id": "8bf793c14727b664",
   "execution_count": 11
  },
  {
   "cell_type": "code",
   "outputs": [
    {
     "data": {
      "text/plain": "array([[[0.],\n        [0.],\n        [0.],\n        ...,\n        [0.],\n        [0.],\n        [0.]],\n\n       [[0.],\n        [0.],\n        [0.],\n        ...,\n        [0.],\n        [0.],\n        [0.]],\n\n       [[0.],\n        [0.],\n        [0.],\n        ...,\n        [0.],\n        [0.],\n        [0.]],\n\n       ...,\n\n       [[0.],\n        [0.],\n        [0.],\n        ...,\n        [0.],\n        [0.],\n        [0.]],\n\n       [[0.],\n        [0.],\n        [0.],\n        ...,\n        [0.],\n        [0.],\n        [0.]],\n\n       [[0.],\n        [0.],\n        [0.],\n        ...,\n        [0.],\n        [0.],\n        [0.]]])"
     },
     "execution_count": 12,
     "metadata": {},
     "output_type": "execute_result"
    }
   ],
   "source": [
    "test_images[0]"
   ],
   "metadata": {
    "collapsed": false,
    "ExecuteTime": {
     "end_time": "2024-03-18T23:25:25.434495Z",
     "start_time": "2024-03-18T23:25:25.428844Z"
    }
   },
   "id": "939a6e9bcceca3df",
   "execution_count": 12
  },
  {
   "cell_type": "code",
   "outputs": [
    {
     "name": "stdout",
     "output_type": "stream",
     "text": [
      "53/53 [==============================] - 0s 9ms/step\n"
     ]
    },
    {
     "data": {
      "text/plain": "array([[1.],\n       [1.],\n       [1.],\n       ...,\n       [1.],\n       [1.],\n       [1.]], dtype=float32)"
     },
     "execution_count": 13,
     "metadata": {},
     "output_type": "execute_result"
    }
   ],
   "source": [
    "model.predict(x=test_images)"
   ],
   "metadata": {
    "collapsed": false,
    "ExecuteTime": {
     "end_time": "2024-03-18T23:25:26.022426Z",
     "start_time": "2024-03-18T23:25:25.435576Z"
    }
   },
   "id": "3950b706b3913fee",
   "execution_count": 13
  },
  {
   "cell_type": "code",
   "outputs": [
    {
     "name": "stdout",
     "output_type": "stream",
     "text": [
      "1/1 [==============================] - 0s 29ms/step\n"
     ]
    },
    {
     "data": {
      "text/plain": "1.0"
     },
     "execution_count": 19,
     "metadata": {},
     "output_type": "execute_result"
    }
   ],
   "source": [
    "model.predict(x=test_images[0].reshape(1,64,64,1))[0][0]"
   ],
   "metadata": {
    "collapsed": false,
    "ExecuteTime": {
     "end_time": "2024-03-18T23:27:58.993921Z",
     "start_time": "2024-03-18T23:27:58.896742Z"
    }
   },
   "id": "f0f3d7c71419f043",
   "execution_count": 19
  },
  {
   "cell_type": "code",
   "outputs": [],
   "source": [],
   "metadata": {
    "collapsed": false
   },
   "id": "5843aa8315da7ee5"
  }
 ],
 "metadata": {
  "kernelspec": {
   "display_name": "Python 3",
   "language": "python",
   "name": "python3"
  },
  "language_info": {
   "codemirror_mode": {
    "name": "ipython",
    "version": 2
   },
   "file_extension": ".py",
   "mimetype": "text/x-python",
   "name": "python",
   "nbconvert_exporter": "python",
   "pygments_lexer": "ipython2",
   "version": "2.7.6"
  }
 },
 "nbformat": 4,
 "nbformat_minor": 5
}
