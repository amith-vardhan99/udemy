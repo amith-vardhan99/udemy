{
 "cells": [
  {
   "cell_type": "code",
   "execution_count": 32,
   "id": "initial_id",
   "metadata": {
    "collapsed": true,
    "ExecuteTime": {
     "end_time": "2024-02-04T22:16:08.501860100Z",
     "start_time": "2024-02-04T22:16:08.491024200Z"
    }
   },
   "outputs": [],
   "source": [
    "# import numpy as np\n",
    "# import pandas as pd\n",
    "import tensorflow as tf\n",
    "import os\n",
    "import joblib"
   ]
  },
  {
   "cell_type": "code",
   "outputs": [],
   "source": [
    "path = os.getcwd().replace(\"\\\\\",\"/\")\n",
    "list_of_files = os.listdir()\n",
    "joblib_files = list(map(lambda x: path+\"/\"+x if x.strip()[-6:].lower() == \"joblib\" else None,list_of_files))\n",
    "while joblib_files.count(None) > 0:\n",
    "    joblib_files.remove(None)"
   ],
   "metadata": {
    "collapsed": false,
    "ExecuteTime": {
     "end_time": "2024-02-04T22:16:08.687445700Z",
     "start_time": "2024-02-04T22:16:08.681691800Z"
    }
   },
   "id": "888fef310e4b7e99",
   "execution_count": 33
  },
  {
   "cell_type": "code",
   "outputs": [],
   "source": [
    "val = [10, 3, 8, 0.3, 0,    0,    4,    4,    3,    3,    3,   59.6, 62,   4.35,  4.38,  2.6,   4,    0,    5,    7,   12,   10,    7,    9  ]"
   ],
   "metadata": {
    "collapsed": false,
    "ExecuteTime": {
     "end_time": "2024-02-04T22:16:08.916544700Z",
     "start_time": "2024-02-04T22:16:08.912019200Z"
    }
   },
   "id": "92df6e2dae64ce60",
   "execution_count": 34
  },
  {
   "cell_type": "code",
   "outputs": [
    {
     "name": "stdout",
     "output_type": "stream",
     "text": [
      "LabelEncoder()\n",
      "LabelEncoder()\n",
      "LabelEncoder()\n",
      "LabelEncoder()\n",
      "LabelEncoder()\n",
      "LabelEncoder()\n",
      "LabelEncoder()\n",
      "LabelEncoder()\n",
      "LabelEncoder()\n",
      "LabelEncoder()\n",
      "LabelEncoder()\n",
      "LabelEncoder()\n",
      "LabelEncoder()\n",
      "LabelEncoder()\n",
      "LabelEncoder()\n",
      "LabelEncoder()\n",
      "LabelEncoder()\n",
      "LabelEncoder()\n"
     ]
    }
   ],
   "source": [
    "for i in joblib_files:\n",
    "    label_encoder_model = joblib.load(i)\n",
    "    print(label_encoder_model)"
   ],
   "metadata": {
    "collapsed": false,
    "ExecuteTime": {
     "end_time": "2024-02-04T22:16:34.611555300Z",
     "start_time": "2024-02-04T22:16:34.573161Z"
    }
   },
   "id": "2a57fef921f33c67",
   "execution_count": 36
  },
  {
   "cell_type": "code",
   "outputs": [],
   "source": [
    "path = os.getcwd().replace(\"\\\\\",\"/\") + \"/deep_learning_linear_regression.h5\""
   ],
   "metadata": {
    "collapsed": false,
    "ExecuteTime": {
     "end_time": "2024-02-04T21:55:47.405001900Z",
     "start_time": "2024-02-04T21:55:47.388575100Z"
    }
   },
   "id": "d0a7b3978857c553",
   "execution_count": 3
  },
  {
   "cell_type": "code",
   "outputs": [
    {
     "name": "stdout",
     "output_type": "stream",
     "text": [
      "WARNING:tensorflow:From C:\\Users\\amith\\AppData\\Local\\Programs\\Python\\Python311\\Lib\\site-packages\\keras\\src\\backend.py:1398: The name tf.executing_eagerly_outside_functions is deprecated. Please use tf.compat.v1.executing_eagerly_outside_functions instead.\n"
     ]
    }
   ],
   "source": [
    "model = tf.keras.models.load_model(\"C:/Users/amith/Documents/GitHub/udemy/Predicting Diamond Sales Price with Multiple Regression Methods/model/deep_learning_linear_regression.h5\")"
   ],
   "metadata": {
    "collapsed": false,
    "ExecuteTime": {
     "end_time": "2024-02-04T21:53:24.675023700Z",
     "start_time": "2024-02-04T21:53:24.450025100Z"
    }
   },
   "id": "1816074a2cb7ada0",
   "execution_count": 5
  },
  {
   "cell_type": "code",
   "outputs": [],
   "source": [],
   "metadata": {
    "collapsed": false
   },
   "id": "10aa0bf7eb6d9d08"
  }
 ],
 "metadata": {
  "kernelspec": {
   "display_name": "Python 3",
   "language": "python",
   "name": "python3"
  },
  "language_info": {
   "codemirror_mode": {
    "name": "ipython",
    "version": 2
   },
   "file_extension": ".py",
   "mimetype": "text/x-python",
   "name": "python",
   "nbconvert_exporter": "python",
   "pygments_lexer": "ipython2",
   "version": "2.7.6"
  }
 },
 "nbformat": 4,
 "nbformat_minor": 5
}
