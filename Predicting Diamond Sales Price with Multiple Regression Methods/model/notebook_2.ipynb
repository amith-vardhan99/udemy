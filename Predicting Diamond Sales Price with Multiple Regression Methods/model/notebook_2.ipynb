{
 "cells": [
  {
   "cell_type": "code",
   "execution_count": 98,
   "id": "initial_id",
   "metadata": {
    "collapsed": true,
    "ExecuteTime": {
     "end_time": "2024-02-04T23:24:25.379016600Z",
     "start_time": "2024-02-04T23:24:25.363076900Z"
    }
   },
   "outputs": [],
   "source": [
    "import numpy as np\n",
    "import pandas as pd\n",
    "import tensorflow as tf\n",
    "import os\n",
    "import joblib"
   ]
  },
  {
   "cell_type": "code",
   "outputs": [
    {
     "name": "stdout",
     "output_type": "stream",
     "text": [
      "['cut', 'color', 'clarity', 'carat_weight', 'cut_quality', 'lab', 'symmetry', 'polish', 'eye_clean', 'culet_size', 'culet_condition', 'depth_percent', 'table_percent', 'meas_length', 'meas_width', 'meas_depth', 'girdle_min', 'girdle_max', 'fluor_color', 'fluor_intensity', 'fancy_color_dominant_color', 'fancy_color_secondary_color', 'fancy_color_overtone', 'fancy_color_intensity', 'total_sales_price']\n",
      "\n",
      "['object', 'object', 'object', 'float64', 'object', 'object', 'object', 'object', 'object', 'object', 'object', 'float64', 'float64', 'float64', 'float64', 'float64', 'object', 'object', 'object', 'object', 'object', 'object', 'object', 'object', 'int64']\n"
     ]
    }
   ],
   "source": [
    "path = os.getcwd().replace(\"\\\\\",\"/\")\n",
    "list_of = \"\"\n",
    "with open(\"list_of_features.txt\",\"r+\") as fl:\n",
    "    list_of = fl.read()\n",
    "list_of = list_of.split(\"\\n\")\n",
    "list_of_features = list_of[0].split(\", \")\n",
    "list_of_dtypes = list_of[1].split(\", \")\n",
    "print(list_of_features)\n",
    "print()\n",
    "print(list_of_dtypes)"
   ],
   "metadata": {
    "collapsed": false,
    "ExecuteTime": {
     "end_time": "2024-02-04T23:35:21.899252700Z",
     "start_time": "2024-02-04T23:35:21.867472500Z"
    }
   },
   "id": "197fcd1bb1b0f995",
   "execution_count": 122
  },
  {
   "cell_type": "code",
   "outputs": [
    {
     "name": "stdout",
     "output_type": "stream",
     "text": [
      "10.0\n",
      "3.0\n",
      "8.0\n",
      "0.0\n",
      "0.0\n",
      "4.0\n",
      "4.0\n",
      "3.0\n",
      "3.0\n",
      "3.0\n",
      "4.0\n",
      "0.0\n",
      "5.0\n",
      "7.0\n",
      "12.0\n",
      "10.0\n",
      "7.0\n",
      "9.0\n"
     ]
    }
   ],
   "source": [
    "vals = np.array([Round,E,VVS2,0.09,Excellent,IGI,Very Good,Very Good,unknown,unknown,unknown,62.0,59.0,2.86,2.88,1.78,M,STK,unknown,NaN,unknown,unknown,unknown,unknown,200\n",
    "\n",
    "                 ])\n",
    "ctr = 0\n",
    "for i in vals:\n",
    "    if list_of_dtypes[ctr] == \"object\":\n",
    "        file_name = path + \"/\" + list_of_features[ctr] + \".joblib\"\n",
    "        label_encoder_model = joblib.load(file_name)\n",
    "        print(vals[ctr])\n",
    "    ctr += 1"
   ],
   "metadata": {
    "collapsed": false,
    "ExecuteTime": {
     "end_time": "2024-02-04T23:36:51.417230600Z",
     "start_time": "2024-02-04T23:36:51.366076Z"
    }
   },
   "id": "ff21e6769efbd5bf",
   "execution_count": 128
  },
  {
   "cell_type": "code",
   "outputs": [
    {
     "name": "stdout",
     "output_type": "stream",
     "text": [
      "LabelEncoder()\n",
      "LabelEncoder()\n",
      "LabelEncoder()\n",
      "LabelEncoder()\n",
      "LabelEncoder()\n",
      "LabelEncoder()\n",
      "LabelEncoder()\n",
      "LabelEncoder()\n",
      "LabelEncoder()\n",
      "LabelEncoder()\n",
      "LabelEncoder()\n",
      "LabelEncoder()\n",
      "LabelEncoder()\n",
      "LabelEncoder()\n",
      "LabelEncoder()\n",
      "LabelEncoder()\n",
      "LabelEncoder()\n",
      "LabelEncoder()\n"
     ]
    }
   ],
   "source": [
    "for i in joblib_files:\n",
    "    label_encoder_model = joblib.load(i)\n",
    "    print(label_encoder_model)"
   ],
   "metadata": {
    "collapsed": false,
    "ExecuteTime": {
     "end_time": "2024-02-04T22:16:34.611555300Z",
     "start_time": "2024-02-04T22:16:34.573161Z"
    }
   },
   "id": "2a57fef921f33c67",
   "execution_count": 36
  },
  {
   "cell_type": "code",
   "outputs": [],
   "source": [
    "path = os.getcwd().replace(\"\\\\\",\"/\") + \"/deep_learning_linear_regression.h5\""
   ],
   "metadata": {
    "collapsed": false,
    "ExecuteTime": {
     "end_time": "2024-02-04T21:55:47.405001900Z",
     "start_time": "2024-02-04T21:55:47.388575100Z"
    }
   },
   "id": "d0a7b3978857c553",
   "execution_count": 3
  },
  {
   "cell_type": "code",
   "outputs": [
    {
     "name": "stdout",
     "output_type": "stream",
     "text": [
      "WARNING:tensorflow:From C:\\Users\\amith\\AppData\\Local\\Programs\\Python\\Python311\\Lib\\site-packages\\keras\\src\\backend.py:1398: The name tf.executing_eagerly_outside_functions is deprecated. Please use tf.compat.v1.executing_eagerly_outside_functions instead.\n"
     ]
    }
   ],
   "source": [
    "model = tf.keras.models.load_model(\"C:/Users/amith/Documents/GitHub/udemy/Predicting Diamond Sales Price with Multiple Regression Methods/model/deep_learning_linear_regression.h5\")"
   ],
   "metadata": {
    "collapsed": false,
    "ExecuteTime": {
     "end_time": "2024-02-04T21:53:24.675023700Z",
     "start_time": "2024-02-04T21:53:24.450025100Z"
    }
   },
   "id": "1816074a2cb7ada0",
   "execution_count": 5
  },
  {
   "cell_type": "code",
   "outputs": [],
   "source": [],
   "metadata": {
    "collapsed": false
   },
   "id": "10aa0bf7eb6d9d08"
  }
 ],
 "metadata": {
  "kernelspec": {
   "display_name": "Python 3",
   "language": "python",
   "name": "python3"
  },
  "language_info": {
   "codemirror_mode": {
    "name": "ipython",
    "version": 2
   },
   "file_extension": ".py",
   "mimetype": "text/x-python",
   "name": "python",
   "nbconvert_exporter": "python",
   "pygments_lexer": "ipython2",
   "version": "2.7.6"
  }
 },
 "nbformat": 4,
 "nbformat_minor": 5
}
