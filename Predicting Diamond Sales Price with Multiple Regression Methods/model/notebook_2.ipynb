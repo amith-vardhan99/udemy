{
 "cells": [
  {
   "cell_type": "code",
   "execution_count": 72,
   "id": "initial_id",
   "metadata": {
    "collapsed": true,
    "ExecuteTime": {
     "end_time": "2024-02-04T22:37:46.462074100Z",
     "start_time": "2024-02-04T22:37:46.445554600Z"
    }
   },
   "outputs": [],
   "source": [
    "import numpy as np\n",
    "import pandas as pd\n",
    "import tensorflow as tf\n",
    "import os\n",
    "import joblib"
   ]
  },
  {
   "cell_type": "code",
   "outputs": [],
   "source": [
    "path = os.getcwd().replace(\"\\\\\",\"/\")\n",
    "list_of_files = os.listdir()\n",
    "joblib_files = list(map(lambda x: path+\"/\"+x if x.strip()[-6:].lower() == \"joblib\" else None,list_of_files))\n",
    "while joblib_files.count(None) > 0:\n",
    "    joblib_files.remove(None)"
   ],
   "metadata": {
    "collapsed": false,
    "ExecuteTime": {
     "end_time": "2024-02-04T22:37:46.709335200Z",
     "start_time": "2024-02-04T22:37:46.699760200Z"
    }
   },
   "id": "888fef310e4b7e99",
   "execution_count": 73
  },
  {
   "cell_type": "code",
   "outputs": [
    {
     "name": "stdout",
     "output_type": "stream",
     "text": [
      "['cut' 'color' 'clarity' 'cut_quality' 'lab' 'symmetry' 'polish'\n",
      " 'eye_clean' 'culet_size' 'culet_condition' 'girdle_min' 'girdle_max'\n",
      " 'fluor_color' 'fluor_intensity' 'fancy_color_dominant_color'\n",
      " 'fancy_color_secondary_color' 'fancy_color_overtone'\n",
      " 'fancy_color_intensity']\n"
     ]
    }
   ],
   "source": [
    "with open(\"list_of_features.txt\",\"r+\") as fl:\n",
    "    list_of_features = fl.read()\n",
    "list_of_features = list_of_features.split(\", \")\n",
    "features_order = {}\n",
    "for i in joblib_files:\n",
    "    ut = i[i.rindex(\"/\")+1:i.index(\".\")]\n",
    "    features_order[ut] = list_of_features.index(ut)\n",
    "features_order = pd.Series(features_order).reset_index().sort_values(by=0)\n",
    "list_of_features_right_order_1 = features_order[\"index\"].values\n",
    "print(list_of_features_right_order_1)"
   ],
   "metadata": {
    "collapsed": false,
    "ExecuteTime": {
     "end_time": "2024-02-04T23:05:22.839988500Z",
     "start_time": "2024-02-04T23:05:22.826019200Z"
    }
   },
   "id": "197fcd1bb1b0f995",
   "execution_count": 88
  },
  {
   "cell_type": "code",
   "outputs": [],
   "source": [
    "val = np.array([10.0, 3.0, 8.0, 0.3, 0.0, 0.0, 4.0, 4.0, 3.0, 3.0, 3.0, 59.6, 62.0, 4.35, 4.38, 2.6, 4.0, 0.0, 5.0, 7.0, 12.0, 10.0, 7.0, 9.0])\n",
    "pl = {}\n",
    "for i in val:\n",
    "    li"
   ],
   "metadata": {
    "collapsed": false,
    "ExecuteTime": {
     "end_time": "2024-02-04T22:39:46.342450800Z",
     "start_time": "2024-02-04T22:39:46.337788400Z"
    }
   },
   "id": "ff21e6769efbd5bf",
   "execution_count": 87
  },
  {
   "cell_type": "code",
   "outputs": [
    {
     "name": "stdout",
     "output_type": "stream",
     "text": [
      "LabelEncoder()\n",
      "LabelEncoder()\n",
      "LabelEncoder()\n",
      "LabelEncoder()\n",
      "LabelEncoder()\n",
      "LabelEncoder()\n",
      "LabelEncoder()\n",
      "LabelEncoder()\n",
      "LabelEncoder()\n",
      "LabelEncoder()\n",
      "LabelEncoder()\n",
      "LabelEncoder()\n",
      "LabelEncoder()\n",
      "LabelEncoder()\n",
      "LabelEncoder()\n",
      "LabelEncoder()\n",
      "LabelEncoder()\n",
      "LabelEncoder()\n"
     ]
    }
   ],
   "source": [
    "for i in joblib_files:\n",
    "    label_encoder_model = joblib.load(i)\n",
    "    print(label_encoder_model)"
   ],
   "metadata": {
    "collapsed": false,
    "ExecuteTime": {
     "end_time": "2024-02-04T22:16:34.611555300Z",
     "start_time": "2024-02-04T22:16:34.573161Z"
    }
   },
   "id": "2a57fef921f33c67",
   "execution_count": 36
  },
  {
   "cell_type": "code",
   "outputs": [],
   "source": [
    "path = os.getcwd().replace(\"\\\\\",\"/\") + \"/deep_learning_linear_regression.h5\""
   ],
   "metadata": {
    "collapsed": false,
    "ExecuteTime": {
     "end_time": "2024-02-04T21:55:47.405001900Z",
     "start_time": "2024-02-04T21:55:47.388575100Z"
    }
   },
   "id": "d0a7b3978857c553",
   "execution_count": 3
  },
  {
   "cell_type": "code",
   "outputs": [
    {
     "name": "stdout",
     "output_type": "stream",
     "text": [
      "WARNING:tensorflow:From C:\\Users\\amith\\AppData\\Local\\Programs\\Python\\Python311\\Lib\\site-packages\\keras\\src\\backend.py:1398: The name tf.executing_eagerly_outside_functions is deprecated. Please use tf.compat.v1.executing_eagerly_outside_functions instead.\n"
     ]
    }
   ],
   "source": [
    "model = tf.keras.models.load_model(\"C:/Users/amith/Documents/GitHub/udemy/Predicting Diamond Sales Price with Multiple Regression Methods/model/deep_learning_linear_regression.h5\")"
   ],
   "metadata": {
    "collapsed": false,
    "ExecuteTime": {
     "end_time": "2024-02-04T21:53:24.675023700Z",
     "start_time": "2024-02-04T21:53:24.450025100Z"
    }
   },
   "id": "1816074a2cb7ada0",
   "execution_count": 5
  },
  {
   "cell_type": "code",
   "outputs": [],
   "source": [],
   "metadata": {
    "collapsed": false
   },
   "id": "10aa0bf7eb6d9d08"
  }
 ],
 "metadata": {
  "kernelspec": {
   "display_name": "Python 3",
   "language": "python",
   "name": "python3"
  },
  "language_info": {
   "codemirror_mode": {
    "name": "ipython",
    "version": 2
   },
   "file_extension": ".py",
   "mimetype": "text/x-python",
   "name": "python",
   "nbconvert_exporter": "python",
   "pygments_lexer": "ipython2",
   "version": "2.7.6"
  }
 },
 "nbformat": 4,
 "nbformat_minor": 5
}
