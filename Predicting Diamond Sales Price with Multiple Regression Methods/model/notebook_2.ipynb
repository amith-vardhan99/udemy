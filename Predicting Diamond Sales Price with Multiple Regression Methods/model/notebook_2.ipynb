{
 "cells": [
  {
   "cell_type": "code",
   "execution_count": 24,
   "id": "initial_id",
   "metadata": {
    "collapsed": true,
    "ExecuteTime": {
     "end_time": "2024-02-04T22:08:16.550227800Z",
     "start_time": "2024-02-04T22:08:16.424549100Z"
    }
   },
   "outputs": [],
   "source": [
    "# import numpy as np\n",
    "# import pandas as pd\n",
    "import tensorflow as tf\n",
    "import os\n",
    "import joblib"
   ]
  },
  {
   "cell_type": "code",
   "outputs": [],
   "source": [
    "path = os.getcwd().replace(\"\\\\\",\"/\")\n",
    "list_of_files = os.listdir()\n",
    "joblib_files = list(map(lambda x: path+\"/\"+x if x.strip()[-6:].lower() == \"joblib\" else None,list_of_files))\n",
    "while joblib_files.count(None) > 0:\n",
    "    joblib_files.remove(None)"
   ],
   "metadata": {
    "collapsed": false,
    "ExecuteTime": {
     "end_time": "2024-02-04T22:00:52.452034Z",
     "start_time": "2024-02-04T22:00:52.428582200Z"
    }
   },
   "id": "888fef310e4b7e99",
   "execution_count": 21
  },
  {
   "cell_type": "code",
   "outputs": [],
   "source": [
    "val = [1,1,1,0.09,1,1,1,1,1,1,1,62.7,59.0,2.85,2.87,1.79,1,1,1,1,2,1,2,2,200]\n"
   ],
   "metadata": {
    "collapsed": false,
    "ExecuteTime": {
     "end_time": "2024-02-04T22:07:27.433671500Z",
     "start_time": "2024-02-04T22:07:27.415760300Z"
    }
   },
   "id": "92df6e2dae64ce60",
   "execution_count": 23
  },
  {
   "cell_type": "code",
   "outputs": [
    {
     "ename": "ValueError",
     "evalue": "y contains previously unseen labels: 1",
     "output_type": "error",
     "traceback": [
      "\u001B[1;31m---------------------------------------------------------------------------\u001B[0m",
      "\u001B[1;31mKeyError\u001B[0m                                  Traceback (most recent call last)",
      "File \u001B[1;32m~\\AppData\\Local\\Programs\\Python\\Python311\\Lib\\site-packages\\sklearn\\utils\\_encode.py:225\u001B[0m, in \u001B[0;36m_encode\u001B[1;34m(values, uniques, check_unknown)\u001B[0m\n\u001B[0;32m    224\u001B[0m \u001B[38;5;28;01mtry\u001B[39;00m:\n\u001B[1;32m--> 225\u001B[0m     \u001B[38;5;28;01mreturn\u001B[39;00m \u001B[43m_map_to_integer\u001B[49m\u001B[43m(\u001B[49m\u001B[43mvalues\u001B[49m\u001B[43m,\u001B[49m\u001B[43m \u001B[49m\u001B[43muniques\u001B[49m\u001B[43m)\u001B[49m\n\u001B[0;32m    226\u001B[0m \u001B[38;5;28;01mexcept\u001B[39;00m \u001B[38;5;167;01mKeyError\u001B[39;00m \u001B[38;5;28;01mas\u001B[39;00m e:\n",
      "File \u001B[1;32m~\\AppData\\Local\\Programs\\Python\\Python311\\Lib\\site-packages\\sklearn\\utils\\_encode.py:165\u001B[0m, in \u001B[0;36m_map_to_integer\u001B[1;34m(values, uniques)\u001B[0m\n\u001B[0;32m    164\u001B[0m table \u001B[38;5;241m=\u001B[39m _nandict({val: i \u001B[38;5;28;01mfor\u001B[39;00m i, val \u001B[38;5;129;01min\u001B[39;00m \u001B[38;5;28menumerate\u001B[39m(uniques)})\n\u001B[1;32m--> 165\u001B[0m \u001B[38;5;28;01mreturn\u001B[39;00m np\u001B[38;5;241m.\u001B[39marray(\u001B[43m[\u001B[49m\u001B[43mtable\u001B[49m\u001B[43m[\u001B[49m\u001B[43mv\u001B[49m\u001B[43m]\u001B[49m\u001B[43m \u001B[49m\u001B[38;5;28;43;01mfor\u001B[39;49;00m\u001B[43m \u001B[49m\u001B[43mv\u001B[49m\u001B[43m \u001B[49m\u001B[38;5;129;43;01min\u001B[39;49;00m\u001B[43m \u001B[49m\u001B[43mvalues\u001B[49m\u001B[43m]\u001B[49m)\n",
      "File \u001B[1;32m~\\AppData\\Local\\Programs\\Python\\Python311\\Lib\\site-packages\\sklearn\\utils\\_encode.py:165\u001B[0m, in \u001B[0;36m<listcomp>\u001B[1;34m(.0)\u001B[0m\n\u001B[0;32m    164\u001B[0m table \u001B[38;5;241m=\u001B[39m _nandict({val: i \u001B[38;5;28;01mfor\u001B[39;00m i, val \u001B[38;5;129;01min\u001B[39;00m \u001B[38;5;28menumerate\u001B[39m(uniques)})\n\u001B[1;32m--> 165\u001B[0m \u001B[38;5;28;01mreturn\u001B[39;00m np\u001B[38;5;241m.\u001B[39marray([\u001B[43mtable\u001B[49m\u001B[43m[\u001B[49m\u001B[43mv\u001B[49m\u001B[43m]\u001B[49m \u001B[38;5;28;01mfor\u001B[39;00m v \u001B[38;5;129;01min\u001B[39;00m values])\n",
      "File \u001B[1;32m~\\AppData\\Local\\Programs\\Python\\Python311\\Lib\\site-packages\\sklearn\\utils\\_encode.py:159\u001B[0m, in \u001B[0;36m_nandict.__missing__\u001B[1;34m(self, key)\u001B[0m\n\u001B[0;32m    158\u001B[0m     \u001B[38;5;28;01mreturn\u001B[39;00m \u001B[38;5;28mself\u001B[39m\u001B[38;5;241m.\u001B[39mnan_value\n\u001B[1;32m--> 159\u001B[0m \u001B[38;5;28;01mraise\u001B[39;00m \u001B[38;5;167;01mKeyError\u001B[39;00m(key)\n",
      "\u001B[1;31mKeyError\u001B[0m: 1",
      "\nDuring handling of the above exception, another exception occurred:\n",
      "\u001B[1;31mValueError\u001B[0m                                Traceback (most recent call last)",
      "Cell \u001B[1;32mIn[26], line 3\u001B[0m\n\u001B[0;32m      1\u001B[0m \u001B[38;5;28;01mfor\u001B[39;00m i \u001B[38;5;129;01min\u001B[39;00m joblib_files:\n\u001B[0;32m      2\u001B[0m     label_encoder_model \u001B[38;5;241m=\u001B[39m joblib\u001B[38;5;241m.\u001B[39mload(i)\n\u001B[1;32m----> 3\u001B[0m     target_value \u001B[38;5;241m=\u001B[39m \u001B[43mlabel_encoder_model\u001B[49m\u001B[38;5;241;43m.\u001B[39;49m\u001B[43mtransform\u001B[49m\u001B[43m(\u001B[49m\u001B[43mval\u001B[49m\u001B[43m)\u001B[49m\n",
      "File \u001B[1;32m~\\AppData\\Local\\Programs\\Python\\Python311\\Lib\\site-packages\\sklearn\\preprocessing\\_label.py:137\u001B[0m, in \u001B[0;36mLabelEncoder.transform\u001B[1;34m(self, y)\u001B[0m\n\u001B[0;32m    134\u001B[0m \u001B[38;5;28;01mif\u001B[39;00m _num_samples(y) \u001B[38;5;241m==\u001B[39m \u001B[38;5;241m0\u001B[39m:\n\u001B[0;32m    135\u001B[0m     \u001B[38;5;28;01mreturn\u001B[39;00m np\u001B[38;5;241m.\u001B[39marray([])\n\u001B[1;32m--> 137\u001B[0m \u001B[38;5;28;01mreturn\u001B[39;00m \u001B[43m_encode\u001B[49m\u001B[43m(\u001B[49m\u001B[43my\u001B[49m\u001B[43m,\u001B[49m\u001B[43m \u001B[49m\u001B[43muniques\u001B[49m\u001B[38;5;241;43m=\u001B[39;49m\u001B[38;5;28;43mself\u001B[39;49m\u001B[38;5;241;43m.\u001B[39;49m\u001B[43mclasses_\u001B[49m\u001B[43m)\u001B[49m\n",
      "File \u001B[1;32m~\\AppData\\Local\\Programs\\Python\\Python311\\Lib\\site-packages\\sklearn\\utils\\_encode.py:227\u001B[0m, in \u001B[0;36m_encode\u001B[1;34m(values, uniques, check_unknown)\u001B[0m\n\u001B[0;32m    225\u001B[0m         \u001B[38;5;28;01mreturn\u001B[39;00m _map_to_integer(values, uniques)\n\u001B[0;32m    226\u001B[0m     \u001B[38;5;28;01mexcept\u001B[39;00m \u001B[38;5;167;01mKeyError\u001B[39;00m \u001B[38;5;28;01mas\u001B[39;00m e:\n\u001B[1;32m--> 227\u001B[0m         \u001B[38;5;28;01mraise\u001B[39;00m \u001B[38;5;167;01mValueError\u001B[39;00m(\u001B[38;5;124mf\u001B[39m\u001B[38;5;124m\"\u001B[39m\u001B[38;5;124my contains previously unseen labels: \u001B[39m\u001B[38;5;132;01m{\u001B[39;00m\u001B[38;5;28mstr\u001B[39m(e)\u001B[38;5;132;01m}\u001B[39;00m\u001B[38;5;124m\"\u001B[39m)\n\u001B[0;32m    228\u001B[0m \u001B[38;5;28;01melse\u001B[39;00m:\n\u001B[0;32m    229\u001B[0m     \u001B[38;5;28;01mif\u001B[39;00m check_unknown:\n",
      "\u001B[1;31mValueError\u001B[0m: y contains previously unseen labels: 1"
     ]
    }
   ],
   "source": [
    "for i in joblib_files:\n",
    "    label_encoder_model = joblib.load(i)\n",
    "    target_value = label_encoder_model.transform(val)"
   ],
   "metadata": {
    "collapsed": false,
    "ExecuteTime": {
     "end_time": "2024-02-04T22:08:53.428280500Z",
     "start_time": "2024-02-04T22:08:52.911719700Z"
    }
   },
   "id": "2a57fef921f33c67",
   "execution_count": 26
  },
  {
   "cell_type": "code",
   "outputs": [],
   "source": [
    "path = os.getcwd().replace(\"\\\\\",\"/\") + \"/deep_learning_linear_regression.h5\""
   ],
   "metadata": {
    "collapsed": false,
    "ExecuteTime": {
     "end_time": "2024-02-04T21:55:47.405001900Z",
     "start_time": "2024-02-04T21:55:47.388575100Z"
    }
   },
   "id": "d0a7b3978857c553",
   "execution_count": 3
  },
  {
   "cell_type": "code",
   "outputs": [
    {
     "name": "stdout",
     "output_type": "stream",
     "text": [
      "WARNING:tensorflow:From C:\\Users\\amith\\AppData\\Local\\Programs\\Python\\Python311\\Lib\\site-packages\\keras\\src\\backend.py:1398: The name tf.executing_eagerly_outside_functions is deprecated. Please use tf.compat.v1.executing_eagerly_outside_functions instead.\n"
     ]
    }
   ],
   "source": [
    "model = tf.keras.models.load_model(\"C:/Users/amith/Documents/GitHub/udemy/Predicting Diamond Sales Price with Multiple Regression Methods/model/deep_learning_linear_regression.h5\")"
   ],
   "metadata": {
    "collapsed": false,
    "ExecuteTime": {
     "end_time": "2024-02-04T21:53:24.675023700Z",
     "start_time": "2024-02-04T21:53:24.450025100Z"
    }
   },
   "id": "1816074a2cb7ada0",
   "execution_count": 5
  },
  {
   "cell_type": "code",
   "outputs": [],
   "source": [],
   "metadata": {
    "collapsed": false
   },
   "id": "10aa0bf7eb6d9d08"
  }
 ],
 "metadata": {
  "kernelspec": {
   "display_name": "Python 3",
   "language": "python",
   "name": "python3"
  },
  "language_info": {
   "codemirror_mode": {
    "name": "ipython",
    "version": 2
   },
   "file_extension": ".py",
   "mimetype": "text/x-python",
   "name": "python",
   "nbconvert_exporter": "python",
   "pygments_lexer": "ipython2",
   "version": "2.7.6"
  }
 },
 "nbformat": 4,
 "nbformat_minor": 5
}
