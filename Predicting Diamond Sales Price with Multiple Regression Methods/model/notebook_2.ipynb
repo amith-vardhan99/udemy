{
 "cells": [
  {
   "cell_type": "code",
   "execution_count": 63,
   "id": "initial_id",
   "metadata": {
    "collapsed": true,
    "ExecuteTime": {
     "end_time": "2024-02-05T02:08:44.384916400Z",
     "start_time": "2024-02-05T02:08:44.373783400Z"
    }
   },
   "outputs": [],
   "source": [
    "import numpy as np\n",
    "import pandas as pd\n",
    "import tensorflow as tf\n",
    "import os\n",
    "import joblib"
   ]
  },
  {
   "cell_type": "code",
   "outputs": [
    {
     "name": "stdout",
     "output_type": "stream",
     "text": [
      "['cut', 'color', 'clarity', 'carat_weight', 'cut_quality', 'lab', 'symmetry', 'polish', 'eye_clean', 'culet_size', 'culet_condition', 'depth_percent', 'table_percent', 'meas_length', 'meas_width', 'meas_depth', 'girdle_min', 'girdle_max', 'fluor_color', 'fluor_intensity', 'fancy_color_dominant_color', 'fancy_color_secondary_color', 'fancy_color_overtone', 'fancy_color_intensity', 'total_sales_price']\n",
      "\n",
      "['object', 'object', 'object', 'float64', 'object', 'object', 'object', 'object', 'object', 'object', 'object', 'float64', 'float64', 'float64', 'float64', 'float64', 'object', 'object', 'object', 'object', 'object', 'object', 'object', 'object', 'int64']\n"
     ]
    }
   ],
   "source": [
    "path = os.getcwd().replace(\"\\\\\",\"/\")\n",
    "list_of = \"\"\n",
    "with open(\"list_of_features.txt\",\"r+\") as fl:\n",
    "    list_of = fl.read()\n",
    "list_of = list_of.split(\"\\n\")\n",
    "list_of_features = list_of[0].split(\", \")\n",
    "list_of_dtypes = list_of[1].split(\", \")\n",
    "print(list_of_features)\n",
    "print()\n",
    "print(list_of_dtypes)"
   ],
   "metadata": {
    "collapsed": false,
    "ExecuteTime": {
     "end_time": "2024-02-05T02:08:44.896503Z",
     "start_time": "2024-02-05T02:08:44.884933400Z"
    }
   },
   "id": "197fcd1bb1b0f995",
   "execution_count": 64
  },
  {
   "cell_type": "code",
   "outputs": [
    {
     "name": "stdout",
     "output_type": "stream",
     "text": [
      "10.0\n",
      "1.0\n",
      "10.0\n",
      "4.0\n",
      "2.0\n",
      "4.0\n",
      "4.0\n",
      "4.0\n",
      "3.0\n",
      "3.0\n",
      "1.0\n",
      "3.0\n",
      "5.0\n",
      "4.0\n",
      "12.0\n",
      "10.0\n",
      "7.0\n",
      "9.0\n",
      "[[10.    1.   10.    0.09  4.    2.    4.    4.    4.    3.    3.   61.8\n",
      "  58.5   2.85  2.89  1.77  1.    3.    5.    4.   12.   10.    7.    9.  ]]\n"
     ]
    }
   ],
   "source": [
    "vals = np.array(['Round','E','VVS2',0.09,'Very Good','IGI','Very Good','Very Good','unknown','N','unknown',61.8,58.5,2.85,2.89,1.77,'STK','TK','unknown',\"Very Slight\",'unknown','unknown','unknown','unknown'])\n",
    "vals = vals.reshape(-1,1)\n",
    "final_out = []\n",
    "ctr = 0\n",
    "for i in vals:\n",
    "    if list_of_dtypes[ctr] == \"object\":\n",
    "        file_name = path + \"/\" + list_of_features[ctr] + \".joblib\"\n",
    "        label_encoder_model = joblib.load(file_name)\n",
    "        lt = float(label_encoder_model.transform(i)[0])\n",
    "        final_out.append(lt)\n",
    "        print(lt)\n",
    "    else:\n",
    "        final_out.append(float(i[0]))\n",
    "    ctr += 1\n",
    "final_out = np.array(final_out).reshape(1,-1)\n",
    "print(final_out)"
   ],
   "metadata": {
    "collapsed": false,
    "ExecuteTime": {
     "end_time": "2024-02-05T02:08:45.589179500Z",
     "start_time": "2024-02-05T02:08:45.557086600Z"
    }
   },
   "id": "ff21e6769efbd5bf",
   "execution_count": 65
  },
  {
   "cell_type": "code",
   "outputs": [],
   "source": [
    "path = os.getcwd().replace(\"\\\\\",\"/\") + \"/deep_learning_linear_regression.h5\"\n",
    "model = tf.keras.models.load_model(path)\n",
    "model.compile(optimizer=tf.keras.optimizers.Adam(),loss=tf.keras.losses.mean_squared_error,metrics=tf.keras.metrics.mean_absolute_error)"
   ],
   "metadata": {
    "collapsed": false,
    "ExecuteTime": {
     "end_time": "2024-02-05T02:08:46.681900100Z",
     "start_time": "2024-02-05T02:08:46.547649900Z"
    }
   },
   "id": "d0a7b3978857c553",
   "execution_count": 66
  },
  {
   "cell_type": "code",
   "outputs": [
    {
     "name": "stdout",
     "output_type": "stream",
     "text": [
      "1/1 [==============================] - 0s 79ms/step\n"
     ]
    }
   ],
   "source": [
    "final_prediction = abs(model.predict(final_out)[0][0])"
   ],
   "metadata": {
    "collapsed": false,
    "ExecuteTime": {
     "end_time": "2024-02-05T02:08:47.379403800Z",
     "start_time": "2024-02-05T02:08:47.239278100Z"
    }
   },
   "id": "1816074a2cb7ada0",
   "execution_count": 67
  },
  {
   "cell_type": "code",
   "outputs": [
    {
     "data": {
      "text/plain": "1113.84"
     },
     "execution_count": 68,
     "metadata": {},
     "output_type": "execute_result"
    }
   ],
   "source": [
    "final_prediction"
   ],
   "metadata": {
    "collapsed": false,
    "ExecuteTime": {
     "end_time": "2024-02-05T02:08:48.271427100Z",
     "start_time": "2024-02-05T02:08:48.255221100Z"
    }
   },
   "id": "10aa0bf7eb6d9d08",
   "execution_count": 68
  },
  {
   "cell_type": "code",
   "outputs": [],
   "source": [],
   "metadata": {
    "collapsed": false
   },
   "id": "920c44d6bea25505"
  }
 ],
 "metadata": {
  "kernelspec": {
   "display_name": "Python 3",
   "language": "python",
   "name": "python3"
  },
  "language_info": {
   "codemirror_mode": {
    "name": "ipython",
    "version": 2
   },
   "file_extension": ".py",
   "mimetype": "text/x-python",
   "name": "python",
   "nbconvert_exporter": "python",
   "pygments_lexer": "ipython2",
   "version": "2.7.6"
  }
 },
 "nbformat": 4,
 "nbformat_minor": 5
}
