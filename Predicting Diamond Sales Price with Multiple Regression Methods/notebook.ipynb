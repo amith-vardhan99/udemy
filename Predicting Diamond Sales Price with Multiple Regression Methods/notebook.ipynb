{
 "cells": [
  {
   "cell_type": "code",
   "execution_count": 81,
   "id": "initial_id",
   "metadata": {
    "collapsed": true,
    "ExecuteTime": {
     "end_time": "2024-01-22T02:25:15.040726Z",
     "start_time": "2024-01-22T02:25:15.034504Z"
    }
   },
   "outputs": [],
   "source": [
    "import numpy as np\n",
    "import pandas as pd\n",
    "import matplotlib.pyplot as plt\n",
    "import seaborn as sns\n",
    "from sklearn.preprocessing import *\n",
    "import joblib"
   ]
  },
  {
   "cell_type": "code",
   "outputs": [
    {
     "data": {
      "text/plain": "   Unnamed: 0    cut color clarity  carat_weight cut_quality  lab   symmetry  \\\n0           0  Round     E    VVS2          0.09   Excellent  IGI  Very Good   \n1           1  Round     E    VVS2          0.09   Very Good  IGI  Very Good   \n2           2  Round     E    VVS2          0.09   Excellent  IGI  Very Good   \n3           3  Round     E    VVS2          0.09   Excellent  IGI  Very Good   \n4           4  Round     E    VVS2          0.09   Very Good  IGI  Very Good   \n\n      polish eye_clean  ... meas_depth girdle_min  girdle_max  fluor_color  \\\n0  Very Good   unknown  ...       1.79          M           M      unknown   \n1  Very Good   unknown  ...       1.78        STK         STK      unknown   \n2  Very Good   unknown  ...       1.77         TN           M      unknown   \n3  Very Good   unknown  ...       1.78          M         STK      unknown   \n4  Excellent   unknown  ...       1.82        STK         STK      unknown   \n\n   fluor_intensity  fancy_color_dominant_color  fancy_color_secondary_color  \\\n0              NaN                     unknown                      unknown   \n1              NaN                     unknown                      unknown   \n2              NaN                     unknown                      unknown   \n3              NaN                     unknown                      unknown   \n4              NaN                     unknown                      unknown   \n\n  fancy_color_overtone fancy_color_intensity total_sales_price  \n0              unknown               unknown               200  \n1              unknown               unknown               200  \n2              unknown               unknown               200  \n3              unknown               unknown               200  \n4              unknown               unknown               200  \n\n[5 rows x 26 columns]",
      "text/html": "<div>\n<style scoped>\n    .dataframe tbody tr th:only-of-type {\n        vertical-align: middle;\n    }\n\n    .dataframe tbody tr th {\n        vertical-align: top;\n    }\n\n    .dataframe thead th {\n        text-align: right;\n    }\n</style>\n<table border=\"1\" class=\"dataframe\">\n  <thead>\n    <tr style=\"text-align: right;\">\n      <th></th>\n      <th>Unnamed: 0</th>\n      <th>cut</th>\n      <th>color</th>\n      <th>clarity</th>\n      <th>carat_weight</th>\n      <th>cut_quality</th>\n      <th>lab</th>\n      <th>symmetry</th>\n      <th>polish</th>\n      <th>eye_clean</th>\n      <th>...</th>\n      <th>meas_depth</th>\n      <th>girdle_min</th>\n      <th>girdle_max</th>\n      <th>fluor_color</th>\n      <th>fluor_intensity</th>\n      <th>fancy_color_dominant_color</th>\n      <th>fancy_color_secondary_color</th>\n      <th>fancy_color_overtone</th>\n      <th>fancy_color_intensity</th>\n      <th>total_sales_price</th>\n    </tr>\n  </thead>\n  <tbody>\n    <tr>\n      <th>0</th>\n      <td>0</td>\n      <td>Round</td>\n      <td>E</td>\n      <td>VVS2</td>\n      <td>0.09</td>\n      <td>Excellent</td>\n      <td>IGI</td>\n      <td>Very Good</td>\n      <td>Very Good</td>\n      <td>unknown</td>\n      <td>...</td>\n      <td>1.79</td>\n      <td>M</td>\n      <td>M</td>\n      <td>unknown</td>\n      <td>NaN</td>\n      <td>unknown</td>\n      <td>unknown</td>\n      <td>unknown</td>\n      <td>unknown</td>\n      <td>200</td>\n    </tr>\n    <tr>\n      <th>1</th>\n      <td>1</td>\n      <td>Round</td>\n      <td>E</td>\n      <td>VVS2</td>\n      <td>0.09</td>\n      <td>Very Good</td>\n      <td>IGI</td>\n      <td>Very Good</td>\n      <td>Very Good</td>\n      <td>unknown</td>\n      <td>...</td>\n      <td>1.78</td>\n      <td>STK</td>\n      <td>STK</td>\n      <td>unknown</td>\n      <td>NaN</td>\n      <td>unknown</td>\n      <td>unknown</td>\n      <td>unknown</td>\n      <td>unknown</td>\n      <td>200</td>\n    </tr>\n    <tr>\n      <th>2</th>\n      <td>2</td>\n      <td>Round</td>\n      <td>E</td>\n      <td>VVS2</td>\n      <td>0.09</td>\n      <td>Excellent</td>\n      <td>IGI</td>\n      <td>Very Good</td>\n      <td>Very Good</td>\n      <td>unknown</td>\n      <td>...</td>\n      <td>1.77</td>\n      <td>TN</td>\n      <td>M</td>\n      <td>unknown</td>\n      <td>NaN</td>\n      <td>unknown</td>\n      <td>unknown</td>\n      <td>unknown</td>\n      <td>unknown</td>\n      <td>200</td>\n    </tr>\n    <tr>\n      <th>3</th>\n      <td>3</td>\n      <td>Round</td>\n      <td>E</td>\n      <td>VVS2</td>\n      <td>0.09</td>\n      <td>Excellent</td>\n      <td>IGI</td>\n      <td>Very Good</td>\n      <td>Very Good</td>\n      <td>unknown</td>\n      <td>...</td>\n      <td>1.78</td>\n      <td>M</td>\n      <td>STK</td>\n      <td>unknown</td>\n      <td>NaN</td>\n      <td>unknown</td>\n      <td>unknown</td>\n      <td>unknown</td>\n      <td>unknown</td>\n      <td>200</td>\n    </tr>\n    <tr>\n      <th>4</th>\n      <td>4</td>\n      <td>Round</td>\n      <td>E</td>\n      <td>VVS2</td>\n      <td>0.09</td>\n      <td>Very Good</td>\n      <td>IGI</td>\n      <td>Very Good</td>\n      <td>Excellent</td>\n      <td>unknown</td>\n      <td>...</td>\n      <td>1.82</td>\n      <td>STK</td>\n      <td>STK</td>\n      <td>unknown</td>\n      <td>NaN</td>\n      <td>unknown</td>\n      <td>unknown</td>\n      <td>unknown</td>\n      <td>unknown</td>\n      <td>200</td>\n    </tr>\n  </tbody>\n</table>\n<p>5 rows × 26 columns</p>\n</div>"
     },
     "execution_count": 2,
     "metadata": {},
     "output_type": "execute_result"
    }
   ],
   "source": [
    "df = pd.read_csv(\"diamonds.csv\")\n",
    "df.head()"
   ],
   "metadata": {
    "collapsed": false,
    "ExecuteTime": {
     "end_time": "2024-01-22T02:03:01.240896Z",
     "start_time": "2024-01-22T02:03:00.922787Z"
    }
   },
   "id": "2c088dc1e6a0be2e",
   "execution_count": 2
  },
  {
   "cell_type": "code",
   "outputs": [
    {
     "data": {
      "text/plain": "     cut color clarity  carat_weight cut_quality  lab   symmetry     polish  \\\n0  Round     E    VVS2          0.09   Excellent  IGI  Very Good  Very Good   \n1  Round     E    VVS2          0.09   Very Good  IGI  Very Good  Very Good   \n2  Round     E    VVS2          0.09   Excellent  IGI  Very Good  Very Good   \n3  Round     E    VVS2          0.09   Excellent  IGI  Very Good  Very Good   \n4  Round     E    VVS2          0.09   Very Good  IGI  Very Good  Excellent   \n\n  eye_clean culet_size  ... meas_depth  girdle_min  girdle_max  fluor_color  \\\n0   unknown          N  ...       1.79           M           M      unknown   \n1   unknown          N  ...       1.78         STK         STK      unknown   \n2   unknown    unknown  ...       1.77          TN           M      unknown   \n3   unknown    unknown  ...       1.78           M         STK      unknown   \n4   unknown          N  ...       1.82         STK         STK      unknown   \n\n   fluor_intensity  fancy_color_dominant_color fancy_color_secondary_color  \\\n0              NaN                     unknown                     unknown   \n1              NaN                     unknown                     unknown   \n2              NaN                     unknown                     unknown   \n3              NaN                     unknown                     unknown   \n4              NaN                     unknown                     unknown   \n\n  fancy_color_overtone fancy_color_intensity total_sales_price  \n0              unknown               unknown               200  \n1              unknown               unknown               200  \n2              unknown               unknown               200  \n3              unknown               unknown               200  \n4              unknown               unknown               200  \n\n[5 rows x 25 columns]",
      "text/html": "<div>\n<style scoped>\n    .dataframe tbody tr th:only-of-type {\n        vertical-align: middle;\n    }\n\n    .dataframe tbody tr th {\n        vertical-align: top;\n    }\n\n    .dataframe thead th {\n        text-align: right;\n    }\n</style>\n<table border=\"1\" class=\"dataframe\">\n  <thead>\n    <tr style=\"text-align: right;\">\n      <th></th>\n      <th>cut</th>\n      <th>color</th>\n      <th>clarity</th>\n      <th>carat_weight</th>\n      <th>cut_quality</th>\n      <th>lab</th>\n      <th>symmetry</th>\n      <th>polish</th>\n      <th>eye_clean</th>\n      <th>culet_size</th>\n      <th>...</th>\n      <th>meas_depth</th>\n      <th>girdle_min</th>\n      <th>girdle_max</th>\n      <th>fluor_color</th>\n      <th>fluor_intensity</th>\n      <th>fancy_color_dominant_color</th>\n      <th>fancy_color_secondary_color</th>\n      <th>fancy_color_overtone</th>\n      <th>fancy_color_intensity</th>\n      <th>total_sales_price</th>\n    </tr>\n  </thead>\n  <tbody>\n    <tr>\n      <th>0</th>\n      <td>Round</td>\n      <td>E</td>\n      <td>VVS2</td>\n      <td>0.09</td>\n      <td>Excellent</td>\n      <td>IGI</td>\n      <td>Very Good</td>\n      <td>Very Good</td>\n      <td>unknown</td>\n      <td>N</td>\n      <td>...</td>\n      <td>1.79</td>\n      <td>M</td>\n      <td>M</td>\n      <td>unknown</td>\n      <td>NaN</td>\n      <td>unknown</td>\n      <td>unknown</td>\n      <td>unknown</td>\n      <td>unknown</td>\n      <td>200</td>\n    </tr>\n    <tr>\n      <th>1</th>\n      <td>Round</td>\n      <td>E</td>\n      <td>VVS2</td>\n      <td>0.09</td>\n      <td>Very Good</td>\n      <td>IGI</td>\n      <td>Very Good</td>\n      <td>Very Good</td>\n      <td>unknown</td>\n      <td>N</td>\n      <td>...</td>\n      <td>1.78</td>\n      <td>STK</td>\n      <td>STK</td>\n      <td>unknown</td>\n      <td>NaN</td>\n      <td>unknown</td>\n      <td>unknown</td>\n      <td>unknown</td>\n      <td>unknown</td>\n      <td>200</td>\n    </tr>\n    <tr>\n      <th>2</th>\n      <td>Round</td>\n      <td>E</td>\n      <td>VVS2</td>\n      <td>0.09</td>\n      <td>Excellent</td>\n      <td>IGI</td>\n      <td>Very Good</td>\n      <td>Very Good</td>\n      <td>unknown</td>\n      <td>unknown</td>\n      <td>...</td>\n      <td>1.77</td>\n      <td>TN</td>\n      <td>M</td>\n      <td>unknown</td>\n      <td>NaN</td>\n      <td>unknown</td>\n      <td>unknown</td>\n      <td>unknown</td>\n      <td>unknown</td>\n      <td>200</td>\n    </tr>\n    <tr>\n      <th>3</th>\n      <td>Round</td>\n      <td>E</td>\n      <td>VVS2</td>\n      <td>0.09</td>\n      <td>Excellent</td>\n      <td>IGI</td>\n      <td>Very Good</td>\n      <td>Very Good</td>\n      <td>unknown</td>\n      <td>unknown</td>\n      <td>...</td>\n      <td>1.78</td>\n      <td>M</td>\n      <td>STK</td>\n      <td>unknown</td>\n      <td>NaN</td>\n      <td>unknown</td>\n      <td>unknown</td>\n      <td>unknown</td>\n      <td>unknown</td>\n      <td>200</td>\n    </tr>\n    <tr>\n      <th>4</th>\n      <td>Round</td>\n      <td>E</td>\n      <td>VVS2</td>\n      <td>0.09</td>\n      <td>Very Good</td>\n      <td>IGI</td>\n      <td>Very Good</td>\n      <td>Excellent</td>\n      <td>unknown</td>\n      <td>N</td>\n      <td>...</td>\n      <td>1.82</td>\n      <td>STK</td>\n      <td>STK</td>\n      <td>unknown</td>\n      <td>NaN</td>\n      <td>unknown</td>\n      <td>unknown</td>\n      <td>unknown</td>\n      <td>unknown</td>\n      <td>200</td>\n    </tr>\n  </tbody>\n</table>\n<p>5 rows × 25 columns</p>\n</div>"
     },
     "execution_count": 3,
     "metadata": {},
     "output_type": "execute_result"
    }
   ],
   "source": [
    "df_1 = df.drop(columns=\"Unnamed: 0\")\n",
    "df_1.head()"
   ],
   "metadata": {
    "collapsed": false,
    "ExecuteTime": {
     "end_time": "2024-01-22T02:03:01.809002Z",
     "start_time": "2024-01-22T02:03:01.746435Z"
    }
   },
   "id": "40c7a837d3d676b2",
   "execution_count": 3
  },
  {
   "cell_type": "code",
   "outputs": [
    {
     "data": {
      "text/plain": "cut                             0.00\ncolor                           0.00\nclarity                         0.00\ncarat_weight                    0.00\ncut_quality                     0.00\nlab                             0.00\nsymmetry                        0.00\npolish                          0.00\neye_clean                       0.00\nculet_size                      0.00\nculet_condition                 0.00\ndepth_percent                   0.00\ntable_percent                   0.00\nmeas_length                     0.00\nmeas_width                      0.00\nmeas_depth                      0.00\ngirdle_min                      0.00\ngirdle_max                      0.00\nfluor_color                     0.00\nfluor_intensity                65.31\nfancy_color_dominant_color      0.00\nfancy_color_secondary_color     0.00\nfancy_color_overtone            0.75\nfancy_color_intensity           0.00\ntotal_sales_price               0.00\ndtype: float64"
     },
     "execution_count": 4,
     "metadata": {},
     "output_type": "execute_result"
    }
   ],
   "source": [
    "(df_1.isna().sum() * 100 / len(df_1)).round(2)"
   ],
   "metadata": {
    "collapsed": false,
    "ExecuteTime": {
     "end_time": "2024-01-22T02:03:02.531457Z",
     "start_time": "2024-01-22T02:03:02.523438Z"
    }
   },
   "id": "82b7384f8e5f132f",
   "execution_count": 4
  },
  {
   "cell_type": "code",
   "outputs": [
    {
     "data": {
      "text/plain": "3880"
     },
     "execution_count": 5,
     "metadata": {},
     "output_type": "execute_result"
    }
   ],
   "source": [
    "df_1.duplicated().sum()"
   ],
   "metadata": {
    "collapsed": false,
    "ExecuteTime": {
     "end_time": "2024-01-22T02:03:03.232526Z",
     "start_time": "2024-01-22T02:03:03.106876Z"
    }
   },
   "id": "ad2a93026274f40d",
   "execution_count": 5
  },
  {
   "cell_type": "code",
   "outputs": [
    {
     "data": {
      "text/plain": "     cut color clarity  carat_weight cut_quality  lab   symmetry     polish  \\\n0  Round     E    VVS2          0.09   Excellent  IGI  Very Good  Very Good   \n1  Round     E    VVS2          0.09   Very Good  IGI  Very Good  Very Good   \n2  Round     E    VVS2          0.09   Excellent  IGI  Very Good  Very Good   \n3  Round     E    VVS2          0.09   Excellent  IGI  Very Good  Very Good   \n4  Round     E    VVS2          0.09   Very Good  IGI  Very Good  Excellent   \n\n  eye_clean culet_size  ... meas_depth  girdle_min  girdle_max  fluor_color  \\\n0   unknown          N  ...       1.79           M           M      unknown   \n1   unknown          N  ...       1.78         STK         STK      unknown   \n2   unknown    unknown  ...       1.77          TN           M      unknown   \n3   unknown    unknown  ...       1.78           M         STK      unknown   \n4   unknown          N  ...       1.82         STK         STK      unknown   \n\n   fluor_intensity  fancy_color_dominant_color fancy_color_secondary_color  \\\n0              NaN                     unknown                     unknown   \n1              NaN                     unknown                     unknown   \n2              NaN                     unknown                     unknown   \n3              NaN                     unknown                     unknown   \n4              NaN                     unknown                     unknown   \n\n  fancy_color_overtone fancy_color_intensity total_sales_price  \n0              unknown               unknown               200  \n1              unknown               unknown               200  \n2              unknown               unknown               200  \n3              unknown               unknown               200  \n4              unknown               unknown               200  \n\n[5 rows x 25 columns]",
      "text/html": "<div>\n<style scoped>\n    .dataframe tbody tr th:only-of-type {\n        vertical-align: middle;\n    }\n\n    .dataframe tbody tr th {\n        vertical-align: top;\n    }\n\n    .dataframe thead th {\n        text-align: right;\n    }\n</style>\n<table border=\"1\" class=\"dataframe\">\n  <thead>\n    <tr style=\"text-align: right;\">\n      <th></th>\n      <th>cut</th>\n      <th>color</th>\n      <th>clarity</th>\n      <th>carat_weight</th>\n      <th>cut_quality</th>\n      <th>lab</th>\n      <th>symmetry</th>\n      <th>polish</th>\n      <th>eye_clean</th>\n      <th>culet_size</th>\n      <th>...</th>\n      <th>meas_depth</th>\n      <th>girdle_min</th>\n      <th>girdle_max</th>\n      <th>fluor_color</th>\n      <th>fluor_intensity</th>\n      <th>fancy_color_dominant_color</th>\n      <th>fancy_color_secondary_color</th>\n      <th>fancy_color_overtone</th>\n      <th>fancy_color_intensity</th>\n      <th>total_sales_price</th>\n    </tr>\n  </thead>\n  <tbody>\n    <tr>\n      <th>0</th>\n      <td>Round</td>\n      <td>E</td>\n      <td>VVS2</td>\n      <td>0.09</td>\n      <td>Excellent</td>\n      <td>IGI</td>\n      <td>Very Good</td>\n      <td>Very Good</td>\n      <td>unknown</td>\n      <td>N</td>\n      <td>...</td>\n      <td>1.79</td>\n      <td>M</td>\n      <td>M</td>\n      <td>unknown</td>\n      <td>NaN</td>\n      <td>unknown</td>\n      <td>unknown</td>\n      <td>unknown</td>\n      <td>unknown</td>\n      <td>200</td>\n    </tr>\n    <tr>\n      <th>1</th>\n      <td>Round</td>\n      <td>E</td>\n      <td>VVS2</td>\n      <td>0.09</td>\n      <td>Very Good</td>\n      <td>IGI</td>\n      <td>Very Good</td>\n      <td>Very Good</td>\n      <td>unknown</td>\n      <td>N</td>\n      <td>...</td>\n      <td>1.78</td>\n      <td>STK</td>\n      <td>STK</td>\n      <td>unknown</td>\n      <td>NaN</td>\n      <td>unknown</td>\n      <td>unknown</td>\n      <td>unknown</td>\n      <td>unknown</td>\n      <td>200</td>\n    </tr>\n    <tr>\n      <th>2</th>\n      <td>Round</td>\n      <td>E</td>\n      <td>VVS2</td>\n      <td>0.09</td>\n      <td>Excellent</td>\n      <td>IGI</td>\n      <td>Very Good</td>\n      <td>Very Good</td>\n      <td>unknown</td>\n      <td>unknown</td>\n      <td>...</td>\n      <td>1.77</td>\n      <td>TN</td>\n      <td>M</td>\n      <td>unknown</td>\n      <td>NaN</td>\n      <td>unknown</td>\n      <td>unknown</td>\n      <td>unknown</td>\n      <td>unknown</td>\n      <td>200</td>\n    </tr>\n    <tr>\n      <th>3</th>\n      <td>Round</td>\n      <td>E</td>\n      <td>VVS2</td>\n      <td>0.09</td>\n      <td>Excellent</td>\n      <td>IGI</td>\n      <td>Very Good</td>\n      <td>Very Good</td>\n      <td>unknown</td>\n      <td>unknown</td>\n      <td>...</td>\n      <td>1.78</td>\n      <td>M</td>\n      <td>STK</td>\n      <td>unknown</td>\n      <td>NaN</td>\n      <td>unknown</td>\n      <td>unknown</td>\n      <td>unknown</td>\n      <td>unknown</td>\n      <td>200</td>\n    </tr>\n    <tr>\n      <th>4</th>\n      <td>Round</td>\n      <td>E</td>\n      <td>VVS2</td>\n      <td>0.09</td>\n      <td>Very Good</td>\n      <td>IGI</td>\n      <td>Very Good</td>\n      <td>Excellent</td>\n      <td>unknown</td>\n      <td>N</td>\n      <td>...</td>\n      <td>1.82</td>\n      <td>STK</td>\n      <td>STK</td>\n      <td>unknown</td>\n      <td>NaN</td>\n      <td>unknown</td>\n      <td>unknown</td>\n      <td>unknown</td>\n      <td>unknown</td>\n      <td>200</td>\n    </tr>\n  </tbody>\n</table>\n<p>5 rows × 25 columns</p>\n</div>"
     },
     "execution_count": 6,
     "metadata": {},
     "output_type": "execute_result"
    }
   ],
   "source": [
    "df_2 = df_1.drop_duplicates()\n",
    "df_2.head()"
   ],
   "metadata": {
    "collapsed": false,
    "ExecuteTime": {
     "end_time": "2024-01-22T02:03:04.081425Z",
     "start_time": "2024-01-22T02:03:03.926794Z"
    }
   },
   "id": "594747ca91ac7f8e",
   "execution_count": 6
  },
  {
   "cell_type": "code",
   "outputs": [
    {
     "data": {
      "text/plain": "{'cut': 'object',\n 'color': 'object',\n 'clarity': 'object',\n 'carat_weight': 'float64',\n 'cut_quality': 'object',\n 'lab': 'object',\n 'symmetry': 'object',\n 'polish': 'object',\n 'eye_clean': 'object',\n 'culet_size': 'object',\n 'culet_condition': 'object',\n 'depth_percent': 'float64',\n 'table_percent': 'float64',\n 'meas_length': 'float64',\n 'meas_width': 'float64',\n 'meas_depth': 'float64',\n 'girdle_min': 'object',\n 'girdle_max': 'object',\n 'fluor_color': 'object',\n 'fluor_intensity': 'object',\n 'fancy_color_dominant_color': 'object',\n 'fancy_color_secondary_color': 'object',\n 'fancy_color_overtone': 'object',\n 'fancy_color_intensity': 'object',\n 'total_sales_price': 'int64'}"
     },
     "execution_count": 52,
     "metadata": {},
     "output_type": "execute_result"
    }
   ],
   "source": [
    "pp = df_2.dtypes.reset_index()\n",
    "data_types_dict = {pp.loc[i,\"index\"]:str(pp.loc[i,0]) for i in range(len(pp.index))}\n",
    "data_types_dict"
   ],
   "metadata": {
    "collapsed": false,
    "ExecuteTime": {
     "end_time": "2024-01-22T02:12:06.434522Z",
     "start_time": "2024-01-22T02:12:06.430722Z"
    }
   },
   "id": "517b931b20d10c95",
   "execution_count": 52
  },
  {
   "cell_type": "code",
   "outputs": [],
   "source": [
    "non_numeric_types = []\n",
    "numeric_types = []\n",
    "for i in data_types_dict:\n",
    "    if data_types_dict[i] == \"object\":\n",
    "        non_numeric_types.append(i)\n",
    "    else:\n",
    "        numeric_types.append(i)"
   ],
   "metadata": {
    "collapsed": false,
    "ExecuteTime": {
     "end_time": "2024-01-22T02:13:54.085126Z",
     "start_time": "2024-01-22T02:13:54.082859Z"
    }
   },
   "id": "3cab075331b991ac",
   "execution_count": 56
  },
  {
   "cell_type": "code",
   "outputs": [],
   "source": [
    "for i in non_numeric_types:\n",
    "    le = LabelEncoder()\n",
    "    label_encoded_values = le.fit_transform(df_2[i])\n",
    "    joblib.dump(value=le,filename=i+\".joblib\")"
   ],
   "metadata": {
    "collapsed": false,
    "ExecuteTime": {
     "end_time": "2024-01-22T02:28:16.751829Z",
     "start_time": "2024-01-22T02:28:16.456429Z"
    }
   },
   "id": "435725de7fc69e00",
   "execution_count": 82
  },
  {
   "cell_type": "code",
   "outputs": [],
   "source": [],
   "metadata": {
    "collapsed": false
   },
   "id": "facd660910acf6a4"
  }
 ],
 "metadata": {
  "kernelspec": {
   "display_name": "Python 3",
   "language": "python",
   "name": "python3"
  },
  "language_info": {
   "codemirror_mode": {
    "name": "ipython",
    "version": 2
   },
   "file_extension": ".py",
   "mimetype": "text/x-python",
   "name": "python",
   "nbconvert_exporter": "python",
   "pygments_lexer": "ipython2",
   "version": "2.7.6"
  }
 },
 "nbformat": 4,
 "nbformat_minor": 5
}
