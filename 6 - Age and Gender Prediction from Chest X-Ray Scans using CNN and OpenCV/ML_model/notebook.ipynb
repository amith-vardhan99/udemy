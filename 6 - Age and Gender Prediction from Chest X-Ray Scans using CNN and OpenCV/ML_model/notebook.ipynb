{
 "cells": [
  {
   "cell_type": "code",
   "execution_count": 1,
   "id": "initial_id",
   "metadata": {
    "collapsed": true,
    "ExecuteTime": {
     "end_time": "2024-03-18T19:12:37.583892Z",
     "start_time": "2024-03-18T19:12:16.326248Z"
    }
   },
   "outputs": [
    {
     "name": "stdout",
     "output_type": "stream",
     "text": [
      "WARNING:tensorflow:From C:\\Users\\amith\\AppData\\Local\\Programs\\Python\\Python311\\Lib\\site-packages\\keras\\src\\losses.py:2976: The name tf.losses.sparse_softmax_cross_entropy is deprecated. Please use tf.compat.v1.losses.sparse_softmax_cross_entropy instead.\n"
     ]
    }
   ],
   "source": [
    "import numpy as np\n",
    "import pandas as pd\n",
    "import matplotlib.pyplot as plt\n",
    "import seaborn as sns\n",
    "import os\n",
    "import opendatasets as od\n",
    "import tensorflow as tf\n",
    "import cv2\n",
    "from tqdm import *"
   ]
  },
  {
   "cell_type": "code",
   "outputs": [],
   "source": [
    "dataset_directory = \"C:\\\\Users\\\\amith\\\\Documents\\\\Datasets\\\\kaggle\\\\kaggle\".replace(\"\\\\\",\"/\")\n",
    "csv_directory = \"C:\\\\Users\\\\amith\\\\Documents\\\\Datasets\".replace(\"\\\\\",\"/\")"
   ],
   "metadata": {
    "collapsed": false,
    "ExecuteTime": {
     "end_time": "2024-03-18T19:12:38.962709Z",
     "start_time": "2024-03-18T19:12:38.957598Z"
    }
   },
   "id": "ede11ad53b97391",
   "execution_count": 2
  },
  {
   "cell_type": "code",
   "outputs": [],
   "source": [
    "train_val_age = pd.read_csv(csv_directory + \"/train_age.csv\").sort_values(by=\"imageId\")\n",
    "train_val_gender = pd.read_csv(csv_directory + \"/train_gender.csv\").sort_values(by=\"imageId\")\n",
    "\n",
    "id = train_val_age[\"imageId\"].values.tolist()\n",
    "train_val_files = pd.DataFrame(columns=[\"imageId\",\"Files\"])\n",
    "ctr = 0\n",
    "\n",
    "for i in os.listdir(dataset_directory+\"/train\"):\n",
    "    train_val_files.loc[ctr,\"imageId\"] = id[ctr]\n",
    "    train_val_files.loc[ctr,\"Files\"] = i\n",
    "    ctr += 1\n",
    "\n",
    "train_val_files = train_val_files.sort_values(by=\"imageId\")\n",
    "\n",
    "train_val_output = pd.merge(left=train_val_age,right=train_val_gender,on=\"imageId\",how=\"inner\")\n",
    "train_val_output = pd.merge(left=train_val_output,right=train_val_files,on=\"imageId\",how=\"inner\")\n",
    "\n",
    "train_val_output = train_val_output.sort_values(by=\"imageId\")\n",
    "\n",
    "train_val_id = train_val_output[\"imageId\"].values.tolist()\n",
    "np.random.shuffle(train_val_id)\n",
    "\n",
    "\n",
    "threshold = int(np.round(0.8 * len(train_val_id)))\n",
    "\n",
    "train_id = train_val_id[0:threshold]\n",
    "val_id = train_val_id[threshold:]\n",
    "\n",
    "train_val_output.set_index(keys=\"imageId\",drop=False,inplace=True)\n",
    "\n",
    "train_output = train_val_output.loc[train_id,:]\n",
    "val_output = train_val_output.loc[val_id,:]\n",
    "\n",
    "train_output = train_output.reset_index(drop=True).drop(columns=[\"imageId\"])\n",
    "val_output = val_output.reset_index(drop=True).drop(columns=[\"imageId\"])"
   ],
   "metadata": {
    "collapsed": false,
    "ExecuteTime": {
     "end_time": "2024-03-18T19:12:43.583788Z",
     "start_time": "2024-03-18T19:12:39.819181Z"
    }
   },
   "id": "b2aba68028b2c7f2",
   "execution_count": 3
  },
  {
   "cell_type": "code",
   "outputs": [
    {
     "data": {
      "text/plain": "    age  gender       Files\n0  23.0       0  001502.png\n1  79.0       1  005260.png\n2  74.0       0  003988.png\n3  33.0       0  001734.png\n4  34.0       1  008789.png",
      "text/html": "<div>\n<style scoped>\n    .dataframe tbody tr th:only-of-type {\n        vertical-align: middle;\n    }\n\n    .dataframe tbody tr th {\n        vertical-align: top;\n    }\n\n    .dataframe thead th {\n        text-align: right;\n    }\n</style>\n<table border=\"1\" class=\"dataframe\">\n  <thead>\n    <tr style=\"text-align: right;\">\n      <th></th>\n      <th>age</th>\n      <th>gender</th>\n      <th>Files</th>\n    </tr>\n  </thead>\n  <tbody>\n    <tr>\n      <th>0</th>\n      <td>23.0</td>\n      <td>0</td>\n      <td>001502.png</td>\n    </tr>\n    <tr>\n      <th>1</th>\n      <td>79.0</td>\n      <td>1</td>\n      <td>005260.png</td>\n    </tr>\n    <tr>\n      <th>2</th>\n      <td>74.0</td>\n      <td>0</td>\n      <td>003988.png</td>\n    </tr>\n    <tr>\n      <th>3</th>\n      <td>33.0</td>\n      <td>0</td>\n      <td>001734.png</td>\n    </tr>\n    <tr>\n      <th>4</th>\n      <td>34.0</td>\n      <td>1</td>\n      <td>008789.png</td>\n    </tr>\n  </tbody>\n</table>\n</div>"
     },
     "execution_count": 4,
     "metadata": {},
     "output_type": "execute_result"
    }
   ],
   "source": [
    "train_output.head()"
   ],
   "metadata": {
    "collapsed": false,
    "ExecuteTime": {
     "end_time": "2024-03-18T19:12:44.289821Z",
     "start_time": "2024-03-18T19:12:44.276574Z"
    }
   },
   "id": "c8a0557bed29561a",
   "execution_count": 4
  },
  {
   "cell_type": "code",
   "outputs": [
    {
     "data": {
      "text/plain": "    age  gender       Files\n0  47.0       1  009814.png\n1  36.0       1  005681.png\n2  61.0       1  000988.png\n3  66.0       1  001651.png\n4  26.0       0  008512.png",
      "text/html": "<div>\n<style scoped>\n    .dataframe tbody tr th:only-of-type {\n        vertical-align: middle;\n    }\n\n    .dataframe tbody tr th {\n        vertical-align: top;\n    }\n\n    .dataframe thead th {\n        text-align: right;\n    }\n</style>\n<table border=\"1\" class=\"dataframe\">\n  <thead>\n    <tr style=\"text-align: right;\">\n      <th></th>\n      <th>age</th>\n      <th>gender</th>\n      <th>Files</th>\n    </tr>\n  </thead>\n  <tbody>\n    <tr>\n      <th>0</th>\n      <td>47.0</td>\n      <td>1</td>\n      <td>009814.png</td>\n    </tr>\n    <tr>\n      <th>1</th>\n      <td>36.0</td>\n      <td>1</td>\n      <td>005681.png</td>\n    </tr>\n    <tr>\n      <th>2</th>\n      <td>61.0</td>\n      <td>1</td>\n      <td>000988.png</td>\n    </tr>\n    <tr>\n      <th>3</th>\n      <td>66.0</td>\n      <td>1</td>\n      <td>001651.png</td>\n    </tr>\n    <tr>\n      <th>4</th>\n      <td>26.0</td>\n      <td>0</td>\n      <td>008512.png</td>\n    </tr>\n  </tbody>\n</table>\n</div>"
     },
     "execution_count": 5,
     "metadata": {},
     "output_type": "execute_result"
    }
   ],
   "source": [
    "val_output.head()"
   ],
   "metadata": {
    "collapsed": false,
    "ExecuteTime": {
     "end_time": "2024-03-18T19:12:44.940887Z",
     "start_time": "2024-03-18T19:12:44.929158Z"
    }
   },
   "id": "369d75c4486e181b",
   "execution_count": 5
  },
  {
   "cell_type": "code",
   "outputs": [
    {
     "name": "stderr",
     "output_type": "stream",
     "text": [
      "Processing train data: 100%|██████████| 8562/8562 [02:40<00:00, 53.42it/s]\n"
     ]
    }
   ],
   "source": [
    "train_images = []\n",
    "train_data = {}\n",
    "ctr = 0\n",
    "for i in tqdm(iterable=train_output[\"Files\"],desc=\"Processing train data\"):\n",
    "    ages = train_output.loc[ctr,\"age\"]\n",
    "    genders = train_output.loc[ctr,\"gender\"]\n",
    "    img_org = cv2.imread(dataset_directory + \"/train/\" + i)\n",
    "    img_gray = cv2.cvtColor(src=img_org, code=cv2.COLOR_BGR2GRAY)\n",
    "    img_short = cv2.resize(src=img_gray, dsize=(64,64))\n",
    "    img = img_short / 255.0\n",
    "    train_images.append(img)\n",
    "    ctr += 1\n",
    "\n",
    "train_images = np.array(train_images)"
   ],
   "metadata": {
    "collapsed": false,
    "ExecuteTime": {
     "end_time": "2024-03-18T19:15:26.148086Z",
     "start_time": "2024-03-18T19:12:45.693911Z"
    }
   },
   "id": "ff7b3d79df67d578",
   "execution_count": 6
  },
  {
   "cell_type": "code",
   "outputs": [
    {
     "data": {
      "text/plain": "'C:/Users/amith/Documents/Datasets/kaggle/kaggle/007223.png'"
     },
     "execution_count": 7,
     "metadata": {},
     "output_type": "execute_result"
    }
   ],
   "source": [
    "dataset_directory + \"/\" + i"
   ],
   "metadata": {
    "collapsed": false,
    "ExecuteTime": {
     "end_time": "2024-03-18T19:15:26.790593Z",
     "start_time": "2024-03-18T19:15:26.784626Z"
    }
   },
   "id": "9b26fd5ce770ddf1",
   "execution_count": 7
  },
  {
   "cell_type": "code",
   "outputs": [
    {
     "data": {
      "text/plain": "'C:/Users/amith/Documents/Datasets/kaggle/kaggle/val/007223.png'"
     },
     "execution_count": 8,
     "metadata": {},
     "output_type": "execute_result"
    }
   ],
   "source": [
    "dataset_directory + \"/val/\" + i"
   ],
   "metadata": {
    "collapsed": false,
    "ExecuteTime": {
     "end_time": "2024-03-18T19:15:27.238096Z",
     "start_time": "2024-03-18T19:15:27.233418Z"
    }
   },
   "id": "6413f15d0ad73fb7",
   "execution_count": 8
  },
  {
   "cell_type": "code",
   "outputs": [
    {
     "name": "stderr",
     "output_type": "stream",
     "text": [
      "Processing val data: 100%|██████████| 2140/2140 [00:39<00:00, 54.04it/s]\n"
     ]
    }
   ],
   "source": [
    "val_images = []\n",
    "val_data = {}\n",
    "ctr = 0\n",
    "for i in tqdm(iterable=val_output[\"Files\"],desc=\"Processing val data\"):\n",
    "    ages = val_output.loc[ctr,\"age\"]\n",
    "    genders = val_output.loc[ctr,\"gender\"]\n",
    "    img_org = cv2.imread(dataset_directory + \"/train/\" + i)\n",
    "    img_gray = cv2.cvtColor(src=img_org, code=cv2.COLOR_BGR2GRAY)\n",
    "    img_short = cv2.resize(src=img_gray, dsize=(64,64))\n",
    "    img = img_short / 255.0\n",
    "    val_images.append(img)\n",
    "    ctr += 1\n",
    "\n",
    "val_images = np.array(val_images)"
   ],
   "metadata": {
    "collapsed": false,
    "ExecuteTime": {
     "end_time": "2024-03-18T19:16:07.284153Z",
     "start_time": "2024-03-18T19:15:27.649100Z"
    }
   },
   "id": "223f96a14cea3f9",
   "execution_count": 9
  },
  {
   "cell_type": "code",
   "outputs": [],
   "source": [
    "train_images = train_images.reshape(tuple(list(train_images.shape) + [1]))\n",
    "val_images = val_images.reshape(tuple(list(val_images.shape) + [1]))"
   ],
   "metadata": {
    "collapsed": false,
    "ExecuteTime": {
     "end_time": "2024-03-18T19:16:08.884422Z",
     "start_time": "2024-03-18T19:16:08.880611Z"
    }
   },
   "id": "313c96879745bc41",
   "execution_count": 10
  },
  {
   "cell_type": "code",
   "outputs": [
    {
     "data": {
      "text/plain": "(2140, 64, 64, 1)"
     },
     "execution_count": 11,
     "metadata": {},
     "output_type": "execute_result"
    }
   ],
   "source": [
    "val_images.shape"
   ],
   "metadata": {
    "collapsed": false,
    "ExecuteTime": {
     "end_time": "2024-03-18T19:16:09.633877Z",
     "start_time": "2024-03-18T19:16:09.628787Z"
    }
   },
   "id": "6b799b38f574439b",
   "execution_count": 11
  },
  {
   "cell_type": "code",
   "outputs": [
    {
     "name": "stdout",
     "output_type": "stream",
     "text": [
      "WARNING:tensorflow:From C:\\Users\\amith\\AppData\\Local\\Programs\\Python\\Python311\\Lib\\site-packages\\keras\\src\\backend.py:873: The name tf.get_default_graph is deprecated. Please use tf.compat.v1.get_default_graph instead.\n"
     ]
    }
   ],
   "source": [
    "model_genders = tf.keras.models.Sequential(layers=[\n",
    "    tf.keras.layers.Conv2D(filters=16,kernel_size=(3,3),activation=\"relu\",input_shape=(64,64,1)),\n",
    "    tf.keras.layers.Conv2D(filters=32,kernel_size=(3,3),activation=\"relu\",input_shape=(64,64,1)),\n",
    "    tf.keras.layers.Conv2D(filters=64,kernel_size=(3,3),activation=\"relu\",input_shape=(64,64,1)),\n",
    "    tf.keras.layers.Conv2D(filters=64,kernel_size=(3,3),activation=\"relu\",input_shape=(64,64,1)),\n",
    "    \n",
    "    tf.keras.layers.Flatten(),\n",
    "    tf.keras.layers.Dense(units=64,activation=\"relu\"),\n",
    "    tf.keras.layers.Dense(units=1,activation=\"softmax\")\n",
    "])"
   ],
   "metadata": {
    "collapsed": false,
    "ExecuteTime": {
     "end_time": "2024-03-18T19:16:10.490706Z",
     "start_time": "2024-03-18T19:16:10.001Z"
    }
   },
   "id": "1bea9c70b1d56ba7",
   "execution_count": 12
  },
  {
   "cell_type": "code",
   "outputs": [],
   "source": [
    "model_ages = tf.keras.models.Sequential(layers=[\n",
    "    tf.keras.layers.Conv2D(filters=16,kernel_size=(3,3),activation=\"relu\",input_shape=(64,64,1)),\n",
    "    tf.keras.layers.Conv2D(filters=32,kernel_size=(3,3),activation=\"relu\",input_shape=(64,64,1)),\n",
    "    tf.keras.layers.Conv2D(filters=64,kernel_size=(3,3),activation=\"relu\",input_shape=(64,64,1)),\n",
    "    tf.keras.layers.Conv2D(filters=64,kernel_size=(3,3),activation=\"relu\",input_shape=(64,64,1)),\n",
    "\n",
    "    tf.keras.layers.Flatten(),\n",
    "    tf.keras.layers.Dense(units=64,activation=\"relu\"),\n",
    "    tf.keras.layers.Dense(units=1,activation=\"relu\")\n",
    "])"
   ],
   "metadata": {
    "collapsed": false,
    "ExecuteTime": {
     "end_time": "2024-03-18T19:16:11.271680Z",
     "start_time": "2024-03-18T19:16:11.106221Z"
    }
   },
   "id": "63db3f9d994105c6",
   "execution_count": 13
  },
  {
   "cell_type": "code",
   "outputs": [],
   "source": [
    "train_ages = train_output[\"age\"].values\n",
    "train_genders = train_output[\"gender\"].values\n",
    "\n",
    "val_ages = val_output[\"age\"].values\n",
    "val_genders = val_output[\"gender\"].values"
   ],
   "metadata": {
    "collapsed": false,
    "ExecuteTime": {
     "end_time": "2024-03-18T19:16:11.790648Z",
     "start_time": "2024-03-18T19:16:11.786118Z"
    }
   },
   "id": "8a67f19c2092bd2f",
   "execution_count": 14
  },
  {
   "cell_type": "code",
   "outputs": [],
   "source": [
    "model_genders.compile(optimizer=tf.keras.optimizers.Adam(),loss=tf.keras.losses.binary_crossentropy,metrics=['accuracy'])\n",
    "model_ages.compile(optimizer=tf.keras.optimizers.Adam(),loss=tf.keras.losses.mean_absolute_error, metrics=[\"mae\"])"
   ],
   "metadata": {
    "collapsed": false,
    "ExecuteTime": {
     "end_time": "2024-03-18T19:16:12.298335Z",
     "start_time": "2024-03-18T19:16:12.274678Z"
    }
   },
   "id": "75719ee0f115cd65",
   "execution_count": 15
  },
  {
   "cell_type": "code",
   "outputs": [
    {
     "name": "stdout",
     "output_type": "stream",
     "text": [
      "Epoch 1/10\n",
      "WARNING:tensorflow:From C:\\Users\\amith\\AppData\\Local\\Programs\\Python\\Python311\\Lib\\site-packages\\keras\\src\\utils\\tf_utils.py:492: The name tf.ragged.RaggedTensorValue is deprecated. Please use tf.compat.v1.ragged.RaggedTensorValue instead.\n",
      "WARNING:tensorflow:From C:\\Users\\amith\\AppData\\Local\\Programs\\Python\\Python311\\Lib\\site-packages\\keras\\src\\engine\\base_layer_utils.py:384: The name tf.executing_eagerly_outside_functions is deprecated. Please use tf.compat.v1.executing_eagerly_outside_functions instead.\n",
      "268/268 [==============================] - 44s 157ms/step - loss: 0.4832 - accuracy: 0.4186 - val_loss: 0.4061 - val_accuracy: 0.4248\n",
      "Epoch 2/10\n",
      "268/268 [==============================] - 72s 268ms/step - loss: 0.3420 - accuracy: 0.4186 - val_loss: 0.2969 - val_accuracy: 0.4248\n",
      "Epoch 3/10\n",
      "268/268 [==============================] - 49s 181ms/step - loss: 0.2793 - accuracy: 0.4186 - val_loss: 0.2516 - val_accuracy: 0.4248\n",
      "Epoch 4/10\n",
      "268/268 [==============================] - 48s 178ms/step - loss: 0.2333 - accuracy: 0.4186 - val_loss: 0.2556 - val_accuracy: 0.4248\n",
      "Epoch 5/10\n",
      "268/268 [==============================] - 52s 193ms/step - loss: 0.2061 - accuracy: 0.4186 - val_loss: 0.2389 - val_accuracy: 0.4248\n",
      "Epoch 6/10\n",
      "268/268 [==============================] - 44s 165ms/step - loss: 0.1597 - accuracy: 0.4186 - val_loss: 0.2404 - val_accuracy: 0.4248\n",
      "Epoch 7/10\n",
      "268/268 [==============================] - 51s 189ms/step - loss: 0.1325 - accuracy: 0.4186 - val_loss: 0.2490 - val_accuracy: 0.4248\n"
     ]
    },
    {
     "data": {
      "text/plain": "<keras.src.callbacks.History at 0x22956c9a9d0>"
     },
     "execution_count": 16,
     "metadata": {},
     "output_type": "execute_result"
    }
   ],
   "source": [
    "model_genders.fit(x=train_images,y=train_genders,batch_size=32,epochs=10,validation_data=(val_images,val_genders),verbose=1,shuffle=True,callbacks=tf.keras.callbacks.EarlyStopping(patience=2))"
   ],
   "metadata": {
    "collapsed": false,
    "ExecuteTime": {
     "end_time": "2024-03-18T19:22:11.688287Z",
     "start_time": "2024-03-18T19:16:13.064721Z"
    }
   },
   "id": "6838a158d4105574",
   "execution_count": 16
  },
  {
   "cell_type": "code",
   "outputs": [
    {
     "name": "stdout",
     "output_type": "stream",
     "text": [
      "Epoch 1/10\n",
      "268/268 [==============================] - 47s 172ms/step - loss: 16.2943 - mae: 16.2943 - val_loss: 12.4319 - val_mae: 12.4319\n",
      "Epoch 2/10\n",
      "268/268 [==============================] - 54s 202ms/step - loss: 12.0905 - mae: 12.0905 - val_loss: 11.0011 - val_mae: 11.0011\n",
      "Epoch 3/10\n",
      "268/268 [==============================] - 50s 186ms/step - loss: 10.7653 - mae: 10.7653 - val_loss: 11.2345 - val_mae: 11.2345\n",
      "Epoch 4/10\n",
      "268/268 [==============================] - 48s 179ms/step - loss: 10.0859 - mae: 10.0859 - val_loss: 10.7217 - val_mae: 10.7217\n",
      "Epoch 5/10\n",
      "268/268 [==============================] - 48s 180ms/step - loss: 9.4162 - mae: 9.4162 - val_loss: 9.4889 - val_mae: 9.4889\n",
      "Epoch 6/10\n",
      "268/268 [==============================] - 49s 181ms/step - loss: 8.9967 - mae: 8.9967 - val_loss: 10.6243 - val_mae: 10.6243\n",
      "Epoch 7/10\n",
      "268/268 [==============================] - 49s 181ms/step - loss: 8.8802 - mae: 8.8802 - val_loss: 8.9226 - val_mae: 8.9226\n",
      "Epoch 8/10\n",
      "268/268 [==============================] - 48s 178ms/step - loss: 8.3415 - mae: 8.3415 - val_loss: 9.7950 - val_mae: 9.7950\n",
      "Epoch 9/10\n",
      "268/268 [==============================] - 48s 179ms/step - loss: 8.1854 - mae: 8.1854 - val_loss: 8.7614 - val_mae: 8.7614\n",
      "Epoch 10/10\n",
      "268/268 [==============================] - 48s 178ms/step - loss: 7.5323 - mae: 7.5323 - val_loss: 8.7501 - val_mae: 8.7501\n"
     ]
    },
    {
     "data": {
      "text/plain": "<keras.src.callbacks.History at 0x22957231d90>"
     },
     "execution_count": 17,
     "metadata": {},
     "output_type": "execute_result"
    }
   ],
   "source": [
    "model_ages.fit(x=train_images,y=train_ages,batch_size=32,epochs=10,validation_data=(val_images,val_ages),verbose=1,shuffle=True,callbacks=tf.keras.callbacks.EarlyStopping(patience=2))"
   ],
   "metadata": {
    "collapsed": false,
    "ExecuteTime": {
     "end_time": "2024-03-18T19:30:23.633083Z",
     "start_time": "2024-03-18T19:22:15.614285Z"
    }
   },
   "id": "d16fe972f36073b",
   "execution_count": 17
  },
  {
   "cell_type": "code",
   "outputs": [
    {
     "name": "stderr",
     "output_type": "stream",
     "text": [
      "C:\\Users\\amith\\AppData\\Local\\Temp\\ipykernel_77108\\4190216403.py:1: UserWarning: You are saving your model as an HDF5 file via `model.save()`. This file format is considered legacy. We recommend using instead the native Keras format, e.g. `model.save('my_model.keras')`.\n",
      "  tf.keras.models.save_model(model=model_genders,filepath=\"C:/Users/amith/Documents/Datasets/model_genders.h5\",overwrite=True)\n",
      "C:\\Users\\amith\\AppData\\Local\\Temp\\ipykernel_77108\\4190216403.py:2: UserWarning: You are saving your model as an HDF5 file via `model.save()`. This file format is considered legacy. We recommend using instead the native Keras format, e.g. `model.save('my_model.keras')`.\n",
      "  tf.keras.models.save_model(model=model_ages,filepath=\"C:/Users/amith/Documents/Datasets/model_ages.h5\",overwrite=True)\n"
     ]
    }
   ],
   "source": [
    "tf.keras.models.save_model(model=model_genders,filepath=\"C:/Users/amith/Documents/Datasets/model_genders.h5\",overwrite=True)\n",
    "tf.keras.models.save_model(model=model_ages,filepath=\"C:/Users/amith/Documents/Datasets/model_ages.h5\",overwrite=True)"
   ],
   "metadata": {
    "collapsed": false,
    "ExecuteTime": {
     "end_time": "2024-03-18T19:30:26.395873Z",
     "start_time": "2024-03-18T19:30:25.874781Z"
    }
   },
   "id": "7e1c380be2d56852",
   "execution_count": 18
  },
  {
   "cell_type": "code",
   "outputs": [
    {
     "name": "stdout",
     "output_type": "stream",
     "text": [
      "C:/Users/amith/Documents/Datasets/kaggle/kaggle/test/\n"
     ]
    }
   ],
   "source": [
    "print(dataset_directory + \"/test/\")"
   ],
   "metadata": {
    "collapsed": false,
    "ExecuteTime": {
     "end_time": "2024-03-18T19:30:27.229496Z",
     "start_time": "2024-03-18T19:30:27.223439Z"
    }
   },
   "id": "a49d4ad53f06b1e4",
   "execution_count": 19
  },
  {
   "cell_type": "code",
   "outputs": [
    {
     "name": "stderr",
     "output_type": "stream",
     "text": [
      "Processing test data: 100%|██████████| 11747/11747 [03:57<00:00, 49.52it/s]\n"
     ]
    }
   ],
   "source": [
    "test_images = []\n",
    "\n",
    "ctr = 0\n",
    "for i in tqdm(iterable=sorted(os.listdir(dataset_directory + \"/test/\")),desc=\"Processing test data\"):\n",
    "    img_org = cv2.imread(dataset_directory + \"/test/\" + i)\n",
    "    img_gray = cv2.cvtColor(src=img_org, code=cv2.COLOR_BGR2GRAY)\n",
    "    img_short = cv2.resize(src=img_gray, dsize=(64,64))\n",
    "    img = img_short / 255.0\n",
    "    test_images.append(img)\n",
    "    ctr += 1\n",
    "\n",
    "test_images = np.array(test_images)"
   ],
   "metadata": {
    "collapsed": false,
    "ExecuteTime": {
     "end_time": "2024-03-18T19:34:25.568037Z",
     "start_time": "2024-03-18T19:30:28.011282Z"
    }
   },
   "id": "6b9c7b6bfe0ee73f",
   "execution_count": 20
  },
  {
   "cell_type": "code",
   "outputs": [],
   "source": [
    "test_ages = pd.read_csv(\"C:\\\\Users\\\\amith\\\\Documents\\\\Datasets\\\\sample_submission_age.csv\")[\"age\"].copy()\n",
    "test_genders = pd.read_csv(\"C:\\\\Users\\\\amith\\\\Documents\\\\Datasets\\\\sample_submission_gender.csv\")[\"gender\"].copy()"
   ],
   "metadata": {
    "collapsed": false,
    "ExecuteTime": {
     "end_time": "2024-03-18T19:34:27.288573Z",
     "start_time": "2024-03-18T19:34:27.275159Z"
    }
   },
   "id": "9e95a4d04ee22f52",
   "execution_count": 21
  },
  {
   "cell_type": "code",
   "outputs": [
    {
     "name": "stdout",
     "output_type": "stream",
     "text": [
      "368/368 [==============================] - 17s 45ms/step\n"
     ]
    }
   ],
   "source": [
    "predict_ages = model_ages.predict(test_images)"
   ],
   "metadata": {
    "collapsed": false,
    "ExecuteTime": {
     "end_time": "2024-03-18T19:34:45.444535Z",
     "start_time": "2024-03-18T19:34:27.857168Z"
    }
   },
   "id": "baa7f91ed6936e02",
   "execution_count": 22
  },
  {
   "cell_type": "code",
   "outputs": [
    {
     "name": "stdout",
     "output_type": "stream",
     "text": [
      "368/368 [==============================] - 17s 45ms/step\n"
     ]
    }
   ],
   "source": [
    "predict_genders = model_genders.predict(test_images)"
   ],
   "metadata": {
    "collapsed": false,
    "ExecuteTime": {
     "end_time": "2024-03-18T19:35:03.705889Z",
     "start_time": "2024-03-18T19:34:46.823623Z"
    }
   },
   "id": "d75cfe22da108875",
   "execution_count": 23
  },
  {
   "cell_type": "code",
   "outputs": [
    {
     "data": {
      "text/plain": "array([[1.],\n       [1.],\n       [1.],\n       ...,\n       [1.],\n       [1.],\n       [1.]], dtype=float32)"
     },
     "execution_count": 24,
     "metadata": {},
     "output_type": "execute_result"
    }
   ],
   "source": [
    "predict_genders"
   ],
   "metadata": {
    "collapsed": false,
    "ExecuteTime": {
     "end_time": "2024-03-18T19:35:05.033324Z",
     "start_time": "2024-03-18T19:35:05.028569Z"
    }
   },
   "id": "168670e2c776674",
   "execution_count": 24
  },
  {
   "cell_type": "code",
   "outputs": [],
   "source": [
    "df_pred_age = pd.DataFrame(columns=[\"imageId\",\"age\"])\n",
    "df_pred_gender = pd.DataFrame(columns=[\"imageId\",\"gender\"])\n",
    "\n",
    "df_pred_age[\"imageId\"] = list(range(predict_ages.shape[0]))\n",
    "df_pred_age[\"age\"] = np.int64(np.round(predict_ages,0))\n",
    "\n",
    "df_pred_gender[\"imageId\"] = list(range(predict_genders.shape[0]))\n",
    "df_pred_gender[\"gender\"] = np.int64(np.round(predict_genders,0))"
   ],
   "metadata": {
    "collapsed": false,
    "ExecuteTime": {
     "end_time": "2024-03-18T19:35:05.907532Z",
     "start_time": "2024-03-18T19:35:05.891689Z"
    }
   },
   "id": "37bcd30e09af247e",
   "execution_count": 25
  },
  {
   "cell_type": "code",
   "outputs": [
    {
     "data": {
      "text/plain": "       imageId  age\n0            0   59\n1            1   35\n2            2   39\n3            3   61\n4            4   38\n...        ...  ...\n11742    11742   60\n11743    11743   52\n11744    11744   40\n11745    11745   47\n11746    11746   62\n\n[11747 rows x 2 columns]",
      "text/html": "<div>\n<style scoped>\n    .dataframe tbody tr th:only-of-type {\n        vertical-align: middle;\n    }\n\n    .dataframe tbody tr th {\n        vertical-align: top;\n    }\n\n    .dataframe thead th {\n        text-align: right;\n    }\n</style>\n<table border=\"1\" class=\"dataframe\">\n  <thead>\n    <tr style=\"text-align: right;\">\n      <th></th>\n      <th>imageId</th>\n      <th>age</th>\n    </tr>\n  </thead>\n  <tbody>\n    <tr>\n      <th>0</th>\n      <td>0</td>\n      <td>59</td>\n    </tr>\n    <tr>\n      <th>1</th>\n      <td>1</td>\n      <td>35</td>\n    </tr>\n    <tr>\n      <th>2</th>\n      <td>2</td>\n      <td>39</td>\n    </tr>\n    <tr>\n      <th>3</th>\n      <td>3</td>\n      <td>61</td>\n    </tr>\n    <tr>\n      <th>4</th>\n      <td>4</td>\n      <td>38</td>\n    </tr>\n    <tr>\n      <th>...</th>\n      <td>...</td>\n      <td>...</td>\n    </tr>\n    <tr>\n      <th>11742</th>\n      <td>11742</td>\n      <td>60</td>\n    </tr>\n    <tr>\n      <th>11743</th>\n      <td>11743</td>\n      <td>52</td>\n    </tr>\n    <tr>\n      <th>11744</th>\n      <td>11744</td>\n      <td>40</td>\n    </tr>\n    <tr>\n      <th>11745</th>\n      <td>11745</td>\n      <td>47</td>\n    </tr>\n    <tr>\n      <th>11746</th>\n      <td>11746</td>\n      <td>62</td>\n    </tr>\n  </tbody>\n</table>\n<p>11747 rows × 2 columns</p>\n</div>"
     },
     "execution_count": 26,
     "metadata": {},
     "output_type": "execute_result"
    }
   ],
   "source": [
    "df_pred_age"
   ],
   "metadata": {
    "collapsed": false,
    "ExecuteTime": {
     "end_time": "2024-03-18T19:35:06.507516Z",
     "start_time": "2024-03-18T19:35:06.500251Z"
    }
   },
   "id": "785f39dfdf3a7af4",
   "execution_count": 26
  },
  {
   "cell_type": "code",
   "outputs": [
    {
     "data": {
      "text/plain": "       imageId  gender\n0            0       1\n1            1       1\n2            2       1\n3            3       1\n4            4       1\n...        ...     ...\n11742    11742       1\n11743    11743       1\n11744    11744       1\n11745    11745       1\n11746    11746       1\n\n[11747 rows x 2 columns]",
      "text/html": "<div>\n<style scoped>\n    .dataframe tbody tr th:only-of-type {\n        vertical-align: middle;\n    }\n\n    .dataframe tbody tr th {\n        vertical-align: top;\n    }\n\n    .dataframe thead th {\n        text-align: right;\n    }\n</style>\n<table border=\"1\" class=\"dataframe\">\n  <thead>\n    <tr style=\"text-align: right;\">\n      <th></th>\n      <th>imageId</th>\n      <th>gender</th>\n    </tr>\n  </thead>\n  <tbody>\n    <tr>\n      <th>0</th>\n      <td>0</td>\n      <td>1</td>\n    </tr>\n    <tr>\n      <th>1</th>\n      <td>1</td>\n      <td>1</td>\n    </tr>\n    <tr>\n      <th>2</th>\n      <td>2</td>\n      <td>1</td>\n    </tr>\n    <tr>\n      <th>3</th>\n      <td>3</td>\n      <td>1</td>\n    </tr>\n    <tr>\n      <th>4</th>\n      <td>4</td>\n      <td>1</td>\n    </tr>\n    <tr>\n      <th>...</th>\n      <td>...</td>\n      <td>...</td>\n    </tr>\n    <tr>\n      <th>11742</th>\n      <td>11742</td>\n      <td>1</td>\n    </tr>\n    <tr>\n      <th>11743</th>\n      <td>11743</td>\n      <td>1</td>\n    </tr>\n    <tr>\n      <th>11744</th>\n      <td>11744</td>\n      <td>1</td>\n    </tr>\n    <tr>\n      <th>11745</th>\n      <td>11745</td>\n      <td>1</td>\n    </tr>\n    <tr>\n      <th>11746</th>\n      <td>11746</td>\n      <td>1</td>\n    </tr>\n  </tbody>\n</table>\n<p>11747 rows × 2 columns</p>\n</div>"
     },
     "execution_count": 27,
     "metadata": {},
     "output_type": "execute_result"
    }
   ],
   "source": [
    "df_pred_gender"
   ],
   "metadata": {
    "collapsed": false,
    "ExecuteTime": {
     "end_time": "2024-03-18T19:35:07.182975Z",
     "start_time": "2024-03-18T19:35:07.175981Z"
    }
   },
   "id": "ffbebcac007ba3a2",
   "execution_count": 27
  },
  {
   "cell_type": "code",
   "outputs": [],
   "source": [
    "df_pred_gender.to_csv(path_or_buf=\"C:/Users/amith/Documents/Datasets/Saved/sample_submission_gender.csv\",index=False)\n",
    "df_pred_age.to_csv(path_or_buf=\"C:/Users/amith/Documents/Datasets/Saved/sample_submission_age.csv\",index=False)"
   ],
   "metadata": {
    "collapsed": false,
    "ExecuteTime": {
     "end_time": "2024-03-18T19:35:07.821516Z",
     "start_time": "2024-03-18T19:35:07.798082Z"
    }
   },
   "id": "f863197a9e00e89c",
   "execution_count": 28
  },
  {
   "cell_type": "code",
   "outputs": [],
   "source": [],
   "metadata": {
    "collapsed": false
   },
   "id": "41d9d40a59054461"
  }
 ],
 "metadata": {
  "kernelspec": {
   "display_name": "Python 3",
   "language": "python",
   "name": "python3"
  },
  "language_info": {
   "codemirror_mode": {
    "name": "ipython",
    "version": 2
   },
   "file_extension": ".py",
   "mimetype": "text/x-python",
   "name": "python",
   "nbconvert_exporter": "python",
   "pygments_lexer": "ipython2",
   "version": "2.7.6"
  }
 },
 "nbformat": 4,
 "nbformat_minor": 5
}
