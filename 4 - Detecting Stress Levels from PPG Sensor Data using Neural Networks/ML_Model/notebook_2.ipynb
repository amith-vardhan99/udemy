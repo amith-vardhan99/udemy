{
 "cells": [
  {
   "cell_type": "code",
   "execution_count": 1,
   "id": "initial_id",
   "metadata": {
    "collapsed": true,
    "ExecuteTime": {
     "end_time": "2024-03-10T17:32:10.893206Z",
     "start_time": "2024-03-10T17:31:54.792651Z"
    }
   },
   "outputs": [
    {
     "name": "stdout",
     "output_type": "stream",
     "text": [
      "WARNING:tensorflow:From C:\\Users\\amith\\AppData\\Local\\Programs\\Python\\Python311\\Lib\\site-packages\\keras\\src\\losses.py:2976: The name tf.losses.sparse_softmax_cross_entropy is deprecated. Please use tf.compat.v1.losses.sparse_softmax_cross_entropy instead.\n"
     ]
    }
   ],
   "source": [
    "import numpy as np\n",
    "import pandas as pd\n",
    "import matplotlib.pyplot as plt\n",
    "import seaborn as sns\n",
    "from sklearn.preprocessing import *\n",
    "from sklearn.model_selection import *\n",
    "import tensorflow as tf"
   ]
  },
  {
   "cell_type": "markdown",
   "source": [
    "### Reading the dataset"
   ],
   "metadata": {
    "collapsed": false
   },
   "id": "b3e126584b2c42b4"
  },
  {
   "cell_type": "code",
   "outputs": [
    {
     "data": {
      "text/plain": "      MEAN_RR   MEDIAN_RR        SDRR      RMSSD       SDSD  SDRR_RMSSD  \\\n0  885.157845  853.763730  140.972741  15.554505  15.553371    9.063146   \n1  939.425371  948.357865   81.317742  12.964439  12.964195    6.272369   \n2  898.186047  907.006860   84.497236  16.305279  16.305274    5.182201   \n3  881.757864  893.460030   90.370537  15.720468  15.720068    5.748591   \n4  809.625331  811.184865   62.766242  19.213819  19.213657    3.266724   \n\n          HR      pNN25     pNN50        SD1  ...         HF    HF_PCT  \\\n0  69.499952  11.133333  0.533333  11.001565  ...  15.522602  0.421047   \n1  64.363150   5.600000  0.000000   9.170129  ...   2.108525  0.070133   \n2  67.450066  13.066667  0.200000  11.533417  ...  13.769729  0.512671   \n3  68.809562  11.800000  0.133333  11.119476  ...  18.181913  0.529387   \n4  74.565728  20.200000  0.200000  13.590641  ...  48.215822  1.839473   \n\n      HF_NU           TP       LF_HF     HF_LF    sampen    higuci  datasetId  \\\n0  1.514737  3686.666157   65.018055  0.015380  2.139754  1.163485          2   \n1  0.304603  3006.487251  327.296635  0.003055  2.174499  1.084711          2   \n2  1.049528  2685.879461   94.280910  0.010607  2.135350  1.176315          2   \n3  1.775294  3434.520980   55.328701  0.018074  2.178341  1.179688          2   \n4  3.279993  2621.175204   29.487873  0.033912  2.221121  1.249612          2   \n\n   condition  \n0          0  \n1          1  \n2          1  \n3          0  \n4          0  \n\n[5 rows x 36 columns]",
      "text/html": "<div>\n<style scoped>\n    .dataframe tbody tr th:only-of-type {\n        vertical-align: middle;\n    }\n\n    .dataframe tbody tr th {\n        vertical-align: top;\n    }\n\n    .dataframe thead th {\n        text-align: right;\n    }\n</style>\n<table border=\"1\" class=\"dataframe\">\n  <thead>\n    <tr style=\"text-align: right;\">\n      <th></th>\n      <th>MEAN_RR</th>\n      <th>MEDIAN_RR</th>\n      <th>SDRR</th>\n      <th>RMSSD</th>\n      <th>SDSD</th>\n      <th>SDRR_RMSSD</th>\n      <th>HR</th>\n      <th>pNN25</th>\n      <th>pNN50</th>\n      <th>SD1</th>\n      <th>...</th>\n      <th>HF</th>\n      <th>HF_PCT</th>\n      <th>HF_NU</th>\n      <th>TP</th>\n      <th>LF_HF</th>\n      <th>HF_LF</th>\n      <th>sampen</th>\n      <th>higuci</th>\n      <th>datasetId</th>\n      <th>condition</th>\n    </tr>\n  </thead>\n  <tbody>\n    <tr>\n      <th>0</th>\n      <td>885.157845</td>\n      <td>853.763730</td>\n      <td>140.972741</td>\n      <td>15.554505</td>\n      <td>15.553371</td>\n      <td>9.063146</td>\n      <td>69.499952</td>\n      <td>11.133333</td>\n      <td>0.533333</td>\n      <td>11.001565</td>\n      <td>...</td>\n      <td>15.522602</td>\n      <td>0.421047</td>\n      <td>1.514737</td>\n      <td>3686.666157</td>\n      <td>65.018055</td>\n      <td>0.015380</td>\n      <td>2.139754</td>\n      <td>1.163485</td>\n      <td>2</td>\n      <td>0</td>\n    </tr>\n    <tr>\n      <th>1</th>\n      <td>939.425371</td>\n      <td>948.357865</td>\n      <td>81.317742</td>\n      <td>12.964439</td>\n      <td>12.964195</td>\n      <td>6.272369</td>\n      <td>64.363150</td>\n      <td>5.600000</td>\n      <td>0.000000</td>\n      <td>9.170129</td>\n      <td>...</td>\n      <td>2.108525</td>\n      <td>0.070133</td>\n      <td>0.304603</td>\n      <td>3006.487251</td>\n      <td>327.296635</td>\n      <td>0.003055</td>\n      <td>2.174499</td>\n      <td>1.084711</td>\n      <td>2</td>\n      <td>1</td>\n    </tr>\n    <tr>\n      <th>2</th>\n      <td>898.186047</td>\n      <td>907.006860</td>\n      <td>84.497236</td>\n      <td>16.305279</td>\n      <td>16.305274</td>\n      <td>5.182201</td>\n      <td>67.450066</td>\n      <td>13.066667</td>\n      <td>0.200000</td>\n      <td>11.533417</td>\n      <td>...</td>\n      <td>13.769729</td>\n      <td>0.512671</td>\n      <td>1.049528</td>\n      <td>2685.879461</td>\n      <td>94.280910</td>\n      <td>0.010607</td>\n      <td>2.135350</td>\n      <td>1.176315</td>\n      <td>2</td>\n      <td>1</td>\n    </tr>\n    <tr>\n      <th>3</th>\n      <td>881.757864</td>\n      <td>893.460030</td>\n      <td>90.370537</td>\n      <td>15.720468</td>\n      <td>15.720068</td>\n      <td>5.748591</td>\n      <td>68.809562</td>\n      <td>11.800000</td>\n      <td>0.133333</td>\n      <td>11.119476</td>\n      <td>...</td>\n      <td>18.181913</td>\n      <td>0.529387</td>\n      <td>1.775294</td>\n      <td>3434.520980</td>\n      <td>55.328701</td>\n      <td>0.018074</td>\n      <td>2.178341</td>\n      <td>1.179688</td>\n      <td>2</td>\n      <td>0</td>\n    </tr>\n    <tr>\n      <th>4</th>\n      <td>809.625331</td>\n      <td>811.184865</td>\n      <td>62.766242</td>\n      <td>19.213819</td>\n      <td>19.213657</td>\n      <td>3.266724</td>\n      <td>74.565728</td>\n      <td>20.200000</td>\n      <td>0.200000</td>\n      <td>13.590641</td>\n      <td>...</td>\n      <td>48.215822</td>\n      <td>1.839473</td>\n      <td>3.279993</td>\n      <td>2621.175204</td>\n      <td>29.487873</td>\n      <td>0.033912</td>\n      <td>2.221121</td>\n      <td>1.249612</td>\n      <td>2</td>\n      <td>0</td>\n    </tr>\n  </tbody>\n</table>\n<p>5 rows × 36 columns</p>\n</div>"
     },
     "execution_count": 2,
     "metadata": {},
     "output_type": "execute_result"
    }
   ],
   "source": [
    "df_1 = pd.read_csv(\"train1.csv\")\n",
    "df_2 = pd.read_csv(\"train2.csv\")\n",
    "df_3 = pd.read_csv(\"train3.csv\")\n",
    "df = pd.concat([df_1,df_2,df_3],axis=1)\n",
    "df.head()"
   ],
   "metadata": {
    "collapsed": false,
    "ExecuteTime": {
     "end_time": "2024-03-10T17:32:12.376655Z",
     "start_time": "2024-03-10T17:32:10.895525Z"
    }
   },
   "id": "20afe5a2a66908ae",
   "execution_count": 2
  },
  {
   "cell_type": "code",
   "outputs": [],
   "source": [
    "df_X = df.drop(columns=[\"condition\"])\n",
    "df_y = df[\"condition\"]"
   ],
   "metadata": {
    "collapsed": false,
    "ExecuteTime": {
     "end_time": "2024-03-10T17:32:12.460528Z",
     "start_time": "2024-03-10T17:32:12.380717Z"
    }
   },
   "id": "e1e7688cd4c40d23",
   "execution_count": 3
  },
  {
   "cell_type": "code",
   "outputs": [],
   "source": [
    "important_features = [\"MEAN_RR\",\"RMSSD\",\"pNN25\", \"pNN50\", \"LF\", \"HF\", \"LF_HF\"]\n",
    "df_X_1 = df_X[important_features]\n",
    "df_y_1 = df_y.copy()"
   ],
   "metadata": {
    "collapsed": false,
    "ExecuteTime": {
     "end_time": "2024-03-10T17:32:13.357363Z",
     "start_time": "2024-03-10T17:32:13.346348Z"
    }
   },
   "id": "ce883e04ef03fdae",
   "execution_count": 4
  },
  {
   "cell_type": "code",
   "outputs": [
    {
     "data": {
      "text/plain": "      MEAN_RR      RMSSD      pNN25     pNN50           LF         HF  \\\n0  885.157845  15.554505  11.133333  0.533333  1009.249419  15.522602   \n1  939.425371  12.964439   5.600000  0.000000   690.113275   2.108525   \n2  898.186047  16.305279  13.066667  0.200000  1298.222619  13.769729   \n3  881.757864  15.720468  11.800000  0.133333  1005.981659  18.181913   \n4  809.625331  19.213819  20.200000  0.200000  1421.782051  48.215822   \n\n        LF_HF  \n0   65.018055  \n1  327.296635  \n2   94.280910  \n3   55.328701  \n4   29.487873  ",
      "text/html": "<div>\n<style scoped>\n    .dataframe tbody tr th:only-of-type {\n        vertical-align: middle;\n    }\n\n    .dataframe tbody tr th {\n        vertical-align: top;\n    }\n\n    .dataframe thead th {\n        text-align: right;\n    }\n</style>\n<table border=\"1\" class=\"dataframe\">\n  <thead>\n    <tr style=\"text-align: right;\">\n      <th></th>\n      <th>MEAN_RR</th>\n      <th>RMSSD</th>\n      <th>pNN25</th>\n      <th>pNN50</th>\n      <th>LF</th>\n      <th>HF</th>\n      <th>LF_HF</th>\n    </tr>\n  </thead>\n  <tbody>\n    <tr>\n      <th>0</th>\n      <td>885.157845</td>\n      <td>15.554505</td>\n      <td>11.133333</td>\n      <td>0.533333</td>\n      <td>1009.249419</td>\n      <td>15.522602</td>\n      <td>65.018055</td>\n    </tr>\n    <tr>\n      <th>1</th>\n      <td>939.425371</td>\n      <td>12.964439</td>\n      <td>5.600000</td>\n      <td>0.000000</td>\n      <td>690.113275</td>\n      <td>2.108525</td>\n      <td>327.296635</td>\n    </tr>\n    <tr>\n      <th>2</th>\n      <td>898.186047</td>\n      <td>16.305279</td>\n      <td>13.066667</td>\n      <td>0.200000</td>\n      <td>1298.222619</td>\n      <td>13.769729</td>\n      <td>94.280910</td>\n    </tr>\n    <tr>\n      <th>3</th>\n      <td>881.757864</td>\n      <td>15.720468</td>\n      <td>11.800000</td>\n      <td>0.133333</td>\n      <td>1005.981659</td>\n      <td>18.181913</td>\n      <td>55.328701</td>\n    </tr>\n    <tr>\n      <th>4</th>\n      <td>809.625331</td>\n      <td>19.213819</td>\n      <td>20.200000</td>\n      <td>0.200000</td>\n      <td>1421.782051</td>\n      <td>48.215822</td>\n      <td>29.487873</td>\n    </tr>\n  </tbody>\n</table>\n</div>"
     },
     "execution_count": 5,
     "metadata": {},
     "output_type": "execute_result"
    }
   ],
   "source": [
    "df_X_1.head()"
   ],
   "metadata": {
    "collapsed": false,
    "ExecuteTime": {
     "end_time": "2024-03-10T17:32:14.214021Z",
     "start_time": "2024-03-10T17:32:14.206075Z"
    }
   },
   "id": "974b24bbf6ed8040",
   "execution_count": 5
  },
  {
   "cell_type": "code",
   "outputs": [
    {
     "data": {
      "text/plain": "(1322.016957, 547.4922213)"
     },
     "execution_count": 6,
     "metadata": {},
     "output_type": "execute_result"
    }
   ],
   "source": [
    "df_X_1[\"MEAN_RR\"].max(), df_X_1[\"MEAN_RR\"].min()"
   ],
   "metadata": {
    "collapsed": false,
    "ExecuteTime": {
     "end_time": "2024-03-10T17:32:15.038469Z",
     "start_time": "2024-03-10T17:32:15.031678Z"
    }
   },
   "id": "b094bf0b9009be03",
   "execution_count": 6
  },
  {
   "cell_type": "code",
   "outputs": [
    {
     "data": {
      "text/plain": "(26.62947663, 5.529742166)"
     },
     "execution_count": 7,
     "metadata": {},
     "output_type": "execute_result"
    }
   ],
   "source": [
    "df_X_1[\"RMSSD\"].max(), df_X_1[\"RMSSD\"].min()"
   ],
   "metadata": {
    "collapsed": false,
    "ExecuteTime": {
     "end_time": "2024-03-10T17:32:15.710953Z",
     "start_time": "2024-03-10T17:32:15.700637Z"
    }
   },
   "id": "bb1903116ede379",
   "execution_count": 7
  },
  {
   "cell_type": "code",
   "outputs": [],
   "source": [
    "sc = StandardScaler()\n",
    "X = pd.DataFrame(sc.fit_transform(df_X_1),columns=df_X_1.columns)\n",
    "y = df_y_1.copy()"
   ],
   "metadata": {
    "collapsed": false,
    "ExecuteTime": {
     "end_time": "2024-03-10T17:32:16.138362Z",
     "start_time": "2024-03-10T17:32:16.079539Z"
    }
   },
   "id": "9ce5da599c40baec",
   "execution_count": 8
  },
  {
   "cell_type": "code",
   "outputs": [
    {
     "data": {
      "text/plain": "array([0, 1, 2], dtype=int64)"
     },
     "execution_count": 9,
     "metadata": {},
     "output_type": "execute_result"
    }
   ],
   "source": [
    "y.unique()"
   ],
   "metadata": {
    "collapsed": false,
    "ExecuteTime": {
     "end_time": "2024-03-10T17:32:16.739588Z",
     "start_time": "2024-03-10T17:32:16.732414Z"
    }
   },
   "id": "ab135c28ce8eda35",
   "execution_count": 9
  },
  {
   "cell_type": "markdown",
   "source": [
    "### Testing the model"
   ],
   "metadata": {
    "collapsed": false
   },
   "id": "96cfc8acd0d6268a"
  },
  {
   "cell_type": "code",
   "outputs": [
    {
     "data": {
      "text/plain": "(295431, 7)"
     },
     "execution_count": 10,
     "metadata": {},
     "output_type": "execute_result"
    }
   ],
   "source": [
    "X_train, X_val, y_train, y_val = train_test_split(X,y,test_size=0.2,random_state=np.random.randint(0,1000))\n",
    "X_train.shape"
   ],
   "metadata": {
    "collapsed": false,
    "ExecuteTime": {
     "end_time": "2024-03-10T17:32:17.866652Z",
     "start_time": "2024-03-10T17:32:17.815410Z"
    }
   },
   "id": "3481f3d15bea7721",
   "execution_count": 10
  },
  {
   "cell_type": "code",
   "outputs": [
    {
     "name": "stdout",
     "output_type": "stream",
     "text": [
      "WARNING:tensorflow:From C:\\Users\\amith\\AppData\\Local\\Programs\\Python\\Python311\\Lib\\site-packages\\keras\\src\\backend.py:873: The name tf.get_default_graph is deprecated. Please use tf.compat.v1.get_default_graph instead.\n"
     ]
    },
    {
     "ename": "ValueError",
     "evalue": "Unknown activation function '' cannot be deserialized.",
     "output_type": "error",
     "traceback": [
      "\u001B[1;31m---------------------------------------------------------------------------\u001B[0m",
      "\u001B[1;31mValueError\u001B[0m                                Traceback (most recent call last)",
      "Cell \u001B[1;32mIn[11], line 6\u001B[0m\n\u001B[0;32m      1\u001B[0m model \u001B[38;5;241m=\u001B[39m tf\u001B[38;5;241m.\u001B[39mkeras\u001B[38;5;241m.\u001B[39mmodels\u001B[38;5;241m.\u001B[39mSequential(layers\u001B[38;5;241m=\u001B[39m[\n\u001B[0;32m      2\u001B[0m     tf\u001B[38;5;241m.\u001B[39mkeras\u001B[38;5;241m.\u001B[39mlayers\u001B[38;5;241m.\u001B[39mDense(units\u001B[38;5;241m=\u001B[39m\u001B[38;5;241m64\u001B[39m, activation\u001B[38;5;241m=\u001B[39m\u001B[38;5;124m\"\u001B[39m\u001B[38;5;124mrelu\u001B[39m\u001B[38;5;124m\"\u001B[39m, input_shape\u001B[38;5;241m=\u001B[39m(X_train\u001B[38;5;241m.\u001B[39mshape[\u001B[38;5;241m1\u001B[39m],)),\n\u001B[0;32m      3\u001B[0m     tf\u001B[38;5;241m.\u001B[39mkeras\u001B[38;5;241m.\u001B[39mlayers\u001B[38;5;241m.\u001B[39mDense(units\u001B[38;5;241m=\u001B[39m\u001B[38;5;241m32\u001B[39m, activation\u001B[38;5;241m=\u001B[39m\u001B[38;5;124m\"\u001B[39m\u001B[38;5;124mrelu\u001B[39m\u001B[38;5;124m\"\u001B[39m),\n\u001B[0;32m      4\u001B[0m     tf\u001B[38;5;241m.\u001B[39mkeras\u001B[38;5;241m.\u001B[39mlayers\u001B[38;5;241m.\u001B[39mDense(units\u001B[38;5;241m=\u001B[39m\u001B[38;5;241m16\u001B[39m, activation\u001B[38;5;241m=\u001B[39m\u001B[38;5;124m\"\u001B[39m\u001B[38;5;124mrelu\u001B[39m\u001B[38;5;124m\"\u001B[39m),\n\u001B[0;32m      5\u001B[0m     tf\u001B[38;5;241m.\u001B[39mkeras\u001B[38;5;241m.\u001B[39mlayers\u001B[38;5;241m.\u001B[39mDense(units\u001B[38;5;241m=\u001B[39m\u001B[38;5;241m8\u001B[39m, activation\u001B[38;5;241m=\u001B[39m\u001B[38;5;124m\"\u001B[39m\u001B[38;5;124mrelu\u001B[39m\u001B[38;5;124m\"\u001B[39m),\n\u001B[1;32m----> 6\u001B[0m     \u001B[43mtf\u001B[49m\u001B[38;5;241;43m.\u001B[39;49m\u001B[43mkeras\u001B[49m\u001B[38;5;241;43m.\u001B[39;49m\u001B[43mlayers\u001B[49m\u001B[38;5;241;43m.\u001B[39;49m\u001B[43mDense\u001B[49m\u001B[43m(\u001B[49m\u001B[43munits\u001B[49m\u001B[38;5;241;43m=\u001B[39;49m\u001B[38;5;241;43m1\u001B[39;49m\u001B[43m,\u001B[49m\u001B[43m \u001B[49m\u001B[43mactivation\u001B[49m\u001B[38;5;241;43m=\u001B[39;49m\u001B[38;5;124;43m\"\u001B[39;49m\u001B[38;5;124;43m\"\u001B[39;49m\u001B[43m)\u001B[49m,\n\u001B[0;32m      7\u001B[0m ])\n",
      "File \u001B[1;32m~\\AppData\\Local\\Programs\\Python\\Python311\\Lib\\site-packages\\keras\\src\\dtensor\\utils.py:96\u001B[0m, in \u001B[0;36mallow_initializer_layout.<locals>._wrap_function\u001B[1;34m(layer_instance, *args, **kwargs)\u001B[0m\n\u001B[0;32m     93\u001B[0m         \u001B[38;5;28;01mif\u001B[39;00m layout:\n\u001B[0;32m     94\u001B[0m             layout_args[variable_name \u001B[38;5;241m+\u001B[39m \u001B[38;5;124m\"\u001B[39m\u001B[38;5;124m_layout\u001B[39m\u001B[38;5;124m\"\u001B[39m] \u001B[38;5;241m=\u001B[39m layout\n\u001B[1;32m---> 96\u001B[0m \u001B[43minit_method\u001B[49m\u001B[43m(\u001B[49m\u001B[43mlayer_instance\u001B[49m\u001B[43m,\u001B[49m\u001B[43m \u001B[49m\u001B[38;5;241;43m*\u001B[39;49m\u001B[43margs\u001B[49m\u001B[43m,\u001B[49m\u001B[43m \u001B[49m\u001B[38;5;241;43m*\u001B[39;49m\u001B[38;5;241;43m*\u001B[39;49m\u001B[43mkwargs\u001B[49m\u001B[43m)\u001B[49m\n\u001B[0;32m     98\u001B[0m \u001B[38;5;66;03m# Inject the layout parameter after the invocation of __init__()\u001B[39;00m\n\u001B[0;32m     99\u001B[0m \u001B[38;5;28;01mfor\u001B[39;00m layout_param_name, layout \u001B[38;5;129;01min\u001B[39;00m layout_args\u001B[38;5;241m.\u001B[39mitems():\n",
      "File \u001B[1;32m~\\AppData\\Local\\Programs\\Python\\Python311\\Lib\\site-packages\\keras\\src\\layers\\core\\dense.py:125\u001B[0m, in \u001B[0;36mDense.__init__\u001B[1;34m(self, units, activation, use_bias, kernel_initializer, bias_initializer, kernel_regularizer, bias_regularizer, activity_regularizer, kernel_constraint, bias_constraint, **kwargs)\u001B[0m\n\u001B[0;32m    120\u001B[0m \u001B[38;5;28;01mif\u001B[39;00m \u001B[38;5;28mself\u001B[39m\u001B[38;5;241m.\u001B[39munits \u001B[38;5;241m<\u001B[39m \u001B[38;5;241m0\u001B[39m:\n\u001B[0;32m    121\u001B[0m     \u001B[38;5;28;01mraise\u001B[39;00m \u001B[38;5;167;01mValueError\u001B[39;00m(\n\u001B[0;32m    122\u001B[0m         \u001B[38;5;124m\"\u001B[39m\u001B[38;5;124mReceived an invalid value for `units`, expected \u001B[39m\u001B[38;5;124m\"\u001B[39m\n\u001B[0;32m    123\u001B[0m         \u001B[38;5;124mf\u001B[39m\u001B[38;5;124m\"\u001B[39m\u001B[38;5;124ma positive integer. Received: units=\u001B[39m\u001B[38;5;132;01m{\u001B[39;00munits\u001B[38;5;132;01m}\u001B[39;00m\u001B[38;5;124m\"\u001B[39m\n\u001B[0;32m    124\u001B[0m     )\n\u001B[1;32m--> 125\u001B[0m \u001B[38;5;28mself\u001B[39m\u001B[38;5;241m.\u001B[39mactivation \u001B[38;5;241m=\u001B[39m \u001B[43mactivations\u001B[49m\u001B[38;5;241;43m.\u001B[39;49m\u001B[43mget\u001B[49m\u001B[43m(\u001B[49m\u001B[43mactivation\u001B[49m\u001B[43m)\u001B[49m\n\u001B[0;32m    126\u001B[0m \u001B[38;5;28mself\u001B[39m\u001B[38;5;241m.\u001B[39muse_bias \u001B[38;5;241m=\u001B[39m use_bias\n\u001B[0;32m    127\u001B[0m \u001B[38;5;28mself\u001B[39m\u001B[38;5;241m.\u001B[39mkernel_initializer \u001B[38;5;241m=\u001B[39m initializers\u001B[38;5;241m.\u001B[39mget(kernel_initializer)\n",
      "File \u001B[1;32m~\\AppData\\Local\\Programs\\Python\\Python311\\Lib\\site-packages\\tensorflow\\python\\util\\traceback_utils.py:153\u001B[0m, in \u001B[0;36mfilter_traceback.<locals>.error_handler\u001B[1;34m(*args, **kwargs)\u001B[0m\n\u001B[0;32m    151\u001B[0m \u001B[38;5;28;01mexcept\u001B[39;00m \u001B[38;5;167;01mException\u001B[39;00m \u001B[38;5;28;01mas\u001B[39;00m e:\n\u001B[0;32m    152\u001B[0m   filtered_tb \u001B[38;5;241m=\u001B[39m _process_traceback_frames(e\u001B[38;5;241m.\u001B[39m__traceback__)\n\u001B[1;32m--> 153\u001B[0m   \u001B[38;5;28;01mraise\u001B[39;00m e\u001B[38;5;241m.\u001B[39mwith_traceback(filtered_tb) \u001B[38;5;28;01mfrom\u001B[39;00m \u001B[38;5;28;01mNone\u001B[39;00m\n\u001B[0;32m    154\u001B[0m \u001B[38;5;28;01mfinally\u001B[39;00m:\n\u001B[0;32m    155\u001B[0m   \u001B[38;5;28;01mdel\u001B[39;00m filtered_tb\n",
      "File \u001B[1;32m~\\AppData\\Local\\Programs\\Python\\Python311\\Lib\\site-packages\\keras\\src\\activations.py:691\u001B[0m, in \u001B[0;36mget\u001B[1;34m(identifier)\u001B[0m\n\u001B[0;32m    685\u001B[0m \u001B[38;5;28;01mif\u001B[39;00m \u001B[38;5;28misinstance\u001B[39m(identifier, (\u001B[38;5;28mstr\u001B[39m, \u001B[38;5;28mdict\u001B[39m)):\n\u001B[0;32m    686\u001B[0m     use_legacy_format \u001B[38;5;241m=\u001B[39m (\n\u001B[0;32m    687\u001B[0m         \u001B[38;5;124m\"\u001B[39m\u001B[38;5;124mmodule\u001B[39m\u001B[38;5;124m\"\u001B[39m \u001B[38;5;129;01mnot\u001B[39;00m \u001B[38;5;129;01min\u001B[39;00m identifier\n\u001B[0;32m    688\u001B[0m         \u001B[38;5;28;01mif\u001B[39;00m \u001B[38;5;28misinstance\u001B[39m(identifier, \u001B[38;5;28mdict\u001B[39m)\n\u001B[0;32m    689\u001B[0m         \u001B[38;5;28;01melse\u001B[39;00m \u001B[38;5;28;01mFalse\u001B[39;00m\n\u001B[0;32m    690\u001B[0m     )\n\u001B[1;32m--> 691\u001B[0m     \u001B[38;5;28;01mreturn\u001B[39;00m \u001B[43mdeserialize\u001B[49m\u001B[43m(\u001B[49m\u001B[43midentifier\u001B[49m\u001B[43m,\u001B[49m\u001B[43m \u001B[49m\u001B[43muse_legacy_format\u001B[49m\u001B[38;5;241;43m=\u001B[39;49m\u001B[43muse_legacy_format\u001B[49m\u001B[43m)\u001B[49m\n\u001B[0;32m    692\u001B[0m \u001B[38;5;28;01melif\u001B[39;00m \u001B[38;5;28mcallable\u001B[39m(identifier):\n\u001B[0;32m    693\u001B[0m     \u001B[38;5;28;01mreturn\u001B[39;00m identifier\n",
      "File \u001B[1;32m~\\AppData\\Local\\Programs\\Python\\Python311\\Lib\\site-packages\\keras\\src\\activations.py:646\u001B[0m, in \u001B[0;36mdeserialize\u001B[1;34m(name, custom_objects, use_legacy_format)\u001B[0m\n\u001B[0;32m    638\u001B[0m returned_fn \u001B[38;5;241m=\u001B[39m serialization_lib\u001B[38;5;241m.\u001B[39mdeserialize_keras_object(\n\u001B[0;32m    639\u001B[0m     name,\n\u001B[0;32m    640\u001B[0m     module_objects\u001B[38;5;241m=\u001B[39mactivation_functions,\n\u001B[0;32m    641\u001B[0m     custom_objects\u001B[38;5;241m=\u001B[39mcustom_objects,\n\u001B[0;32m    642\u001B[0m     printable_module_name\u001B[38;5;241m=\u001B[39m\u001B[38;5;124m\"\u001B[39m\u001B[38;5;124mactivation function\u001B[39m\u001B[38;5;124m\"\u001B[39m,\n\u001B[0;32m    643\u001B[0m )\n\u001B[0;32m    645\u001B[0m \u001B[38;5;28;01mif\u001B[39;00m \u001B[38;5;28misinstance\u001B[39m(returned_fn, \u001B[38;5;28mstr\u001B[39m):\n\u001B[1;32m--> 646\u001B[0m     \u001B[38;5;28;01mraise\u001B[39;00m \u001B[38;5;167;01mValueError\u001B[39;00m(\n\u001B[0;32m    647\u001B[0m         \u001B[38;5;124mf\u001B[39m\u001B[38;5;124m\"\u001B[39m\u001B[38;5;124mUnknown activation function \u001B[39m\u001B[38;5;124m'\u001B[39m\u001B[38;5;132;01m{\u001B[39;00mname\u001B[38;5;132;01m}\u001B[39;00m\u001B[38;5;124m'\u001B[39m\u001B[38;5;124m cannot be deserialized.\u001B[39m\u001B[38;5;124m\"\u001B[39m\n\u001B[0;32m    648\u001B[0m     )\n\u001B[0;32m    650\u001B[0m \u001B[38;5;28;01mreturn\u001B[39;00m returned_fn\n",
      "\u001B[1;31mValueError\u001B[0m: Unknown activation function '' cannot be deserialized."
     ]
    }
   ],
   "source": [
    "model = tf.keras.models.Sequential(layers=[\n",
    "    tf.keras.layers.Dense(units=64, activation=\"relu\", input_shape=(X_train.shape[1],)),\n",
    "    tf.keras.layers.Dense(units=32, activation=\"relu\"),\n",
    "    tf.keras.layers.Dense(units=16, activation=\"relu\"),\n",
    "    tf.keras.layers.Dense(units=8, activation=\"relu\"),\n",
    "    tf.keras.layers.Dense(units=1, activation=\"\"),\n",
    "])"
   ],
   "metadata": {
    "collapsed": false,
    "ExecuteTime": {
     "end_time": "2024-03-10T17:32:18.540747Z",
     "start_time": "2024-03-10T17:32:18.207003Z"
    }
   },
   "id": "5992cf710c653802",
   "execution_count": 11
  },
  {
   "cell_type": "code",
   "outputs": [
    {
     "ename": "NameError",
     "evalue": "name 'model' is not defined",
     "output_type": "error",
     "traceback": [
      "\u001B[1;31m---------------------------------------------------------------------------\u001B[0m",
      "\u001B[1;31mNameError\u001B[0m                                 Traceback (most recent call last)",
      "Cell \u001B[1;32mIn[12], line 1\u001B[0m\n\u001B[1;32m----> 1\u001B[0m \u001B[43mmodel\u001B[49m\u001B[38;5;241m.\u001B[39mcompile(optimizer\u001B[38;5;241m=\u001B[39m\u001B[38;5;124m\"\u001B[39m\u001B[38;5;124madam\u001B[39m\u001B[38;5;124m\"\u001B[39m,loss\u001B[38;5;241m=\u001B[39m\u001B[38;5;124m\"\u001B[39m\u001B[38;5;124mcategorical_crossentropy\u001B[39m\u001B[38;5;124m\"\u001B[39m,metrics\u001B[38;5;241m=\u001B[39m[\u001B[38;5;124m\"\u001B[39m\u001B[38;5;124maccuracy\u001B[39m\u001B[38;5;124m\"\u001B[39m])\n",
      "\u001B[1;31mNameError\u001B[0m: name 'model' is not defined"
     ]
    }
   ],
   "source": [
    "model.compile(optimizer=\"adam\",loss=\"categorical_crossentropy\",metrics=[\"accuracy\"])"
   ],
   "metadata": {
    "collapsed": false,
    "ExecuteTime": {
     "end_time": "2024-03-10T17:32:18.692227Z",
     "start_time": "2024-03-10T17:32:18.671065Z"
    }
   },
   "id": "e194000c327b6956",
   "execution_count": 12
  },
  {
   "cell_type": "code",
   "outputs": [
    {
     "name": "stdout",
     "output_type": "stream",
     "text": [
      "Epoch 1/100\n",
      "4061/9233 [============>.................] - ETA: 8s - loss: nan - accuracy: 0.5428"
     ]
    }
   ],
   "source": [
    "model_history = model.fit(x=X_train,y=y_train,epochs=100,batch_size=32,verbose=1,validation_data=(X_val,y_val),shuffle=True,callbacks=tf.keras.callbacks.EarlyStopping(patience=2))"
   ],
   "metadata": {
    "collapsed": false,
    "ExecuteTime": {
     "start_time": "2024-02-27T21:35:46.117648Z"
    }
   },
   "id": "fa39e5de1a91eb0c",
   "execution_count": null
  },
  {
   "cell_type": "code",
   "outputs": [],
   "source": [],
   "metadata": {
    "collapsed": false
   },
   "id": "a1356b2ba8c9ffa"
  }
 ],
 "metadata": {
  "kernelspec": {
   "display_name": "Python 3",
   "language": "python",
   "name": "python3"
  },
  "language_info": {
   "codemirror_mode": {
    "name": "ipython",
    "version": 2
   },
   "file_extension": ".py",
   "mimetype": "text/x-python",
   "name": "python",
   "nbconvert_exporter": "python",
   "pygments_lexer": "ipython2",
   "version": "2.7.6"
  }
 },
 "nbformat": 4,
 "nbformat_minor": 5
}
