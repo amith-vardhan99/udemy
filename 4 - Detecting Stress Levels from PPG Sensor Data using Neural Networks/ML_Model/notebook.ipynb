{
 "cells": [
  {
   "cell_type": "code",
   "execution_count": 33,
   "id": "initial_id",
   "metadata": {
    "ExecuteTime": {
     "end_time": "2024-03-11T18:01:19.891134Z",
     "start_time": "2024-03-11T18:01:19.884443Z"
    }
   },
   "outputs": [],
   "source": [
    "import numpy as np\n",
    "import pandas as pd\n",
    "import matplotlib.pyplot as plt\n",
    "import seaborn as sns\n",
    "from sklearn.feature_selection import *\n",
    "from sklearn.preprocessing import *\n",
    "import warnings\n",
    "warnings.filterwarnings(\"ignore\")\n",
    "from sklearn.model_selection import *\n",
    "import tensorflow as tf\n",
    "from sklearn.metrics import *\n",
    "import joblib"
   ]
  },
  {
   "cell_type": "code",
   "execution_count": 34,
   "id": "ed0f8c0441547e56",
   "metadata": {
    "collapsed": false,
    "ExecuteTime": {
     "end_time": "2024-03-11T18:01:22.504303Z",
     "start_time": "2024-03-11T18:01:20.401272Z"
    }
   },
   "outputs": [
    {
     "data": {
      "text/plain": "      MEAN_RR   MEDIAN_RR        SDRR      RMSSD       SDSD  SDRR_RMSSD  \\\n0  885.157845  853.763730  140.972741  15.554505  15.553371    9.063146   \n1  939.425371  948.357865   81.317742  12.964439  12.964195    6.272369   \n2  898.186047  907.006860   84.497236  16.305279  16.305274    5.182201   \n3  881.757864  893.460030   90.370537  15.720468  15.720068    5.748591   \n4  809.625331  811.184865   62.766242  19.213819  19.213657    3.266724   \n\n          HR      pNN25     pNN50        SD1  ...         HF    HF_PCT  \\\n0  69.499952  11.133333  0.533333  11.001565  ...  15.522602  0.421047   \n1  64.363150   5.600000  0.000000   9.170129  ...   2.108525  0.070133   \n2  67.450066  13.066667  0.200000  11.533417  ...  13.769729  0.512671   \n3  68.809562  11.800000  0.133333  11.119476  ...  18.181913  0.529387   \n4  74.565728  20.200000  0.200000  13.590641  ...  48.215822  1.839473   \n\n      HF_NU           TP       LF_HF     HF_LF    sampen    higuci  datasetId  \\\n0  1.514737  3686.666157   65.018055  0.015380  2.139754  1.163485          2   \n1  0.304603  3006.487251  327.296635  0.003055  2.174499  1.084711          2   \n2  1.049528  2685.879461   94.280910  0.010607  2.135350  1.176315          2   \n3  1.775294  3434.520980   55.328701  0.018074  2.178341  1.179688          2   \n4  3.279993  2621.175204   29.487873  0.033912  2.221121  1.249612          2   \n\n   condition  \n0          0  \n1          1  \n2          1  \n3          0  \n4          0  \n\n[5 rows x 36 columns]",
      "text/html": "<div>\n<style scoped>\n    .dataframe tbody tr th:only-of-type {\n        vertical-align: middle;\n    }\n\n    .dataframe tbody tr th {\n        vertical-align: top;\n    }\n\n    .dataframe thead th {\n        text-align: right;\n    }\n</style>\n<table border=\"1\" class=\"dataframe\">\n  <thead>\n    <tr style=\"text-align: right;\">\n      <th></th>\n      <th>MEAN_RR</th>\n      <th>MEDIAN_RR</th>\n      <th>SDRR</th>\n      <th>RMSSD</th>\n      <th>SDSD</th>\n      <th>SDRR_RMSSD</th>\n      <th>HR</th>\n      <th>pNN25</th>\n      <th>pNN50</th>\n      <th>SD1</th>\n      <th>...</th>\n      <th>HF</th>\n      <th>HF_PCT</th>\n      <th>HF_NU</th>\n      <th>TP</th>\n      <th>LF_HF</th>\n      <th>HF_LF</th>\n      <th>sampen</th>\n      <th>higuci</th>\n      <th>datasetId</th>\n      <th>condition</th>\n    </tr>\n  </thead>\n  <tbody>\n    <tr>\n      <th>0</th>\n      <td>885.157845</td>\n      <td>853.763730</td>\n      <td>140.972741</td>\n      <td>15.554505</td>\n      <td>15.553371</td>\n      <td>9.063146</td>\n      <td>69.499952</td>\n      <td>11.133333</td>\n      <td>0.533333</td>\n      <td>11.001565</td>\n      <td>...</td>\n      <td>15.522602</td>\n      <td>0.421047</td>\n      <td>1.514737</td>\n      <td>3686.666157</td>\n      <td>65.018055</td>\n      <td>0.015380</td>\n      <td>2.139754</td>\n      <td>1.163485</td>\n      <td>2</td>\n      <td>0</td>\n    </tr>\n    <tr>\n      <th>1</th>\n      <td>939.425371</td>\n      <td>948.357865</td>\n      <td>81.317742</td>\n      <td>12.964439</td>\n      <td>12.964195</td>\n      <td>6.272369</td>\n      <td>64.363150</td>\n      <td>5.600000</td>\n      <td>0.000000</td>\n      <td>9.170129</td>\n      <td>...</td>\n      <td>2.108525</td>\n      <td>0.070133</td>\n      <td>0.304603</td>\n      <td>3006.487251</td>\n      <td>327.296635</td>\n      <td>0.003055</td>\n      <td>2.174499</td>\n      <td>1.084711</td>\n      <td>2</td>\n      <td>1</td>\n    </tr>\n    <tr>\n      <th>2</th>\n      <td>898.186047</td>\n      <td>907.006860</td>\n      <td>84.497236</td>\n      <td>16.305279</td>\n      <td>16.305274</td>\n      <td>5.182201</td>\n      <td>67.450066</td>\n      <td>13.066667</td>\n      <td>0.200000</td>\n      <td>11.533417</td>\n      <td>...</td>\n      <td>13.769729</td>\n      <td>0.512671</td>\n      <td>1.049528</td>\n      <td>2685.879461</td>\n      <td>94.280910</td>\n      <td>0.010607</td>\n      <td>2.135350</td>\n      <td>1.176315</td>\n      <td>2</td>\n      <td>1</td>\n    </tr>\n    <tr>\n      <th>3</th>\n      <td>881.757864</td>\n      <td>893.460030</td>\n      <td>90.370537</td>\n      <td>15.720468</td>\n      <td>15.720068</td>\n      <td>5.748591</td>\n      <td>68.809562</td>\n      <td>11.800000</td>\n      <td>0.133333</td>\n      <td>11.119476</td>\n      <td>...</td>\n      <td>18.181913</td>\n      <td>0.529387</td>\n      <td>1.775294</td>\n      <td>3434.520980</td>\n      <td>55.328701</td>\n      <td>0.018074</td>\n      <td>2.178341</td>\n      <td>1.179688</td>\n      <td>2</td>\n      <td>0</td>\n    </tr>\n    <tr>\n      <th>4</th>\n      <td>809.625331</td>\n      <td>811.184865</td>\n      <td>62.766242</td>\n      <td>19.213819</td>\n      <td>19.213657</td>\n      <td>3.266724</td>\n      <td>74.565728</td>\n      <td>20.200000</td>\n      <td>0.200000</td>\n      <td>13.590641</td>\n      <td>...</td>\n      <td>48.215822</td>\n      <td>1.839473</td>\n      <td>3.279993</td>\n      <td>2621.175204</td>\n      <td>29.487873</td>\n      <td>0.033912</td>\n      <td>2.221121</td>\n      <td>1.249612</td>\n      <td>2</td>\n      <td>0</td>\n    </tr>\n  </tbody>\n</table>\n<p>5 rows × 36 columns</p>\n</div>"
     },
     "execution_count": 34,
     "metadata": {},
     "output_type": "execute_result"
    }
   ],
   "source": [
    "df_1 = pd.read_csv(\"train1.csv\")\n",
    "df_2 = pd.read_csv(\"train2.csv\")\n",
    "df_3 = pd.read_csv(\"train3.csv\")\n",
    "\n",
    "df = pd.concat([df_1, df_2, df_3],axis=1)\n",
    "\n",
    "df.head()"
   ]
  },
  {
   "cell_type": "code",
   "execution_count": 35,
   "id": "9c9b7c910d312a7d",
   "metadata": {
    "collapsed": false,
    "ExecuteTime": {
     "end_time": "2024-03-11T18:01:23.183762Z",
     "start_time": "2024-03-11T18:01:23.140733Z"
    }
   },
   "outputs": [
    {
     "data": {
      "text/plain": "Index(['MEAN_RR', 'MEDIAN_RR', 'SDRR', 'RMSSD', 'SDSD', 'SDRR_RMSSD', 'HR',\n       'pNN25', 'pNN50', 'SD1', 'SD2', 'KURT', 'SKEW', 'MEAN_REL_RR',\n       'MEDIAN_REL_RR', 'SDRR_REL_RR', 'RMSSD_REL_RR', 'SDSD_REL_RR',\n       'SDRR_RMSSD_REL_RR', 'KURT_REL_RR', 'SKEW_REL_RR', 'VLF', 'VLF_PCT',\n       'LF', 'LF_PCT', 'LF_NU', 'HF', 'HF_PCT', 'HF_NU', 'TP', 'LF_HF',\n       'HF_LF', 'sampen', 'higuci', 'datasetId'],\n      dtype='object')"
     },
     "execution_count": 35,
     "metadata": {},
     "output_type": "execute_result"
    }
   ],
   "source": [
    "df_X = df.drop(columns=[\"condition\"])\n",
    "df_y = df[\"condition\"]\n",
    "\n",
    "df_X.columns"
   ]
  },
  {
   "cell_type": "code",
   "execution_count": 36,
   "id": "81c932d8174afd6a",
   "metadata": {
    "collapsed": false,
    "ExecuteTime": {
     "end_time": "2024-03-11T18:01:23.743897Z",
     "start_time": "2024-03-11T18:01:23.727856Z"
    }
   },
   "outputs": [],
   "source": [
    "important_features = [\"MEAN_RR\", \"RMSSD\", \"pNN25\", \"pNN50\", \"LF\", \"HF\", \"LF_HF\"]\n",
    "df_X_1 = df_X[important_features]\n",
    "df_y_1 = df_y.copy()"
   ]
  },
  {
   "cell_type": "code",
   "execution_count": 37,
   "id": "7322a6502786c158",
   "metadata": {
    "collapsed": false,
    "ExecuteTime": {
     "end_time": "2024-03-11T18:01:24.405357Z",
     "start_time": "2024-03-11T18:01:24.341486Z"
    }
   },
   "outputs": [],
   "source": [
    "sc = StandardScaler()\n",
    "X = pd.DataFrame(sc.fit_transform(df_X_1),columns=df_X_1.columns)\n",
    "y = df_y_1.copy()"
   ]
  },
  {
   "cell_type": "code",
   "execution_count": 38,
   "id": "71c0107f0ee44cfa",
   "metadata": {
    "collapsed": false,
    "ExecuteTime": {
     "end_time": "2024-03-11T18:01:25.573278Z",
     "start_time": "2024-03-11T18:01:25.562017Z"
    }
   },
   "outputs": [
    {
     "data": {
      "text/plain": "array([0, 1, 2], dtype=int64)"
     },
     "execution_count": 38,
     "metadata": {},
     "output_type": "execute_result"
    }
   ],
   "source": [
    "y.unique()"
   ]
  },
  {
   "cell_type": "markdown",
   "id": "93df481adf9fe87b",
   "metadata": {
    "collapsed": false
   },
   "source": [
    "### Testing the model"
   ]
  },
  {
   "cell_type": "code",
   "execution_count": 39,
   "id": "4a8f2ddb50c731f4",
   "metadata": {
    "collapsed": false,
    "ExecuteTime": {
     "end_time": "2024-03-11T18:01:27.727406Z",
     "start_time": "2024-03-11T18:01:27.622788Z"
    }
   },
   "outputs": [
    {
     "data": {
      "text/plain": "(236344, 7)"
     },
     "execution_count": 39,
     "metadata": {},
     "output_type": "execute_result"
    }
   ],
   "source": [
    "X_train_val, X_test, y_train_val, y_test = train_test_split(X, y, test_size=0.2, random_state=np.random.randint(0,1000))\n",
    "X_train, X_val, y_train, y_val = train_test_split(X_train_val, y_train_val, test_size=0.2, random_state=np.random.randint(0,1000))\n",
    "X_train.shape"
   ]
  },
  {
   "cell_type": "code",
   "execution_count": 40,
   "id": "b0239dae19d1cbef",
   "metadata": {
    "collapsed": false,
    "ExecuteTime": {
     "end_time": "2024-03-11T18:01:28.356904Z",
     "start_time": "2024-03-11T18:01:28.288533Z"
    }
   },
   "outputs": [],
   "source": [
    "model_1 = tf.keras.models.Sequential(layers=[\n",
    "    tf.keras.layers.Dense(units=64, activation=\"relu\", input_shape=(X_train.shape[1],)),\n",
    "    tf.keras.layers.Dense(units=32, activation=\"relu\"),\n",
    "    tf.keras.layers.Dense(units=16, activation=\"relu\"),\n",
    "    tf.keras.layers.Dense(units=8, activation=\"relu\"),\n",
    "    tf.keras.layers.Dense(units=1, activation=\"softmax\")\n",
    "])"
   ]
  },
  {
   "cell_type": "code",
   "execution_count": 41,
   "id": "aff75d227662723c",
   "metadata": {
    "collapsed": false,
    "ExecuteTime": {
     "end_time": "2024-03-11T18:01:28.664095Z",
     "start_time": "2024-03-11T18:01:28.651908Z"
    }
   },
   "outputs": [],
   "source": [
    "model_1.compile(optimizer=\"adam\", loss=\"categorical_crossentropy\", metrics=[\"accuracy\"])"
   ]
  },
  {
   "cell_type": "code",
   "execution_count": 42,
   "id": "a0008a6f1f2e8bab",
   "metadata": {
    "collapsed": false,
    "ExecuteTime": {
     "end_time": "2024-03-11T18:02:08.963582Z",
     "start_time": "2024-03-11T18:01:28.989429Z"
    }
   },
   "outputs": [
    {
     "name": "stdout",
     "output_type": "stream",
     "text": [
      "Epoch 1/100\n",
      "7386/7386 [==============================] - 13s 2ms/step - loss: 0.0000e+00 - accuracy: 0.2854 - val_loss: 0.0000e+00 - val_accuracy: 0.2847\n",
      "Epoch 2/100\n",
      "7386/7386 [==============================] - 12s 2ms/step - loss: 0.0000e+00 - accuracy: 0.2854 - val_loss: 0.0000e+00 - val_accuracy: 0.2847\n",
      "Epoch 3/100\n",
      "7386/7386 [==============================] - 15s 2ms/step - loss: 0.0000e+00 - accuracy: 0.2854 - val_loss: 0.0000e+00 - val_accuracy: 0.2847\n"
     ]
    },
    {
     "data": {
      "text/plain": "<keras.src.callbacks.History at 0x236aa290d10>"
     },
     "execution_count": 42,
     "metadata": {},
     "output_type": "execute_result"
    }
   ],
   "source": [
    "model_1.fit(X_train, y_train, batch_size=32, epochs=100, verbose=1, callbacks=tf.keras.callbacks.EarlyStopping(patience=2), validation_data=(X_val, y_val), shuffle=True)"
   ]
  },
  {
   "cell_type": "code",
   "execution_count": 43,
   "id": "a413aba9190312d3",
   "metadata": {
    "collapsed": false,
    "ExecuteTime": {
     "end_time": "2024-03-11T18:02:11.934827Z",
     "start_time": "2024-03-11T18:02:08.964684Z"
    }
   },
   "outputs": [
    {
     "name": "stdout",
     "output_type": "stream",
     "text": [
      "2309/2309 [==============================] - 3s 1ms/step - loss: 0.0000e+00 - accuracy: 0.2826\n"
     ]
    }
   ],
   "source": [
    "cat_cross_entropy_loss, accuracy_score = model_1.evaluate(X_test, y_test)"
   ]
  },
  {
   "cell_type": "code",
   "execution_count": 44,
   "id": "33d8ff82b1ee1773",
   "metadata": {
    "collapsed": false,
    "ExecuteTime": {
     "end_time": "2024-03-11T18:02:12.618982Z",
     "start_time": "2024-03-11T18:02:12.613240Z"
    }
   },
   "outputs": [
    {
     "data": {
      "text/plain": "0.0"
     },
     "execution_count": 44,
     "metadata": {},
     "output_type": "execute_result"
    }
   ],
   "source": [
    "cat_cross_entropy_loss"
   ]
  },
  {
   "cell_type": "code",
   "execution_count": 45,
   "id": "8dee146bfcd64662",
   "metadata": {
    "collapsed": false,
    "ExecuteTime": {
     "end_time": "2024-03-11T18:02:13.323925Z",
     "start_time": "2024-03-11T18:02:13.318442Z"
    }
   },
   "outputs": [
    {
     "data": {
      "text/plain": "0.28"
     },
     "execution_count": 45,
     "metadata": {},
     "output_type": "execute_result"
    }
   ],
   "source": [
    "round(accuracy_score,2)"
   ]
  },
  {
   "cell_type": "code",
   "execution_count": 46,
   "id": "ba5177098f12cb42",
   "metadata": {
    "collapsed": false,
    "ExecuteTime": {
     "end_time": "2024-03-11T18:02:17.268045Z",
     "start_time": "2024-03-11T18:02:13.707297Z"
    }
   },
   "outputs": [
    {
     "name": "stdout",
     "output_type": "stream",
     "text": [
      "2309/2309 [==============================] - 3s 1ms/step\n"
     ]
    }
   ],
   "source": [
    "y_pred = model_1.predict(X_test)"
   ]
  },
  {
   "cell_type": "code",
   "execution_count": 47,
   "id": "4f14955dd521c81d",
   "metadata": {
    "collapsed": false,
    "ExecuteTime": {
     "end_time": "2024-03-11T18:02:17.280335Z",
     "start_time": "2024-03-11T18:02:17.271185Z"
    }
   },
   "outputs": [
    {
     "data": {
      "text/plain": "0.85"
     },
     "execution_count": 47,
     "metadata": {},
     "output_type": "execute_result"
    }
   ],
   "source": [
    "root_mean_squared_error = np.round(np.sqrt(mean_squared_error(y_test, y_pred)),2)\n",
    "root_mean_squared_error"
   ]
  },
  {
   "cell_type": "markdown",
   "id": "8283f680c22eeaf4",
   "metadata": {
    "collapsed": false
   },
   "source": [
    "### Final Prediction of testing set"
   ]
  },
  {
   "cell_type": "code",
   "execution_count": 48,
   "id": "94a69d92987a2830",
   "metadata": {
    "collapsed": false,
    "ExecuteTime": {
     "end_time": "2024-03-11T18:02:18.361984Z",
     "start_time": "2024-03-11T18:02:18.176809Z"
    }
   },
   "outputs": [],
   "source": [
    "X_train_2, X_val_2, y_train_2, y_val_2 = train_test_split(X,y,test_size=0.2,random_state=np.random.randint(0,1000))\n",
    "test_df = pd.read_csv(\"test.csv\")\n",
    "X_test_2 = pd.DataFrame(sc.fit_transform(test_df[important_features]),columns=important_features)\n",
    "y_test_2 = test_df[\"condition\"]"
   ]
  },
  {
   "cell_type": "code",
   "execution_count": 49,
   "id": "3c0455f87a0bb8b4",
   "metadata": {
    "collapsed": false,
    "ExecuteTime": {
     "end_time": "2024-03-11T18:02:18.566770Z",
     "start_time": "2024-03-11T18:02:18.516200Z"
    }
   },
   "outputs": [],
   "source": [
    "model_2 = tf.keras.models.Sequential(layers=[\n",
    "    tf.keras.layers.Dense(units=64, activation=\"relu\", input_shape=(X_train_2.shape[1],)),\n",
    "    tf.keras.layers.Dense(units=32, activation=\"relu\"),\n",
    "    tf.keras.layers.Dense(units=16, activation=\"relu\"),\n",
    "    tf.keras.layers.Dense(units=8, activation=\"relu\"),\n",
    "    tf.keras.layers.Dense(units=1, activation=\"softmax\")\n",
    "])"
   ]
  },
  {
   "cell_type": "code",
   "execution_count": 50,
   "id": "90f0452723950637",
   "metadata": {
    "collapsed": false,
    "ExecuteTime": {
     "end_time": "2024-03-11T18:02:19.236855Z",
     "start_time": "2024-03-11T18:02:19.224828Z"
    }
   },
   "outputs": [],
   "source": [
    "model_2.compile(optimizer=\"adam\", loss=\"categorical_crossentropy\", metrics=[\"accuracy\"])"
   ]
  },
  {
   "cell_type": "code",
   "execution_count": 51,
   "id": "500958c9f6210a29",
   "metadata": {
    "collapsed": false,
    "ExecuteTime": {
     "end_time": "2024-03-11T18:03:06.574552Z",
     "start_time": "2024-03-11T18:02:19.851821Z"
    }
   },
   "outputs": [
    {
     "name": "stdout",
     "output_type": "stream",
     "text": [
      "Epoch 1/100\n",
      "9233/9233 [==============================] - 16s 2ms/step - loss: 0.0000e+00 - accuracy: 0.2848 - val_loss: 0.0000e+00 - val_accuracy: 0.2844\n",
      "Epoch 2/100\n",
      "9233/9233 [==============================] - 15s 2ms/step - loss: 0.0000e+00 - accuracy: 0.2848 - val_loss: 0.0000e+00 - val_accuracy: 0.2844\n",
      "Epoch 3/100\n",
      "9233/9233 [==============================] - 15s 2ms/step - loss: 0.0000e+00 - accuracy: 0.2848 - val_loss: 0.0000e+00 - val_accuracy: 0.2844\n"
     ]
    },
    {
     "data": {
      "text/plain": "<keras.src.callbacks.History at 0x236a3d032d0>"
     },
     "execution_count": 51,
     "metadata": {},
     "output_type": "execute_result"
    }
   ],
   "source": [
    "model_2.fit(X_train_2, y_train_2, batch_size=32, epochs=100, verbose=1, callbacks=tf.keras.callbacks.EarlyStopping(patience=2), validation_data=(X_val_2, y_val_2), shuffle=True)"
   ]
  },
  {
   "cell_type": "code",
   "execution_count": 52,
   "id": "e14bb1cc9710ac74",
   "metadata": {
    "collapsed": false,
    "ExecuteTime": {
     "end_time": "2024-03-11T18:03:15.229567Z",
     "start_time": "2024-03-11T18:03:13.433239Z"
    }
   },
   "outputs": [
    {
     "name": "stdout",
     "output_type": "stream",
     "text": [
      "1283/1283 [==============================] - 2s 1ms/step - loss: 0.0000e+00 - accuracy: 0.2871\n"
     ]
    }
   ],
   "source": [
    "cat_cross_entropy_loss_2, accuracy_score_2 = model_2.evaluate(X_test_2, y_test_2)"
   ]
  },
  {
   "cell_type": "code",
   "execution_count": 53,
   "id": "92bbaa3bf85d31ac",
   "metadata": {
    "collapsed": false,
    "ExecuteTime": {
     "end_time": "2024-03-11T18:03:15.689639Z",
     "start_time": "2024-03-11T18:03:15.684002Z"
    }
   },
   "outputs": [
    {
     "data": {
      "text/plain": "0.0"
     },
     "execution_count": 53,
     "metadata": {},
     "output_type": "execute_result"
    }
   ],
   "source": [
    "cat_cross_entropy_loss_2"
   ]
  },
  {
   "cell_type": "code",
   "execution_count": 54,
   "id": "d62c94232ac200a7",
   "metadata": {
    "collapsed": false,
    "ExecuteTime": {
     "end_time": "2024-03-11T18:03:16.104316Z",
     "start_time": "2024-03-11T18:03:16.099718Z"
    }
   },
   "outputs": [
    {
     "data": {
      "text/plain": "0.29"
     },
     "execution_count": 54,
     "metadata": {},
     "output_type": "execute_result"
    }
   ],
   "source": [
    "round(accuracy_score_2,2)"
   ]
  },
  {
   "cell_type": "code",
   "execution_count": 55,
   "id": "cb19db4dab5547c3",
   "metadata": {
    "collapsed": false,
    "ExecuteTime": {
     "end_time": "2024-03-11T18:03:19.311914Z",
     "start_time": "2024-03-11T18:03:16.597129Z"
    }
   },
   "outputs": [
    {
     "name": "stdout",
     "output_type": "stream",
     "text": [
      "1283/1283 [==============================] - 1s 939us/step\n"
     ]
    }
   ],
   "source": [
    "y_pred_2 = model_2.predict(X_test_2)"
   ]
  },
  {
   "cell_type": "code",
   "execution_count": 56,
   "id": "b0206c5734a28668",
   "metadata": {
    "collapsed": false,
    "ExecuteTime": {
     "end_time": "2024-03-11T18:03:19.360346Z",
     "start_time": "2024-03-11T18:03:19.323757Z"
    }
   },
   "outputs": [
    {
     "data": {
      "text/plain": "0.84"
     },
     "execution_count": 56,
     "metadata": {},
     "output_type": "execute_result"
    }
   ],
   "source": [
    "root_mean_squared_error_2 = np.round(np.sqrt(mean_squared_error(y_test_2, y_pred_2)),2)\n",
    "root_mean_squared_error_2"
   ]
  },
  {
   "cell_type": "code",
   "execution_count": 57,
   "id": "4a6093803be9cf9c",
   "metadata": {
    "collapsed": false,
    "ExecuteTime": {
     "end_time": "2024-03-11T18:03:19.859096Z",
     "start_time": "2024-03-11T18:03:19.838157Z"
    }
   },
   "outputs": [],
   "source": [
    "joblib.dump(value=sc,filename=\"scaler.joblib\",compress=9)\n",
    "model_2.save(\"model.h5\")"
   ]
  },
  {
   "cell_type": "code",
   "execution_count": 25,
   "id": "9849bc0e8fcdf6d8",
   "metadata": {
    "collapsed": false,
    "ExecuteTime": {
     "end_time": "2024-03-11T15:56:55.468917Z",
     "start_time": "2024-03-11T15:56:55.463701Z"
    }
   },
   "outputs": [],
   "source": []
  },
  {
   "cell_type": "code",
   "execution_count": 25,
   "id": "868cde885dda7828",
   "metadata": {
    "collapsed": false,
    "ExecuteTime": {
     "end_time": "2024-03-11T15:56:56.413752Z",
     "start_time": "2024-03-11T15:56:56.408874Z"
    }
   },
   "outputs": [],
   "source": []
  },
  {
   "cell_type": "code",
   "execution_count": null,
   "id": "b14fe25efea3ea04",
   "metadata": {
    "collapsed": false
   },
   "outputs": [],
   "source": []
  }
 ],
 "metadata": {
  "kernelspec": {
   "display_name": "Python 3 (ipykernel)",
   "language": "python",
   "name": "python3"
  },
  "language_info": {
   "codemirror_mode": {
    "name": "ipython",
    "version": 3
   },
   "file_extension": ".py",
   "mimetype": "text/x-python",
   "name": "python",
   "nbconvert_exporter": "python",
   "pygments_lexer": "ipython3",
   "version": "3.11.8"
  }
 },
 "nbformat": 4,
 "nbformat_minor": 5
}
