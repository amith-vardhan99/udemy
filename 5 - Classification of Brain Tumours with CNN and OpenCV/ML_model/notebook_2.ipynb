{
 "cells": [
  {
   "cell_type": "code",
   "execution_count": 2,
   "id": "initial_id",
   "metadata": {
    "ExecuteTime": {
     "end_time": "2024-02-25T02:19:52.938032Z",
     "start_time": "2024-02-25T02:19:47.887767Z"
    },
    "collapsed": true
   },
   "outputs": [
    {
     "name": "stdout",
     "output_type": "stream",
     "text": [
      "WARNING:tensorflow:From C:\\Users\\amith\\AppData\\Local\\Programs\\Python\\Python311\\Lib\\site-packages\\keras\\src\\losses.py:2976: The name tf.losses.sparse_softmax_cross_entropy is deprecated. Please use tf.compat.v1.losses.sparse_softmax_cross_entropy instead.\n"
     ]
    }
   ],
   "source": [
    "import os\n",
    "import numpy as np\n",
    "import pandas as pd\n",
    "import matplotlib.pyplot as plt\n",
    "import seaborn as sns\n",
    "import tensorflow as tf\n",
    "import cv2\n",
    "import warnings\n",
    "warnings.filterwarnings(\"ignore\")\n",
    "import shutil\n",
    "from sklearn.metrics import *\n",
    "import cv2"
   ]
  },
  {
   "cell_type": "code",
   "execution_count": 3,
   "id": "6712dc7a5ac4e42c",
   "metadata": {
    "ExecuteTime": {
     "end_time": "2024-02-25T02:20:00.148919Z",
     "start_time": "2024-02-25T02:19:59.473370Z"
    },
    "collapsed": false
   },
   "outputs": [
    {
     "name": "stdout",
     "output_type": "stream",
     "text": [
      "WARNING:tensorflow:From C:\\Users\\amith\\AppData\\Local\\Programs\\Python\\Python311\\Lib\\site-packages\\keras\\src\\backend.py:1398: The name tf.executing_eagerly_outside_functions is deprecated. Please use tf.compat.v1.executing_eagerly_outside_functions instead.\n",
      "WARNING:tensorflow:From C:\\Users\\amith\\AppData\\Local\\Programs\\Python\\Python311\\Lib\\site-packages\\keras\\src\\layers\\pooling\\max_pooling2d.py:161: The name tf.nn.max_pool is deprecated. Please use tf.nn.max_pool2d instead.\n"
     ]
    }
   ],
   "source": [
    "model = tf.keras.models.load_model(\"model.h5\")"
   ]
  },
  {
   "cell_type": "code",
   "execution_count": 7,
   "id": "888410d2e9ffe20a",
   "metadata": {
    "ExecuteTime": {
     "end_time": "2024-02-25T02:21:05.086673Z",
     "start_time": "2024-02-25T02:21:05.073904Z"
    },
    "collapsed": false
   },
   "outputs": [
    {
     "data": {
      "text/plain": [
       "'C:\\\\Users\\\\amith\\\\Documents\\\\GitHub\\\\udemy\\\\Classification of Brain Tumours with CNN and OpenCV\\\\ML_model\\\\data\\\\test\\\\No\\\\Not Cancer  (101).jpg'"
      ]
     },
     "execution_count": 7,
     "metadata": {},
     "output_type": "execute_result"
    }
   ],
   "source": [
    "img_ref = \"C:\\\\Users\\\\amith\\\\Documents\\\\GitHub\\\\udemy\\\\Classification of Brain Tumours with CNN and OpenCV\\\\ML_model\\\\data\\\\test\\\\No\\\\\"\n",
    "img_list = os.listdir(img_ref)\n",
    "img_path = img_ref + img_list[0]\n",
    "img_path"
   ]
  },
  {
   "cell_type": "code",
   "execution_count": 9,
   "id": "63aabdf71d312c20",
   "metadata": {
    "ExecuteTime": {
     "end_time": "2024-02-25T02:22:28.844006Z",
     "start_time": "2024-02-25T02:22:28.836318Z"
    },
    "collapsed": false
   },
   "outputs": [],
   "source": [
    "def image_preprocessing(img_path):\n",
    "    img_org = cv2.imread(img_path)\n",
    "    img_grey = cv2.cvtColor(img_org, cv2.COLOR_BGR2GRAY)\n",
    "    img = cv2.resize(src=img_grey, dsize=(128,128))\n",
    "    img = img / 255.0\n",
    "    img = img.reshape((1,128,128,1))\n",
    "    return img"
   ]
  },
  {
   "cell_type": "code",
   "execution_count": 11,
   "id": "e42c51b45b5c74f7",
   "metadata": {
    "ExecuteTime": {
     "end_time": "2024-02-25T02:23:17.447735Z",
     "start_time": "2024-02-25T02:23:17.440920Z"
    },
    "collapsed": false
   },
   "outputs": [],
   "source": [
    "def predict_result(img, model):\n",
    "    pred = int(model.predict(img,verbose=0)[0][0])\n",
    "    return pred"
   ]
  },
  {
   "cell_type": "code",
   "execution_count": 13,
   "id": "4fb9269db565ae14",
   "metadata": {
    "ExecuteTime": {
     "end_time": "2024-02-25T02:23:51.221804Z",
     "start_time": "2024-02-25T02:23:51.119714Z"
    },
    "collapsed": false
   },
   "outputs": [
    {
     "data": {
      "text/plain": [
       "1"
      ]
     },
     "execution_count": 13,
     "metadata": {},
     "output_type": "execute_result"
    }
   ],
   "source": [
    "predict_result(image_preprocessing(img_path),model)"
   ]
  },
  {
   "cell_type": "code",
   "execution_count": null,
   "id": "8a0dc00eacc84443",
   "metadata": {
    "collapsed": false
   },
   "outputs": [],
   "source": []
  }
 ],
 "metadata": {
  "kernelspec": {
   "display_name": "Python 3",
   "language": "python",
   "name": "python3"
  },
  "language_info": {
   "codemirror_mode": {
    "name": "ipython",
    "version": 2
   },
   "file_extension": ".py",
   "mimetype": "text/x-python",
   "name": "python",
   "nbconvert_exporter": "python",
   "pygments_lexer": "ipython2",
   "version": "3.10.11"
  }
 },
 "nbformat": 4,
 "nbformat_minor": 5
}
