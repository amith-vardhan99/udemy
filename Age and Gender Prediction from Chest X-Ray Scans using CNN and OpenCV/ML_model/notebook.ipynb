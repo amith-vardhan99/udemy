{
 "cells": [
  {
   "cell_type": "code",
   "execution_count": 15,
   "id": "initial_id",
   "metadata": {
    "collapsed": true,
    "ExecuteTime": {
     "end_time": "2024-02-29T15:43:22.362689Z",
     "start_time": "2024-02-29T15:43:22.357138Z"
    }
   },
   "outputs": [],
   "source": [
    "import numpy as np\n",
    "import pandas as pd\n",
    "import matplotlib.pyplot as plt\n",
    "import seaborn as sns\n",
    "import os"
   ]
  },
  {
   "cell_type": "code",
   "outputs": [],
   "source": [
    "os.environ[\"KAGGLE_USERNAME\"] = \"amithsurasani\"\n",
    "os.environ[\"KAGGLE_KEY\"] = \"e366f530535dfa85184b503e42c7ce1c\""
   ],
   "metadata": {
    "collapsed": false,
    "ExecuteTime": {
     "end_time": "2024-02-29T15:43:22.761237Z",
     "start_time": "2024-02-29T15:43:22.757033Z"
    }
   },
   "id": "57f5fec4d3adb378",
   "execution_count": 16
  },
  {
   "cell_type": "code",
   "outputs": [],
   "source": [
    "name_of_dataset = \"felipekitamura/spr-x-ray-age-and-gender-dataset\"\n",
    "download_path = \"C:/Users/amith/Documents/GitHub/udemy/Age and Gender Prediction from Chest X-Ray Scans using CNN and OpenCV/data\"\n",
    "os.system(f\"kaggle datasets download -d felipekitamura/spr-x-ray-age-and-gender-dataset\")\n",
    "print(\"Download over!\")"
   ],
   "metadata": {
    "collapsed": false,
    "is_executing": true,
    "ExecuteTime": {
     "start_time": "2024-02-29T15:43:54.051010Z"
    }
   },
   "id": "b5c01b46288f411f",
   "execution_count": null
  },
  {
   "cell_type": "code",
   "outputs": [
    {
     "data": {
      "text/plain": "['app', 'ML_model']"
     },
     "execution_count": 14,
     "metadata": {},
     "output_type": "execute_result"
    }
   ],
   "source": [
    "os.listdir(\"C:/Users/amith/Documents/GitHub/udemy/Age and Gender Prediction from Chest X-Ray Scans using CNN and OpenCV\")"
   ],
   "metadata": {
    "collapsed": false,
    "ExecuteTime": {
     "end_time": "2024-02-29T15:43:15.409747Z",
     "start_time": "2024-02-29T15:43:15.405026Z"
    }
   },
   "id": "473d65d13c4a233b",
   "execution_count": 14
  },
  {
   "cell_type": "code",
   "outputs": [],
   "source": [],
   "metadata": {
    "collapsed": false
   },
   "id": "ede11ad53b97391"
  }
 ],
 "metadata": {
  "kernelspec": {
   "display_name": "Python 3",
   "language": "python",
   "name": "python3"
  },
  "language_info": {
   "codemirror_mode": {
    "name": "ipython",
    "version": 2
   },
   "file_extension": ".py",
   "mimetype": "text/x-python",
   "name": "python",
   "nbconvert_exporter": "python",
   "pygments_lexer": "ipython2",
   "version": "2.7.6"
  }
 },
 "nbformat": 4,
 "nbformat_minor": 5
}
