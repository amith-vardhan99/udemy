{
 "cells": [
  {
   "cell_type": "code",
   "execution_count": 1,
   "id": "initial_id",
   "metadata": {
    "collapsed": true,
    "ExecuteTime": {
     "end_time": "2024-03-04T20:54:50.964452Z",
     "start_time": "2024-03-04T20:54:44.400527Z"
    }
   },
   "outputs": [
    {
     "name": "stdout",
     "output_type": "stream",
     "text": [
      "WARNING:tensorflow:From C:\\Users\\amith\\AppData\\Local\\Programs\\Python\\Python311\\Lib\\site-packages\\keras\\src\\losses.py:2976: The name tf.losses.sparse_softmax_cross_entropy is deprecated. Please use tf.compat.v1.losses.sparse_softmax_cross_entropy instead.\n"
     ]
    }
   ],
   "source": [
    "import numpy as np\n",
    "import pandas as pd\n",
    "import matplotlib.pyplot as plt\n",
    "import seaborn as sns\n",
    "import os\n",
    "import opendatasets as od\n",
    "import tensorflow as tf\n",
    "import cv2\n",
    "from tqdm import *"
   ]
  },
  {
   "cell_type": "code",
   "outputs": [],
   "source": [
    "dataset_directory = \"C:\\\\Users\\\\amith\\\\Documents\\\\Datasets\\\\kaggle\\\\kaggle\".replace(\"\\\\\",\"/\")\n",
    "csv_directory = \"C:\\\\Users\\\\amith\\\\Documents\\\\Datasets\".replace(\"\\\\\",\"/\")"
   ],
   "metadata": {
    "collapsed": false,
    "ExecuteTime": {
     "end_time": "2024-03-04T20:54:52.509593Z",
     "start_time": "2024-03-04T20:54:52.505979Z"
    }
   },
   "id": "ede11ad53b97391",
   "execution_count": 2
  },
  {
   "cell_type": "code",
   "outputs": [],
   "source": [
    "train_val_age = pd.read_csv(csv_directory + \"/train_age.csv\").sort_values(by=\"imageId\")\n",
    "train_val_gender = pd.read_csv(csv_directory + \"/train_gender.csv\").sort_values(by=\"imageId\")\n",
    "\n",
    "id = train_val_age[\"imageId\"].values.tolist()\n",
    "train_val_files = pd.DataFrame(columns=[\"imageId\",\"Files\"])\n",
    "ctr = 0\n",
    "\n",
    "for i in os.listdir(dataset_directory+\"/train\"):\n",
    "    train_val_files.loc[ctr,\"imageId\"] = id[ctr]\n",
    "    train_val_files.loc[ctr,\"Files\"] = i\n",
    "    ctr += 1\n",
    "\n",
    "train_val_files = train_val_files.sort_values(by=\"imageId\")\n",
    "\n",
    "train_val_output = pd.merge(left=train_val_age,right=train_val_gender,on=\"imageId\",how=\"inner\")\n",
    "train_val_output = pd.merge(left=train_val_output,right=train_val_files,on=\"imageId\",how=\"inner\")\n",
    "\n",
    "train_val_output = train_val_output.sort_values(by=\"imageId\")\n",
    "\n",
    "train_val_id = train_val_output[\"imageId\"].values.tolist()\n",
    "np.random.shuffle(train_val_id)\n",
    "\n",
    "\n",
    "threshold = int(np.round(0.8 * len(train_val_id)))\n",
    "\n",
    "train_id = train_val_id[0:threshold]\n",
    "val_id = train_val_id[threshold:]\n",
    "\n",
    "train_val_output.set_index(keys=\"imageId\",drop=False,inplace=True)\n",
    "\n",
    "train_output = train_val_output.loc[train_id,:]\n",
    "val_output = train_val_output.loc[val_id,:]\n",
    "\n",
    "train_output = train_output.reset_index(drop=True).drop(columns=[\"imageId\"])\n",
    "val_output = val_output.reset_index(drop=True).drop(columns=[\"imageId\"])"
   ],
   "metadata": {
    "collapsed": false,
    "ExecuteTime": {
     "end_time": "2024-03-04T20:54:57.417837Z",
     "start_time": "2024-03-04T20:54:52.854345Z"
    }
   },
   "id": "b2aba68028b2c7f2",
   "execution_count": 3
  },
  {
   "cell_type": "code",
   "outputs": [
    {
     "data": {
      "text/plain": "    age  gender       Files\n0  30.0       0  009329.png\n1  61.0       0  006252.png\n2  28.0       1  003601.png\n3  75.0       0  002830.png\n4  72.0       0  002254.png",
      "text/html": "<div>\n<style scoped>\n    .dataframe tbody tr th:only-of-type {\n        vertical-align: middle;\n    }\n\n    .dataframe tbody tr th {\n        vertical-align: top;\n    }\n\n    .dataframe thead th {\n        text-align: right;\n    }\n</style>\n<table border=\"1\" class=\"dataframe\">\n  <thead>\n    <tr style=\"text-align: right;\">\n      <th></th>\n      <th>age</th>\n      <th>gender</th>\n      <th>Files</th>\n    </tr>\n  </thead>\n  <tbody>\n    <tr>\n      <th>0</th>\n      <td>30.0</td>\n      <td>0</td>\n      <td>009329.png</td>\n    </tr>\n    <tr>\n      <th>1</th>\n      <td>61.0</td>\n      <td>0</td>\n      <td>006252.png</td>\n    </tr>\n    <tr>\n      <th>2</th>\n      <td>28.0</td>\n      <td>1</td>\n      <td>003601.png</td>\n    </tr>\n    <tr>\n      <th>3</th>\n      <td>75.0</td>\n      <td>0</td>\n      <td>002830.png</td>\n    </tr>\n    <tr>\n      <th>4</th>\n      <td>72.0</td>\n      <td>0</td>\n      <td>002254.png</td>\n    </tr>\n  </tbody>\n</table>\n</div>"
     },
     "execution_count": 4,
     "metadata": {},
     "output_type": "execute_result"
    }
   ],
   "source": [
    "train_output.head()"
   ],
   "metadata": {
    "collapsed": false,
    "ExecuteTime": {
     "end_time": "2024-03-04T20:54:57.444808Z",
     "start_time": "2024-03-04T20:54:57.418920Z"
    }
   },
   "id": "c8a0557bed29561a",
   "execution_count": 4
  },
  {
   "cell_type": "code",
   "outputs": [
    {
     "data": {
      "text/plain": "    age  gender       Files\n0  33.0       1  004871.png\n1  22.0       0  009768.png\n2  29.0       0  003637.png\n3  27.0       0  003477.png\n4  22.0       1  000806.png",
      "text/html": "<div>\n<style scoped>\n    .dataframe tbody tr th:only-of-type {\n        vertical-align: middle;\n    }\n\n    .dataframe tbody tr th {\n        vertical-align: top;\n    }\n\n    .dataframe thead th {\n        text-align: right;\n    }\n</style>\n<table border=\"1\" class=\"dataframe\">\n  <thead>\n    <tr style=\"text-align: right;\">\n      <th></th>\n      <th>age</th>\n      <th>gender</th>\n      <th>Files</th>\n    </tr>\n  </thead>\n  <tbody>\n    <tr>\n      <th>0</th>\n      <td>33.0</td>\n      <td>1</td>\n      <td>004871.png</td>\n    </tr>\n    <tr>\n      <th>1</th>\n      <td>22.0</td>\n      <td>0</td>\n      <td>009768.png</td>\n    </tr>\n    <tr>\n      <th>2</th>\n      <td>29.0</td>\n      <td>0</td>\n      <td>003637.png</td>\n    </tr>\n    <tr>\n      <th>3</th>\n      <td>27.0</td>\n      <td>0</td>\n      <td>003477.png</td>\n    </tr>\n    <tr>\n      <th>4</th>\n      <td>22.0</td>\n      <td>1</td>\n      <td>000806.png</td>\n    </tr>\n  </tbody>\n</table>\n</div>"
     },
     "execution_count": 5,
     "metadata": {},
     "output_type": "execute_result"
    }
   ],
   "source": [
    "val_output.head()"
   ],
   "metadata": {
    "collapsed": false,
    "ExecuteTime": {
     "end_time": "2024-03-04T20:55:27.047754Z",
     "start_time": "2024-03-04T20:55:27.023972Z"
    }
   },
   "id": "369d75c4486e181b",
   "execution_count": 5
  },
  {
   "cell_type": "code",
   "outputs": [
    {
     "name": "stderr",
     "output_type": "stream",
     "text": [
      "Processing train data: 100%|██████████| 8562/8562 [05:23<00:00, 26.46it/s]\n"
     ]
    }
   ],
   "source": [
    "train_images = []\n",
    "train_data = {}\n",
    "ctr = 0\n",
    "for i in tqdm(iterable=train_output[\"Files\"],desc=\"Processing train data\"):\n",
    "    ages = train_output.loc[ctr,\"age\"]\n",
    "    genders = train_output.loc[ctr,\"gender\"]\n",
    "    img_org = cv2.imread(dataset_directory + \"/train/\" + i)\n",
    "    img_gray = cv2.cvtColor(src=img_org, code=cv2.COLOR_BGR2GRAY)\n",
    "    img_short = cv2.resize(src=img_gray, dsize=(64,64))\n",
    "    img = img_short / 255.0\n",
    "    train_images.append(img)\n",
    "    ctr += 1\n",
    "\n",
    "train_images = np.array(train_images)"
   ],
   "metadata": {
    "collapsed": false,
    "ExecuteTime": {
     "end_time": "2024-03-04T21:00:51.948113Z",
     "start_time": "2024-03-04T20:55:27.988831Z"
    }
   },
   "id": "ff7b3d79df67d578",
   "execution_count": 6
  },
  {
   "cell_type": "code",
   "outputs": [
    {
     "data": {
      "text/plain": "'C:/Users/amith/Documents/Datasets/kaggle/kaggle/008017.png'"
     },
     "execution_count": 7,
     "metadata": {},
     "output_type": "execute_result"
    }
   ],
   "source": [
    "dataset_directory + \"/\" + i"
   ],
   "metadata": {
    "collapsed": false,
    "ExecuteTime": {
     "end_time": "2024-03-04T21:01:04.851228Z",
     "start_time": "2024-03-04T21:01:04.831443Z"
    }
   },
   "id": "9b26fd5ce770ddf1",
   "execution_count": 7
  },
  {
   "cell_type": "code",
   "outputs": [
    {
     "data": {
      "text/plain": "'C:/Users/amith/Documents/Datasets/kaggle/kaggle/val/008017.png'"
     },
     "execution_count": 8,
     "metadata": {},
     "output_type": "execute_result"
    }
   ],
   "source": [
    "dataset_directory + \"/val/\" + i"
   ],
   "metadata": {
    "collapsed": false,
    "ExecuteTime": {
     "end_time": "2024-03-04T21:01:05.317617Z",
     "start_time": "2024-03-04T21:01:05.306955Z"
    }
   },
   "id": "6413f15d0ad73fb7",
   "execution_count": 8
  },
  {
   "cell_type": "code",
   "outputs": [
    {
     "name": "stderr",
     "output_type": "stream",
     "text": [
      "Processing val data: 100%|██████████| 2140/2140 [00:50<00:00, 42.31it/s]\n"
     ]
    }
   ],
   "source": [
    "val_images = []\n",
    "val_data = {}\n",
    "ctr = 0\n",
    "for i in tqdm(iterable=val_output[\"Files\"],desc=\"Processing val data\"):\n",
    "    ages = val_output.loc[ctr,\"age\"]\n",
    "    genders = val_output.loc[ctr,\"gender\"]\n",
    "    img_org = cv2.imread(dataset_directory + \"/train/\" + i)\n",
    "    img_gray = cv2.cvtColor(src=img_org, code=cv2.COLOR_BGR2GRAY)\n",
    "    img_short = cv2.resize(src=img_gray, dsize=(64,64))\n",
    "    img = img_short / 255.0\n",
    "    val_images.append(img)\n",
    "    ctr += 1\n",
    "\n",
    "val_images = np.array(val_images)"
   ],
   "metadata": {
    "collapsed": false,
    "ExecuteTime": {
     "end_time": "2024-03-04T21:01:56.383234Z",
     "start_time": "2024-03-04T21:01:05.752207Z"
    }
   },
   "id": "223f96a14cea3f9",
   "execution_count": 9
  },
  {
   "cell_type": "code",
   "outputs": [],
   "source": [
    "train_images = train_images.reshape(tuple(list(train_images.shape) + [1]))\n",
    "val_images = val_images.reshape(tuple(list(val_images.shape) + [1]))"
   ],
   "metadata": {
    "collapsed": false,
    "ExecuteTime": {
     "end_time": "2024-03-04T21:01:57.869576Z",
     "start_time": "2024-03-04T21:01:57.865878Z"
    }
   },
   "id": "313c96879745bc41",
   "execution_count": 10
  },
  {
   "cell_type": "code",
   "outputs": [
    {
     "data": {
      "text/plain": "(2140, 64, 64, 1)"
     },
     "execution_count": 11,
     "metadata": {},
     "output_type": "execute_result"
    }
   ],
   "source": [
    "val_images.shape"
   ],
   "metadata": {
    "collapsed": false,
    "ExecuteTime": {
     "end_time": "2024-03-04T21:01:58.289488Z",
     "start_time": "2024-03-04T21:01:58.284894Z"
    }
   },
   "id": "6b799b38f574439b",
   "execution_count": 11
  },
  {
   "cell_type": "code",
   "outputs": [
    {
     "name": "stdout",
     "output_type": "stream",
     "text": [
      "WARNING:tensorflow:From C:\\Users\\amith\\AppData\\Local\\Programs\\Python\\Python311\\Lib\\site-packages\\keras\\src\\backend.py:873: The name tf.get_default_graph is deprecated. Please use tf.compat.v1.get_default_graph instead.\n"
     ]
    }
   ],
   "source": [
    "model_genders = tf.keras.models.Sequential(layers=[\n",
    "    tf.keras.layers.Conv2D(filters=16,kernel_size=(3,3),activation=\"relu\",input_shape=(64,64,1)),\n",
    "    tf.keras.layers.Conv2D(filters=32,kernel_size=(3,3),activation=\"relu\",input_shape=(64,64,1)),\n",
    "    tf.keras.layers.Conv2D(filters=64,kernel_size=(3,3),activation=\"relu\",input_shape=(64,64,1)),\n",
    "    tf.keras.layers.Conv2D(filters=64,kernel_size=(3,3),activation=\"relu\",input_shape=(64,64,1)),\n",
    "    \n",
    "    tf.keras.layers.Flatten(),\n",
    "    tf.keras.layers.Dense(units=64,activation=\"relu\"),\n",
    "    tf.keras.layers.Dense(units=1,activation=\"softmax\")\n",
    "])"
   ],
   "metadata": {
    "collapsed": false,
    "ExecuteTime": {
     "end_time": "2024-03-04T21:01:59.199364Z",
     "start_time": "2024-03-04T21:01:58.720496Z"
    }
   },
   "id": "1bea9c70b1d56ba7",
   "execution_count": 12
  },
  {
   "cell_type": "code",
   "outputs": [],
   "source": [
    "model_ages = tf.keras.models.Sequential(layers=[\n",
    "    tf.keras.layers.Conv2D(filters=16,kernel_size=(3,3),activation=\"relu\",input_shape=(64,64,1)),\n",
    "    tf.keras.layers.Conv2D(filters=32,kernel_size=(3,3),activation=\"relu\",input_shape=(64,64,1)),\n",
    "    tf.keras.layers.Conv2D(filters=64,kernel_size=(3,3),activation=\"relu\",input_shape=(64,64,1)),\n",
    "    tf.keras.layers.Conv2D(filters=64,kernel_size=(3,3),activation=\"relu\",input_shape=(64,64,1)),\n",
    "\n",
    "    tf.keras.layers.Flatten(),\n",
    "    tf.keras.layers.Dense(units=64,activation=\"relu\"),\n",
    "    tf.keras.layers.Dense(units=1,activation=\"relu\")\n",
    "])"
   ],
   "metadata": {
    "collapsed": false,
    "ExecuteTime": {
     "end_time": "2024-03-04T21:02:37.106630Z",
     "start_time": "2024-03-04T21:02:36.983310Z"
    }
   },
   "id": "63db3f9d994105c6",
   "execution_count": 17
  },
  {
   "cell_type": "code",
   "outputs": [],
   "source": [
    "train_ages = train_output[\"age\"].values\n",
    "train_genders = train_output[\"gender\"].values\n",
    "\n",
    "val_ages = val_output[\"age\"].values\n",
    "val_genders = val_output[\"gender\"].values"
   ],
   "metadata": {
    "collapsed": false,
    "ExecuteTime": {
     "end_time": "2024-03-04T21:02:37.617922Z",
     "start_time": "2024-03-04T21:02:37.614519Z"
    }
   },
   "id": "8a67f19c2092bd2f",
   "execution_count": 18
  },
  {
   "cell_type": "code",
   "outputs": [],
   "source": [
    "model_genders.compile(optimizer=tf.keras.optimizers.Adam(),loss=tf.keras.losses.binary_crossentropy,metrics=['accuracy'])\n",
    "model_ages.compile(optimizer=tf.keras.optimizers.Adam(),loss=tf.keras.losses.mean_absolute_error, metrics=[\"mae\"])"
   ],
   "metadata": {
    "collapsed": false,
    "ExecuteTime": {
     "end_time": "2024-03-04T21:02:38.396935Z",
     "start_time": "2024-03-04T21:02:38.381597Z"
    }
   },
   "id": "75719ee0f115cd65",
   "execution_count": 19
  },
  {
   "cell_type": "code",
   "outputs": [
    {
     "name": "stdout",
     "output_type": "stream",
     "text": [
      "Epoch 1/10\n",
      "268/268 [==============================] - 97s 357ms/step - loss: 0.4174 - accuracy: 0.4191 - val_loss: 0.3289 - val_accuracy: 0.4229\n",
      "Epoch 2/10\n",
      "268/268 [==============================] - 40s 151ms/step - loss: 0.3152 - accuracy: 0.4191 - val_loss: 0.3230 - val_accuracy: 0.4229\n",
      "Epoch 3/10\n",
      "268/268 [==============================] - 42s 157ms/step - loss: 0.2550 - accuracy: 0.4191 - val_loss: 0.2685 - val_accuracy: 0.4229\n",
      "Epoch 4/10\n",
      "268/268 [==============================] - 49s 184ms/step - loss: 0.2099 - accuracy: 0.4191 - val_loss: 0.3768 - val_accuracy: 0.4229\n",
      "Epoch 5/10\n",
      "268/268 [==============================] - 44s 164ms/step - loss: 0.1862 - accuracy: 0.4191 - val_loss: 0.2029 - val_accuracy: 0.4229\n",
      "Epoch 6/10\n",
      "268/268 [==============================] - 94s 350ms/step - loss: 0.1556 - accuracy: 0.4191 - val_loss: 0.2151 - val_accuracy: 0.4229\n",
      "Epoch 7/10\n",
      "268/268 [==============================] - 42s 157ms/step - loss: 0.1256 - accuracy: 0.4191 - val_loss: 0.2120 - val_accuracy: 0.4229\n"
     ]
    },
    {
     "data": {
      "text/plain": "<keras.src.callbacks.History at 0x1e03054c710>"
     },
     "execution_count": 20,
     "metadata": {},
     "output_type": "execute_result"
    }
   ],
   "source": [
    "model_genders.fit(x=train_images,y=train_genders,batch_size=32,epochs=10,validation_data=(val_images,val_genders),verbose=1,shuffle=True,callbacks=tf.keras.callbacks.EarlyStopping(patience=2))"
   ],
   "metadata": {
    "collapsed": false,
    "ExecuteTime": {
     "end_time": "2024-03-04T21:09:27.331838Z",
     "start_time": "2024-03-04T21:02:39.026659Z"
    }
   },
   "id": "6838a158d4105574",
   "execution_count": 20
  },
  {
   "cell_type": "code",
   "outputs": [
    {
     "name": "stdout",
     "output_type": "stream",
     "text": [
      "Epoch 1/10\n",
      "268/268 [==============================] - 124s 460ms/step - loss: 15.4445 - mae: 15.4445 - val_loss: 13.0284 - val_mae: 13.0284\n",
      "Epoch 2/10\n",
      "268/268 [==============================] - 45s 167ms/step - loss: 12.0358 - mae: 12.0358 - val_loss: 11.3074 - val_mae: 11.3074\n",
      "Epoch 3/10\n",
      "268/268 [==============================] - 99s 371ms/step - loss: 10.8210 - mae: 10.8210 - val_loss: 10.6170 - val_mae: 10.6170\n",
      "Epoch 4/10\n",
      "268/268 [==============================] - 134s 498ms/step - loss: 10.4127 - mae: 10.4127 - val_loss: 11.3630 - val_mae: 11.3630\n",
      "Epoch 5/10\n",
      "268/268 [==============================] - 41s 152ms/step - loss: 9.8085 - mae: 9.8085 - val_loss: 9.6994 - val_mae: 9.6994\n",
      "Epoch 6/10\n",
      "268/268 [==============================] - 43s 161ms/step - loss: 9.3402 - mae: 9.3402 - val_loss: 9.7870 - val_mae: 9.7870\n",
      "Epoch 7/10\n",
      "268/268 [==============================] - 42s 158ms/step - loss: 8.9496 - mae: 8.9496 - val_loss: 9.3731 - val_mae: 9.3731\n",
      "Epoch 8/10\n",
      "268/268 [==============================] - 41s 154ms/step - loss: 8.5985 - mae: 8.5985 - val_loss: 9.9038 - val_mae: 9.9038\n",
      "Epoch 9/10\n",
      "268/268 [==============================] - 41s 152ms/step - loss: 8.3748 - mae: 8.3748 - val_loss: 9.3916 - val_mae: 9.3916\n"
     ]
    },
    {
     "data": {
      "text/plain": "<keras.src.callbacks.History at 0x1e031b94710>"
     },
     "execution_count": 21,
     "metadata": {},
     "output_type": "execute_result"
    }
   ],
   "source": [
    "model_ages.fit(x=train_images,y=train_ages,batch_size=32,epochs=10,validation_data=(val_images,val_ages),verbose=1,shuffle=True,callbacks=tf.keras.callbacks.EarlyStopping(patience=2))"
   ],
   "metadata": {
    "collapsed": false,
    "ExecuteTime": {
     "end_time": "2024-03-04T21:19:41.670310Z",
     "start_time": "2024-03-04T21:09:30.948069Z"
    }
   },
   "id": "d16fe972f36073b",
   "execution_count": 21
  },
  {
   "cell_type": "code",
   "outputs": [
    {
     "name": "stderr",
     "output_type": "stream",
     "text": [
      "C:\\Users\\amith\\AppData\\Local\\Temp\\ipykernel_40836\\4190216403.py:1: UserWarning: You are saving your model as an HDF5 file via `model.save()`. This file format is considered legacy. We recommend using instead the native Keras format, e.g. `model.save('my_model.keras')`.\n",
      "  tf.keras.models.save_model(model=model_genders,filepath=\"C:/Users/amith/Documents/Datasets/model_genders.h5\",overwrite=True)\n",
      "C:\\Users\\amith\\AppData\\Local\\Temp\\ipykernel_40836\\4190216403.py:2: UserWarning: You are saving your model as an HDF5 file via `model.save()`. This file format is considered legacy. We recommend using instead the native Keras format, e.g. `model.save('my_model.keras')`.\n",
      "  tf.keras.models.save_model(model=model_ages,filepath=\"C:/Users/amith/Documents/Datasets/model_ages.h5\",overwrite=True)\n"
     ]
    }
   ],
   "source": [
    "tf.keras.models.save_model(model=model_genders,filepath=\"C:/Users/amith/Documents/Datasets/model_genders.h5\",overwrite=True)\n",
    "tf.keras.models.save_model(model=model_ages,filepath=\"C:/Users/amith/Documents/Datasets/model_ages.h5\",overwrite=True)"
   ],
   "metadata": {
    "collapsed": false,
    "ExecuteTime": {
     "end_time": "2024-03-04T21:19:44.709670Z",
     "start_time": "2024-03-04T21:19:44.113203Z"
    }
   },
   "id": "7e1c380be2d56852",
   "execution_count": 22
  },
  {
   "cell_type": "code",
   "outputs": [
    {
     "name": "stdout",
     "output_type": "stream",
     "text": [
      "C:/Users/amith/Documents/Datasets/kaggle/kaggle/test/\n"
     ]
    }
   ],
   "source": [
    "print(dataset_directory + \"/test/\")"
   ],
   "metadata": {
    "collapsed": false,
    "ExecuteTime": {
     "end_time": "2024-03-04T21:19:45.578599Z",
     "start_time": "2024-03-04T21:19:45.572165Z"
    }
   },
   "id": "a49d4ad53f06b1e4",
   "execution_count": 23
  },
  {
   "cell_type": "code",
   "outputs": [
    {
     "name": "stderr",
     "output_type": "stream",
     "text": [
      "Processing test data: 100%|██████████| 11747/11747 [04:19<00:00, 45.24it/s]\n"
     ]
    }
   ],
   "source": [
    "test_images = []\n",
    "\n",
    "ctr = 0\n",
    "for i in tqdm(iterable=sorted(os.listdir(dataset_directory + \"/test/\")),desc=\"Processing test data\"):\n",
    "    img_org = cv2.imread(dataset_directory + \"/test/\" + i)\n",
    "    img_gray = cv2.cvtColor(src=img_org, code=cv2.COLOR_BGR2GRAY)\n",
    "    img_short = cv2.resize(src=img_gray, dsize=(64,64))\n",
    "    img = img_short / 255.0\n",
    "    test_images.append(img)\n",
    "    ctr += 1\n",
    "\n",
    "test_images = np.array(test_images)"
   ],
   "metadata": {
    "collapsed": false,
    "ExecuteTime": {
     "end_time": "2024-03-04T21:24:06.679148Z",
     "start_time": "2024-03-04T21:19:46.650961Z"
    }
   },
   "id": "6b9c7b6bfe0ee73f",
   "execution_count": 24
  },
  {
   "cell_type": "code",
   "outputs": [],
   "source": [
    "test_ages = pd.read_csv(\"C:\\\\Users\\\\amith\\\\Documents\\\\Datasets\\\\sample_submission_age.csv\")[\"age\"].copy()\n",
    "test_genders = pd.read_csv(\"C:\\\\Users\\\\amith\\\\Documents\\\\Datasets\\\\sample_submission_gender.csv\")[\"gender\"].copy()"
   ],
   "metadata": {
    "collapsed": false,
    "ExecuteTime": {
     "end_time": "2024-03-04T21:24:08.657880Z",
     "start_time": "2024-03-04T21:24:08.631771Z"
    }
   },
   "id": "9e95a4d04ee22f52",
   "execution_count": 25
  },
  {
   "cell_type": "code",
   "outputs": [
    {
     "name": "stdout",
     "output_type": "stream",
     "text": [
      "368/368 [==============================] - 36s 99ms/step\n"
     ]
    }
   ],
   "source": [
    "predict_ages = model_ages.predict(test_images)"
   ],
   "metadata": {
    "collapsed": false,
    "ExecuteTime": {
     "end_time": "2024-03-04T21:24:46.619237Z",
     "start_time": "2024-03-04T21:24:09.480700Z"
    }
   },
   "id": "baa7f91ed6936e02",
   "execution_count": 26
  },
  {
   "cell_type": "code",
   "outputs": [
    {
     "name": "stdout",
     "output_type": "stream",
     "text": [
      "368/368 [==============================] - 34s 92ms/step\n"
     ]
    }
   ],
   "source": [
    "predict_genders = model_genders.predict(test_images)"
   ],
   "metadata": {
    "collapsed": false,
    "ExecuteTime": {
     "end_time": "2024-03-04T21:26:40.327304Z",
     "start_time": "2024-03-04T21:25:58.413906Z"
    }
   },
   "id": "d75cfe22da108875",
   "execution_count": 29
  },
  {
   "cell_type": "code",
   "outputs": [
    {
     "data": {
      "text/plain": "array([[1.],\n       [1.],\n       [1.],\n       ...,\n       [1.],\n       [1.],\n       [1.]], dtype=float32)"
     },
     "execution_count": 32,
     "metadata": {},
     "output_type": "execute_result"
    }
   ],
   "source": [
    "predict_genders"
   ],
   "metadata": {
    "collapsed": false,
    "ExecuteTime": {
     "end_time": "2024-03-04T21:26:52.744017Z",
     "start_time": "2024-03-04T21:26:52.736651Z"
    }
   },
   "id": "168670e2c776674",
   "execution_count": 32
  },
  {
   "cell_type": "code",
   "outputs": [],
   "source": [
    "df_pred_age = pd.DataFrame(columns=[\"imageId\",\"age\"])\n",
    "df_pred_gender = pd.DataFrame(columns=[\"imageId\",\"gender\"])\n",
    "\n",
    "df_pred_age[\"imageId\"] = list(range(predict_ages.shape[0]))\n",
    "df_pred_age[\"age\"] = np.int64(np.round(predict_ages,0))\n",
    "\n",
    "df_pred_gender[\"imageId\"] = list(range(predict_genders.shape[0]))\n",
    "df_pred_gender[\"gender\"] = np.int64(np.round(predict_genders,0))"
   ],
   "metadata": {
    "collapsed": false,
    "ExecuteTime": {
     "end_time": "2024-03-04T21:34:13.475820Z",
     "start_time": "2024-03-04T21:34:13.441093Z"
    }
   },
   "id": "37bcd30e09af247e",
   "execution_count": 43
  },
  {
   "cell_type": "code",
   "outputs": [
    {
     "data": {
      "text/plain": "       imageId  age\n0            0   48\n1            1   32\n2            2   36\n3            3   60\n4            4   35\n...        ...  ...\n11742    11742   53\n11743    11743   44\n11744    11744   29\n11745    11745   44\n11746    11746   55\n\n[11747 rows x 2 columns]",
      "text/html": "<div>\n<style scoped>\n    .dataframe tbody tr th:only-of-type {\n        vertical-align: middle;\n    }\n\n    .dataframe tbody tr th {\n        vertical-align: top;\n    }\n\n    .dataframe thead th {\n        text-align: right;\n    }\n</style>\n<table border=\"1\" class=\"dataframe\">\n  <thead>\n    <tr style=\"text-align: right;\">\n      <th></th>\n      <th>imageId</th>\n      <th>age</th>\n    </tr>\n  </thead>\n  <tbody>\n    <tr>\n      <th>0</th>\n      <td>0</td>\n      <td>48</td>\n    </tr>\n    <tr>\n      <th>1</th>\n      <td>1</td>\n      <td>32</td>\n    </tr>\n    <tr>\n      <th>2</th>\n      <td>2</td>\n      <td>36</td>\n    </tr>\n    <tr>\n      <th>3</th>\n      <td>3</td>\n      <td>60</td>\n    </tr>\n    <tr>\n      <th>4</th>\n      <td>4</td>\n      <td>35</td>\n    </tr>\n    <tr>\n      <th>...</th>\n      <td>...</td>\n      <td>...</td>\n    </tr>\n    <tr>\n      <th>11742</th>\n      <td>11742</td>\n      <td>53</td>\n    </tr>\n    <tr>\n      <th>11743</th>\n      <td>11743</td>\n      <td>44</td>\n    </tr>\n    <tr>\n      <th>11744</th>\n      <td>11744</td>\n      <td>29</td>\n    </tr>\n    <tr>\n      <th>11745</th>\n      <td>11745</td>\n      <td>44</td>\n    </tr>\n    <tr>\n      <th>11746</th>\n      <td>11746</td>\n      <td>55</td>\n    </tr>\n  </tbody>\n</table>\n<p>11747 rows × 2 columns</p>\n</div>"
     },
     "execution_count": 44,
     "metadata": {},
     "output_type": "execute_result"
    }
   ],
   "source": [
    "df_pred_age"
   ],
   "metadata": {
    "collapsed": false,
    "ExecuteTime": {
     "end_time": "2024-03-04T21:34:16.076197Z",
     "start_time": "2024-03-04T21:34:16.058742Z"
    }
   },
   "id": "785f39dfdf3a7af4",
   "execution_count": 44
  },
  {
   "cell_type": "code",
   "outputs": [
    {
     "data": {
      "text/plain": "       imageId  gender\n0            0       1\n1            1       1\n2            2       1\n3            3       1\n4            4       1\n...        ...     ...\n11742    11742       1\n11743    11743       1\n11744    11744       1\n11745    11745       1\n11746    11746       1\n\n[11747 rows x 2 columns]",
      "text/html": "<div>\n<style scoped>\n    .dataframe tbody tr th:only-of-type {\n        vertical-align: middle;\n    }\n\n    .dataframe tbody tr th {\n        vertical-align: top;\n    }\n\n    .dataframe thead th {\n        text-align: right;\n    }\n</style>\n<table border=\"1\" class=\"dataframe\">\n  <thead>\n    <tr style=\"text-align: right;\">\n      <th></th>\n      <th>imageId</th>\n      <th>gender</th>\n    </tr>\n  </thead>\n  <tbody>\n    <tr>\n      <th>0</th>\n      <td>0</td>\n      <td>1</td>\n    </tr>\n    <tr>\n      <th>1</th>\n      <td>1</td>\n      <td>1</td>\n    </tr>\n    <tr>\n      <th>2</th>\n      <td>2</td>\n      <td>1</td>\n    </tr>\n    <tr>\n      <th>3</th>\n      <td>3</td>\n      <td>1</td>\n    </tr>\n    <tr>\n      <th>4</th>\n      <td>4</td>\n      <td>1</td>\n    </tr>\n    <tr>\n      <th>...</th>\n      <td>...</td>\n      <td>...</td>\n    </tr>\n    <tr>\n      <th>11742</th>\n      <td>11742</td>\n      <td>1</td>\n    </tr>\n    <tr>\n      <th>11743</th>\n      <td>11743</td>\n      <td>1</td>\n    </tr>\n    <tr>\n      <th>11744</th>\n      <td>11744</td>\n      <td>1</td>\n    </tr>\n    <tr>\n      <th>11745</th>\n      <td>11745</td>\n      <td>1</td>\n    </tr>\n    <tr>\n      <th>11746</th>\n      <td>11746</td>\n      <td>1</td>\n    </tr>\n  </tbody>\n</table>\n<p>11747 rows × 2 columns</p>\n</div>"
     },
     "execution_count": 45,
     "metadata": {},
     "output_type": "execute_result"
    }
   ],
   "source": [
    "df_pred_gender"
   ],
   "metadata": {
    "collapsed": false,
    "ExecuteTime": {
     "end_time": "2024-03-04T21:34:17.324521Z",
     "start_time": "2024-03-04T21:34:17.311674Z"
    }
   },
   "id": "ffbebcac007ba3a2",
   "execution_count": 45
  },
  {
   "cell_type": "code",
   "outputs": [],
   "source": [
    "df_pred_gender.to_csv(path_or_buf=\"C:/Users/amith/Documents/Datasets/Saved/sample_submission_gender.csv\",index=False)\n",
    "df_pred_age.to_csv(path_or_buf=\"C:/Users/amith/Documents/Datasets/Saved/sample_submission_age.csv\",index=False)"
   ],
   "metadata": {
    "collapsed": false,
    "ExecuteTime": {
     "end_time": "2024-03-04T21:37:18.894490Z",
     "start_time": "2024-03-04T21:37:18.849806Z"
    }
   },
   "id": "f863197a9e00e89c",
   "execution_count": 47
  },
  {
   "cell_type": "code",
   "outputs": [],
   "source": [],
   "metadata": {
    "collapsed": false
   },
   "id": "41d9d40a59054461"
  }
 ],
 "metadata": {
  "kernelspec": {
   "display_name": "Python 3",
   "language": "python",
   "name": "python3"
  },
  "language_info": {
   "codemirror_mode": {
    "name": "ipython",
    "version": 2
   },
   "file_extension": ".py",
   "mimetype": "text/x-python",
   "name": "python",
   "nbconvert_exporter": "python",
   "pygments_lexer": "ipython2",
   "version": "2.7.6"
  }
 },
 "nbformat": 4,
 "nbformat_minor": 5
}
