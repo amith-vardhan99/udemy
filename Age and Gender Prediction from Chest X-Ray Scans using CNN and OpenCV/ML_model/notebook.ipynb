{
 "cells": [
  {
   "cell_type": "code",
   "execution_count": 1,
   "id": "initial_id",
   "metadata": {
    "collapsed": true,
    "ExecuteTime": {
     "end_time": "2024-03-03T20:18:41.366897Z",
     "start_time": "2024-03-03T20:18:36.056106Z"
    }
   },
   "outputs": [
    {
     "name": "stdout",
     "output_type": "stream",
     "text": [
      "WARNING:tensorflow:From C:\\Users\\amith\\AppData\\Local\\Programs\\Python\\Python311\\Lib\\site-packages\\keras\\src\\losses.py:2976: The name tf.losses.sparse_softmax_cross_entropy is deprecated. Please use tf.compat.v1.losses.sparse_softmax_cross_entropy instead.\n"
     ]
    }
   ],
   "source": [
    "import numpy as np\n",
    "import pandas as pd\n",
    "import matplotlib.pyplot as plt\n",
    "import seaborn as sns\n",
    "import os\n",
    "import opendatasets as od\n",
    "import tensorflow as tf\n",
    "import cv2\n",
    "from tqdm import *"
   ]
  },
  {
   "cell_type": "code",
   "outputs": [],
   "source": [
    "dataset_directory = \"C:\\\\Users\\\\amith\\\\Documents\\\\Datasets\\\\kaggle\\\\kaggle\".replace(\"\\\\\",\"/\")\n",
    "csv_directory = \"C:\\\\Users\\\\amith\\\\Documents\\\\Datasets\".replace(\"\\\\\",\"/\")"
   ],
   "metadata": {
    "collapsed": false,
    "ExecuteTime": {
     "end_time": "2024-03-03T20:18:41.380703Z",
     "start_time": "2024-03-03T20:18:41.367920Z"
    }
   },
   "id": "ede11ad53b97391",
   "execution_count": 2
  },
  {
   "cell_type": "code",
   "outputs": [],
   "source": [
    "train_val_age = pd.read_csv(csv_directory + \"/train_age.csv\").sort_values(by=\"imageId\")\n",
    "train_val_gender = pd.read_csv(csv_directory + \"/train_gender.csv\").sort_values(by=\"imageId\")\n",
    "\n",
    "id = train_val_age[\"imageId\"].values.tolist()\n",
    "train_val_files = pd.DataFrame(columns=[\"imageId\",\"Files\"])\n",
    "ctr = 0\n",
    "\n",
    "for i in os.listdir(dataset_directory+\"/train\"):\n",
    "    train_val_files.loc[ctr,\"imageId\"] = id[ctr]\n",
    "    train_val_files.loc[ctr,\"Files\"] = i\n",
    "    ctr += 1\n",
    "\n",
    "train_val_files = train_val_files.sort_values(by=\"imageId\")\n",
    "\n",
    "train_val_output = pd.merge(left=train_val_age,right=train_val_gender,on=\"imageId\",how=\"inner\")\n",
    "train_val_output = pd.merge(left=train_val_output,right=train_val_files,on=\"imageId\",how=\"inner\")\n",
    "\n",
    "train_val_output = train_val_output.sort_values(by=\"imageId\")\n",
    "\n",
    "train_val_id = train_val_output[\"imageId\"].values.tolist()\n",
    "np.random.shuffle(train_val_id)\n",
    "\n",
    "\n",
    "threshold = int(np.round(0.8 * len(train_val_id)))\n",
    "\n",
    "train_id = train_val_id[0:threshold]\n",
    "val_id = train_val_id[threshold:]\n",
    "\n",
    "train_val_output.set_index(keys=\"imageId\",drop=False,inplace=True)\n",
    "\n",
    "train_output = train_val_output.loc[train_id,:]\n",
    "val_output = train_val_output.loc[val_id,:]\n",
    "\n",
    "train_output = train_output.reset_index(drop=True).drop(columns=[\"imageId\"])\n",
    "val_output = val_output.reset_index(drop=True).drop(columns=[\"imageId\"])"
   ],
   "metadata": {
    "collapsed": false,
    "ExecuteTime": {
     "end_time": "2024-03-03T20:18:45.623383Z",
     "start_time": "2024-03-03T20:18:42.148606Z"
    }
   },
   "id": "b2aba68028b2c7f2",
   "execution_count": 3
  },
  {
   "cell_type": "code",
   "outputs": [
    {
     "data": {
      "text/plain": "    age  gender       Files\n0  85.0       0  006419.png\n1  42.0       1  005273.png\n2  47.0       0  005102.png\n3  78.0       1  003927.png\n4  67.0       0  010516.png",
      "text/html": "<div>\n<style scoped>\n    .dataframe tbody tr th:only-of-type {\n        vertical-align: middle;\n    }\n\n    .dataframe tbody tr th {\n        vertical-align: top;\n    }\n\n    .dataframe thead th {\n        text-align: right;\n    }\n</style>\n<table border=\"1\" class=\"dataframe\">\n  <thead>\n    <tr style=\"text-align: right;\">\n      <th></th>\n      <th>age</th>\n      <th>gender</th>\n      <th>Files</th>\n    </tr>\n  </thead>\n  <tbody>\n    <tr>\n      <th>0</th>\n      <td>85.0</td>\n      <td>0</td>\n      <td>006419.png</td>\n    </tr>\n    <tr>\n      <th>1</th>\n      <td>42.0</td>\n      <td>1</td>\n      <td>005273.png</td>\n    </tr>\n    <tr>\n      <th>2</th>\n      <td>47.0</td>\n      <td>0</td>\n      <td>005102.png</td>\n    </tr>\n    <tr>\n      <th>3</th>\n      <td>78.0</td>\n      <td>1</td>\n      <td>003927.png</td>\n    </tr>\n    <tr>\n      <th>4</th>\n      <td>67.0</td>\n      <td>0</td>\n      <td>010516.png</td>\n    </tr>\n  </tbody>\n</table>\n</div>"
     },
     "execution_count": 4,
     "metadata": {},
     "output_type": "execute_result"
    }
   ],
   "source": [
    "train_output.head()"
   ],
   "metadata": {
    "collapsed": false,
    "ExecuteTime": {
     "end_time": "2024-03-03T20:18:46.255245Z",
     "start_time": "2024-03-03T20:18:46.238185Z"
    }
   },
   "id": "c8a0557bed29561a",
   "execution_count": 4
  },
  {
   "cell_type": "code",
   "outputs": [
    {
     "data": {
      "text/plain": "    age  gender       Files\n0  76.0       1  000209.png\n1  66.0       0  004918.png\n2  64.0       1  000900.png\n3  73.0       0  003272.png\n4  35.0       0  002047.png",
      "text/html": "<div>\n<style scoped>\n    .dataframe tbody tr th:only-of-type {\n        vertical-align: middle;\n    }\n\n    .dataframe tbody tr th {\n        vertical-align: top;\n    }\n\n    .dataframe thead th {\n        text-align: right;\n    }\n</style>\n<table border=\"1\" class=\"dataframe\">\n  <thead>\n    <tr style=\"text-align: right;\">\n      <th></th>\n      <th>age</th>\n      <th>gender</th>\n      <th>Files</th>\n    </tr>\n  </thead>\n  <tbody>\n    <tr>\n      <th>0</th>\n      <td>76.0</td>\n      <td>1</td>\n      <td>000209.png</td>\n    </tr>\n    <tr>\n      <th>1</th>\n      <td>66.0</td>\n      <td>0</td>\n      <td>004918.png</td>\n    </tr>\n    <tr>\n      <th>2</th>\n      <td>64.0</td>\n      <td>1</td>\n      <td>000900.png</td>\n    </tr>\n    <tr>\n      <th>3</th>\n      <td>73.0</td>\n      <td>0</td>\n      <td>003272.png</td>\n    </tr>\n    <tr>\n      <th>4</th>\n      <td>35.0</td>\n      <td>0</td>\n      <td>002047.png</td>\n    </tr>\n  </tbody>\n</table>\n</div>"
     },
     "execution_count": 5,
     "metadata": {},
     "output_type": "execute_result"
    }
   ],
   "source": [
    "val_output.head()"
   ],
   "metadata": {
    "collapsed": false,
    "ExecuteTime": {
     "end_time": "2024-03-03T20:18:46.987311Z",
     "start_time": "2024-03-03T20:18:46.979304Z"
    }
   },
   "id": "369d75c4486e181b",
   "execution_count": 5
  },
  {
   "cell_type": "code",
   "outputs": [
    {
     "name": "stderr",
     "output_type": "stream",
     "text": [
      "Processing train data: 100%|██████████| 8562/8562 [02:39<00:00, 53.70it/s]\n"
     ]
    }
   ],
   "source": [
    "train_images = []\n",
    "train_data = {}\n",
    "ctr = 0\n",
    "for i in tqdm(iterable=train_output[\"Files\"],desc=\"Processing train data\"):\n",
    "    ages = train_output.loc[ctr,\"age\"]\n",
    "    genders = train_output.loc[ctr,\"gender\"]\n",
    "    img_org = cv2.imread(dataset_directory + \"/train/\" + i)\n",
    "    img_gray = cv2.cvtColor(src=img_org, code=cv2.COLOR_BGR2GRAY)\n",
    "    img_short = cv2.resize(src=img_gray, dsize=(64,64))\n",
    "    img = img_short / 255.0\n",
    "    train_images.append(img)\n",
    "    ctr += 1\n",
    "\n",
    "train_images = np.array(train_images)"
   ],
   "metadata": {
    "collapsed": false,
    "ExecuteTime": {
     "end_time": "2024-03-03T20:21:27.391498Z",
     "start_time": "2024-03-03T20:18:47.791095Z"
    }
   },
   "id": "ff7b3d79df67d578",
   "execution_count": 6
  },
  {
   "cell_type": "code",
   "outputs": [
    {
     "data": {
      "text/plain": "'C:/Users/amith/Documents/Datasets/kaggle/kaggle/001657.png'"
     },
     "execution_count": 7,
     "metadata": {},
     "output_type": "execute_result"
    }
   ],
   "source": [
    "dataset_directory + \"/\" + i"
   ],
   "metadata": {
    "collapsed": false,
    "ExecuteTime": {
     "end_time": "2024-03-03T20:44:40.114330Z",
     "start_time": "2024-03-03T20:44:40.108533Z"
    }
   },
   "id": "9b26fd5ce770ddf1",
   "execution_count": 7
  },
  {
   "cell_type": "code",
   "outputs": [
    {
     "data": {
      "text/plain": "'C:/Users/amith/Documents/Datasets/kaggle/kaggle/val/001657.png'"
     },
     "execution_count": 8,
     "metadata": {},
     "output_type": "execute_result"
    }
   ],
   "source": [
    "dataset_directory + \"/val/\" + i"
   ],
   "metadata": {
    "collapsed": false,
    "ExecuteTime": {
     "end_time": "2024-03-03T20:44:41.715084Z",
     "start_time": "2024-03-03T20:44:41.706050Z"
    }
   },
   "id": "6413f15d0ad73fb7",
   "execution_count": 8
  },
  {
   "cell_type": "code",
   "outputs": [
    {
     "name": "stderr",
     "output_type": "stream",
     "text": [
      "Processing val data: 100%|██████████| 2140/2140 [00:40<00:00, 53.15it/s]\n"
     ]
    }
   ],
   "source": [
    "val_images = []\n",
    "val_data = {}\n",
    "ctr = 0\n",
    "for i in tqdm(iterable=val_output[\"Files\"],desc=\"Processing val data\"):\n",
    "    ages = val_output.loc[ctr,\"age\"]\n",
    "    genders = val_output.loc[ctr,\"gender\"]\n",
    "    img_org = cv2.imread(dataset_directory + \"/train/\" + i)\n",
    "    img_gray = cv2.cvtColor(src=img_org, code=cv2.COLOR_BGR2GRAY)\n",
    "    img_short = cv2.resize(src=img_gray, dsize=(64,64))\n",
    "    img = img_short / 255.0\n",
    "    val_images.append(img)\n",
    "    ctr += 1\n",
    "\n",
    "val_images = np.array(val_images)"
   ],
   "metadata": {
    "collapsed": false,
    "ExecuteTime": {
     "end_time": "2024-03-03T20:45:23.428161Z",
     "start_time": "2024-03-03T20:44:43.116208Z"
    }
   },
   "id": "223f96a14cea3f9",
   "execution_count": 9
  },
  {
   "cell_type": "code",
   "outputs": [],
   "source": [
    "train_images = train_images.reshape(tuple(list(train_images.shape) + [1]))\n",
    "val_images = val_images.reshape(tuple(list(val_images.shape) + [1]))"
   ],
   "metadata": {
    "collapsed": false,
    "ExecuteTime": {
     "end_time": "2024-03-03T20:45:34.929709Z",
     "start_time": "2024-03-03T20:45:34.922480Z"
    }
   },
   "id": "313c96879745bc41",
   "execution_count": 10
  },
  {
   "cell_type": "code",
   "outputs": [
    {
     "data": {
      "text/plain": "(2140, 64, 64, 1)"
     },
     "execution_count": 11,
     "metadata": {},
     "output_type": "execute_result"
    }
   ],
   "source": [
    "val_images.shape"
   ],
   "metadata": {
    "collapsed": false,
    "ExecuteTime": {
     "end_time": "2024-03-03T20:45:35.739964Z",
     "start_time": "2024-03-03T20:45:35.731354Z"
    }
   },
   "id": "6b799b38f574439b",
   "execution_count": 11
  },
  {
   "cell_type": "code",
   "outputs": [
    {
     "name": "stdout",
     "output_type": "stream",
     "text": [
      "WARNING:tensorflow:From C:\\Users\\amith\\AppData\\Local\\Programs\\Python\\Python311\\Lib\\site-packages\\keras\\src\\backend.py:873: The name tf.get_default_graph is deprecated. Please use tf.compat.v1.get_default_graph instead.\n"
     ]
    }
   ],
   "source": [
    "model_genders = tf.keras.models.Sequential(layers=[\n",
    "    tf.keras.layers.Conv2D(filters=16,kernel_size=(3,3),activation=\"relu\",input_shape=(64,64,1)),\n",
    "    tf.keras.layers.Conv2D(filters=32,kernel_size=(3,3),activation=\"relu\",input_shape=(64,64,1)),\n",
    "    tf.keras.layers.Conv2D(filters=64,kernel_size=(3,3),activation=\"relu\",input_shape=(64,64,1)),\n",
    "    tf.keras.layers.Conv2D(filters=64,kernel_size=(3,3),activation=\"relu\",input_shape=(64,64,1)),\n",
    "    \n",
    "    tf.keras.layers.Flatten(),\n",
    "    tf.keras.layers.Dense(units=64,activation=\"relu\"),\n",
    "    tf.keras.layers.Dense(units=1,activation=\"softmax\")\n",
    "])"
   ],
   "metadata": {
    "collapsed": false,
    "ExecuteTime": {
     "end_time": "2024-03-03T20:45:36.942869Z",
     "start_time": "2024-03-03T20:45:36.316333Z"
    }
   },
   "id": "1bea9c70b1d56ba7",
   "execution_count": 12
  },
  {
   "cell_type": "code",
   "outputs": [],
   "source": [
    "model_ages = tf.keras.models.Sequential(layers=[\n",
    "    tf.keras.layers.Conv2D(filters=16,kernel_size=(3,3),activation=\"relu\",input_shape=(64,64,1)),\n",
    "    tf.keras.layers.Conv2D(filters=32,kernel_size=(3,3),activation=\"relu\",input_shape=(64,64,1)),\n",
    "    tf.keras.layers.Conv2D(filters=64,kernel_size=(3,3),activation=\"relu\",input_shape=(64,64,1)),\n",
    "    tf.keras.layers.Conv2D(filters=64,kernel_size=(3,3),activation=\"relu\",input_shape=(64,64,1)),\n",
    "\n",
    "    tf.keras.layers.Flatten(),\n",
    "    tf.keras.layers.Dense(units=64,activation=\"relu\"),\n",
    "    tf.keras.layers.Dense(units=1,activation=\"relu\")\n",
    "])"
   ],
   "metadata": {
    "collapsed": false,
    "ExecuteTime": {
     "end_time": "2024-03-03T20:45:38.067919Z",
     "start_time": "2024-03-03T20:45:37.868225Z"
    }
   },
   "id": "63db3f9d994105c6",
   "execution_count": 13
  },
  {
   "cell_type": "code",
   "outputs": [],
   "source": [
    "train_ages = train_output[\"age\"].values\n",
    "train_genders = train_output[\"gender\"].values\n",
    "\n",
    "val_ages = val_output[\"age\"].values\n",
    "val_genders = val_output[\"gender\"].values"
   ],
   "metadata": {
    "collapsed": false,
    "ExecuteTime": {
     "end_time": "2024-03-03T20:45:38.879181Z",
     "start_time": "2024-03-03T20:45:38.871174Z"
    }
   },
   "id": "8a67f19c2092bd2f",
   "execution_count": 14
  },
  {
   "cell_type": "code",
   "outputs": [],
   "source": [
    "model_genders.compile(optimizer=tf.keras.optimizers.Adam(),loss=tf.keras.losses.binary_crossentropy,metrics=['accuracy'])\n",
    "model_ages.compile(optimizer=tf.keras.optimizers.SGD(),loss=tf.keras.losses.mean_absolute_error)"
   ],
   "metadata": {
    "collapsed": false,
    "ExecuteTime": {
     "end_time": "2024-03-03T20:45:41.930828Z",
     "start_time": "2024-03-03T20:45:41.891731Z"
    }
   },
   "id": "75719ee0f115cd65",
   "execution_count": 15
  },
  {
   "cell_type": "code",
   "outputs": [
    {
     "name": "stdout",
     "output_type": "stream",
     "text": [
      "Epoch 1/100\n",
      "WARNING:tensorflow:From C:\\Users\\amith\\AppData\\Local\\Programs\\Python\\Python311\\Lib\\site-packages\\keras\\src\\utils\\tf_utils.py:492: The name tf.ragged.RaggedTensorValue is deprecated. Please use tf.compat.v1.ragged.RaggedTensorValue instead.\n",
      "WARNING:tensorflow:From C:\\Users\\amith\\AppData\\Local\\Programs\\Python\\Python311\\Lib\\site-packages\\keras\\src\\engine\\base_layer_utils.py:384: The name tf.executing_eagerly_outside_functions is deprecated. Please use tf.compat.v1.executing_eagerly_outside_functions instead.\n",
      "268/268 [==============================] - 112s 414ms/step - loss: 0.4401 - accuracy: 0.4202 - val_loss: 0.3453 - val_accuracy: 0.4182\n",
      "Epoch 2/100\n",
      "268/268 [==============================] - 113s 423ms/step - loss: 0.2895 - accuracy: 0.4202 - val_loss: 0.2770 - val_accuracy: 0.4182\n",
      "Epoch 3/100\n",
      "268/268 [==============================] - 39s 145ms/step - loss: 0.2541 - accuracy: 0.4202 - val_loss: 0.2521 - val_accuracy: 0.4182\n",
      "Epoch 4/100\n",
      "268/268 [==============================] - 40s 149ms/step - loss: 0.1922 - accuracy: 0.4202 - val_loss: 0.2496 - val_accuracy: 0.4182\n",
      "Epoch 5/100\n",
      "268/268 [==============================] - 41s 151ms/step - loss: 0.1536 - accuracy: 0.4202 - val_loss: 0.2107 - val_accuracy: 0.4182\n",
      "Epoch 6/100\n",
      "268/268 [==============================] - 41s 153ms/step - loss: 0.1176 - accuracy: 0.4202 - val_loss: 0.2428 - val_accuracy: 0.4182\n",
      "Epoch 7/100\n",
      "268/268 [==============================] - 41s 155ms/step - loss: 0.0898 - accuracy: 0.4202 - val_loss: 0.2325 - val_accuracy: 0.4182\n"
     ]
    },
    {
     "data": {
      "text/plain": "<keras.src.callbacks.History at 0x1fdc4045a90>"
     },
     "execution_count": 16,
     "metadata": {},
     "output_type": "execute_result"
    }
   ],
   "source": [
    "model_genders.fit(x=train_images,y=train_genders,batch_size=32,epochs=100,validation_data=(val_images,val_genders),verbose=1,shuffle=True,callbacks=tf.keras.callbacks.EarlyStopping(patience=2))"
   ],
   "metadata": {
    "collapsed": false,
    "ExecuteTime": {
     "end_time": "2024-03-03T20:52:50.135675Z",
     "start_time": "2024-03-03T20:45:42.555581Z"
    }
   },
   "id": "6838a158d4105574",
   "execution_count": 16
  },
  {
   "cell_type": "code",
   "outputs": [
    {
     "name": "stdout",
     "output_type": "stream",
     "text": [
      "Epoch 1/100\n",
      "268/268 [==============================] - 39s 141ms/step - loss: 26.1029 - val_loss: 49.0051\n",
      "Epoch 2/100\n",
      "268/268 [==============================] - 37s 139ms/step - loss: 23.2380 - val_loss: 17.6199\n",
      "Epoch 3/100\n",
      "268/268 [==============================] - 38s 141ms/step - loss: 22.2441 - val_loss: 24.5099\n",
      "Epoch 4/100\n",
      "268/268 [==============================] - 38s 142ms/step - loss: 21.6314 - val_loss: 20.1874\n"
     ]
    },
    {
     "data": {
      "text/plain": "<keras.src.callbacks.History at 0x1fdc426e4d0>"
     },
     "execution_count": 17,
     "metadata": {},
     "output_type": "execute_result"
    }
   ],
   "source": [
    "model_ages.fit(x=train_images,y=train_ages,batch_size=32,epochs=100,validation_data=(val_images,val_ages),verbose=1,shuffle=True,callbacks=tf.keras.callbacks.EarlyStopping(patience=2))"
   ],
   "metadata": {
    "collapsed": false,
    "ExecuteTime": {
     "end_time": "2024-03-03T20:55:24.299603Z",
     "start_time": "2024-03-03T20:52:51.935960Z"
    }
   },
   "id": "d16fe972f36073b",
   "execution_count": 17
  },
  {
   "cell_type": "code",
   "outputs": [
    {
     "name": "stderr",
     "output_type": "stream",
     "text": [
      "C:\\Users\\amith\\AppData\\Local\\Temp\\ipykernel_40032\\4190216403.py:1: UserWarning: You are saving your model as an HDF5 file via `model.save()`. This file format is considered legacy. We recommend using instead the native Keras format, e.g. `model.save('my_model.keras')`.\n",
      "  tf.keras.models.save_model(model=model_genders,filepath=\"C:/Users/amith/Documents/Datasets/model_genders.h5\",overwrite=True)\n",
      "C:\\Users\\amith\\AppData\\Local\\Temp\\ipykernel_40032\\4190216403.py:2: UserWarning: You are saving your model as an HDF5 file via `model.save()`. This file format is considered legacy. We recommend using instead the native Keras format, e.g. `model.save('my_model.keras')`.\n",
      "  tf.keras.models.save_model(model=model_ages,filepath=\"C:/Users/amith/Documents/Datasets/model_ages.h5\",overwrite=True)\n"
     ]
    }
   ],
   "source": [
    "tf.keras.models.save_model(model=model_genders,filepath=\"C:/Users/amith/Documents/Datasets/model_genders.h5\",overwrite=True)\n",
    "tf.keras.models.save_model(model=model_ages,filepath=\"C:/Users/amith/Documents/Datasets/model_ages.h5\",overwrite=True)"
   ],
   "metadata": {
    "collapsed": false,
    "ExecuteTime": {
     "end_time": "2024-03-03T20:55:34.514957Z",
     "start_time": "2024-03-03T20:55:34.067390Z"
    }
   },
   "id": "7e1c380be2d56852",
   "execution_count": 18
  },
  {
   "cell_type": "code",
   "outputs": [],
   "source": [],
   "metadata": {
    "collapsed": false
   },
   "id": "6b9c7b6bfe0ee73f"
  }
 ],
 "metadata": {
  "kernelspec": {
   "display_name": "Python 3",
   "language": "python",
   "name": "python3"
  },
  "language_info": {
   "codemirror_mode": {
    "name": "ipython",
    "version": 2
   },
   "file_extension": ".py",
   "mimetype": "text/x-python",
   "name": "python",
   "nbconvert_exporter": "python",
   "pygments_lexer": "ipython2",
   "version": "2.7.6"
  }
 },
 "nbformat": 4,
 "nbformat_minor": 5
}
