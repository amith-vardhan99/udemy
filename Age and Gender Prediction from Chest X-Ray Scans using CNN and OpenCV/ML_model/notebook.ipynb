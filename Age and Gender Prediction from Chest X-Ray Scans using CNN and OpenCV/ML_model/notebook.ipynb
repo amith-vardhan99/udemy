{
 "cells": [
  {
   "cell_type": "code",
   "execution_count": 1,
   "id": "initial_id",
   "metadata": {
    "collapsed": true,
    "ExecuteTime": {
     "end_time": "2024-03-02T03:20:58.417289Z",
     "start_time": "2024-03-02T03:20:53.654191Z"
    }
   },
   "outputs": [
    {
     "name": "stdout",
     "output_type": "stream",
     "text": [
      "WARNING:tensorflow:From C:\\Users\\amith\\AppData\\Local\\Programs\\Python\\Python311\\Lib\\site-packages\\keras\\src\\losses.py:2976: The name tf.losses.sparse_softmax_cross_entropy is deprecated. Please use tf.compat.v1.losses.sparse_softmax_cross_entropy instead.\n"
     ]
    }
   ],
   "source": [
    "import numpy as np\n",
    "import pandas as pd\n",
    "import matplotlib.pyplot as plt\n",
    "import seaborn as sns\n",
    "import os\n",
    "import opendatasets as od\n",
    "import tensorflow as tf\n",
    "import cv2\n",
    "from tqdm import *"
   ]
  },
  {
   "cell_type": "code",
   "outputs": [],
   "source": [
    "dataset_directory = \"C:\\\\Users\\\\amith\\\\Documents\\\\Datasets\\\\kaggle\\\\kaggle\".replace(\"\\\\\",\"/\")\n",
    "csv_directory = \"C:\\\\Users\\\\amith\\\\Documents\\\\Datasets\".replace(\"\\\\\",\"/\")"
   ],
   "metadata": {
    "collapsed": false,
    "ExecuteTime": {
     "end_time": "2024-03-02T03:20:59.876324Z",
     "start_time": "2024-03-02T03:20:59.870263Z"
    }
   },
   "id": "ede11ad53b97391",
   "execution_count": 2
  },
  {
   "cell_type": "code",
   "outputs": [],
   "source": [
    "train_val_age = pd.read_csv(csv_directory + \"/train_age.csv\").sort_values(by=\"imageId\")\n",
    "train_val_gender = pd.read_csv(csv_directory + \"/train_gender.csv\").sort_values(by=\"imageId\")\n",
    "\n",
    "id = train_val_age[\"imageId\"].values.tolist()\n",
    "train_val_files = pd.DataFrame(columns=[\"imageId\",\"Files\"])\n",
    "ctr = 0\n",
    "\n",
    "for i in os.listdir(dataset_directory+\"/train\"):\n",
    "    train_val_files.loc[ctr,\"imageId\"] = id[ctr]\n",
    "    train_val_files.loc[ctr,\"Files\"] = i\n",
    "    ctr += 1\n",
    "\n",
    "train_val_files = train_val_files.sort_values(by=\"imageId\")\n",
    "\n",
    "train_val_output = pd.merge(left=train_val_age,right=train_val_gender,on=\"imageId\",how=\"inner\")\n",
    "train_val_output = pd.merge(left=train_val_output,right=train_val_files,on=\"imageId\",how=\"inner\")\n",
    "\n",
    "train_val_output = train_val_output.sort_values(by=\"imageId\")\n",
    "\n",
    "train_val_id = train_val_output[\"imageId\"].values.tolist()\n",
    "np.random.shuffle(train_val_id)\n",
    "\n",
    "\n",
    "threshold = int(np.round(0.8 * len(train_val_id)))\n",
    "\n",
    "train_id = train_val_id[0:threshold]\n",
    "val_id = train_val_id[threshold:]\n",
    "\n",
    "train_val_output.set_index(keys=\"imageId\",drop=False,inplace=True)\n",
    "\n",
    "train_output = train_val_output.loc[train_id,:]\n",
    "val_output = train_val_output.loc[val_id,:]\n",
    "\n",
    "train_output = train_output.reset_index(drop=True).drop(columns=[\"imageId\"])\n",
    "val_output = val_output.reset_index(drop=True).drop(columns=[\"imageId\"])"
   ],
   "metadata": {
    "collapsed": false,
    "ExecuteTime": {
     "end_time": "2024-03-02T03:21:04.613536Z",
     "start_time": "2024-03-02T03:21:00.606474Z"
    }
   },
   "id": "b2aba68028b2c7f2",
   "execution_count": 3
  },
  {
   "cell_type": "code",
   "outputs": [
    {
     "data": {
      "text/plain": "    age  gender       Files\n0  75.0       0  003087.png\n1  55.0       0  008259.png\n2  66.0       0  001213.png\n3  29.0       0  006315.png\n4  62.0       0  002541.png",
      "text/html": "<div>\n<style scoped>\n    .dataframe tbody tr th:only-of-type {\n        vertical-align: middle;\n    }\n\n    .dataframe tbody tr th {\n        vertical-align: top;\n    }\n\n    .dataframe thead th {\n        text-align: right;\n    }\n</style>\n<table border=\"1\" class=\"dataframe\">\n  <thead>\n    <tr style=\"text-align: right;\">\n      <th></th>\n      <th>age</th>\n      <th>gender</th>\n      <th>Files</th>\n    </tr>\n  </thead>\n  <tbody>\n    <tr>\n      <th>0</th>\n      <td>75.0</td>\n      <td>0</td>\n      <td>003087.png</td>\n    </tr>\n    <tr>\n      <th>1</th>\n      <td>55.0</td>\n      <td>0</td>\n      <td>008259.png</td>\n    </tr>\n    <tr>\n      <th>2</th>\n      <td>66.0</td>\n      <td>0</td>\n      <td>001213.png</td>\n    </tr>\n    <tr>\n      <th>3</th>\n      <td>29.0</td>\n      <td>0</td>\n      <td>006315.png</td>\n    </tr>\n    <tr>\n      <th>4</th>\n      <td>62.0</td>\n      <td>0</td>\n      <td>002541.png</td>\n    </tr>\n  </tbody>\n</table>\n</div>"
     },
     "execution_count": 4,
     "metadata": {},
     "output_type": "execute_result"
    }
   ],
   "source": [
    "train_output.head()"
   ],
   "metadata": {
    "collapsed": false,
    "ExecuteTime": {
     "end_time": "2024-03-02T03:21:04.637334Z",
     "start_time": "2024-03-02T03:21:04.614556Z"
    }
   },
   "id": "c8a0557bed29561a",
   "execution_count": 4
  },
  {
   "cell_type": "code",
   "outputs": [
    {
     "data": {
      "text/plain": "    age  gender       Files\n0  29.0       0  003360.png\n1  71.0       1  008902.png\n2  31.0       1  004127.png\n3  74.0       0  005795.png\n4  21.0       1  000071.png",
      "text/html": "<div>\n<style scoped>\n    .dataframe tbody tr th:only-of-type {\n        vertical-align: middle;\n    }\n\n    .dataframe tbody tr th {\n        vertical-align: top;\n    }\n\n    .dataframe thead th {\n        text-align: right;\n    }\n</style>\n<table border=\"1\" class=\"dataframe\">\n  <thead>\n    <tr style=\"text-align: right;\">\n      <th></th>\n      <th>age</th>\n      <th>gender</th>\n      <th>Files</th>\n    </tr>\n  </thead>\n  <tbody>\n    <tr>\n      <th>0</th>\n      <td>29.0</td>\n      <td>0</td>\n      <td>003360.png</td>\n    </tr>\n    <tr>\n      <th>1</th>\n      <td>71.0</td>\n      <td>1</td>\n      <td>008902.png</td>\n    </tr>\n    <tr>\n      <th>2</th>\n      <td>31.0</td>\n      <td>1</td>\n      <td>004127.png</td>\n    </tr>\n    <tr>\n      <th>3</th>\n      <td>74.0</td>\n      <td>0</td>\n      <td>005795.png</td>\n    </tr>\n    <tr>\n      <th>4</th>\n      <td>21.0</td>\n      <td>1</td>\n      <td>000071.png</td>\n    </tr>\n  </tbody>\n</table>\n</div>"
     },
     "execution_count": 5,
     "metadata": {},
     "output_type": "execute_result"
    }
   ],
   "source": [
    "val_output.head()"
   ],
   "metadata": {
    "collapsed": false,
    "ExecuteTime": {
     "end_time": "2024-03-02T03:21:07.696209Z",
     "start_time": "2024-03-02T03:21:07.683544Z"
    }
   },
   "id": "369d75c4486e181b",
   "execution_count": 5
  },
  {
   "cell_type": "code",
   "outputs": [
    {
     "name": "stderr",
     "output_type": "stream",
     "text": [
      "Processing train data: 100%|██████████| 8562/8562 [02:59<00:00, 47.74it/s]\n"
     ]
    }
   ],
   "source": [
    "train_images = []\n",
    "train_data = {}\n",
    "ctr = 0\n",
    "for i in tqdm(iterable=train_output[\"Files\"],desc=\"Processing train data\"):\n",
    "    ages = train_output.loc[ctr,\"age\"]\n",
    "    genders = train_output.loc[ctr,\"gender\"]\n",
    "    img_org = cv2.imread(dataset_directory + \"/train/\" + i)\n",
    "    img_gray = cv2.cvtColor(src=img_org, code=cv2.COLOR_BGR2GRAY)\n",
    "    img_short = cv2.resize(src=img_gray, dsize=(64,64))\n",
    "    img = img_short / 255.0\n",
    "    train_images.append(img)\n",
    "    ctr += 1\n",
    "\n",
    "train_images = np.array(train_images)"
   ],
   "metadata": {
    "collapsed": false,
    "ExecuteTime": {
     "end_time": "2024-03-02T03:24:53.013780Z",
     "start_time": "2024-03-02T03:21:53.494459Z"
    }
   },
   "id": "ff7b3d79df67d578",
   "execution_count": 6
  },
  {
   "cell_type": "code",
   "outputs": [
    {
     "data": {
      "text/plain": "'C:/Users/amith/Documents/Datasets/kaggle/kaggle/009790.png'"
     },
     "execution_count": 34,
     "metadata": {},
     "output_type": "execute_result"
    }
   ],
   "source": [
    "dataset_directory + \"/\" + i"
   ],
   "metadata": {
    "collapsed": false,
    "ExecuteTime": {
     "end_time": "2024-03-02T03:19:30.011497Z",
     "start_time": "2024-03-02T03:19:30.003629Z"
    }
   },
   "id": "9b26fd5ce770ddf1",
   "execution_count": 34
  },
  {
   "cell_type": "code",
   "outputs": [
    {
     "data": {
      "text/plain": "'C:/Users/amith/Documents/Datasets/kaggle/kaggle/val/003360.png'"
     },
     "execution_count": 12,
     "metadata": {},
     "output_type": "execute_result"
    }
   ],
   "source": [
    "dataset_directory + \"/val/\" + i"
   ],
   "metadata": {
    "collapsed": false,
    "ExecuteTime": {
     "end_time": "2024-03-02T03:30:28.708886Z",
     "start_time": "2024-03-02T03:30:28.701024Z"
    }
   },
   "id": "6413f15d0ad73fb7",
   "execution_count": 12
  },
  {
   "cell_type": "code",
   "outputs": [
    {
     "name": "stderr",
     "output_type": "stream",
     "text": [
      "Processing val data: 100%|██████████| 2140/2140 [01:01<00:00, 34.90it/s]\n"
     ]
    }
   ],
   "source": [
    "val_images = []\n",
    "val_data = {}\n",
    "ctr = 0\n",
    "for i in tqdm(iterable=val_output[\"Files\"],desc=\"Processing val data\"):\n",
    "    ages = val_output.loc[ctr,\"age\"]\n",
    "    genders = val_output.loc[ctr,\"gender\"]\n",
    "    img_org = cv2.imread(dataset_directory + \"/train/\" + i)\n",
    "    img_gray = cv2.cvtColor(src=img_org, code=cv2.COLOR_BGR2GRAY)\n",
    "    img_short = cv2.resize(src=img_gray, dsize=(64,64))\n",
    "    img = img_short / 255.0\n",
    "    val_images.append(img)\n",
    "    ctr += 1\n",
    "\n",
    "val_images = np.array(val_images)"
   ],
   "metadata": {
    "collapsed": false,
    "ExecuteTime": {
     "end_time": "2024-03-02T03:32:17.373366Z",
     "start_time": "2024-03-02T03:31:16.014502Z"
    }
   },
   "id": "223f96a14cea3f9",
   "execution_count": 14
  },
  {
   "cell_type": "code",
   "outputs": [],
   "source": [
    "train_images = train_images.reshape(tuple(list(train_images.shape) + [1]))\n",
    "val_images = val_images.reshape(tuple(list(val_images.shape) + [1]))"
   ],
   "metadata": {
    "collapsed": false,
    "ExecuteTime": {
     "end_time": "2024-03-02T03:35:20.079992Z",
     "start_time": "2024-03-02T03:35:20.074140Z"
    }
   },
   "id": "313c96879745bc41",
   "execution_count": 23
  },
  {
   "cell_type": "code",
   "outputs": [
    {
     "data": {
      "text/plain": "(2140, 64, 64, 1)"
     },
     "execution_count": 25,
     "metadata": {},
     "output_type": "execute_result"
    }
   ],
   "source": [
    "val_images.shape"
   ],
   "metadata": {
    "collapsed": false,
    "ExecuteTime": {
     "end_time": "2024-03-02T03:35:32.117111Z",
     "start_time": "2024-03-02T03:35:32.111652Z"
    }
   },
   "id": "6b799b38f574439b",
   "execution_count": 25
  },
  {
   "cell_type": "code",
   "outputs": [
    {
     "name": "stdout",
     "output_type": "stream",
     "text": [
      "WARNING:tensorflow:From C:\\Users\\amith\\AppData\\Local\\Programs\\Python\\Python311\\Lib\\site-packages\\keras\\src\\backend.py:873: The name tf.get_default_graph is deprecated. Please use tf.compat.v1.get_default_graph instead.\n"
     ]
    }
   ],
   "source": [
    "model_1 = tf.keras.models.Sequential(layers=[\n",
    "    tf.keras.layers.Conv2D(filters=16,kernel_size=(3,3),activation=\"relu\",input_shape=(64,64,1)),\n",
    "    tf.keras.layers.Conv2D(filters=32,kernel_size=(3,3),activation=\"relu\",input_shape=(64,64,1)),\n",
    "    tf.keras.layers.Conv2D(filters=64,kernel_size=(3,3),activation=\"relu\",input_shape=(64,64,1)),\n",
    "    tf.keras.layers.Conv2D(filters=64,kernel_size=(3,3),activation=\"relu\",input_shape=(64,64,1)),\n",
    "    \n",
    "    tf.keras.layers.Flatten(),\n",
    "    tf.keras.layers.Dense(units=64,activation=\"relu\"),\n",
    "    tf.keras.layers.Dense(units=1,activation=\"softmax\")\n",
    "])"
   ],
   "metadata": {
    "collapsed": false,
    "ExecuteTime": {
     "end_time": "2024-03-02T03:36:52.067240Z",
     "start_time": "2024-03-02T03:36:51.321379Z"
    }
   },
   "id": "1bea9c70b1d56ba7",
   "execution_count": 26
  },
  {
   "cell_type": "code",
   "outputs": [],
   "source": [
    "train_ages = train_output[\"age\"].values\n",
    "train_genders = train_output[\"gender\"].values\n",
    "\n",
    "val_ages = val_output[\"age\"].values\n",
    "val_genders = val_output[\"gender\"].values"
   ],
   "metadata": {
    "collapsed": false,
    "ExecuteTime": {
     "end_time": "2024-03-02T03:38:00.776235Z",
     "start_time": "2024-03-02T03:38:00.770785Z"
    }
   },
   "id": "8a67f19c2092bd2f",
   "execution_count": 28
  },
  {
   "cell_type": "code",
   "outputs": [],
   "source": [
    "model_1.compile(optimizer=tf.keras.optimizers.Adam(),loss=tf.keras.losses.binary_crossentropy,metrics=['accuracy'])"
   ],
   "metadata": {
    "collapsed": false,
    "ExecuteTime": {
     "end_time": "2024-03-02T03:39:19.416492Z",
     "start_time": "2024-03-02T03:39:19.386606Z"
    }
   },
   "id": "75719ee0f115cd65",
   "execution_count": 30
  },
  {
   "cell_type": "code",
   "outputs": [
    {
     "name": "stdout",
     "output_type": "stream",
     "text": [
      "Epoch 1/100\n",
      "WARNING:tensorflow:From C:\\Users\\amith\\AppData\\Local\\Programs\\Python\\Python311\\Lib\\site-packages\\keras\\src\\utils\\tf_utils.py:492: The name tf.ragged.RaggedTensorValue is deprecated. Please use tf.compat.v1.ragged.RaggedTensorValue instead.\n",
      "WARNING:tensorflow:From C:\\Users\\amith\\AppData\\Local\\Programs\\Python\\Python311\\Lib\\site-packages\\keras\\src\\engine\\base_layer_utils.py:384: The name tf.executing_eagerly_outside_functions is deprecated. Please use tf.compat.v1.executing_eagerly_outside_functions instead.\n",
      "268/268 [==============================] - 91s 334ms/step - loss: 0.4380 - accuracy: 0.4168 - val_loss: 0.3065 - val_accuracy: 0.4318\n",
      "Epoch 2/100\n",
      "268/268 [==============================] - 140s 520ms/step - loss: 0.3179 - accuracy: 0.4168 - val_loss: 0.2551 - val_accuracy: 0.4318\n",
      "Epoch 3/100\n",
      "268/268 [==============================] - 40s 148ms/step - loss: 0.2517 - accuracy: 0.4168 - val_loss: 0.2442 - val_accuracy: 0.4318\n",
      "Epoch 4/100\n",
      "268/268 [==============================] - 41s 155ms/step - loss: 0.2146 - accuracy: 0.4168 - val_loss: 0.2263 - val_accuracy: 0.4318\n",
      "Epoch 5/100\n",
      "268/268 [==============================] - 141s 526ms/step - loss: 0.1737 - accuracy: 0.4168 - val_loss: 0.2072 - val_accuracy: 0.4318\n",
      "Epoch 6/100\n",
      "268/268 [==============================] - 50s 184ms/step - loss: 0.1391 - accuracy: 0.4168 - val_loss: 0.2081 - val_accuracy: 0.4318\n",
      "Epoch 7/100\n",
      "268/268 [==============================] - 41s 153ms/step - loss: 0.1136 - accuracy: 0.4168 - val_loss: 0.2677 - val_accuracy: 0.4318\n"
     ]
    },
    {
     "data": {
      "text/plain": "<keras.src.callbacks.History at 0x2a27cdd9350>"
     },
     "execution_count": 31,
     "metadata": {},
     "output_type": "execute_result"
    }
   ],
   "source": [
    "model_1.fit(x=train_images,y=train_genders,batch_size=32,epochs=100,validation_data=(val_images,val_genders),verbose=1,shuffle=True,callbacks=tf.keras.callbacks.EarlyStopping(patience=2))"
   ],
   "metadata": {
    "collapsed": false,
    "ExecuteTime": {
     "end_time": "2024-03-02T03:48:24.720807Z",
     "start_time": "2024-03-02T03:39:20.951672Z"
    }
   },
   "id": "6838a158d4105574",
   "execution_count": 31
  },
  {
   "cell_type": "code",
   "outputs": [
    {
     "name": "stderr",
     "output_type": "stream",
     "text": [
      "C:\\Users\\amith\\AppData\\Local\\Temp\\ipykernel_20364\\2445089383.py:1: UserWarning: You are saving your model as an HDF5 file via `model.save()`. This file format is considered legacy. We recommend using instead the native Keras format, e.g. `model.save('my_model.keras')`.\n",
      "  tf.keras.models.save_model(model=model_1,filepath=\"C:/Users/amith/Documents/Datasets/model_1.h5\",overwrite=True)\n"
     ]
    }
   ],
   "source": [
    "tf.keras.models.save_model(model=model_1,filepath=\"C:/Users/amith/Documents/Datasets/model_1.h5\",overwrite=True)"
   ],
   "metadata": {
    "collapsed": false,
    "ExecuteTime": {
     "end_time": "2024-03-02T03:51:33.705361Z",
     "start_time": "2024-03-02T03:51:33.435026Z"
    }
   },
   "id": "7e1c380be2d56852",
   "execution_count": 33
  },
  {
   "cell_type": "code",
   "outputs": [],
   "source": [],
   "metadata": {
    "collapsed": false
   },
   "id": "6b9c7b6bfe0ee73f"
  }
 ],
 "metadata": {
  "kernelspec": {
   "display_name": "Python 3",
   "language": "python",
   "name": "python3"
  },
  "language_info": {
   "codemirror_mode": {
    "name": "ipython",
    "version": 2
   },
   "file_extension": ".py",
   "mimetype": "text/x-python",
   "name": "python",
   "nbconvert_exporter": "python",
   "pygments_lexer": "ipython2",
   "version": "2.7.6"
  }
 },
 "nbformat": 4,
 "nbformat_minor": 5
}
