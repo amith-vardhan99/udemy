{
 "cells": [
  {
   "cell_type": "code",
   "execution_count": 1,
   "id": "initial_id",
   "metadata": {
    "collapsed": true,
    "ExecuteTime": {
     "end_time": "2024-03-04T01:53:00.791355Z",
     "start_time": "2024-03-04T01:52:54.479758Z"
    }
   },
   "outputs": [
    {
     "name": "stdout",
     "output_type": "stream",
     "text": [
      "WARNING:tensorflow:From C:\\Users\\amith\\AppData\\Local\\Programs\\Python\\Python311\\Lib\\site-packages\\keras\\src\\losses.py:2976: The name tf.losses.sparse_softmax_cross_entropy is deprecated. Please use tf.compat.v1.losses.sparse_softmax_cross_entropy instead.\n"
     ]
    }
   ],
   "source": [
    "import numpy as np\n",
    "import pandas as pd\n",
    "import matplotlib.pyplot as plt\n",
    "import seaborn as sns\n",
    "import os\n",
    "import opendatasets as od\n",
    "import tensorflow as tf\n",
    "import cv2\n",
    "from tqdm import *"
   ]
  },
  {
   "cell_type": "code",
   "outputs": [],
   "source": [
    "dataset_directory = \"C:\\\\Users\\\\amith\\\\Documents\\\\Datasets\\\\kaggle\\\\kaggle\".replace(\"\\\\\",\"/\")\n",
    "csv_directory = \"C:\\\\Users\\\\amith\\\\Documents\\\\Datasets\".replace(\"\\\\\",\"/\")"
   ],
   "metadata": {
    "collapsed": false,
    "ExecuteTime": {
     "end_time": "2024-03-04T01:53:01.535415Z",
     "start_time": "2024-03-04T01:53:01.532287Z"
    }
   },
   "id": "ede11ad53b97391",
   "execution_count": 2
  },
  {
   "cell_type": "code",
   "outputs": [],
   "source": [
    "train_val_age = pd.read_csv(csv_directory + \"/train_age.csv\").sort_values(by=\"imageId\")\n",
    "train_val_gender = pd.read_csv(csv_directory + \"/train_gender.csv\").sort_values(by=\"imageId\")\n",
    "\n",
    "id = train_val_age[\"imageId\"].values.tolist()\n",
    "train_val_files = pd.DataFrame(columns=[\"imageId\",\"Files\"])\n",
    "ctr = 0\n",
    "\n",
    "for i in os.listdir(dataset_directory+\"/train\"):\n",
    "    train_val_files.loc[ctr,\"imageId\"] = id[ctr]\n",
    "    train_val_files.loc[ctr,\"Files\"] = i\n",
    "    ctr += 1\n",
    "\n",
    "train_val_files = train_val_files.sort_values(by=\"imageId\")\n",
    "\n",
    "train_val_output = pd.merge(left=train_val_age,right=train_val_gender,on=\"imageId\",how=\"inner\")\n",
    "train_val_output = pd.merge(left=train_val_output,right=train_val_files,on=\"imageId\",how=\"inner\")\n",
    "\n",
    "train_val_output = train_val_output.sort_values(by=\"imageId\")\n",
    "\n",
    "train_val_id = train_val_output[\"imageId\"].values.tolist()\n",
    "np.random.shuffle(train_val_id)\n",
    "\n",
    "\n",
    "threshold = int(np.round(0.8 * len(train_val_id)))\n",
    "\n",
    "train_id = train_val_id[0:threshold]\n",
    "val_id = train_val_id[threshold:]\n",
    "\n",
    "train_val_output.set_index(keys=\"imageId\",drop=False,inplace=True)\n",
    "\n",
    "train_output = train_val_output.loc[train_id,:]\n",
    "val_output = train_val_output.loc[val_id,:]\n",
    "\n",
    "train_output = train_output.reset_index(drop=True).drop(columns=[\"imageId\"])\n",
    "val_output = val_output.reset_index(drop=True).drop(columns=[\"imageId\"])"
   ],
   "metadata": {
    "collapsed": false,
    "ExecuteTime": {
     "end_time": "2024-03-04T01:53:05.916615Z",
     "start_time": "2024-03-04T01:53:02.462872Z"
    }
   },
   "id": "b2aba68028b2c7f2",
   "execution_count": 3
  },
  {
   "cell_type": "code",
   "outputs": [
    {
     "data": {
      "text/plain": "    age  gender       Files\n0  64.0       1  004945.png\n1  72.0       1  010345.png\n2  29.0       1  008066.png\n3  24.0       1  006394.png\n4  41.0       0  009885.png",
      "text/html": "<div>\n<style scoped>\n    .dataframe tbody tr th:only-of-type {\n        vertical-align: middle;\n    }\n\n    .dataframe tbody tr th {\n        vertical-align: top;\n    }\n\n    .dataframe thead th {\n        text-align: right;\n    }\n</style>\n<table border=\"1\" class=\"dataframe\">\n  <thead>\n    <tr style=\"text-align: right;\">\n      <th></th>\n      <th>age</th>\n      <th>gender</th>\n      <th>Files</th>\n    </tr>\n  </thead>\n  <tbody>\n    <tr>\n      <th>0</th>\n      <td>64.0</td>\n      <td>1</td>\n      <td>004945.png</td>\n    </tr>\n    <tr>\n      <th>1</th>\n      <td>72.0</td>\n      <td>1</td>\n      <td>010345.png</td>\n    </tr>\n    <tr>\n      <th>2</th>\n      <td>29.0</td>\n      <td>1</td>\n      <td>008066.png</td>\n    </tr>\n    <tr>\n      <th>3</th>\n      <td>24.0</td>\n      <td>1</td>\n      <td>006394.png</td>\n    </tr>\n    <tr>\n      <th>4</th>\n      <td>41.0</td>\n      <td>0</td>\n      <td>009885.png</td>\n    </tr>\n  </tbody>\n</table>\n</div>"
     },
     "execution_count": 4,
     "metadata": {},
     "output_type": "execute_result"
    }
   ],
   "source": [
    "train_output.head()"
   ],
   "metadata": {
    "collapsed": false,
    "ExecuteTime": {
     "end_time": "2024-03-04T01:53:14.306954Z",
     "start_time": "2024-03-04T01:53:14.295649Z"
    }
   },
   "id": "c8a0557bed29561a",
   "execution_count": 4
  },
  {
   "cell_type": "code",
   "outputs": [
    {
     "data": {
      "text/plain": "    age  gender       Files\n0  69.0       1  005835.png\n1  28.0       1  008981.png\n2  67.0       0  003344.png\n3  73.0       1  005203.png\n4  28.0       1  009086.png",
      "text/html": "<div>\n<style scoped>\n    .dataframe tbody tr th:only-of-type {\n        vertical-align: middle;\n    }\n\n    .dataframe tbody tr th {\n        vertical-align: top;\n    }\n\n    .dataframe thead th {\n        text-align: right;\n    }\n</style>\n<table border=\"1\" class=\"dataframe\">\n  <thead>\n    <tr style=\"text-align: right;\">\n      <th></th>\n      <th>age</th>\n      <th>gender</th>\n      <th>Files</th>\n    </tr>\n  </thead>\n  <tbody>\n    <tr>\n      <th>0</th>\n      <td>69.0</td>\n      <td>1</td>\n      <td>005835.png</td>\n    </tr>\n    <tr>\n      <th>1</th>\n      <td>28.0</td>\n      <td>1</td>\n      <td>008981.png</td>\n    </tr>\n    <tr>\n      <th>2</th>\n      <td>67.0</td>\n      <td>0</td>\n      <td>003344.png</td>\n    </tr>\n    <tr>\n      <th>3</th>\n      <td>73.0</td>\n      <td>1</td>\n      <td>005203.png</td>\n    </tr>\n    <tr>\n      <th>4</th>\n      <td>28.0</td>\n      <td>1</td>\n      <td>009086.png</td>\n    </tr>\n  </tbody>\n</table>\n</div>"
     },
     "execution_count": 5,
     "metadata": {},
     "output_type": "execute_result"
    }
   ],
   "source": [
    "val_output.head()"
   ],
   "metadata": {
    "collapsed": false,
    "ExecuteTime": {
     "end_time": "2024-03-04T01:53:15.096965Z",
     "start_time": "2024-03-04T01:53:15.089629Z"
    }
   },
   "id": "369d75c4486e181b",
   "execution_count": 5
  },
  {
   "cell_type": "code",
   "outputs": [
    {
     "name": "stderr",
     "output_type": "stream",
     "text": [
      "Processing train data: 100%|██████████| 8562/8562 [03:03<00:00, 46.70it/s]\n"
     ]
    }
   ],
   "source": [
    "train_images = []\n",
    "train_data = {}\n",
    "ctr = 0\n",
    "for i in tqdm(iterable=train_output[\"Files\"],desc=\"Processing train data\"):\n",
    "    ages = train_output.loc[ctr,\"age\"]\n",
    "    genders = train_output.loc[ctr,\"gender\"]\n",
    "    img_org = cv2.imread(dataset_directory + \"/train/\" + i)\n",
    "    img_gray = cv2.cvtColor(src=img_org, code=cv2.COLOR_BGR2GRAY)\n",
    "    img_short = cv2.resize(src=img_gray, dsize=(64,64))\n",
    "    img = img_short / 255.0\n",
    "    train_images.append(img)\n",
    "    ctr += 1\n",
    "\n",
    "train_images = np.array(train_images)"
   ],
   "metadata": {
    "collapsed": false,
    "ExecuteTime": {
     "end_time": "2024-03-04T01:56:19.178928Z",
     "start_time": "2024-03-04T01:53:15.652434Z"
    }
   },
   "id": "ff7b3d79df67d578",
   "execution_count": 6
  },
  {
   "cell_type": "code",
   "outputs": [
    {
     "data": {
      "text/plain": "'C:/Users/amith/Documents/Datasets/kaggle/kaggle/003431.png'"
     },
     "execution_count": 7,
     "metadata": {},
     "output_type": "execute_result"
    }
   ],
   "source": [
    "dataset_directory + \"/\" + i"
   ],
   "metadata": {
    "collapsed": false,
    "ExecuteTime": {
     "end_time": "2024-03-04T01:56:38.383646Z",
     "start_time": "2024-03-04T01:56:38.376429Z"
    }
   },
   "id": "9b26fd5ce770ddf1",
   "execution_count": 7
  },
  {
   "cell_type": "code",
   "outputs": [
    {
     "data": {
      "text/plain": "'C:/Users/amith/Documents/Datasets/kaggle/kaggle/val/003431.png'"
     },
     "execution_count": 8,
     "metadata": {},
     "output_type": "execute_result"
    }
   ],
   "source": [
    "dataset_directory + \"/val/\" + i"
   ],
   "metadata": {
    "collapsed": false,
    "ExecuteTime": {
     "end_time": "2024-03-04T01:56:39.067803Z",
     "start_time": "2024-03-04T01:56:39.062171Z"
    }
   },
   "id": "6413f15d0ad73fb7",
   "execution_count": 8
  },
  {
   "cell_type": "code",
   "outputs": [
    {
     "name": "stderr",
     "output_type": "stream",
     "text": [
      "Processing val data: 100%|██████████| 2140/2140 [00:41<00:00, 52.14it/s]\n"
     ]
    }
   ],
   "source": [
    "val_images = []\n",
    "val_data = {}\n",
    "ctr = 0\n",
    "for i in tqdm(iterable=val_output[\"Files\"],desc=\"Processing val data\"):\n",
    "    ages = val_output.loc[ctr,\"age\"]\n",
    "    genders = val_output.loc[ctr,\"gender\"]\n",
    "    img_org = cv2.imread(dataset_directory + \"/train/\" + i)\n",
    "    img_gray = cv2.cvtColor(src=img_org, code=cv2.COLOR_BGR2GRAY)\n",
    "    img_short = cv2.resize(src=img_gray, dsize=(64,64))\n",
    "    img = img_short / 255.0\n",
    "    val_images.append(img)\n",
    "    ctr += 1\n",
    "\n",
    "val_images = np.array(val_images)"
   ],
   "metadata": {
    "collapsed": false,
    "ExecuteTime": {
     "end_time": "2024-03-04T01:57:20.702969Z",
     "start_time": "2024-03-04T01:56:39.615461Z"
    }
   },
   "id": "223f96a14cea3f9",
   "execution_count": 9
  },
  {
   "cell_type": "code",
   "outputs": [],
   "source": [
    "train_images = train_images.reshape(tuple(list(train_images.shape) + [1]))\n",
    "val_images = val_images.reshape(tuple(list(val_images.shape) + [1]))"
   ],
   "metadata": {
    "collapsed": false,
    "ExecuteTime": {
     "end_time": "2024-03-04T01:57:23.705763Z",
     "start_time": "2024-03-04T01:57:23.701203Z"
    }
   },
   "id": "313c96879745bc41",
   "execution_count": 10
  },
  {
   "cell_type": "code",
   "outputs": [
    {
     "data": {
      "text/plain": "(2140, 64, 64, 1)"
     },
     "execution_count": 11,
     "metadata": {},
     "output_type": "execute_result"
    }
   ],
   "source": [
    "val_images.shape"
   ],
   "metadata": {
    "collapsed": false,
    "ExecuteTime": {
     "end_time": "2024-03-04T01:57:24.329514Z",
     "start_time": "2024-03-04T01:57:24.322811Z"
    }
   },
   "id": "6b799b38f574439b",
   "execution_count": 11
  },
  {
   "cell_type": "code",
   "outputs": [
    {
     "name": "stdout",
     "output_type": "stream",
     "text": [
      "WARNING:tensorflow:From C:\\Users\\amith\\AppData\\Local\\Programs\\Python\\Python311\\Lib\\site-packages\\keras\\src\\backend.py:873: The name tf.get_default_graph is deprecated. Please use tf.compat.v1.get_default_graph instead.\n"
     ]
    }
   ],
   "source": [
    "model_genders = tf.keras.models.Sequential(layers=[\n",
    "    tf.keras.layers.Conv2D(filters=16,kernel_size=(3,3),activation=\"relu\",input_shape=(64,64,1)),\n",
    "    tf.keras.layers.Conv2D(filters=32,kernel_size=(3,3),activation=\"relu\",input_shape=(64,64,1)),\n",
    "    tf.keras.layers.Conv2D(filters=64,kernel_size=(3,3),activation=\"relu\",input_shape=(64,64,1)),\n",
    "    tf.keras.layers.Conv2D(filters=64,kernel_size=(3,3),activation=\"relu\",input_shape=(64,64,1)),\n",
    "    \n",
    "    tf.keras.layers.Flatten(),\n",
    "    tf.keras.layers.Dense(units=64,activation=\"relu\"),\n",
    "    tf.keras.layers.Dense(units=1,activation=\"softmax\")\n",
    "])"
   ],
   "metadata": {
    "collapsed": false,
    "ExecuteTime": {
     "end_time": "2024-03-04T01:57:25.394166Z",
     "start_time": "2024-03-04T01:57:24.943652Z"
    }
   },
   "id": "1bea9c70b1d56ba7",
   "execution_count": 12
  },
  {
   "cell_type": "code",
   "outputs": [],
   "source": [
    "model_ages = tf.keras.models.Sequential(layers=[\n",
    "    tf.keras.layers.Conv2D(filters=16,kernel_size=(3,3),activation=\"relu\",input_shape=(64,64,1)),\n",
    "    tf.keras.layers.Conv2D(filters=32,kernel_size=(3,3),activation=\"relu\",input_shape=(64,64,1)),\n",
    "    tf.keras.layers.Conv2D(filters=64,kernel_size=(3,3),activation=\"relu\",input_shape=(64,64,1)),\n",
    "    tf.keras.layers.Conv2D(filters=64,kernel_size=(3,3),activation=\"relu\",input_shape=(64,64,1)),\n",
    "\n",
    "    tf.keras.layers.Flatten(),\n",
    "    tf.keras.layers.Dense(units=64,activation=\"relu\"),\n",
    "    tf.keras.layers.Dense(units=1,activation=\"linear\")\n",
    "])"
   ],
   "metadata": {
    "collapsed": false,
    "ExecuteTime": {
     "end_time": "2024-03-04T01:57:26.051547Z",
     "start_time": "2024-03-04T01:57:25.920190Z"
    }
   },
   "id": "63db3f9d994105c6",
   "execution_count": 13
  },
  {
   "cell_type": "code",
   "outputs": [],
   "source": [
    "train_ages = train_output[\"age\"].values\n",
    "train_genders = train_output[\"gender\"].values\n",
    "\n",
    "val_ages = val_output[\"age\"].values\n",
    "val_genders = val_output[\"gender\"].values"
   ],
   "metadata": {
    "collapsed": false,
    "ExecuteTime": {
     "end_time": "2024-03-04T01:57:26.589409Z",
     "start_time": "2024-03-04T01:57:26.586658Z"
    }
   },
   "id": "8a67f19c2092bd2f",
   "execution_count": 14
  },
  {
   "cell_type": "code",
   "outputs": [],
   "source": [
    "model_genders.compile(optimizer=tf.keras.optimizers.Adam(),loss=tf.keras.losses.binary_crossentropy,metrics=['accuracy'])\n",
    "model_ages.compile(optimizer=tf.keras.optimizers.SGD(),loss=tf.keras.losses.mean_absolute_error, metrics=[\"mae\"])"
   ],
   "metadata": {
    "collapsed": false,
    "ExecuteTime": {
     "end_time": "2024-03-04T01:57:27.137984Z",
     "start_time": "2024-03-04T01:57:27.111763Z"
    }
   },
   "id": "75719ee0f115cd65",
   "execution_count": 15
  },
  {
   "cell_type": "code",
   "outputs": [
    {
     "name": "stdout",
     "output_type": "stream",
     "text": [
      "Epoch 1/10\n",
      "WARNING:tensorflow:From C:\\Users\\amith\\AppData\\Local\\Programs\\Python\\Python311\\Lib\\site-packages\\keras\\src\\utils\\tf_utils.py:492: The name tf.ragged.RaggedTensorValue is deprecated. Please use tf.compat.v1.ragged.RaggedTensorValue instead.\n",
      "WARNING:tensorflow:From C:\\Users\\amith\\AppData\\Local\\Programs\\Python\\Python311\\Lib\\site-packages\\keras\\src\\engine\\base_layer_utils.py:384: The name tf.executing_eagerly_outside_functions is deprecated. Please use tf.compat.v1.executing_eagerly_outside_functions instead.\n",
      "268/268 [==============================] - 42s 153ms/step - loss: 0.4808 - accuracy: 0.4184 - val_loss: 0.4637 - val_accuracy: 0.4257\n",
      "Epoch 2/10\n",
      "268/268 [==============================] - 41s 154ms/step - loss: 0.3354 - accuracy: 0.4184 - val_loss: 0.3017 - val_accuracy: 0.4257\n",
      "Epoch 3/10\n",
      "268/268 [==============================] - 41s 153ms/step - loss: 0.2857 - accuracy: 0.4184 - val_loss: 0.2510 - val_accuracy: 0.4257\n",
      "Epoch 4/10\n",
      "268/268 [==============================] - 47s 177ms/step - loss: 0.2183 - accuracy: 0.4184 - val_loss: 0.2498 - val_accuracy: 0.4257\n",
      "Epoch 5/10\n",
      "268/268 [==============================] - 42s 155ms/step - loss: 0.1915 - accuracy: 0.4184 - val_loss: 0.2232 - val_accuracy: 0.4257\n",
      "Epoch 6/10\n",
      "162/268 [=================>............] - ETA: 15s - loss: 0.1463 - accuracy: 0.4221"
     ]
    }
   ],
   "source": [
    "model_genders.fit(x=train_images,y=train_genders,batch_size=32,epochs=10,validation_data=(val_images,val_genders),verbose=1,shuffle=True,callbacks=tf.keras.callbacks.EarlyStopping(patience=2))"
   ],
   "metadata": {
    "collapsed": false,
    "ExecuteTime": {
     "start_time": "2024-03-04T01:57:28.831460Z"
    }
   },
   "id": "6838a158d4105574",
   "execution_count": null
  },
  {
   "cell_type": "code",
   "outputs": [
    {
     "name": "stdout",
     "output_type": "stream",
     "text": [
      "Epoch 1/100\n",
      "268/268 [==============================] - 62s 230ms/step - loss: 49.0984 - val_loss: 48.1857\n",
      "Epoch 2/100\n",
      "268/268 [==============================] - 39s 145ms/step - loss: 46.6710 - val_loss: 45.5056\n",
      "Epoch 3/100\n",
      "268/268 [==============================] - 140s 522ms/step - loss: 43.9910 - val_loss: 42.8256\n",
      "Epoch 4/100\n",
      "268/268 [==============================] - 153s 571ms/step - loss: 41.3109 - val_loss: 40.1455\n",
      "Epoch 5/100\n",
      "268/268 [==============================] - 153s 571ms/step - loss: 38.6308 - val_loss: 37.4654\n",
      "Epoch 6/100\n",
      "268/268 [==============================] - 130s 485ms/step - loss: 35.9508 - val_loss: 34.7854\n",
      "Epoch 7/100\n",
      "268/268 [==============================] - 36s 134ms/step - loss: 33.2735 - val_loss: 32.1274\n",
      "Epoch 8/100\n",
      "268/268 [==============================] - 57s 213ms/step - loss: 30.7024 - val_loss: 29.6839\n",
      "Epoch 9/100\n",
      "268/268 [==============================] - 40s 149ms/step - loss: 28.3857 - val_loss: 27.5222\n",
      "Epoch 10/100\n",
      "268/268 [==============================] - 38s 143ms/step - loss: 26.3569 - val_loss: 25.6356\n",
      "Epoch 11/100\n",
      "268/268 [==============================] - 41s 151ms/step - loss: 24.5983 - val_loss: 24.0167\n",
      "Epoch 12/100\n",
      "268/268 [==============================] - 85s 317ms/step - loss: 23.0893 - val_loss: 22.6726\n",
      "Epoch 13/100\n",
      "268/268 [==============================] - 39s 147ms/step - loss: 21.8495 - val_loss: 21.5833\n",
      "Epoch 14/100\n",
      "268/268 [==============================] - 41s 152ms/step - loss: 20.8462 - val_loss: 20.7015\n",
      "Epoch 15/100\n",
      "268/268 [==============================] - 42s 158ms/step - loss: 20.0433 - val_loss: 19.9941\n",
      "Epoch 16/100\n",
      "268/268 [==============================] - 43s 160ms/step - loss: 19.3881 - val_loss: 19.4117\n",
      "Epoch 17/100\n",
      "268/268 [==============================] - 44s 162ms/step - loss: 18.8657 - val_loss: 18.9429\n",
      "Epoch 18/100\n",
      "268/268 [==============================] - 72s 268ms/step - loss: 18.4497 - val_loss: 18.5798\n",
      "Epoch 19/100\n",
      "268/268 [==============================] - 44s 163ms/step - loss: 18.1196 - val_loss: 18.2996\n",
      "Epoch 20/100\n",
      "268/268 [==============================] - 43s 159ms/step - loss: 17.8583 - val_loss: 18.0764\n",
      "Epoch 21/100\n",
      "268/268 [==============================] - 43s 159ms/step - loss: 17.6427 - val_loss: 17.8903\n",
      "Epoch 22/100\n",
      "268/268 [==============================] - 42s 158ms/step - loss: 17.4650 - val_loss: 17.7277\n",
      "Epoch 23/100\n",
      "268/268 [==============================] - 43s 160ms/step - loss: 17.3192 - val_loss: 17.6097\n",
      "Epoch 24/100\n",
      "268/268 [==============================] - 43s 159ms/step - loss: 17.1998 - val_loss: 17.5014\n",
      "Epoch 25/100\n",
      "268/268 [==============================] - 43s 161ms/step - loss: 17.1094 - val_loss: 17.4232\n",
      "Epoch 26/100\n",
      "268/268 [==============================] - 43s 160ms/step - loss: 17.0312 - val_loss: 17.3473\n",
      "Epoch 27/100\n",
      "268/268 [==============================] - 42s 158ms/step - loss: 16.9679 - val_loss: 17.2966\n",
      "Epoch 28/100\n",
      "268/268 [==============================] - 46s 173ms/step - loss: 16.9153 - val_loss: 17.2456\n",
      "Epoch 29/100\n",
      "268/268 [==============================] - 47s 177ms/step - loss: 16.8642 - val_loss: 17.2024\n",
      "Epoch 30/100\n",
      "268/268 [==============================] - 58s 217ms/step - loss: 16.8274 - val_loss: 17.1694\n",
      "Epoch 31/100\n",
      "268/268 [==============================] - 58s 216ms/step - loss: 16.7936 - val_loss: 17.1365\n",
      "Epoch 32/100\n",
      "268/268 [==============================] - 58s 217ms/step - loss: 16.7601 - val_loss: 17.1061\n",
      "Epoch 33/100\n",
      "268/268 [==============================] - 59s 219ms/step - loss: 16.7375 - val_loss: 17.0873\n",
      "Epoch 34/100\n",
      "268/268 [==============================] - 58s 216ms/step - loss: 16.7209 - val_loss: 17.0686\n",
      "Epoch 35/100\n",
      "268/268 [==============================] - 56s 209ms/step - loss: 16.7044 - val_loss: 17.0500\n",
      "Epoch 36/100\n",
      "268/268 [==============================] - 63s 235ms/step - loss: 16.6879 - val_loss: 17.0313\n",
      "Epoch 37/100\n",
      "268/268 [==============================] - 58s 218ms/step - loss: 16.6720 - val_loss: 17.0164\n",
      "Epoch 38/100\n",
      "175/268 [==================>...........] - ETA: 18s - loss: 16.5773"
     ]
    }
   ],
   "source": [
    "model_ages.fit(x=train_images,y=train_ages,batch_size=32,epochs=10,validation_data=(val_images,val_ages),verbose=1,shuffle=True,callbacks=tf.keras.callbacks.EarlyStopping(patience=2))"
   ],
   "metadata": {
    "collapsed": false,
    "ExecuteTime": {
     "start_time": "2024-03-03T23:10:18.236433Z"
    }
   },
   "id": "d16fe972f36073b",
   "execution_count": null
  },
  {
   "cell_type": "code",
   "outputs": [
    {
     "name": "stderr",
     "output_type": "stream",
     "text": [
      "C:\\Users\\amith\\AppData\\Local\\Temp\\ipykernel_19828\\4190216403.py:1: UserWarning: You are saving your model as an HDF5 file via `model.save()`. This file format is considered legacy. We recommend using instead the native Keras format, e.g. `model.save('my_model.keras')`.\n",
      "  tf.keras.models.save_model(model=model_genders,filepath=\"C:/Users/amith/Documents/Datasets/model_genders.h5\",overwrite=True)\n",
      "C:\\Users\\amith\\AppData\\Local\\Temp\\ipykernel_19828\\4190216403.py:2: UserWarning: You are saving your model as an HDF5 file via `model.save()`. This file format is considered legacy. We recommend using instead the native Keras format, e.g. `model.save('my_model.keras')`.\n",
      "  tf.keras.models.save_model(model=model_ages,filepath=\"C:/Users/amith/Documents/Datasets/model_ages.h5\",overwrite=True)\n"
     ]
    }
   ],
   "source": [
    "tf.keras.models.save_model(model=model_genders,filepath=\"C:/Users/amith/Documents/Datasets/model_genders.h5\",overwrite=True)\n",
    "tf.keras.models.save_model(model=model_ages,filepath=\"C:/Users/amith/Documents/Datasets/model_ages.h5\",overwrite=True)"
   ],
   "metadata": {
    "collapsed": false,
    "ExecuteTime": {
     "end_time": "2024-03-03T22:24:01.151740Z",
     "start_time": "2024-03-03T22:24:00.699864Z"
    }
   },
   "id": "7e1c380be2d56852",
   "execution_count": 21
  },
  {
   "cell_type": "code",
   "outputs": [
    {
     "name": "stdout",
     "output_type": "stream",
     "text": [
      "C:/Users/amith/Documents/Datasets/kaggle/kaggle/test/\n"
     ]
    },
    {
     "data": {
      "text/plain": "['000000.png',\n '000001.png',\n '000002.png',\n '000003.png',\n '000004.png',\n '000005.png',\n '000006.png',\n '000007.png',\n '000008.png',\n '000009.png',\n '000010.png',\n '000011.png',\n '000012.png',\n '000013.png',\n '000014.png',\n '000015.png',\n '000016.png',\n '000017.png',\n '000018.png',\n '000019.png',\n '000020.png',\n '000021.png',\n '000022.png',\n '000023.png',\n '000024.png',\n '000025.png',\n '000026.png',\n '000027.png',\n '000028.png',\n '000029.png',\n '000030.png',\n '000031.png',\n '000032.png',\n '000033.png',\n '000034.png',\n '000035.png',\n '000036.png',\n '000037.png',\n '000038.png',\n '000039.png',\n '000040.png',\n '000041.png',\n '000042.png',\n '000043.png',\n '000044.png',\n '000045.png',\n '000046.png',\n '000047.png',\n '000048.png',\n '000049.png',\n '000050.png',\n '000051.png',\n '000052.png',\n '000053.png',\n '000054.png',\n '000055.png',\n '000056.png',\n '000057.png',\n '000058.png',\n '000059.png',\n '000060.png',\n '000061.png',\n '000062.png',\n '000063.png',\n '000064.png',\n '000065.png',\n '000066.png',\n '000067.png',\n '000068.png',\n '000069.png',\n '000070.png',\n '000071.png',\n '000072.png',\n '000073.png',\n '000074.png',\n '000075.png',\n '000076.png',\n '000077.png',\n '000078.png',\n '000079.png',\n '000080.png',\n '000081.png',\n '000082.png',\n '000083.png',\n '000084.png',\n '000085.png',\n '000086.png',\n '000087.png',\n '000088.png',\n '000089.png',\n '000090.png',\n '000091.png',\n '000092.png',\n '000093.png',\n '000094.png',\n '000095.png',\n '000096.png',\n '000097.png',\n '000098.png',\n '000099.png',\n '000100.png',\n '000101.png',\n '000102.png',\n '000103.png',\n '000104.png',\n '000105.png',\n '000106.png',\n '000107.png',\n '000108.png',\n '000109.png',\n '000110.png',\n '000111.png',\n '000112.png',\n '000113.png',\n '000114.png',\n '000115.png',\n '000116.png',\n '000117.png',\n '000118.png',\n '000119.png',\n '000120.png',\n '000121.png',\n '000122.png',\n '000123.png',\n '000124.png',\n '000125.png',\n '000126.png',\n '000127.png',\n '000128.png',\n '000129.png',\n '000130.png',\n '000131.png',\n '000132.png',\n '000133.png',\n '000134.png',\n '000135.png',\n '000136.png',\n '000137.png',\n '000138.png',\n '000139.png',\n '000140.png',\n '000141.png',\n '000142.png',\n '000143.png',\n '000144.png',\n '000145.png',\n '000146.png',\n '000147.png',\n '000148.png',\n '000149.png',\n '000150.png',\n '000151.png',\n '000152.png',\n '000153.png',\n '000154.png',\n '000155.png',\n '000156.png',\n '000157.png',\n '000158.png',\n '000159.png',\n '000160.png',\n '000161.png',\n '000162.png',\n '000163.png',\n '000164.png',\n '000165.png',\n '000166.png',\n '000167.png',\n '000168.png',\n '000169.png',\n '000170.png',\n '000171.png',\n '000172.png',\n '000173.png',\n '000174.png',\n '000175.png',\n '000176.png',\n '000177.png',\n '000178.png',\n '000179.png',\n '000180.png',\n '000181.png',\n '000182.png',\n '000183.png',\n '000184.png',\n '000185.png',\n '000186.png',\n '000187.png',\n '000188.png',\n '000189.png',\n '000190.png',\n '000191.png',\n '000192.png',\n '000193.png',\n '000194.png',\n '000195.png',\n '000196.png',\n '000197.png',\n '000198.png',\n '000199.png',\n '000200.png',\n '000201.png',\n '000202.png',\n '000203.png',\n '000204.png',\n '000205.png',\n '000206.png',\n '000207.png',\n '000208.png',\n '000209.png',\n '000210.png',\n '000211.png',\n '000212.png',\n '000213.png',\n '000214.png',\n '000215.png',\n '000216.png',\n '000217.png',\n '000218.png',\n '000219.png',\n '000220.png',\n '000221.png',\n '000222.png',\n '000223.png',\n '000224.png',\n '000225.png',\n '000226.png',\n '000227.png',\n '000228.png',\n '000229.png',\n '000230.png',\n '000231.png',\n '000232.png',\n '000233.png',\n '000234.png',\n '000235.png',\n '000236.png',\n '000237.png',\n '000238.png',\n '000239.png',\n '000240.png',\n '000241.png',\n '000242.png',\n '000243.png',\n '000244.png',\n '000245.png',\n '000246.png',\n '000247.png',\n '000248.png',\n '000249.png',\n '000250.png',\n '000251.png',\n '000252.png',\n '000253.png',\n '000254.png',\n '000255.png',\n '000256.png',\n '000257.png',\n '000258.png',\n '000259.png',\n '000260.png',\n '000261.png',\n '000262.png',\n '000263.png',\n '000264.png',\n '000265.png',\n '000266.png',\n '000267.png',\n '000268.png',\n '000269.png',\n '000270.png',\n '000271.png',\n '000272.png',\n '000273.png',\n '000274.png',\n '000275.png',\n '000276.png',\n '000277.png',\n '000278.png',\n '000279.png',\n '000280.png',\n '000281.png',\n '000282.png',\n '000283.png',\n '000284.png',\n '000285.png',\n '000286.png',\n '000287.png',\n '000288.png',\n '000289.png',\n '000290.png',\n '000291.png',\n '000292.png',\n '000293.png',\n '000294.png',\n '000295.png',\n '000296.png',\n '000297.png',\n '000298.png',\n '000299.png',\n '000300.png',\n '000301.png',\n '000302.png',\n '000303.png',\n '000304.png',\n '000305.png',\n '000306.png',\n '000307.png',\n '000308.png',\n '000309.png',\n '000310.png',\n '000311.png',\n '000312.png',\n '000313.png',\n '000314.png',\n '000315.png',\n '000316.png',\n '000317.png',\n '000318.png',\n '000319.png',\n '000320.png',\n '000321.png',\n '000322.png',\n '000323.png',\n '000324.png',\n '000325.png',\n '000326.png',\n '000327.png',\n '000328.png',\n '000329.png',\n '000330.png',\n '000331.png',\n '000332.png',\n '000333.png',\n '000334.png',\n '000335.png',\n '000336.png',\n '000337.png',\n '000338.png',\n '000339.png',\n '000340.png',\n '000341.png',\n '000342.png',\n '000343.png',\n '000344.png',\n '000345.png',\n '000346.png',\n '000347.png',\n '000348.png',\n '000349.png',\n '000350.png',\n '000351.png',\n '000352.png',\n '000353.png',\n '000354.png',\n '000355.png',\n '000356.png',\n '000357.png',\n '000358.png',\n '000359.png',\n '000360.png',\n '000361.png',\n '000362.png',\n '000363.png',\n '000364.png',\n '000365.png',\n '000366.png',\n '000367.png',\n '000368.png',\n '000369.png',\n '000370.png',\n '000371.png',\n '000372.png',\n '000373.png',\n '000374.png',\n '000375.png',\n '000376.png',\n '000377.png',\n '000378.png',\n '000379.png',\n '000380.png',\n '000381.png',\n '000382.png',\n '000383.png',\n '000384.png',\n '000385.png',\n '000386.png',\n '000387.png',\n '000388.png',\n '000389.png',\n '000390.png',\n '000391.png',\n '000392.png',\n '000393.png',\n '000394.png',\n '000395.png',\n '000396.png',\n '000397.png',\n '000398.png',\n '000399.png',\n '000400.png',\n '000401.png',\n '000402.png',\n '000403.png',\n '000404.png',\n '000405.png',\n '000406.png',\n '000407.png',\n '000408.png',\n '000409.png',\n '000410.png',\n '000411.png',\n '000412.png',\n '000413.png',\n '000414.png',\n '000415.png',\n '000416.png',\n '000417.png',\n '000418.png',\n '000419.png',\n '000420.png',\n '000421.png',\n '000422.png',\n '000423.png',\n '000424.png',\n '000425.png',\n '000426.png',\n '000427.png',\n '000428.png',\n '000429.png',\n '000430.png',\n '000431.png',\n '000432.png',\n '000433.png',\n '000434.png',\n '000435.png',\n '000436.png',\n '000437.png',\n '000438.png',\n '000439.png',\n '000440.png',\n '000441.png',\n '000442.png',\n '000443.png',\n '000444.png',\n '000445.png',\n '000446.png',\n '000447.png',\n '000448.png',\n '000449.png',\n '000450.png',\n '000451.png',\n '000452.png',\n '000453.png',\n '000454.png',\n '000455.png',\n '000456.png',\n '000457.png',\n '000458.png',\n '000459.png',\n '000460.png',\n '000461.png',\n '000462.png',\n '000463.png',\n '000464.png',\n '000465.png',\n '000466.png',\n '000467.png',\n '000468.png',\n '000469.png',\n '000470.png',\n '000471.png',\n '000472.png',\n '000473.png',\n '000474.png',\n '000475.png',\n '000476.png',\n '000477.png',\n '000478.png',\n '000479.png',\n '000480.png',\n '000481.png',\n '000482.png',\n '000483.png',\n '000484.png',\n '000485.png',\n '000486.png',\n '000487.png',\n '000488.png',\n '000489.png',\n '000490.png',\n '000491.png',\n '000492.png',\n '000493.png',\n '000494.png',\n '000495.png',\n '000496.png',\n '000497.png',\n '000498.png',\n '000499.png',\n '000500.png',\n '000501.png',\n '000502.png',\n '000503.png',\n '000504.png',\n '000505.png',\n '000506.png',\n '000507.png',\n '000508.png',\n '000509.png',\n '000510.png',\n '000511.png',\n '000512.png',\n '000513.png',\n '000514.png',\n '000515.png',\n '000516.png',\n '000517.png',\n '000518.png',\n '000519.png',\n '000520.png',\n '000521.png',\n '000522.png',\n '000523.png',\n '000524.png',\n '000525.png',\n '000526.png',\n '000527.png',\n '000528.png',\n '000529.png',\n '000530.png',\n '000531.png',\n '000532.png',\n '000533.png',\n '000534.png',\n '000535.png',\n '000536.png',\n '000537.png',\n '000538.png',\n '000539.png',\n '000540.png',\n '000541.png',\n '000542.png',\n '000543.png',\n '000544.png',\n '000545.png',\n '000546.png',\n '000547.png',\n '000548.png',\n '000549.png',\n '000550.png',\n '000551.png',\n '000552.png',\n '000553.png',\n '000554.png',\n '000555.png',\n '000556.png',\n '000557.png',\n '000558.png',\n '000559.png',\n '000560.png',\n '000561.png',\n '000562.png',\n '000563.png',\n '000564.png',\n '000565.png',\n '000566.png',\n '000567.png',\n '000568.png',\n '000569.png',\n '000570.png',\n '000571.png',\n '000572.png',\n '000573.png',\n '000574.png',\n '000575.png',\n '000576.png',\n '000577.png',\n '000578.png',\n '000579.png',\n '000580.png',\n '000581.png',\n '000582.png',\n '000583.png',\n '000584.png',\n '000585.png',\n '000586.png',\n '000587.png',\n '000588.png',\n '000589.png',\n '000590.png',\n '000591.png',\n '000592.png',\n '000593.png',\n '000594.png',\n '000595.png',\n '000596.png',\n '000597.png',\n '000598.png',\n '000599.png',\n '000600.png',\n '000601.png',\n '000602.png',\n '000603.png',\n '000604.png',\n '000605.png',\n '000606.png',\n '000607.png',\n '000608.png',\n '000609.png',\n '000610.png',\n '000611.png',\n '000612.png',\n '000613.png',\n '000614.png',\n '000615.png',\n '000616.png',\n '000617.png',\n '000618.png',\n '000619.png',\n '000620.png',\n '000621.png',\n '000622.png',\n '000623.png',\n '000624.png',\n '000625.png',\n '000626.png',\n '000627.png',\n '000628.png',\n '000629.png',\n '000630.png',\n '000631.png',\n '000632.png',\n '000633.png',\n '000634.png',\n '000635.png',\n '000636.png',\n '000637.png',\n '000638.png',\n '000639.png',\n '000640.png',\n '000641.png',\n '000642.png',\n '000643.png',\n '000644.png',\n '000645.png',\n '000646.png',\n '000647.png',\n '000648.png',\n '000649.png',\n '000650.png',\n '000651.png',\n '000652.png',\n '000653.png',\n '000654.png',\n '000655.png',\n '000656.png',\n '000657.png',\n '000658.png',\n '000659.png',\n '000660.png',\n '000661.png',\n '000662.png',\n '000663.png',\n '000664.png',\n '000665.png',\n '000666.png',\n '000667.png',\n '000668.png',\n '000669.png',\n '000670.png',\n '000671.png',\n '000672.png',\n '000673.png',\n '000674.png',\n '000675.png',\n '000676.png',\n '000677.png',\n '000678.png',\n '000679.png',\n '000680.png',\n '000681.png',\n '000682.png',\n '000683.png',\n '000684.png',\n '000685.png',\n '000686.png',\n '000687.png',\n '000688.png',\n '000689.png',\n '000690.png',\n '000691.png',\n '000692.png',\n '000693.png',\n '000694.png',\n '000695.png',\n '000696.png',\n '000697.png',\n '000698.png',\n '000699.png',\n '000700.png',\n '000701.png',\n '000702.png',\n '000703.png',\n '000704.png',\n '000705.png',\n '000706.png',\n '000707.png',\n '000708.png',\n '000709.png',\n '000710.png',\n '000711.png',\n '000712.png',\n '000713.png',\n '000714.png',\n '000715.png',\n '000716.png',\n '000717.png',\n '000718.png',\n '000719.png',\n '000720.png',\n '000721.png',\n '000722.png',\n '000723.png',\n '000724.png',\n '000725.png',\n '000726.png',\n '000727.png',\n '000728.png',\n '000729.png',\n '000730.png',\n '000731.png',\n '000732.png',\n '000733.png',\n '000734.png',\n '000735.png',\n '000736.png',\n '000737.png',\n '000738.png',\n '000739.png',\n '000740.png',\n '000741.png',\n '000742.png',\n '000743.png',\n '000744.png',\n '000745.png',\n '000746.png',\n '000747.png',\n '000748.png',\n '000749.png',\n '000750.png',\n '000751.png',\n '000752.png',\n '000753.png',\n '000754.png',\n '000755.png',\n '000756.png',\n '000757.png',\n '000758.png',\n '000759.png',\n '000760.png',\n '000761.png',\n '000762.png',\n '000763.png',\n '000764.png',\n '000765.png',\n '000766.png',\n '000767.png',\n '000768.png',\n '000769.png',\n '000770.png',\n '000771.png',\n '000772.png',\n '000773.png',\n '000774.png',\n '000775.png',\n '000776.png',\n '000777.png',\n '000778.png',\n '000779.png',\n '000780.png',\n '000781.png',\n '000782.png',\n '000783.png',\n '000784.png',\n '000785.png',\n '000786.png',\n '000787.png',\n '000788.png',\n '000789.png',\n '000790.png',\n '000791.png',\n '000792.png',\n '000793.png',\n '000794.png',\n '000795.png',\n '000796.png',\n '000797.png',\n '000798.png',\n '000799.png',\n '000800.png',\n '000801.png',\n '000802.png',\n '000803.png',\n '000804.png',\n '000805.png',\n '000806.png',\n '000807.png',\n '000808.png',\n '000809.png',\n '000810.png',\n '000811.png',\n '000812.png',\n '000813.png',\n '000814.png',\n '000815.png',\n '000816.png',\n '000817.png',\n '000818.png',\n '000819.png',\n '000820.png',\n '000821.png',\n '000822.png',\n '000823.png',\n '000824.png',\n '000825.png',\n '000826.png',\n '000827.png',\n '000828.png',\n '000829.png',\n '000830.png',\n '000831.png',\n '000832.png',\n '000833.png',\n '000834.png',\n '000835.png',\n '000836.png',\n '000837.png',\n '000838.png',\n '000839.png',\n '000840.png',\n '000841.png',\n '000842.png',\n '000843.png',\n '000844.png',\n '000845.png',\n '000846.png',\n '000847.png',\n '000848.png',\n '000849.png',\n '000850.png',\n '000851.png',\n '000852.png',\n '000853.png',\n '000854.png',\n '000855.png',\n '000856.png',\n '000857.png',\n '000858.png',\n '000859.png',\n '000860.png',\n '000861.png',\n '000862.png',\n '000863.png',\n '000864.png',\n '000865.png',\n '000866.png',\n '000867.png',\n '000868.png',\n '000869.png',\n '000870.png',\n '000871.png',\n '000872.png',\n '000873.png',\n '000874.png',\n '000875.png',\n '000876.png',\n '000877.png',\n '000878.png',\n '000879.png',\n '000880.png',\n '000881.png',\n '000882.png',\n '000883.png',\n '000884.png',\n '000885.png',\n '000886.png',\n '000887.png',\n '000888.png',\n '000889.png',\n '000890.png',\n '000891.png',\n '000892.png',\n '000893.png',\n '000894.png',\n '000895.png',\n '000896.png',\n '000897.png',\n '000898.png',\n '000899.png',\n '000900.png',\n '000901.png',\n '000902.png',\n '000903.png',\n '000904.png',\n '000905.png',\n '000906.png',\n '000907.png',\n '000908.png',\n '000909.png',\n '000910.png',\n '000911.png',\n '000912.png',\n '000913.png',\n '000914.png',\n '000915.png',\n '000916.png',\n '000917.png',\n '000918.png',\n '000919.png',\n '000920.png',\n '000921.png',\n '000922.png',\n '000923.png',\n '000924.png',\n '000925.png',\n '000926.png',\n '000927.png',\n '000928.png',\n '000929.png',\n '000930.png',\n '000931.png',\n '000932.png',\n '000933.png',\n '000934.png',\n '000935.png',\n '000936.png',\n '000937.png',\n '000938.png',\n '000939.png',\n '000940.png',\n '000941.png',\n '000942.png',\n '000943.png',\n '000944.png',\n '000945.png',\n '000946.png',\n '000947.png',\n '000948.png',\n '000949.png',\n '000950.png',\n '000951.png',\n '000952.png',\n '000953.png',\n '000954.png',\n '000955.png',\n '000956.png',\n '000957.png',\n '000958.png',\n '000959.png',\n '000960.png',\n '000961.png',\n '000962.png',\n '000963.png',\n '000964.png',\n '000965.png',\n '000966.png',\n '000967.png',\n '000968.png',\n '000969.png',\n '000970.png',\n '000971.png',\n '000972.png',\n '000973.png',\n '000974.png',\n '000975.png',\n '000976.png',\n '000977.png',\n '000978.png',\n '000979.png',\n '000980.png',\n '000981.png',\n '000982.png',\n '000983.png',\n '000984.png',\n '000985.png',\n '000986.png',\n '000987.png',\n '000988.png',\n '000989.png',\n '000990.png',\n '000991.png',\n '000992.png',\n '000993.png',\n '000994.png',\n '000995.png',\n '000996.png',\n '000997.png',\n '000998.png',\n '000999.png',\n ...]"
     },
     "execution_count": 27,
     "metadata": {},
     "output_type": "execute_result"
    }
   ],
   "source": [
    "print(dataset_directory + \"/test/\")\n",
    "os.listdir(test_location)"
   ],
   "metadata": {
    "collapsed": false,
    "ExecuteTime": {
     "end_time": "2024-03-03T22:46:56.150339Z",
     "start_time": "2024-03-03T22:46:56.129052Z"
    }
   },
   "id": "a49d4ad53f06b1e4",
   "execution_count": 27
  },
  {
   "cell_type": "code",
   "outputs": [
    {
     "name": "stderr",
     "output_type": "stream",
     "text": [
      "Processing test data: 100%|██████████| 11747/11747 [04:08<00:00, 47.31it/s]\n"
     ]
    }
   ],
   "source": [
    "test_images = []\n",
    "\n",
    "ctr = 0\n",
    "for i in tqdm(iterable=sorted(os.listdir(dataset_directory + \"/test/\")),desc=\"Processing test data\"):\n",
    "    img_org = cv2.imread(dataset_directory + \"/test/\" + i)\n",
    "    img_gray = cv2.cvtColor(src=img_org, code=cv2.COLOR_BGR2GRAY)\n",
    "    img_short = cv2.resize(src=img_gray, dsize=(64,64))\n",
    "    img = img_short / 255.0\n",
    "    test_images.append(img)\n",
    "    ctr += 1\n",
    "\n",
    "test_images = np.array(test_images)"
   ],
   "metadata": {
    "collapsed": false,
    "ExecuteTime": {
     "end_time": "2024-03-03T23:05:02.121284Z",
     "start_time": "2024-03-03T23:00:53.435048Z"
    }
   },
   "id": "6b9c7b6bfe0ee73f",
   "execution_count": 30
  },
  {
   "cell_type": "code",
   "outputs": [],
   "source": [
    "test_ages = pd.read_csv(\"C:\\\\Users\\\\amith\\\\Documents\\\\Datasets\\\\sample_submission_age.csv\")\n",
    "test_genders = pd.read_csv(\"C:\\\\Users\\\\amith\\\\Documents\\\\Datasets\\\\sample_submission_gender.csv\")"
   ],
   "metadata": {
    "collapsed": false,
    "ExecuteTime": {
     "end_time": "2024-03-03T23:05:35.439166Z",
     "start_time": "2024-03-03T23:05:35.423963Z"
    }
   },
   "id": "9e95a4d04ee22f52",
   "execution_count": 32
  },
  {
   "cell_type": "code",
   "outputs": [
    {
     "name": "stdout",
     "output_type": "stream",
     "text": [
      "368/368 [==============================] - 16s 42ms/step\n"
     ]
    },
    {
     "data": {
      "text/plain": "array([[0.],\n       [0.],\n       [0.],\n       ...,\n       [0.],\n       [0.],\n       [0.]], dtype=float32)"
     },
     "execution_count": 33,
     "metadata": {},
     "output_type": "execute_result"
    }
   ],
   "source": [
    "model_ages.predict(test_images)"
   ],
   "metadata": {
    "collapsed": false,
    "ExecuteTime": {
     "end_time": "2024-03-03T23:05:58.715613Z",
     "start_time": "2024-03-03T23:05:42.497477Z"
    }
   },
   "id": "baa7f91ed6936e02",
   "execution_count": 33
  },
  {
   "cell_type": "code",
   "outputs": [],
   "source": [],
   "metadata": {
    "collapsed": false
   },
   "id": "d75cfe22da108875"
  }
 ],
 "metadata": {
  "kernelspec": {
   "display_name": "Python 3",
   "language": "python",
   "name": "python3"
  },
  "language_info": {
   "codemirror_mode": {
    "name": "ipython",
    "version": 2
   },
   "file_extension": ".py",
   "mimetype": "text/x-python",
   "name": "python",
   "nbconvert_exporter": "python",
   "pygments_lexer": "ipython2",
   "version": "2.7.6"
  }
 },
 "nbformat": 4,
 "nbformat_minor": 5
}
