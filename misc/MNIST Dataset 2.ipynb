{
 "cells":[
  {
   "cell_type":"code",
   "source":[
    "import numpy as np\n",
    "import pandas as pd\n",
    "import matplotlib.pyplot as plt\n",
    "import seaborn as sns\n",
    "import tensorflow as tf\n",
    "import tensorflow_datasets as tfds"
   ],
   "execution_count":66,
   "outputs":[
    
   ],
   "metadata":{
    "datalore":{
     "node_id":"hgmPh0GQdpBi23UyQwMpkK",
     "type":"CODE",
     "hide_input_from_viewers":true,
     "hide_output_from_viewers":true
    }
   }
  },
  {
   "cell_type":"code",
   "source":[
    "!pip install tensorflow_datasets"
   ],
   "execution_count":67,
   "outputs":[
    {
     "name":"stdout",
     "text":[
      "Requirement already satisfied: tensorflow_datasets in \/opt\/python\/envs\/default\/lib\/python3.8\/site-packages (4.9.2)\r\n",
      "Requirement already satisfied: absl-py in \/opt\/python\/envs\/default\/lib\/python3.8\/site-packages (from tensorflow_datasets) (1.4.0)\r\n",
      "Requirement already satisfied: array-record in \/opt\/python\/envs\/default\/lib\/python3.8\/site-packages (from tensorflow_datasets) (0.2.0)\r\n",
      "Requirement already satisfied: click in \/opt\/python\/envs\/default\/lib\/python3.8\/site-packages (from tensorflow_datasets) (8.1.3)\r\n",
      "Requirement already satisfied: dm-tree in \/opt\/python\/envs\/default\/lib\/python3.8\/site-packages (from tensorflow_datasets) (0.1.8)\r\n",
      "Requirement already satisfied: etils[enp,epath]>=0.9.0 in \/opt\/python\/envs\/default\/lib\/python3.8\/site-packages (from tensorflow_datasets) (1.3.0)\r\n",
      "Requirement already satisfied: numpy in \/opt\/python\/envs\/default\/lib\/python3.8\/site-packages (from tensorflow_datasets) (1.24.3)\r\n",
      "Requirement already satisfied: promise in \/opt\/python\/envs\/default\/lib\/python3.8\/site-packages (from tensorflow_datasets) (2.3)\r\n",
      "Requirement already satisfied: protobuf>=3.20 in \/opt\/python\/envs\/default\/lib\/python3.8\/site-packages (from tensorflow_datasets) (4.23.2)\r\n",
      "Requirement already satisfied: psutil in \/opt\/python\/envs\/default\/lib\/python3.8\/site-packages (from tensorflow_datasets) (5.9.5)\r\n",
      "Requirement already satisfied: requests>=2.19.0 in \/opt\/python\/envs\/default\/lib\/python3.8\/site-packages (from tensorflow_datasets) (2.30.0)\r\n",
      "Requirement already satisfied: tensorflow-metadata in \/opt\/python\/envs\/default\/lib\/python3.8\/site-packages (from tensorflow_datasets) (1.13.1)\r\n",
      "Requirement already satisfied: termcolor in \/opt\/python\/envs\/default\/lib\/python3.8\/site-packages (from tensorflow_datasets) (2.3.0)\r\n",
      "Requirement already satisfied: toml in \/opt\/python\/envs\/default\/lib\/python3.8\/site-packages (from tensorflow_datasets) (0.10.2)\r\n",
      "Requirement already satisfied: tqdm in \/opt\/python\/envs\/default\/lib\/python3.8\/site-packages (from tensorflow_datasets) (4.65.0)\r\n",
      "Requirement already satisfied: wrapt in \/opt\/python\/envs\/default\/lib\/python3.8\/site-packages (from tensorflow_datasets) (1.15.0)\r\n",
      "Requirement already satisfied: importlib-resources in \/opt\/python\/envs\/default\/lib\/python3.8\/site-packages (from tensorflow_datasets) (5.12.0)\r\n",
      "Requirement already satisfied: typing_extensions in \/opt\/python\/envs\/default\/lib\/python3.8\/site-packages (from etils[enp,epath]>=0.9.0->tensorflow_datasets) (4.6.1)\r\n",
      "Requirement already satisfied: zipp in \/opt\/python\/envs\/default\/lib\/python3.8\/site-packages (from etils[enp,epath]>=0.9.0->tensorflow_datasets) (3.15.0)\r\n",
      "Requirement already satisfied: charset-normalizer<4,>=2 in \/opt\/python\/envs\/default\/lib\/python3.8\/site-packages (from requests>=2.19.0->tensorflow_datasets) (3.1.0)\r\n",
      "Requirement already satisfied: idna<4,>=2.5 in \/opt\/python\/envs\/default\/lib\/python3.8\/site-packages (from requests>=2.19.0->tensorflow_datasets) (3.4)\r\n",
      "Requirement already satisfied: urllib3<3,>=1.21.1 in \/opt\/python\/envs\/default\/lib\/python3.8\/site-packages (from requests>=2.19.0->tensorflow_datasets) (1.26.16)\r\n",
      "Requirement already satisfied: certifi>=2017.4.17 in \/opt\/python\/envs\/default\/lib\/python3.8\/site-packages (from requests>=2.19.0->tensorflow_datasets) (2023.5.7)\r\n",
      "Requirement already satisfied: six in \/opt\/python\/envs\/default\/lib\/python3.8\/site-packages (from promise->tensorflow_datasets) (1.16.0)\r\n",
      "Requirement already satisfied: googleapis-common-protos<2,>=1.52.0 in \/opt\/python\/envs\/default\/lib\/python3.8\/site-packages (from tensorflow-metadata->tensorflow_datasets) (1.59.0)\r\n"
     ],
     "output_type":"stream"
    }
   ],
   "metadata":{
    "datalore":{
     "node_id":"B2K0Y8Q6VGV2rbAIMKMeG5",
     "type":"CODE",
     "hide_input_from_viewers":true,
     "hide_output_from_viewers":true
    }
   }
  },
  {
   "cell_type":"code",
   "source":[
    "mnist_dataset, mnist_info = tfds.load(name=\"mnist\", with_info=True, as_supervised=True)"
   ],
   "execution_count":68,
   "outputs":[
    
   ],
   "metadata":{
    "datalore":{
     "node_id":"z0eoMxdy25fb8ijSGVtD9n",
     "type":"CODE",
     "hide_input_from_viewers":true,
     "hide_output_from_viewers":true
    }
   }
  },
  {
   "cell_type":"code",
   "source":[
    "mnist_train_and_validation = mnist_dataset[\"train\"]\n",
    "mnist_test = mnist_dataset[\"test\"]"
   ],
   "execution_count":69,
   "outputs":[
    
   ],
   "metadata":{
    "datalore":{
     "node_id":"kep7VL4zKE3q1DgKbdVeD2",
     "type":"CODE",
     "hide_input_from_viewers":true,
     "hide_output_from_viewers":true
    }
   }
  },
  {
   "cell_type":"code",
   "source":[
    "num_training_samples = tf.cast(0.9 * mnist_info.splits[\"train\"].num_examples, tf.int64)\n",
    "num_validation_samples = tf.cast(0.1 * mnist_info.splits[\"train\"].num_examples, tf.int64)\n",
    "num_testing_samples = tf.cast(mnist_info.splits[\"test\"].num_examples, tf.int64)\n",
    "print(num_training_samples)\n",
    "print(num_validation_samples)\n",
    "print(num_testing_samples)"
   ],
   "execution_count":70,
   "outputs":[
    {
     "name":"stdout",
     "text":[
      "tf.Tensor(54000, shape=(), dtype=int64)\n",
      "tf.Tensor(6000, shape=(), dtype=int64)\n",
      "tf.Tensor(10000, shape=(), dtype=int64)\n"
     ],
     "output_type":"stream"
    }
   ],
   "metadata":{
    "datalore":{
     "node_id":"4lkO8AnlWsas4uhPoezks5",
     "type":"CODE",
     "hide_input_from_viewers":true,
     "hide_output_from_viewers":true
    }
   }
  },
  {
   "cell_type":"code",
   "source":[
    "mnist_train_and_validation"
   ],
   "execution_count":71,
   "outputs":[
    {
     "data":{
      "text\/plain":[
       "<PrefetchDataset element_spec=(TensorSpec(shape=(28, 28, 1), dtype=tf.uint8, name=None), TensorSpec(shape=(), dtype=tf.int64, name=None))>"
      ]
     },
     "metadata":{
      
     },
     "output_type":"display_data"
    }
   ],
   "metadata":{
    "datalore":{
     "node_id":"ti4faT3cpXhGkVKyaPlwj1",
     "type":"CODE",
     "hide_input_from_viewers":true,
     "hide_output_from_viewers":true
    }
   }
  },
  {
   "cell_type":"code",
   "source":[
    "def scale(image, label):\n",
    "    img = tf.cast(image, tf.float64)\n",
    "    img = img \/ 255.0\n",
    "    return img,label"
   ],
   "execution_count":72,
   "outputs":[
    
   ],
   "metadata":{
    "datalore":{
     "node_id":"pEjk9rMHJoSdynHJoPgBuF",
     "type":"CODE",
     "hide_input_from_viewers":true,
     "hide_output_from_viewers":true
    }
   }
  },
  {
   "cell_type":"code",
   "source":[
    "scaled_train_and_validation = mnist_train_and_validation.map(scale)\n",
    "scaled_test = mnist_test.map(scale)"
   ],
   "execution_count":73,
   "outputs":[
    
   ],
   "metadata":{
    "datalore":{
     "node_id":"AIdg3rAJvzBOZ6ONVhWF5O",
     "type":"CODE",
     "hide_input_from_viewers":true,
     "hide_output_from_viewers":true
    }
   }
  },
  {
   "cell_type":"code",
   "source":[
    "BUFFER_SIZE = 10000\n",
    "shuffled_train_and_validation = scaled_train_and_validation.shuffle(BUFFER_SIZE)\n",
    "\n",
    "validation_data = shuffled_train_and_validation.take(num_validation_samples)\n",
    "train_data = shuffled_train_and_validation.skip(num_validation_samples)\n",
    "test_data = scaled_test.take(num_testing_samples)"
   ],
   "execution_count":74,
   "outputs":[
    
   ],
   "metadata":{
    "datalore":{
     "node_id":"VguZ40bjIqu63Fge97TICo",
     "type":"CODE",
     "hide_input_from_viewers":true,
     "hide_output_from_viewers":true
    }
   }
  },
  {
   "cell_type":"code",
   "source":[
    "BATCH_SIZE = 100\n",
    "\n",
    "train_data = train_data.batch(BATCH_SIZE)\n",
    "validation_data = validation_data.batch(num_validation_samples)\n",
    "test_data = test_data.batch(num_testing_samples)\n",
    "\n",
    "validation_inputs, validation_targets = next(iter(validation_data))"
   ],
   "execution_count":75,
   "outputs":[
    
   ],
   "metadata":{
    "datalore":{
     "node_id":"jswYGQNi9PlnLnPUAp5sE5",
     "type":"CODE",
     "hide_input_from_viewers":true,
     "hide_output_from_viewers":true
    }
   }
  },
  {
   "cell_type":"markdown",
   "source":[
    "## Designing the Model"
   ],
   "attachments":{
    
   },
   "metadata":{
    "datalore":{
     "node_id":"djG7XLD5WkgwrvDqXRZuKA",
     "type":"MD",
     "hide_input_from_viewers":true,
     "hide_output_from_viewers":true
    }
   }
  },
  {
   "cell_type":"code",
   "source":[
    "input_size = 784\n",
    "output_size = 10\n",
    "hidden_layer_size=50"
   ],
   "execution_count":76,
   "outputs":[
    
   ],
   "metadata":{
    "datalore":{
     "node_id":"peNnn6DO3Z1sKpHcdfOPFM",
     "type":"CODE",
     "hide_input_from_viewers":true,
     "hide_output_from_viewers":true
    }
   }
  },
  {
   "cell_type":"code",
   "source":[
    "model = tf.keras.Sequential([\n",
    "    tf.keras.layers.Flatten(input_shape=(28,28,1)),\n",
    "    tf.keras.layers.Dense(units=hidden_layer_size, activation=\"relu\"),\n",
    "    tf.keras.layers.Dense(units=hidden_layer_size, activation=\"relu\"),\n",
    "    tf.keras.layers.Dense(units=output_size, activation=\"softmax\")\n",
    "])\n",
    "\n",
    "model.compile(optimizer=\"adam\",loss=\"sparse_categorical_crossentropy\",metrics=[\"accuracy\"])"
   ],
   "execution_count":77,
   "outputs":[
    
   ],
   "metadata":{
    "datalore":{
     "node_id":"q4E2ghSyDrqx5tCp1xg4us",
     "type":"CODE",
     "hide_input_from_viewers":true,
     "hide_output_from_viewers":true
    }
   }
  },
  {
   "cell_type":"code",
   "source":[
    "early_stop = tf.keras.callbacks.EarlyStopping()\n",
    "\n",
    "model.fit(train_data,validation_data=(validation_inputs,validation_targets),epochs=100,verbose=2,callbacks=[early_stop])"
   ],
   "execution_count":80,
   "outputs":[
    {
     "name":"stdout",
     "text":[
      "Epoch 1\/100\n",
      "540\/540 - 5s - loss: 0.0544 - accuracy: 0.9834 - val_loss: 0.0666 - val_accuracy: 0.9800 - 5s\/epoch - 9ms\/step\n",
      "Epoch 2\/100\n",
      "540\/540 - 5s - loss: 0.0491 - accuracy: 0.9850 - val_loss: 0.0678 - val_accuracy: 0.9788 - 5s\/epoch - 9ms\/step\n"
     ],
     "output_type":"stream"
    },
    {
     "data":{
      "text\/plain":[
       "<keras.callbacks.History at 0x7f9b65ec1e80>"
      ]
     },
     "metadata":{
      
     },
     "output_type":"display_data"
    }
   ],
   "metadata":{
    "datalore":{
     "node_id":"96K5xMb1fGQy1thxtAJb8k",
     "type":"CODE",
     "hide_input_from_viewers":true,
     "hide_output_from_viewers":true
    }
   }
  },
  {
   "cell_type":"code",
   "source":[
    
   ],
   "execution_count":null,
   "outputs":[
    
   ],
   "metadata":{
    "datalore":{
     "node_id":"OJ5WnztkMTAcuDOlImqfZC",
     "type":"CODE",
     "hide_input_from_viewers":true,
     "hide_output_from_viewers":true
    }
   }
  },
  {
   "cell_type":"code",
   "source":[
    
   ],
   "execution_count":null,
   "outputs":[
    
   ],
   "metadata":{
    "datalore":{
     "node_id":"8cxOj00w74ppEK2dqpMVXF",
     "type":"CODE",
     "hide_input_from_viewers":true,
     "hide_output_from_viewers":true
    }
   }
  }
 ],
 "metadata":{
  "kernelspec":{
   "display_name":"Python",
   "language":"python",
   "name":"python"
  },
  "datalore":{
   "computation_mode":"JUPYTER",
   "package_manager":"pip",
   "base_environment":"default",
   "packages":[
    
   ],
   "report_row_ids":[
    
   ],
   "version":3
  }
 },
 "nbformat":4,
 "nbformat_minor":4
}