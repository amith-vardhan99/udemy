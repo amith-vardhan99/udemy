{
 "cells": [
  {
   "cell_type": "code",
   "execution_count": 1,
   "id": "initial_id",
   "metadata": {
    "ExecuteTime": {
     "end_time": "2024-03-21T14:34:05.232193Z",
     "start_time": "2024-03-21T14:33:57.563245Z"
    },
    "collapsed": true
   },
   "outputs": [],
   "source": [
    "import numpy as np\n",
    "import pandas as pd\n",
    "import matplotlib.pyplot as plt\n",
    "import seaborn as sns\n",
    "import tensorflow as tf\n",
    "from sklearn.metrics import *\n",
    "import warnings\n",
    "warnings.filterwarnings(\"ignore\")\n",
    "import opendatasets as od\n",
    "import os\n",
    "import cv2\n",
    "from tqdm import *\n"
   ]
  },
  {
   "cell_type": "code",
   "execution_count": 2,
   "id": "7bef6fd0fb700fa0",
   "metadata": {
    "ExecuteTime": {
     "end_time": "2024-03-21T00:58:46.251587Z",
     "start_time": "2024-03-21T00:55:21.992658Z"
    },
    "collapsed": false
   },
   "outputs": [
    {
     "name": "stdout",
     "output_type": "stream",
     "text": [
      "Please provide your Kaggle credentials to download this dataset. Learn more: http://bit.ly/kaggle-creds\n",
      "Your Kaggle username:Your Kaggle Key:Downloading 140k-real-and-fake-faces.zip to C:\\Users\\amith\\Documents\\Datasets\\8 - Detecting DeepFakes with ResNet and CNN\\140k-real-and-fake-faces\n"
     ]
    },
    {
     "name": "stderr",
     "output_type": "stream",
     "text": [
      "100%|██████████| 3.75G/3.75G [01:12<00:00, 55.1MB/s]\n"
     ]
    },
    {
     "name": "stdout",
     "output_type": "stream",
     "text": []
    }
   ],
   "source": [
    "od.download(dataset_id_or_url=\"https://www.kaggle.com/datasets/xhlulu/140k-real-and-fake-faces\",data_dir=\"C:\\\\Users\\\\amith\\\\Documents\\\\Datasets\\\\8 - Detecting DeepFakes with ResNet and CNN\")\n"
   ]
  },
  {
   "cell_type": "code",
   "execution_count": 2,
   "id": "f2c529d3088d24fb",
   "metadata": {
    "ExecuteTime": {
     "end_time": "2024-03-21T14:34:05.488159Z",
     "start_time": "2024-03-21T14:34:05.383927Z"
    },
    "collapsed": false
   },
   "outputs": [],
   "source": [
    "data_generator = tf.keras.preprocessing.image.ImageDataGenerator(rescale=1.0/255.0)\n"
   ]
  },
  {
   "cell_type": "code",
   "execution_count": 3,
   "id": "39ac9d86efcea44e",
   "metadata": {
    "ExecuteTime": {
     "end_time": "2024-03-21T14:34:11.162391Z",
     "start_time": "2024-03-21T14:34:06.125883Z"
    },
    "collapsed": false
   },
   "outputs": [
    {
     "name": "stdout",
     "output_type": "stream",
     "text": [
      "Found 100000 images belonging to 2 classes.\n",
      "Found 20000 images belonging to 2 classes.\n",
      "Found 20000 images belonging to 2 classes.\n"
     ]
    }
   ],
   "source": [
    "train_data = data_generator.flow_from_directory(\n",
    "    directory = \"C:\\\\Users\\\\amith\\\\Documents\\\\Datasets\\\\8 - Detecting DeepFakes with ResNet and CNN\\\\140k-real-and-fake-faces\\\\real_vs_fake\\\\real-vs-fake\\\\train\",\n",
    "    target_size = (64,64),\n",
    "    color_mode = \"grayscale\",\n",
    "    classes = [\"fake\",\"real\"],\n",
    "    class_mode = \"binary\",\n",
    ")\n",
    "\n",
    "val_data = data_generator.flow_from_directory(\n",
    "    directory = \"C:\\\\Users\\\\amith\\\\Documents\\\\Datasets\\\\8 - Detecting DeepFakes with ResNet and CNN\\\\140k-real-and-fake-faces\\\\real_vs_fake\\\\real-vs-fake\\\\valid\",\n",
    "    target_size = (64,64),\n",
    "    color_mode = \"grayscale\",\n",
    "    classes = [\"fake\",\"real\"],\n",
    "    class_mode = \"binary\"\n",
    ")\n",
    "\n",
    "test_data = data_generator.flow_from_directory(\n",
    "    directory = \"C:\\\\Users\\\\amith\\\\Documents\\\\Datasets\\\\8 - Detecting DeepFakes with ResNet and CNN\\\\140k-real-and-fake-faces\\\\real_vs_fake\\\\real-vs-fake\\\\test\",\n",
    "    target_size = (64,64),\n",
    "    color_mode = \"grayscale\",\n",
    "    classes = [\"fake\",\"real\"],\n",
    "    class_mode = \"binary\"\n",
    ")\n"
   ]
  },
  {
   "cell_type": "code",
   "execution_count": 4,
   "id": "d6f2843e1d78976",
   "metadata": {
    "ExecuteTime": {
     "end_time": "2024-03-21T14:34:13.554350Z",
     "start_time": "2024-03-21T14:34:13.032262Z"
    },
    "collapsed": false
   },
   "outputs": [
    {
     "name": "stdout",
     "output_type": "stream",
     "text": [
      "WARNING:tensorflow:From C:\\Users\\amith\\AppData\\Local\\Programs\\Python\\Python311\\Lib\\site-packages\\keras\\src\\backend.py:873: The name tf.get_default_graph is deprecated. Please use tf.compat.v1.get_default_graph instead.\n"
     ]
    }
   ],
   "source": [
    "model = tf.keras.models.Sequential(layers=[\n",
    "    \n",
    "    tf.keras.layers.Conv2D(filters=8,kernel_size=(3,3),activation=\"relu\",input_shape=(64,64,1)),\n",
    "    tf.keras.layers.Conv2D(filters=16,kernel_size=(3,3),activation=\"relu\"),\n",
    "    tf.keras.layers.Conv2D(filters=32,kernel_size=(3,3),activation=\"relu\"),\n",
    "    tf.keras.layers.Conv2D(filters=64,kernel_size=(3,3),activation=\"relu\"),\n",
    "    \n",
    "    tf.keras.layers.Flatten(),\n",
    "    \n",
    "    tf.keras.layers.Dense(units=64,activation=\"relu\"),\n",
    "    tf.keras.layers.Dense(units=1,activation=\"softmax\")\n",
    "])\n"
   ]
  },
  {
   "cell_type": "code",
   "execution_count": 5,
   "id": "3d99ac3b03acf99f",
   "metadata": {
    "ExecuteTime": {
     "end_time": "2024-03-21T14:34:14.075342Z",
     "start_time": "2024-03-21T14:34:14.051220Z"
    },
    "collapsed": false
   },
   "outputs": [],
   "source": [
    "model.compile(optimizer=tf.keras.optimizers.Adagrad(), loss=tf.keras.losses.binary_crossentropy, metrics=[\"accuracy\"])\n"
   ]
  },
  {
   "cell_type": "code",
   "execution_count": 6,
   "id": "450e9e7b9539dcb3",
   "metadata": {
    "ExecuteTime": {
     "end_time": "2024-03-21T14:36:06.210697Z",
     "start_time": "2024-03-21T14:34:14.782645Z"
    },
    "collapsed": false
   },
   "outputs": [
    {
     "name": "stdout",
     "output_type": "stream",
     "text": [
      "Epoch 1/10\n",
      "WARNING:tensorflow:From C:\\Users\\amith\\AppData\\Local\\Programs\\Python\\Python311\\Lib\\site-packages\\keras\\src\\utils\\tf_utils.py:492: The name tf.ragged.RaggedTensorValue is deprecated. Please use tf.compat.v1.ragged.RaggedTensorValue instead.\n",
      "WARNING:tensorflow:From C:\\Users\\amith\\AppData\\Local\\Programs\\Python\\Python311\\Lib\\site-packages\\keras\\src\\engine\\base_layer_utils.py:384: The name tf.executing_eagerly_outside_functions is deprecated. Please use tf.compat.v1.executing_eagerly_outside_functions instead.\n",
      "100/100 [==============================] - 12s 109ms/step - loss: 0.6914 - accuracy: 0.4953 - val_loss: 0.6869 - val_accuracy: 0.4922\n",
      "Epoch 2/10\n",
      "100/100 [==============================] - 11s 107ms/step - loss: 0.6858 - accuracy: 0.5119 - val_loss: 0.6843 - val_accuracy: 0.5203\n",
      "Epoch 3/10\n",
      "100/100 [==============================] - 11s 104ms/step - loss: 0.6802 - accuracy: 0.5072 - val_loss: 0.6795 - val_accuracy: 0.5047\n",
      "Epoch 4/10\n",
      "100/100 [==============================] - 11s 108ms/step - loss: 0.6720 - accuracy: 0.5081 - val_loss: 0.6760 - val_accuracy: 0.4969\n",
      "Epoch 5/10\n",
      "100/100 [==============================] - 10s 103ms/step - loss: 0.6638 - accuracy: 0.5038 - val_loss: 0.6560 - val_accuracy: 0.4703\n",
      "Epoch 6/10\n",
      "100/100 [==============================] - 11s 111ms/step - loss: 0.6541 - accuracy: 0.4944 - val_loss: 0.6523 - val_accuracy: 0.4906\n",
      "Epoch 7/10\n",
      "100/100 [==============================] - 11s 113ms/step - loss: 0.6523 - accuracy: 0.5072 - val_loss: 0.6606 - val_accuracy: 0.4750\n",
      "Epoch 8/10\n",
      "100/100 [==============================] - 11s 111ms/step - loss: 0.6429 - accuracy: 0.4969 - val_loss: 0.6419 - val_accuracy: 0.4922\n",
      "Epoch 9/10\n",
      "100/100 [==============================] - 11s 112ms/step - loss: 0.6415 - accuracy: 0.4988 - val_loss: 0.6372 - val_accuracy: 0.4875\n",
      "Epoch 10/10\n",
      "100/100 [==============================] - 11s 110ms/step - loss: 0.6398 - accuracy: 0.5034 - val_loss: 0.6280 - val_accuracy: 0.5203\n"
     ]
    },
    {
     "data": {
      "text/plain": [
       "<keras.src.callbacks.History at 0x2b9e6165550>"
      ]
     },
     "execution_count": 6,
     "metadata": {},
     "output_type": "execute_result"
    }
   ],
   "source": [
    "model.fit(train_data,epochs=10,verbose=1,callbacks=tf.keras.callbacks.EarlyStopping(patience=2),validation_data=val_data,steps_per_epoch=100000/1000,validation_steps=20000/1000)\n"
   ]
  },
  {
   "cell_type": "code",
   "execution_count": 7,
   "id": "612e04ee88427367",
   "metadata": {
    "ExecuteTime": {
     "end_time": "2024-03-21T14:36:19.938701Z",
     "start_time": "2024-03-21T14:36:13.190648Z"
    },
    "collapsed": false
   },
   "outputs": [
    {
     "name": "stdout",
     "output_type": "stream",
     "text": [
      "100/100 [==============================] - 7s 65ms/step - loss: 0.6243 - accuracy: 0.4916\n"
     ]
    }
   ],
   "source": [
    "losses = model.evaluate(test_data,steps=100)\n"
   ]
  },
  {
   "cell_type": "code",
   "execution_count": 9,
   "id": "86b3287b72bd635b",
   "metadata": {
    "ExecuteTime": {
     "end_time": "2024-03-21T14:36:33.420895Z",
     "start_time": "2024-03-21T14:36:33.413632Z"
    },
    "collapsed": false
   },
   "outputs": [
    {
     "data": {
      "text/plain": [
       "[0.624281108379364, 0.49156248569488525]"
      ]
     },
     "execution_count": 9,
     "metadata": {},
     "output_type": "execute_result"
    }
   ],
   "source": [
    "losses\n"
   ]
  },
  {
   "cell_type": "code",
   "execution_count": 13,
   "id": "cbbc72c92ab8e8aa",
   "metadata": {
    "ExecuteTime": {
     "end_time": "2024-03-21T14:38:39.364463Z",
     "start_time": "2024-03-21T14:37:04.649942Z"
    },
    "collapsed": false
   },
   "outputs": [
    {
     "name": "stdout",
     "output_type": "stream",
     "text": [
      "625/625 [==============================] - 94s 150ms/step\n"
     ]
    }
   ],
   "source": [
    "pred_data = model.predict(test_data)\n"
   ]
  },
  {
   "cell_type": "code",
   "execution_count": 16,
   "id": "d92fed4208cd758b",
   "metadata": {
    "ExecuteTime": {
     "end_time": "2024-03-21T14:38:51.714871Z",
     "start_time": "2024-03-21T14:38:51.708529Z"
    },
    "collapsed": false
   },
   "outputs": [
    {
     "data": {
      "text/plain": [
       "array([[1.],\n",
       "       [1.],\n",
       "       [1.],\n",
       "       ...,\n",
       "       [1.],\n",
       "       [1.],\n",
       "       [1.]], dtype=float32)"
      ]
     },
     "execution_count": 16,
     "metadata": {},
     "output_type": "execute_result"
    }
   ],
   "source": [
    "pred_data\n"
   ]
  },
  {
   "cell_type": "code",
   "execution_count": 18,
   "id": "c2cfe3c1fc8ed8d6",
   "metadata": {
    "ExecuteTime": {
     "end_time": "2024-03-21T14:40:44.139158Z",
     "start_time": "2024-03-21T14:40:43.986422Z"
    },
    "collapsed": false
   },
   "outputs": [],
   "source": [
    "tf.keras.models.save_model(model=model,filepath=\"C:\\\\Users\\\\amith\\\\Documents\\\\GitHub\\\\udemy\\\\8 - Detecting DeepFakes with ResNet and CNN\\\\app\\\\deepfake.h5\")\n"
   ]
  },
  {
   "cell_type": "code",
   "execution_count": null,
   "id": "5fb62d8975f7767a",
   "metadata": {
    "collapsed": false
   },
   "outputs": [],
   "source": []
  }
 ],
 "metadata": {
  "kernelspec": {
   "display_name": "Python 3",
   "language": "python",
   "name": "python3"
  },
  "language_info": {
   "codemirror_mode": {
    "name": "ipython",
    "version": 3
   },
   "file_extension": ".py",
   "mimetype": "text/x-python",
   "name": "python",
   "nbconvert_exporter": "python",
   "pygments_lexer": "ipython3",
   "version": "3.11.8"
  }
 },
 "nbformat": 4,
 "nbformat_minor": 5
}
