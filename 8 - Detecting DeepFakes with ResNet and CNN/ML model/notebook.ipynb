{
 "cells": [
  {
   "cell_type": "code",
   "execution_count": 1,
   "id": "initial_id",
   "metadata": {
    "collapsed": true,
    "ExecuteTime": {
     "end_time": "2024-03-21T11:22:13.334763Z",
     "start_time": "2024-03-21T11:22:07.097205Z"
    }
   },
   "outputs": [
    {
     "name": "stdout",
     "output_type": "stream",
     "text": [
      "WARNING:tensorflow:From C:\\Users\\amith\\AppData\\Local\\Programs\\Python\\Python311\\Lib\\site-packages\\keras\\src\\losses.py:2976: The name tf.losses.sparse_softmax_cross_entropy is deprecated. Please use tf.compat.v1.losses.sparse_softmax_cross_entropy instead.\n"
     ]
    }
   ],
   "source": [
    "import numpy as np\n",
    "import pandas as pd\n",
    "import matplotlib.pyplot as plt\n",
    "import seaborn as sns\n",
    "import tensorflow as tf\n",
    "from sklearn.metrics import *\n",
    "import warnings\n",
    "warnings.filterwarnings(\"ignore\")\n",
    "import opendatasets as od\n",
    "import os\n",
    "import cv2\n",
    "from tqdm import *"
   ]
  },
  {
   "cell_type": "code",
   "outputs": [
    {
     "name": "stdout",
     "output_type": "stream",
     "text": [
      "Please provide your Kaggle credentials to download this dataset. Learn more: http://bit.ly/kaggle-creds\n",
      "Your Kaggle username:Your Kaggle Key:Downloading 140k-real-and-fake-faces.zip to C:\\Users\\amith\\Documents\\Datasets\\8 - Detecting DeepFakes with ResNet and CNN\\140k-real-and-fake-faces\n"
     ]
    },
    {
     "name": "stderr",
     "output_type": "stream",
     "text": [
      "100%|██████████| 3.75G/3.75G [01:12<00:00, 55.1MB/s]\n"
     ]
    },
    {
     "name": "stdout",
     "output_type": "stream",
     "text": []
    }
   ],
   "source": [
    "od.download(dataset_id_or_url=\"https://www.kaggle.com/datasets/xhlulu/140k-real-and-fake-faces\",data_dir=\"C:\\\\Users\\\\amith\\\\Documents\\\\Datasets\\\\8 - Detecting DeepFakes with ResNet and CNN\")"
   ],
   "metadata": {
    "collapsed": false,
    "ExecuteTime": {
     "end_time": "2024-03-21T00:58:46.251587Z",
     "start_time": "2024-03-21T00:55:21.992658Z"
    }
   },
   "id": "7bef6fd0fb700fa0",
   "execution_count": 2
  },
  {
   "cell_type": "code",
   "outputs": [
    {
     "data": {
      "text/plain": "['real_vs_fake', 'test.csv', 'train.csv', 'valid.csv']"
     },
     "execution_count": 2,
     "metadata": {},
     "output_type": "execute_result"
    }
   ],
   "source": [
    "list_of_files = os.listdir(\"C:\\\\Users\\\\amith\\\\Documents\\\\Datasets\\\\8 - Detecting DeepFakes with ResNet and CNN\\\\140k-real-and-fake-faces\")\n",
    "list_of_files"
   ],
   "metadata": {
    "collapsed": false,
    "ExecuteTime": {
     "end_time": "2024-03-21T11:22:16.435938Z",
     "start_time": "2024-03-21T11:22:16.426835Z"
    }
   },
   "id": "92c8ff275e1208de",
   "execution_count": 2
  },
  {
   "cell_type": "code",
   "outputs": [
    {
     "name": "stderr",
     "output_type": "stream",
     "text": [
      "100%|██████████| 50000/50000 [05:49<00:00, 143.23it/s]\n",
      " 71%|███████▏  | 35637/50000 [12:10<07:22, 32.49it/s]"
     ]
    }
   ],
   "source": [
    "train_data = pd.read_csv(\"C:\\\\Users\\\\amith\\\\Documents\\\\Datasets\\\\8 - Detecting DeepFakes with ResNet and CNN\\\\140k-real-and-fake-faces\\\\train.csv\")\n",
    "\n",
    "train_data_real = train_data[train_data[\"label_str\"]==\"real\"].sort_values(by=[\"path\"]).reset_index(drop=True)\n",
    "train_data_fake = train_data[train_data[\"label_str\"]==\"fake\"].sort_values(by=[\"path\"]).reset_index(drop=True)\n",
    "\n",
    "list_of_images_train_real = list(map(lambda x: \"C:/Users/amith/Documents/Datasets/8 - Detecting DeepFakes with ResNet and CNN/140k-real-and-fake-faces/real_vs_fake/real-vs-fake/\" + x,train_data_real[\"path\"]))\n",
    "\n",
    "list_of_images_train_fake = list(map(lambda x: \"C:/Users/amith/Documents/Datasets/8 - Detecting DeepFakes with ResNet and CNN/140k-real-and-fake-faces/real_vs_fake/real-vs-fake/\" + x,train_data_fake[\"path\"]))\n",
    "\n",
    "\n",
    "images_train = []\n",
    "labels_train = train_data_real[\"label\"].values.tolist() + train_data_fake[\"label\"].values.tolist()\n",
    "\n",
    "for i in tqdm(list_of_images_train_real):\n",
    "    img = cv2.imread(i)\n",
    "    img_grayscale = cv2.cvtColor(img, cv2.COLOR_BGR2GRAY)\n",
    "    img_resized = cv2.resize(img_grayscale, (64,64))\n",
    "    img_rescaled = img_resized / 255.0\n",
    "    images_train.append(img_rescaled)\n",
    "\n",
    "for i in tqdm(list_of_images_train_fake):\n",
    "    img = cv2.imread(i)\n",
    "    img_grayscale = cv2.cvtColor(img, cv2.COLOR_BGR2GRAY)\n",
    "    img_resized = cv2.resize(img_grayscale, (64,64))\n",
    "    img_rescaled = img_resized / 255.0\n",
    "    images_train.append(img_rescaled)\n",
    "\n",
    "images_train = np.array(images_train)"
   ],
   "metadata": {
    "collapsed": false,
    "ExecuteTime": {
     "start_time": "2024-03-21T11:22:17.427671Z"
    }
   },
   "id": "14fa8cf00a3d8fc6",
   "execution_count": null
  },
  {
   "cell_type": "code",
   "outputs": [
    {
     "data": {
      "text/plain": "(256, 256, 3)"
     },
     "execution_count": 32,
     "metadata": {},
     "output_type": "execute_result"
    }
   ],
   "source": [
    "len(images_train)"
   ],
   "metadata": {
    "collapsed": false,
    "ExecuteTime": {
     "end_time": "2024-03-21T01:33:42.050125Z",
     "start_time": "2024-03-21T01:33:42.043015Z"
    }
   },
   "id": "f7a2f5b252d4705e",
   "execution_count": 32
  },
  {
   "cell_type": "code",
   "outputs": [
    {
     "name": "stderr",
     "output_type": "stream",
     "text": [
      "100%|██████████| 10000/10000 [00:23<00:00, 417.91it/s]\n",
      "100%|██████████| 10000/10000 [00:25<00:00, 393.40it/s]\n"
     ]
    }
   ],
   "source": [
    "val_data = pd.read_csv(\"C:\\\\Users\\\\amith\\\\Documents\\\\Datasets\\\\8 - Detecting DeepFakes with ResNet and CNN\\\\140k-real-and-fake-faces\\\\valid.csv\")\n",
    "\n",
    "val_data_real = val_data[val_data[\"label_str\"]==\"real\"].sort_values(by=[\"path\"]).reset_index(drop=True)\n",
    "val_data_fake = val_data[val_data[\"label_str\"]==\"fake\"].sort_values(by=[\"path\"]).reset_index(drop=True)\n",
    "\n",
    "list_of_images_val_real = list(map(lambda x: \"C:/Users/amith/Documents/Datasets/8 - Detecting DeepFakes with ResNet and CNN/140k-real-and-fake-faces/real_vs_fake/real-vs-fake/\" + x,val_data_real[\"path\"]))\n",
    "\n",
    "list_of_images_val_fake = list(map(lambda x: \"C:/Users/amith/Documents/Datasets/8 - Detecting DeepFakes with ResNet and CNN/140k-real-and-fake-faces/real_vs_fake/real-vs-fake/\" + x,val_data_fake[\"path\"]))\n",
    "\n",
    "\n",
    "images_val = []\n",
    "labels_val = val_data_real[\"label\"].values.tolist() + val_data_fake[\"label\"].values.tolist()\n",
    "\n",
    "for i in tqdm(list_of_images_val_real):\n",
    "    img = cv2.imread(i)\n",
    "    img_grayscale = cv2.cvtColor(img, cv2.COLOR_BGR2GRAY)\n",
    "    img_resized = cv2.resize(img_grayscale, (64,64))\n",
    "    img_rescaled = img_resized / 255.0\n",
    "    images_val.append(img_rescaled)\n",
    "\n",
    "for i in tqdm(list_of_images_val_fake):\n",
    "    img = cv2.imread(i)\n",
    "    img_grayscale = cv2.cvtColor(img, cv2.COLOR_BGR2GRAY)\n",
    "    img_resized = cv2.resize(img_grayscale, (64,64))\n",
    "    img_rescaled = img_resized / 255.0\n",
    "    images_val.append(img_rescaled)\n",
    "\n",
    "images_val = np.array(images_val)"
   ],
   "metadata": {
    "collapsed": false,
    "ExecuteTime": {
     "end_time": "2024-03-21T01:34:33.601632Z",
     "start_time": "2024-03-21T01:33:42.969388Z"
    }
   },
   "id": "70677cad65aaa164",
   "execution_count": 33
  },
  {
   "cell_type": "code",
   "outputs": [
    {
     "name": "stderr",
     "output_type": "stream",
     "text": [
      "100%|██████████| 10000/10000 [00:26<00:00, 384.60it/s]\n",
      "100%|██████████| 10000/10000 [00:25<00:00, 395.16it/s]\n"
     ]
    }
   ],
   "source": [
    "test_data = pd.read_csv(\"C:\\\\Users\\\\amith\\\\Documents\\\\Datasets\\\\8 - Detecting DeepFakes with ResNet and CNN\\\\140k-real-and-fake-faces\\\\test.csv\")\n",
    "\n",
    "test_data_real = test_data[test_data[\"label_str\"]==\"real\"].sort_values(by=[\"path\"]).reset_index(drop=True)\n",
    "test_data_fake = test_data[test_data[\"label_str\"]==\"fake\"].sort_values(by=[\"path\"]).reset_index(drop=True)\n",
    "\n",
    "list_of_images_test_real = list(map(lambda x: \"C:/Users/amith/Documents/Datasets/8 - Detecting DeepFakes with ResNet and CNN/140k-real-and-fake-faces/real_vs_fake/real-vs-fake/\" + x,test_data_real[\"path\"]))\n",
    "\n",
    "list_of_images_test_fake = list(map(lambda x: \"C:/Users/amith/Documents/Datasets/8 - Detecting DeepFakes with ResNet and CNN/140k-real-and-fake-faces/real_vs_fake/real-vs-fake/\" + x,test_data_fake[\"path\"]))\n",
    "\n",
    "\n",
    "images_test = []\n",
    "labels_test = test_data_real[\"label\"].values.tolist() + test_data_fake[\"label\"].values.tolist()\n",
    "\n",
    "for i in tqdm(list_of_images_test_real):\n",
    "    img = cv2.imread(i)\n",
    "    img_grayscale = cv2.cvtColor(img, cv2.COLOR_BGR2GRAY)\n",
    "    img_resized = cv2.resize(img_grayscale, (64,64))\n",
    "    img_rescaled = img_resized / 255.0\n",
    "    images_test.append(img_rescaled)\n",
    "\n",
    "for i in tqdm(list_of_images_test_fake):\n",
    "    img = cv2.imread(i)\n",
    "    img_grayscale = cv2.cvtColor(img, cv2.COLOR_BGR2GRAY)\n",
    "    img_resized = cv2.resize(img_grayscale, (64,64))\n",
    "    img_rescaled = img_resized / 255.0\n",
    "    images_test.append(img_rescaled)\n",
    "\n",
    "images_test = np.array(images_test)"
   ],
   "metadata": {
    "collapsed": false,
    "ExecuteTime": {
     "end_time": "2024-03-21T01:35:35.158416Z",
     "start_time": "2024-03-21T01:34:42.118564Z"
    }
   },
   "id": "8f7d16b342a2d95a",
   "execution_count": 34
  },
  {
   "cell_type": "code",
   "outputs": [
    {
     "data": {
      "text/plain": "array([1, 1, 1, ..., 1, 1, 1], dtype=int64)"
     },
     "execution_count": 36,
     "metadata": {},
     "output_type": "execute_result"
    }
   ],
   "source": [],
   "metadata": {
    "collapsed": false,
    "ExecuteTime": {
     "end_time": "2024-03-21T01:36:10.150569Z",
     "start_time": "2024-03-21T01:36:10.145123Z"
    }
   },
   "id": "6fa1ed06d639e600",
   "execution_count": 36
  },
  {
   "cell_type": "code",
   "outputs": [],
   "source": [],
   "metadata": {
    "collapsed": false
   },
   "id": "f2c529d3088d24fb"
  }
 ],
 "metadata": {
  "kernelspec": {
   "display_name": "Python 3",
   "language": "python",
   "name": "python3"
  },
  "language_info": {
   "codemirror_mode": {
    "name": "ipython",
    "version": 2
   },
   "file_extension": ".py",
   "mimetype": "text/x-python",
   "name": "python",
   "nbconvert_exporter": "python",
   "pygments_lexer": "ipython2",
   "version": "2.7.6"
  }
 },
 "nbformat": 4,
 "nbformat_minor": 5
}
