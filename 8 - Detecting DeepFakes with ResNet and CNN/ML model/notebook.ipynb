{
 "cells": [
  {
   "cell_type": "code",
   "execution_count": 2,
   "id": "initial_id",
   "metadata": {
    "collapsed": true,
    "ExecuteTime": {
     "end_time": "2024-03-21T13:19:27.184245Z",
     "start_time": "2024-03-21T13:19:20.860941Z"
    }
   },
   "outputs": [
    {
     "name": "stdout",
     "output_type": "stream",
     "text": [
      "WARNING:tensorflow:From C:\\Users\\amith\\AppData\\Local\\Programs\\Python\\Python311\\Lib\\site-packages\\keras\\src\\losses.py:2976: The name tf.losses.sparse_softmax_cross_entropy is deprecated. Please use tf.compat.v1.losses.sparse_softmax_cross_entropy instead.\n"
     ]
    }
   ],
   "source": [
    "import numpy as np\n",
    "import pandas as pd\n",
    "import matplotlib.pyplot as plt\n",
    "import seaborn as sns\n",
    "import tensorflow as tf\n",
    "from sklearn.metrics import *\n",
    "import warnings\n",
    "warnings.filterwarnings(\"ignore\")\n",
    "import opendatasets as od\n",
    "import os\n",
    "import cv2\n",
    "from tqdm import *"
   ]
  },
  {
   "cell_type": "code",
   "outputs": [
    {
     "name": "stdout",
     "output_type": "stream",
     "text": [
      "Please provide your Kaggle credentials to download this dataset. Learn more: http://bit.ly/kaggle-creds\n",
      "Your Kaggle username:Your Kaggle Key:Downloading 140k-real-and-fake-faces.zip to C:\\Users\\amith\\Documents\\Datasets\\8 - Detecting DeepFakes with ResNet and CNN\\140k-real-and-fake-faces\n"
     ]
    },
    {
     "name": "stderr",
     "output_type": "stream",
     "text": [
      "100%|██████████| 3.75G/3.75G [01:12<00:00, 55.1MB/s]\n"
     ]
    },
    {
     "name": "stdout",
     "output_type": "stream",
     "text": []
    }
   ],
   "source": [
    "od.download(dataset_id_or_url=\"https://www.kaggle.com/datasets/xhlulu/140k-real-and-fake-faces\",data_dir=\"C:\\\\Users\\\\amith\\\\Documents\\\\Datasets\\\\8 - Detecting DeepFakes with ResNet and CNN\")"
   ],
   "metadata": {
    "collapsed": false,
    "ExecuteTime": {
     "end_time": "2024-03-21T00:58:46.251587Z",
     "start_time": "2024-03-21T00:55:21.992658Z"
    }
   },
   "id": "7bef6fd0fb700fa0",
   "execution_count": 2
  },
  {
   "cell_type": "code",
   "outputs": [],
   "source": [
    "data_generator = tf.keras.preprocessing.image.ImageDataGenerator(rescale=1.0/255.0)"
   ],
   "metadata": {
    "collapsed": false,
    "ExecuteTime": {
     "end_time": "2024-03-21T13:19:29.919439Z",
     "start_time": "2024-03-21T13:19:29.831361Z"
    }
   },
   "id": "f2c529d3088d24fb",
   "execution_count": 3
  },
  {
   "cell_type": "code",
   "outputs": [
    {
     "name": "stdout",
     "output_type": "stream",
     "text": [
      "Found 100000 images belonging to 2 classes.\n",
      "Found 20000 images belonging to 2 classes.\n",
      "Found 20000 images belonging to 2 classes.\n"
     ]
    }
   ],
   "source": [
    "train_data = data_generator.flow_from_directory(\n",
    "    directory = \"C:\\\\Users\\\\amith\\\\Documents\\\\Datasets\\\\8 - Detecting DeepFakes with ResNet and CNN\\\\140k-real-and-fake-faces\\\\real_vs_fake\\\\real-vs-fake\\\\train\",\n",
    "    target_size = (64,64),\n",
    "    color_mode = \"grayscale\",\n",
    "    classes = [\"fake\",\"real\"],\n",
    "    class_mode = \"binary\",\n",
    ")\n",
    "\n",
    "val_data = data_generator.flow_from_directory(\n",
    "    directory = \"C:\\\\Users\\\\amith\\\\Documents\\\\Datasets\\\\8 - Detecting DeepFakes with ResNet and CNN\\\\140k-real-and-fake-faces\\\\real_vs_fake\\\\real-vs-fake\\\\valid\",\n",
    "    target_size = (64,64),\n",
    "    color_mode = \"grayscale\",\n",
    "    classes = [\"fake\",\"real\"],\n",
    "    class_mode = \"binary\"\n",
    ")\n",
    "\n",
    "test_data = data_generator.flow_from_directory(\n",
    "    directory = \"C:\\\\Users\\\\amith\\\\Documents\\\\Datasets\\\\8 - Detecting DeepFakes with ResNet and CNN\\\\140k-real-and-fake-faces\\\\real_vs_fake\\\\real-vs-fake\\\\test\",\n",
    "    target_size = (64,64),\n",
    "    color_mode = \"grayscale\",\n",
    "    classes = [\"fake\",\"real\"],\n",
    "    class_mode = \"binary\"\n",
    ")"
   ],
   "metadata": {
    "collapsed": false,
    "ExecuteTime": {
     "end_time": "2024-03-21T13:19:34.034422Z",
     "start_time": "2024-03-21T13:19:30.582344Z"
    }
   },
   "id": "39ac9d86efcea44e",
   "execution_count": 4
  },
  {
   "cell_type": "code",
   "outputs": [
    {
     "name": "stdout",
     "output_type": "stream",
     "text": [
      "WARNING:tensorflow:From C:\\Users\\amith\\AppData\\Local\\Programs\\Python\\Python311\\Lib\\site-packages\\keras\\src\\backend.py:873: The name tf.get_default_graph is deprecated. Please use tf.compat.v1.get_default_graph instead.\n"
     ]
    }
   ],
   "source": [
    "model = tf.keras.models.Sequential(layers=[\n",
    "    \n",
    "    tf.keras.layers.Conv2D(filters=8,kernel_size=(3,3),activation=\"relu\",input_shape=(64,64,1)),\n",
    "    tf.keras.layers.Conv2D(filters=16,kernel_size=(3,3),activation=\"relu\"),\n",
    "    tf.keras.layers.Conv2D(filters=32,kernel_size=(3,3),activation=\"relu\"),\n",
    "    tf.keras.layers.Conv2D(filters=64,kernel_size=(3,3),activation=\"relu\"),\n",
    "    \n",
    "    tf.keras.layers.Flatten(),\n",
    "    \n",
    "    tf.keras.layers.Dense(units=64,activation=\"relu\"),\n",
    "    tf.keras.layers.Dense(units=1,activation=\"softmax\")\n",
    "])"
   ],
   "metadata": {
    "collapsed": false,
    "ExecuteTime": {
     "end_time": "2024-03-21T13:19:34.924115Z",
     "start_time": "2024-03-21T13:19:34.450499Z"
    }
   },
   "id": "d6f2843e1d78976",
   "execution_count": 5
  },
  {
   "cell_type": "code",
   "outputs": [],
   "source": [
    "model.compile(optimizer=tf.keras.optimizers.Adagrad(), loss=tf.keras.losses.binary_crossentropy, metrics=[\"accuracy\"])"
   ],
   "metadata": {
    "collapsed": false,
    "ExecuteTime": {
     "end_time": "2024-03-21T13:19:35.482840Z",
     "start_time": "2024-03-21T13:19:35.461426Z"
    }
   },
   "id": "3d99ac3b03acf99f",
   "execution_count": 6
  },
  {
   "cell_type": "code",
   "outputs": [
    {
     "name": "stdout",
     "output_type": "stream",
     "text": [
      "Epoch 1/10\n",
      "WARNING:tensorflow:From C:\\Users\\amith\\AppData\\Local\\Programs\\Python\\Python311\\Lib\\site-packages\\keras\\src\\utils\\tf_utils.py:492: The name tf.ragged.RaggedTensorValue is deprecated. Please use tf.compat.v1.ragged.RaggedTensorValue instead.\n",
      "WARNING:tensorflow:From C:\\Users\\amith\\AppData\\Local\\Programs\\Python\\Python311\\Lib\\site-packages\\keras\\src\\engine\\base_layer_utils.py:384: The name tf.executing_eagerly_outside_functions is deprecated. Please use tf.compat.v1.executing_eagerly_outside_functions instead.\n",
      "100/100 [==============================] - 10s 91ms/step - loss: 0.6929 - accuracy: 0.4953 - val_loss: 0.6925 - val_accuracy: 0.4703\n",
      "Epoch 2/10\n",
      "100/100 [==============================] - 9s 86ms/step - loss: 0.6924 - accuracy: 0.4909 - val_loss: 0.6922 - val_accuracy: 0.4828\n",
      "Epoch 3/10\n",
      "100/100 [==============================] - 9s 90ms/step - loss: 0.6919 - accuracy: 0.5097 - val_loss: 0.6919 - val_accuracy: 0.4844\n",
      "Epoch 4/10\n",
      "100/100 [==============================] - 10s 98ms/step - loss: 0.6910 - accuracy: 0.5038 - val_loss: 0.6909 - val_accuracy: 0.4734\n",
      "Epoch 5/10\n",
      "100/100 [==============================] - 11s 113ms/step - loss: 0.6898 - accuracy: 0.4913 - val_loss: 0.6890 - val_accuracy: 0.5359\n",
      "Epoch 6/10\n",
      "100/100 [==============================] - 10s 97ms/step - loss: 0.6878 - accuracy: 0.4928 - val_loss: 0.6866 - val_accuracy: 0.4812\n",
      "Epoch 7/10\n",
      "100/100 [==============================] - 10s 99ms/step - loss: 0.6852 - accuracy: 0.5006 - val_loss: 0.6849 - val_accuracy: 0.5078\n",
      "Epoch 8/10\n",
      "100/100 [==============================] - 10s 96ms/step - loss: 0.6827 - accuracy: 0.5100 - val_loss: 0.6822 - val_accuracy: 0.4922\n",
      "Epoch 9/10\n",
      "100/100 [==============================] - 11s 105ms/step - loss: 0.6789 - accuracy: 0.4941 - val_loss: 0.6748 - val_accuracy: 0.4875\n",
      "Epoch 10/10\n",
      "100/100 [==============================] - 10s 98ms/step - loss: 0.6757 - accuracy: 0.5147 - val_loss: 0.6732 - val_accuracy: 0.5125\n"
     ]
    },
    {
     "data": {
      "text/plain": "<keras.src.callbacks.History at 0x133c0bae6d0>"
     },
     "execution_count": 7,
     "metadata": {},
     "output_type": "execute_result"
    }
   ],
   "source": [
    "model.fit(train_data,epochs=10,verbose=1,callbacks=tf.keras.callbacks.EarlyStopping(patience=2),validation_data=val_data,steps_per_epoch=100000/1000,validation_steps=20000/1000)"
   ],
   "metadata": {
    "collapsed": false,
    "ExecuteTime": {
     "end_time": "2024-03-21T13:21:16.285801Z",
     "start_time": "2024-03-21T13:19:36.656936Z"
    }
   },
   "id": "450e9e7b9539dcb3",
   "execution_count": 7
  },
  {
   "cell_type": "code",
   "outputs": [
    {
     "name": "stdout",
     "output_type": "stream",
     "text": [
      "100/100 [==============================] - 7s 71ms/step - loss: 0.6710 - accuracy: 0.5050\n"
     ]
    }
   ],
   "source": [
    "losses = model.evaluate(test_data,steps=100)"
   ],
   "metadata": {
    "collapsed": false,
    "ExecuteTime": {
     "end_time": "2024-03-21T13:40:09.010598Z",
     "start_time": "2024-03-21T13:40:01.732514Z"
    }
   },
   "id": "612e04ee88427367",
   "execution_count": 11
  },
  {
   "cell_type": "code",
   "outputs": [
    {
     "data": {
      "text/plain": "[0.6709726452827454, 0.5049999952316284]"
     },
     "execution_count": 14,
     "metadata": {},
     "output_type": "execute_result"
    }
   ],
   "source": [
    "losses"
   ],
   "metadata": {
    "collapsed": false,
    "ExecuteTime": {
     "end_time": "2024-03-21T13:40:18.594309Z",
     "start_time": "2024-03-21T13:40:18.586934Z"
    }
   },
   "id": "86b3287b72bd635b",
   "execution_count": 14
  },
  {
   "cell_type": "code",
   "outputs": [
    {
     "name": "stdout",
     "output_type": "stream",
     "text": [
      "100/100 [==============================] - 5s 50ms/step\n"
     ]
    }
   ],
   "source": [
    "pred_data = model.predict(test_data,steps=100)"
   ],
   "metadata": {
    "collapsed": false,
    "ExecuteTime": {
     "end_time": "2024-03-21T13:40:54.030167Z",
     "start_time": "2024-03-21T13:40:48.836388Z"
    }
   },
   "id": "cbbc72c92ab8e8aa",
   "execution_count": 16
  },
  {
   "cell_type": "code",
   "outputs": [
    {
     "data": {
      "text/plain": "625"
     },
     "execution_count": 28,
     "metadata": {},
     "output_type": "execute_result"
    }
   ],
   "source": [
    "len(test_data)"
   ],
   "metadata": {
    "collapsed": false,
    "ExecuteTime": {
     "end_time": "2024-03-21T13:44:00.814437Z",
     "start_time": "2024-03-21T13:44:00.806346Z"
    }
   },
   "id": "edbdadfa283084f6",
   "execution_count": 28
  },
  {
   "cell_type": "code",
   "outputs": [
    {
     "name": "stderr",
     "output_type": "stream",
     "text": [
      "100%|██████████| 625/625 [01:50<00:00,  5.65it/s]\n"
     ]
    }
   ],
   "source": [
    "ctr = 1\n",
    "p = []\n",
    "q = []\n",
    "for i in tqdm(range(len(test_data))):\n",
    "    p += test_data[i][0].tolist()\n",
    "    q += test_data[i][1].tolist()"
   ],
   "metadata": {
    "collapsed": false,
    "ExecuteTime": {
     "end_time": "2024-03-21T13:55:56.562071Z",
     "start_time": "2024-03-21T13:54:05.889280Z"
    }
   },
   "id": "97016798b71306f9",
   "execution_count": 62
  },
  {
   "cell_type": "code",
   "outputs": [],
   "source": [
    "p = np.array(p)\n",
    "q = np.array(q)"
   ],
   "metadata": {
    "collapsed": false,
    "is_executing": true,
    "ExecuteTime": {
     "start_time": "2024-03-21T13:57:08.744832Z"
    }
   },
   "id": "393e53bb30e773fc",
   "execution_count": null
  },
  {
   "cell_type": "code",
   "outputs": [
    {
     "data": {
      "text/plain": "20000"
     },
     "execution_count": 55,
     "metadata": {},
     "output_type": "execute_result"
    }
   ],
   "source": [
    "sum(p)"
   ],
   "metadata": {
    "collapsed": false,
    "ExecuteTime": {
     "end_time": "2024-03-21T13:51:34.097347Z",
     "start_time": "2024-03-21T13:51:34.090075Z"
    }
   },
   "id": "e21744c1e2defb46",
   "execution_count": 55
  },
  {
   "cell_type": "code",
   "outputs": [
    {
     "data": {
      "text/plain": "(32, 64, 64, 1)"
     },
     "execution_count": 43,
     "metadata": {},
     "output_type": "execute_result"
    }
   ],
   "source": [
    "test_data[0][0].shape"
   ],
   "metadata": {
    "collapsed": false,
    "ExecuteTime": {
     "end_time": "2024-03-21T13:47:08.239345Z",
     "start_time": "2024-03-21T13:47:08.200526Z"
    }
   },
   "id": "ba373897723402fd",
   "execution_count": 43
  },
  {
   "cell_type": "code",
   "outputs": [
    {
     "data": {
      "text/plain": "array([1., 0., 0., 0., 0., 0., 0., 1., 1., 0., 1., 1., 0., 0., 1., 0., 0.,\n       0., 0., 1., 1., 1., 1., 1., 1., 1., 1., 1., 1., 1., 0., 1.],\n      dtype=float32)"
     },
     "execution_count": 44,
     "metadata": {},
     "output_type": "execute_result"
    }
   ],
   "source": [
    "test_data[0][1]"
   ],
   "metadata": {
    "collapsed": false,
    "ExecuteTime": {
     "end_time": "2024-03-21T13:47:19.239290Z",
     "start_time": "2024-03-21T13:47:19.213958Z"
    }
   },
   "id": "aa0d4f4ecfd4c90",
   "execution_count": 44
  },
  {
   "cell_type": "code",
   "outputs": [
    {
     "data": {
      "text/plain": "20000"
     },
     "execution_count": 45,
     "metadata": {},
     "output_type": "execute_result"
    }
   ],
   "source": [
    "625 * 32"
   ],
   "metadata": {
    "collapsed": false,
    "ExecuteTime": {
     "end_time": "2024-03-21T13:47:27.522679Z",
     "start_time": "2024-03-21T13:47:27.512398Z"
    }
   },
   "id": "197154da0155b156",
   "execution_count": 45
  },
  {
   "cell_type": "code",
   "outputs": [],
   "source": [],
   "metadata": {
    "collapsed": false
   },
   "id": "f7e89cb829d7b34e"
  }
 ],
 "metadata": {
  "kernelspec": {
   "display_name": "Python 3",
   "language": "python",
   "name": "python3"
  },
  "language_info": {
   "codemirror_mode": {
    "name": "ipython",
    "version": 2
   },
   "file_extension": ".py",
   "mimetype": "text/x-python",
   "name": "python",
   "nbconvert_exporter": "python",
   "pygments_lexer": "ipython2",
   "version": "2.7.6"
  }
 },
 "nbformat": 4,
 "nbformat_minor": 5
}
