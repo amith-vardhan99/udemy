{
 "cells": [
  {
   "cell_type": "code",
   "execution_count": 1,
   "metadata": {},
   "outputs": [],
   "source": [
    "import numpy as np  \n",
    "import pandas as pd  \n",
    "import matplotlib.pyplot as plt    \n",
    "import seaborn as sns    \n",
    "import re   \n",
    "import os   \n",
    "import warnings\n",
    "warnings.filterwarnings(\"ignore\")"
   ]
  },
  {
   "cell_type": "code",
   "execution_count": 2,
   "metadata": {},
   "outputs": [],
   "source": [
    "with open(\"WhatsApp Chat with CodeAcuity.txt\",\"r\",encoding=\"utf-8\") as fi:\n",
    "    text = fi.read()"
   ]
  },
  {
   "cell_type": "code",
   "execution_count": 4,
   "metadata": {},
   "outputs": [
    {
     "data": {
      "text/plain": [
       "'3/22/24, 6:03\\u202fPM - Messages and calls are end-to-end encrypted. No one outside of this chat, not even WhatsApp, can read or listen to them. Tap to learn more.\\n1/4/24, 4:10\\u202fPM - Sai Kiran Code Acuity created group \"CodeAcuity\"\\n3/22/24, 6:03\\u202fPM - Sagar Code Acuity added you\\n3/22/24, 6:57\\u202fPM - Sagar Code Acuity: Ssuuupppp People????? I hope you had a good day, let’s make it the best by joining the party at Brad Ford Guest house tonight, and the party starts at 8:30 PM… 🍻🍻🍻🍻🍻🍻🍻🍻🍻 <This message was edited>\\n3/22/24, 7:05\\u202fPM - Tinku Code Acuity: Jojo Bday week crazy undhi kada, 2 confirmations ochinayi\\n3/23/24, 2:42\\u202fPM - Sai Kiran Code Acuity: <Media omitted>\\n3/28/24, 6:22\\u202fPM - Sagar Code Acuity: Hello People, Due to the observance of Good Friday, you guys can work from home tomorrow and there is no need to come to the office, Thank you.\\n3/29/24, 12:13\\u202fAM - Sagar Code Acuity: Please don’t assume or consider it as long weekend holiday, wake up at 6 and start marketing , offshore sales team will be working as usual and even the vendors.\\n4/1/24, 2:43\\u202fPM - Sagar Code Acuity: https://www.linkedin.com/in/amith-vardhan-s-233334300/\\n4/1/24, 2:43\\u202fPM - Sagar Code Acuity: Please do connect\\n4/4/24, 7:16\\u202fPM - Sagar Code Acuity added Abhinav Code Acuity\\n4/8/24, 9:23\\u202fPM - Sagar Code Acuity: Hi all, hope you guys are doing well.   On the occasion of ugadi tomorrow and Ramadan on Thursday we are encouraging everyone to come to the office in Traditional attire if possible. Ugadi pachhadi, Pulihora and semiya will be served, Thank you.\\n4/8/24, 10:51\\u202fPM - Sagar Code Acuity added +1 (513) 879-4572 and +1 (704) 241-2369\\n4/9/24, 1:05\\u202fPM - Sagar Code Acuity: Sagar Singireddy\\n\\nManager | Eval Consulting\\n\\nE: sagar@eval-c.com\\n\\nP: 201-401-8741\\n\\n101 N Tryon St, Ste 112,\\n\\nCharlotte, NC 28246\\n4/9/24, 1:06\\u202fPM - Sagar Code Acuity: Guys please use my details for any rate confirmation’s only for today\\n4/11/24, 10:08\\u202fAM - Sagar Code Acuity: Please use my details even for today\\n4/11/24, 3:34\\u202fPM - Sagar Code Acuity added Nikith Code Acuity\\n4/16/24, 10:27\\u202fAM - Sagar Code Acuity: Hi all, Hope you guys are doing good. Please be informed that from tomorrow if you guys don\\'t show up in between 8:30 AM  to 9:00 AM in the office, we decided not to market their profiles for the whole day if it is repeated will take a severe action accordingly.\\n4/17/24, 5:27\\u202fPM - Sagar Code Acuity added +1 (216) 666-0305\\n4/23/24, 12:08\\u202fPM - Sai Kiran Code Acuity added Chandra Code Acuity\\n4/23/24, 12:09\\u202fPM - Sai Kiran Code Acuity removed +1 (513) 879-4572\\n4/23/24, 12:09\\u202fPM - Sai Kiran Code Acuity added Sai Ram Code Acuity and +1 (216) 804-5326\\n4/23/24, 12:10\\u202fPM - Sai Kiran Code Acuity removed +1 (845) 686-1828\\n4/23/24, 12:10\\u202fPM - Sai Kiran Code Acuity removed +1 (980) 443-8733\\n4/23/24, 12:10\\u202fPM - Sai Kiran Code Acuity removed +1 (660) 528-5101\\n4/23/24, 12:11\\u202fPM - Sai Kiran Code Acuity removed +1 (980) 777-4775\\n4/23/24, 12:13\\u202fPM - Chandra Code Acuity: <Media omitted>\\n4/23/24, 12:15\\u202fPM - Chandra Code Acuity: <Media omitted>\\n4/23/24, 12:17\\u202fPM - Chandra Code Acuity: <Media omitted>\\n4/23/24, 12:23\\u202fPM - Chandra Code Acuity: Hi XYZ, \\nHope you are doing well\\nI\\'m looking for job change as a Big Data Engineer with 8+ YOE. \\nPlease let me know the further requirements.\\nEmail:\\nPhone:\\n4/23/24, 12:24\\u202fPM - Chandra Code Acuity: Please use above format text when your connecting through LinkedIn.\\n4/23/24, 12:26\\u202fPM - Chandra Code Acuity: Hi XYZ,\\n\\nI am reaching out to inquire about any job opportunities that may align with my skill set and experience within your organization.\\n\\nWith around 9+ years of experience as a full stack developer, I have expertise in a variety of technologies including React JS, JavaScript, Node.js, MongoDB, Express.js, GraphQL, and AWS. Attached please find my CV for your ready reference.\\n\\nCurrently I am based in Houston, Texas and open to relocate within the USA for the right opportunity. I hold a valid H1B visa until Sep-2026.\\n\\nIf there are any opportunities available with you or if you know of any suitable openings, I would greatly appreciate it if you could share them with me.\\n\\nThank you for your consideration. I look forward to hearing from you soon.\\n\\nBest Regards,\\n4/24/24, 10:35\\u202fAM - Sai Kiran Code Acuity added +1 (937) 991-7799\\n4/24/24, 4:11\\u202fPM - Sagar Code Acuity: https://www.linkedin.com/in/amith-surasani/\\n4/24/24, 4:11\\u202fPM - Sagar Code Acuity: Please do connect\\n5/2/24, 1:23\\u202fPM - Sagar Code Acuity: Timon Global -https://www.linkedin.com/company/100294210/admin/feed/posts/\\n5/2/24, 1:23\\u202fPM - Sagar Code Acuity: Code Acuity - https://www.linkedin.com/company/98847955/admin/feed/posts/\\n5/2/24, 1:23\\u202fPM - Sagar Code Acuity: Eval Consulting - https://www.linkedin.com/company/100888608/admin/feed/posts/\\n5/2/24, 1:25\\u202fPM - Sagar Code Acuity: Guys please do connect to all three profiles and please share it with your friends and family and ask them connect\\n5/3/24, 5:56\\u202fPM - Sagar Code Acuity: https://youtu.be/DFbFxo32FH8?si=ffboN7rQF94SreMN\\n5/3/24, 6:00\\u202fPM - Sagar Code Acuity: Hi Guys , please do watch the upabove entire video its helpfull and do the reality check when you are done watching.\\n5/7/24, 7:18\\u202fPM - Sagar Code Acuity: A Gentle reminder to everyone again,  you guys are supposed to be in the office at 8:45 AM if you guys don’t show up in time at the office we will stop marketing your profile for the day. Please react with thumbs up to my text as acknowledgment, thank you. <This message was edited>\\n5/7/24, 9:05\\u202fPM - Sagar Code Acuity: mailto:shivak@keypixelusa.com\\n5/7/24, 9:06\\u202fPM - Sagar Code Acuity: Please send .Net profiles to the upabove mail address ASAP.\\n5/14/24, 3:37\\u202fPM - Abhinav Code Acuity: https://www.linkedin.com/in/maunish-r-8b1206309?utm_source=share&utm_campaign=share_via&utm_content=profile&utm_medium=ios_app\\n5/14/24, 3:38\\u202fPM - Abhinav Code Acuity: Everyone, please send connect request to above profile.\\n5/27/24, 9:12\\u202fPM - Sagar Code Acuity: Hi All, I hope everyone had a great weekend let’s get back to work from tomorrow. Start applying for the jobs aggressively try to get the submissions and for the people whose OPT period started in Jan it has been already five months so, try to start marketing parallely on other tech stacks which you are interested in.\\n6/10/24, 12:29\\u202fPM - Abhinav Code Acuity: This is Amith writing here.\\nI think I left my earpods on my table on Friday. Its brand is JLab. Today I don’t find it at all. If anyone has it, please lemme know.\\n6/11/24, 10:30\\u202fAM - Sagar Code Acuity added +1 (314) 583-9866 and +1 (513) 413-0473\\n'"
      ]
     },
     "execution_count": 4,
     "metadata": {},
     "output_type": "execute_result"
    }
   ],
   "source": [
    "text"
   ]
  },
  {
   "cell_type": "code",
   "execution_count": 19,
   "metadata": {},
   "outputs": [
    {
     "data": {
      "text/plain": [
       "'3/22/24 12:08'"
      ]
     },
     "execution_count": 19,
     "metadata": {},
     "output_type": "execute_result"
    }
   ],
   "source": [
    "def retrieve_date_and_time(dat):\n",
    "    p = dat.split(\", \")\n",
    "    p = list(map(lambda x: x.strip(),p))\n",
    "    date = p[0]\n",
    "    time_1 = p[1].split(\" \")\n",
    "    time_part = time_1[0]\n",
    "    meridian = time_1[1]\n",
    "\n",
    "    time_divisions = [int(i) for i in time_part.split(\":\")]\n",
    "\n",
    "    if meridian == \"AM\" and time_divisions[0] == 12:\n",
    "        time_divisions[0] = 0\n",
    "    elif meridian == \"PM\" and time_divisions[0] >= 1 and time_divisions[0] < 12:\n",
    "        time_divisions[0] += 12\n",
    "    \n",
    "    \n",
    "    \n",
    "    hour = str(time_divisions[0])\n",
    "    minute = str(time_divisions[1])\n",
    "\n",
    "    if len(minute) < 2:\n",
    "        minute = (\"0\" + minute)\n",
    "\n",
    "    final_time = date + \" \" + hour + \":\" + minute\n",
    "    \n",
    "    return final_time\n",
    "\n",
    "\n",
    "retrieve_date_and_time(\"3/22/24, 12:08 PM\")"
   ]
  },
  {
   "cell_type": "code",
   "execution_count": 25,
   "metadata": {},
   "outputs": [],
   "source": [
    "pattern = \"\\d{1,2}/\\d{1,2}/\\d{2,4},\\s\\d{1,2}:\\d{2}\\s[A-Z]M\\s-\\s\"\n",
    "\n",
    "dates_1 = re.findall(pattern=pattern,string=text)\n",
    "dates_2 = list(map(lambda x: x.replace(\"\\u202f\", \" \"),dates_1))\n",
    "dates_3 = list(map(lambda x: x.split(\"-\")[0].strip(),dates_2))\n",
    "\n",
    "text_1 = re.split(pattern=pattern,string=text)[1:]"
   ]
  },
  {
   "cell_type": "code",
   "execution_count": 30,
   "metadata": {},
   "outputs": [
    {
     "data": {
      "text/plain": [
       "'Sagar Code Acuity: Ssuuupppp People????? I hope you had a good day, let’s make it the best by joining the party at Brad Ford Guest house tonight, and the party starts at 8:30 PM… 🍻🍻🍻🍻🍻🍻🍻🍻🍻 <This message was edited>\\n'"
      ]
     },
     "execution_count": 30,
     "metadata": {},
     "output_type": "execute_result"
    }
   ],
   "source": [
    "text_1[3]"
   ]
  },
  {
   "cell_type": "code",
   "execution_count": 80,
   "metadata": {},
   "outputs": [
    {
     "data": {
      "text/plain": [
       "0"
      ]
     },
     "execution_count": 80,
     "metadata": {},
     "output_type": "execute_result"
    }
   ],
   "source": [
    "len([])"
   ]
  },
  {
   "cell_type": "code",
   "execution_count": 113,
   "metadata": {},
   "outputs": [],
   "source": [
    "pat = \"\\w: \"\n",
    "ent = list(map(lambda x: re.split(\"([\\w\\W]+?):\\s\",x),text_1))\n",
    "\n",
    "users = []\n",
    "messages = []\n",
    "\n",
    "for i in ent:\n",
    "    ent_1 = i[1:]\n",
    "    if len(ent_1) == 0:\n",
    "        users.append(\"Group Notification\")\n",
    "        messages.append(i[0])\n",
    "        continue\n",
    "    ent_first = ent_1[0]\n",
    "    ent_remaining = ent_1[1:]\n",
    "    fu = \"\"\n",
    "    for j in ent_remaining:\n",
    "        fu += \"\\n\"\n",
    "        if fu[-1] == \"\\n\":\n",
    "            fu = fu[:-1]\n",
    "    users.append(ent_first)\n",
    "    messages.append(fu)\n",
    "\n",
    "messages = list(map(lambda x: x[:-1] if len(x)>0 and x[-1]==\"\\n\" else x,messages))"
   ]
  },
  {
   "cell_type": "code",
   "execution_count": 114,
   "metadata": {},
   "outputs": [
    {
     "data": {
      "text/plain": [
       "['Messages and calls are end-to-end encrypted. No one outside of this chat, not even WhatsApp, can read or listen to them. Tap to learn more.',\n",
       " 'Sai Kiran Code Acuity created group \"CodeAcuity\"',\n",
       " 'Sagar Code Acuity added you',\n",
       " '',\n",
       " '',\n",
       " '',\n",
       " '',\n",
       " '',\n",
       " '',\n",
       " '',\n",
       " 'Sagar Code Acuity added Abhinav Code Acuity',\n",
       " '',\n",
       " 'Sagar Code Acuity added +1 (513) 879-4572 and +1 (704) 241-2369',\n",
       " '',\n",
       " '',\n",
       " '',\n",
       " 'Sagar Code Acuity added Nikith Code Acuity',\n",
       " '',\n",
       " 'Sagar Code Acuity added +1 (216) 666-0305',\n",
       " 'Sai Kiran Code Acuity added Chandra Code Acuity',\n",
       " 'Sai Kiran Code Acuity removed +1 (513) 879-4572',\n",
       " 'Sai Kiran Code Acuity added Sai Ram Code Acuity and +1 (216) 804-5326',\n",
       " 'Sai Kiran Code Acuity removed +1 (845) 686-1828',\n",
       " 'Sai Kiran Code Acuity removed +1 (980) 443-8733',\n",
       " 'Sai Kiran Code Acuity removed +1 (660) 528-5101',\n",
       " 'Sai Kiran Code Acuity removed +1 (980) 777-4775',\n",
       " '',\n",
       " '',\n",
       " '',\n",
       " '',\n",
       " '',\n",
       " '',\n",
       " 'Sai Kiran Code Acuity added +1 (937) 991-7799',\n",
       " '',\n",
       " '',\n",
       " '',\n",
       " '',\n",
       " '',\n",
       " '',\n",
       " '',\n",
       " '',\n",
       " '',\n",
       " '',\n",
       " '',\n",
       " '',\n",
       " '',\n",
       " '',\n",
       " '',\n",
       " 'Sagar Code Acuity added +1 (314) 583-9866 and +1 (513) 413-0473']"
      ]
     },
     "execution_count": 114,
     "metadata": {},
     "output_type": "execute_result"
    }
   ],
   "source": [
    "messages"
   ]
  },
  {
   "cell_type": "code",
   "execution_count": 89,
   "metadata": {},
   "outputs": [
    {
     "data": {
      "text/plain": [
       "['This is Amith writing here.\\nI think I left my earpods on my table on Friday. Its brand is JLab. Today I don’t find it at all. If anyone has it, please lemme know.\\n']"
      ]
     },
     "execution_count": 89,
     "metadata": {},
     "output_type": "execute_result"
    }
   ],
   "source": [
    "ent_remaining"
   ]
  },
  {
   "cell_type": "code",
   "execution_count": 87,
   "metadata": {},
   "outputs": [
    {
     "data": {
      "text/plain": [
       "['Messages and calls are end-to-end encrypted. No one outside of this chat, not even WhatsApp, can read or listen to them. Tap to learn more.\\n',\n",
       " 'Sai Kiran Code Acuity created group \"CodeAcuity\"\\n',\n",
       " 'Sagar Code Acuity added you\\n',\n",
       " 'Sagar Code Acuity added Abhinav Code Acuity\\n',\n",
       " 'Sagar Code Acuity added +1 (513) 879-4572 and +1 (704) 241-2369\\n',\n",
       " 'Sagar Code Acuity added Nikith Code Acuity\\n',\n",
       " 'Sagar Code Acuity added +1 (216) 666-0305\\n',\n",
       " 'Sai Kiran Code Acuity added Chandra Code Acuity\\n',\n",
       " 'Sai Kiran Code Acuity removed +1 (513) 879-4572\\n',\n",
       " 'Sai Kiran Code Acuity added Sai Ram Code Acuity and +1 (216) 804-5326\\n',\n",
       " 'Sai Kiran Code Acuity removed +1 (845) 686-1828\\n',\n",
       " 'Sai Kiran Code Acuity removed +1 (980) 443-8733\\n',\n",
       " 'Sai Kiran Code Acuity removed +1 (660) 528-5101\\n',\n",
       " 'Sai Kiran Code Acuity removed +1 (980) 777-4775\\n',\n",
       " 'Sai Kiran Code Acuity added +1 (937) 991-7799\\n',\n",
       " 'Sagar Code Acuity added +1 (314) 583-9866 and +1 (513) 413-0473\\n']"
      ]
     },
     "execution_count": 87,
     "metadata": {},
     "output_type": "execute_result"
    }
   ],
   "source": [
    "messages"
   ]
  },
  {
   "cell_type": "code",
   "execution_count": null,
   "metadata": {},
   "outputs": [],
   "source": []
  }
 ],
 "metadata": {
  "kernelspec": {
   "display_name": "Python 3",
   "language": "python",
   "name": "python3"
  },
  "language_info": {
   "codemirror_mode": {
    "name": "ipython",
    "version": 3
   },
   "file_extension": ".py",
   "mimetype": "text/x-python",
   "name": "python",
   "nbconvert_exporter": "python",
   "pygments_lexer": "ipython3",
   "version": "3.10.11"
  }
 },
 "nbformat": 4,
 "nbformat_minor": 2
}
