{
 "cells": [
  {
   "cell_type": "code",
   "execution_count": 18,
   "metadata": {},
   "outputs": [],
   "source": [
    "import numpy as np  \n",
    "import pandas as pd  \n",
    "import matplotlib.pyplot as plt    \n",
    "import seaborn as sns    \n",
    "import re   \n",
    "import os   \n",
    "import warnings\n",
    "warnings.filterwarnings(\"ignore\")\n",
    "from preprocess import *\n",
    "import streamlit as st"
   ]
  },
  {
   "cell_type": "code",
   "execution_count": 19,
   "metadata": {},
   "outputs": [],
   "source": [
    "df = preprocess(\"WhatsApp Chat with CodeAcuity.txt\")\n",
    "df_no_groups = df[df[\"User\"]!=\"Group Notification\"]\n",
    "list_of_users = np.sort(df_no_groups[\"User\"].unique())\n",
    "\n",
    "user_messages = {}\n",
    "\n",
    "user_messages[\"Overall\"] = df_no_groups[\"Message\"].values\n",
    "\n",
    "for i in list_of_users:\n",
    "    user_messages[i] = df_no_groups[df_no_groups[\"User\"]==i][\"Message\"].values"
   ]
  },
  {
   "cell_type": "code",
   "execution_count": 20,
   "metadata": {},
   "outputs": [
    {
     "name": "stderr",
     "output_type": "stream",
     "text": [
      "2024-06-13 22:59:46.398 \n",
      "  \u001b[33m\u001b[1mWarning:\u001b[0m to view this Streamlit app on a browser, run it with the following\n",
      "  command:\n",
      "\n",
      "    streamlit run c:\\Users\\amith\\AppData\\Local\\Programs\\Python\\Python310\\lib\\site-packages\\ipykernel_launcher.py [ARGUMENTS]\n"
     ]
    },
    {
     "name": "stdout",
     "output_type": "stream",
     "text": [
      "None\n"
     ]
    }
   ],
   "source": [
    "side_title = st.sidebar.title(\"WhatsApp Chat Analyser\")\n",
    "file_name = st.sidebar.file_uploader(label=\"Choose a file from the computer\")\n",
    "print(file_name)"
   ]
  },
  {
   "cell_type": "code",
   "execution_count": null,
   "metadata": {},
   "outputs": [],
   "source": []
  }
 ],
 "metadata": {
  "kernelspec": {
   "display_name": "Python 3",
   "language": "python",
   "name": "python3"
  },
  "language_info": {
   "codemirror_mode": {
    "name": "ipython",
    "version": 3
   },
   "file_extension": ".py",
   "mimetype": "text/x-python",
   "name": "python",
   "nbconvert_exporter": "python",
   "pygments_lexer": "ipython3",
   "version": "3.10.11"
  }
 },
 "nbformat": 4,
 "nbformat_minor": 2
}
