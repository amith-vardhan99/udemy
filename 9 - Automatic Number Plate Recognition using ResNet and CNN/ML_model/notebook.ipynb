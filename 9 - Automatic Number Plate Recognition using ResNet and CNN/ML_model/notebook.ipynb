{
 "cells": [
  {
   "cell_type": "code",
   "execution_count": null,
   "metadata": {},
   "outputs": [],
   "source": [
    "import opendatasets as od\n",
    "od.download(dataset_id_or_url=\"https://www.kaggle.com/datasets/aslanahmedov/number-plate-detection\",data_dir=\"C:\\\\Users\\\\amith\\\\Documents\\\\Datasets\\\\9 - Automatic Number Plate Recognition using ResNet and CNN\")\n"
   ]
  },
  {
   "cell_type": "code",
   "execution_count": 121,
   "metadata": {},
   "outputs": [],
   "source": [
    "import numpy as np\n",
    "import pandas as pd\n",
    "import matplotlib.pyplot as plt\n",
    "import seaborn as sns\n",
    "import warnings\n",
    "warnings.filterwarnings(\"ignore\")\n",
    "import xml.etree.ElementTree as et\n",
    "import os\n",
    "import cv2\n",
    "import tensorflow as tf\n"
   ]
  },
  {
   "cell_type": "code",
   "execution_count": 122,
   "metadata": {},
   "outputs": [],
   "source": [
    "img_list_path = \"C:\\\\Users\\\\amith\\\\Documents\\\\Datasets\\\\9 - Automatic Number Plate Recognition using ResNet and CNN\\\\number-plate-detection\\\\images\"\n",
    "\n",
    "\n",
    "xml_list = list(map(lambda x: x if \".xml\" in x else None, os.listdir(img_list_path)))\n",
    "\n",
    "while None in xml_list:\n",
    "    xml_list.remove(None)\n",
    "\n",
    "\n",
    "img_list = list(map(lambda x: x[:x.index(\".\")] + \".jpeg\",xml_list))\n",
    "img_num = list(map(lambda x: int(x[x.index(\"N\")+1:x.index(\".\")]),xml_list))\n",
    "\n",
    "df = pd.DataFrame(columns=[\"Image List\",\"XML List\",\"Image Number\"])\n",
    "df[\"Image List\"] = img_list\n",
    "df[\"XML List\"] = xml_list\n",
    "df[\"Image Number\"] = img_num\n",
    "\n",
    "df = df.sort_values(by=\"Image Number\").reset_index(drop=True)\n"
   ]
  },
  {
   "cell_type": "code",
   "execution_count": 123,
   "metadata": {},
   "outputs": [
    {
     "data": {
      "text/html": [
       "<div>\n",
       "<style scoped>\n",
       "    .dataframe tbody tr th:only-of-type {\n",
       "        vertical-align: middle;\n",
       "    }\n",
       "\n",
       "    .dataframe tbody tr th {\n",
       "        vertical-align: top;\n",
       "    }\n",
       "\n",
       "    .dataframe thead th {\n",
       "        text-align: right;\n",
       "    }\n",
       "</style>\n",
       "<table border=\"1\" class=\"dataframe\">\n",
       "  <thead>\n",
       "    <tr style=\"text-align: right;\">\n",
       "      <th></th>\n",
       "      <th>Image List</th>\n",
       "      <th>XML List</th>\n",
       "      <th>Image Number</th>\n",
       "    </tr>\n",
       "  </thead>\n",
       "  <tbody>\n",
       "    <tr>\n",
       "      <th>0</th>\n",
       "      <td>N1.jpeg</td>\n",
       "      <td>N1.xml</td>\n",
       "      <td>1</td>\n",
       "    </tr>\n",
       "    <tr>\n",
       "      <th>1</th>\n",
       "      <td>N2.jpeg</td>\n",
       "      <td>N2.xml</td>\n",
       "      <td>2</td>\n",
       "    </tr>\n",
       "    <tr>\n",
       "      <th>2</th>\n",
       "      <td>N3.jpeg</td>\n",
       "      <td>N3.xml</td>\n",
       "      <td>3</td>\n",
       "    </tr>\n",
       "    <tr>\n",
       "      <th>3</th>\n",
       "      <td>N4.jpeg</td>\n",
       "      <td>N4.xml</td>\n",
       "      <td>4</td>\n",
       "    </tr>\n",
       "    <tr>\n",
       "      <th>4</th>\n",
       "      <td>N5.jpeg</td>\n",
       "      <td>N5.xml</td>\n",
       "      <td>5</td>\n",
       "    </tr>\n",
       "  </tbody>\n",
       "</table>\n",
       "</div>"
      ],
      "text/plain": [
       "  Image List XML List  Image Number\n",
       "0    N1.jpeg   N1.xml             1\n",
       "1    N2.jpeg   N2.xml             2\n",
       "2    N3.jpeg   N3.xml             3\n",
       "3    N4.jpeg   N4.xml             4\n",
       "4    N5.jpeg   N5.xml             5"
      ]
     },
     "execution_count": 123,
     "metadata": {},
     "output_type": "execute_result"
    }
   ],
   "source": [
    "df.head()\n"
   ]
  },
  {
   "cell_type": "code",
   "execution_count": 124,
   "metadata": {},
   "outputs": [],
   "source": [
    "df_1 = pd.DataFrame(columns=[\"x_min\",\"y_min\",\"x_max\",\"y_max\"])\n",
    "\n",
    "img = []\n",
    "img_resized = []\n",
    "\n",
    "for i in range(df.shape[0]):   \n",
    "    img_full_path = img_list_path + \"\\\\\" + df.loc[i,\"Image List\"]\n",
    "    xml_full_path = img_list_path + \"\\\\\" + df.loc[i,\"XML List\"]\n",
    "\n",
    "    img_full = cv2.imread(img_full_path)\n",
    "    img_resized_1 = cv2.resize(src=img_full,dsize=(128,128)) / 255.0\n",
    "    img_rescaled = img_full / 255.0\n",
    "    img_resized.append(img_resized_1)\n",
    "\n",
    "    img.append(img_rescaled)\n",
    "\n",
    "    xml_tree = et.parse(xml_full_path)\n",
    "    xml_root = xml_tree.getroot()\n",
    "\n",
    "    size = xml_root.find(\"size\")\n",
    "\n",
    "    height = int(size.find(\"height\").text)\n",
    "    width = int(size.find(\"width\").text)\n",
    "\n",
    "    object = xml_root.find(\"object\")\n",
    "    bndbox = object.find(\"bndbox\")\n",
    "\n",
    "    x_min = int(bndbox.find(\"xmin\").text)\n",
    "    y_min = int(bndbox.find(\"ymin\").text)\n",
    "    x_max = int(bndbox.find(\"xmax\").text)\n",
    "    y_max = int(bndbox.find(\"ymax\").text)\n",
    "\n",
    "    df_1.loc[i,\"x_min\"] = x_min / width\n",
    "    df_1.loc[i,\"y_min\"] = y_min / height\n",
    "    df_1.loc[i,\"x_max\"] = x_max / width\n",
    "    df_1.loc[i,\"y_max\"] = y_max / height\n",
    "\n",
    "img_resized = np.array(img_resized)\n"
   ]
  },
  {
   "cell_type": "code",
   "execution_count": 125,
   "metadata": {},
   "outputs": [
    {
     "data": {
      "text/plain": [
       "(225, 128, 128, 3)"
      ]
     },
     "execution_count": 125,
     "metadata": {},
     "output_type": "execute_result"
    }
   ],
   "source": [
    "img_resized.shape\n"
   ]
  },
  {
   "cell_type": "code",
   "execution_count": 126,
   "metadata": {},
   "outputs": [
    {
     "data": {
      "text/html": [
       "<div>\n",
       "<style scoped>\n",
       "    .dataframe tbody tr th:only-of-type {\n",
       "        vertical-align: middle;\n",
       "    }\n",
       "\n",
       "    .dataframe tbody tr th {\n",
       "        vertical-align: top;\n",
       "    }\n",
       "\n",
       "    .dataframe thead th {\n",
       "        text-align: right;\n",
       "    }\n",
       "</style>\n",
       "<table border=\"1\" class=\"dataframe\">\n",
       "  <thead>\n",
       "    <tr style=\"text-align: right;\">\n",
       "      <th></th>\n",
       "      <th>x_min</th>\n",
       "      <th>y_min</th>\n",
       "      <th>x_max</th>\n",
       "      <th>y_max</th>\n",
       "    </tr>\n",
       "  </thead>\n",
       "  <tbody>\n",
       "    <tr>\n",
       "      <th>0</th>\n",
       "      <td>0.569271</td>\n",
       "      <td>0.597222</td>\n",
       "      <td>0.727083</td>\n",
       "      <td>0.673148</td>\n",
       "    </tr>\n",
       "    <tr>\n",
       "      <th>1</th>\n",
       "      <td>0.579692</td>\n",
       "      <td>0.741026</td>\n",
       "      <td>0.801093</td>\n",
       "      <td>0.804274</td>\n",
       "    </tr>\n",
       "    <tr>\n",
       "      <th>2</th>\n",
       "      <td>0.078326</td>\n",
       "      <td>0.545064</td>\n",
       "      <td>0.27897</td>\n",
       "      <td>0.660944</td>\n",
       "    </tr>\n",
       "    <tr>\n",
       "      <th>3</th>\n",
       "      <td>0.363886</td>\n",
       "      <td>0.602717</td>\n",
       "      <td>0.502195</td>\n",
       "      <td>0.661589</td>\n",
       "    </tr>\n",
       "    <tr>\n",
       "      <th>4</th>\n",
       "      <td>0.488542</td>\n",
       "      <td>0.656481</td>\n",
       "      <td>0.610938</td>\n",
       "      <td>0.705556</td>\n",
       "    </tr>\n",
       "  </tbody>\n",
       "</table>\n",
       "</div>"
      ],
      "text/plain": [
       "      x_min     y_min     x_max     y_max\n",
       "0  0.569271  0.597222  0.727083  0.673148\n",
       "1  0.579692  0.741026  0.801093  0.804274\n",
       "2  0.078326  0.545064   0.27897  0.660944\n",
       "3  0.363886  0.602717  0.502195  0.661589\n",
       "4  0.488542  0.656481  0.610938  0.705556"
      ]
     },
     "execution_count": 126,
     "metadata": {},
     "output_type": "execute_result"
    }
   ],
   "source": [
    "df_1.head()\n"
   ]
  },
  {
   "cell_type": "code",
   "execution_count": 129,
   "metadata": {},
   "outputs": [],
   "source": [
    "model = tf.keras.models.Sequential(layers=[\n",
    "\n",
    "    tf.keras.layers.Conv2D(filters=8,kernel_size=(3,3),activation=\"relu\",input_shape=(128,128,1)),\n",
    "    tf.keras.layers.Conv2D(filters=16,kernel_size=(3,3),activation=\"relu\"),\n",
    "    tf.keras.layers.Conv2D(filters=32,kernel_size=(3,3),activation=\"relu\"),\n",
    "    tf.keras.layers.Conv2D(filters=64,kernel_size=(3,3),activation=\"relu\"),\n",
    "    tf.keras.layers.Conv2D(filters=64,kernel_size=(3,3),activation=\"relu\"),\n",
    "\n",
    "    tf.keras.layers.Flatten(),\n",
    "\n",
    "    tf.keras.layers.Dense(units=64,activation=\"relu\"),\n",
    "    tf.keras.layers.Dense(units=4,activation=\"softmax\")\n",
    "])\n"
   ]
  },
  {
   "cell_type": "code",
   "execution_count": null,
   "metadata": {},
   "outputs": [],
   "source": [
    "model.compile()\n"
   ]
  }
 ],
 "metadata": {
  "kernelspec": {
   "display_name": "Python 3",
   "language": "python",
   "name": "python3"
  },
  "language_info": {
   "codemirror_mode": {
    "name": "ipython",
    "version": 3
   },
   "file_extension": ".py",
   "mimetype": "text/x-python",
   "name": "python",
   "nbconvert_exporter": "python",
   "pygments_lexer": "ipython3",
   "version": "3.11.8"
  }
 },
 "nbformat": 4,
 "nbformat_minor": 2
}
