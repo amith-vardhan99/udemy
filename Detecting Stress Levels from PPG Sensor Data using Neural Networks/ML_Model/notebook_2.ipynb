{
 "cells": [
  {
   "cell_type": "code",
   "execution_count": 3,
   "id": "initial_id",
   "metadata": {
    "collapsed": true,
    "ExecuteTime": {
     "end_time": "2024-02-27T21:36:13.662315Z",
     "start_time": "2024-02-27T21:36:13.657889Z"
    }
   },
   "outputs": [],
   "source": [
    "import numpy as np\n",
    "import pandas as pd\n",
    "import matplotlib.pyplot as plt\n",
    "import seaborn as sns\n",
    "from sklearn.preprocessing import *\n",
    "from sklearn.model_selection import *\n",
    "import tensorflow as tf"
   ]
  },
  {
   "cell_type": "markdown",
   "source": [
    "### Reading the dataset"
   ],
   "metadata": {
    "collapsed": false
   },
   "id": "b3e126584b2c42b4"
  },
  {
   "cell_type": "code",
   "outputs": [
    {
     "data": {
      "text/plain": "      MEAN_RR   MEDIAN_RR        SDRR      RMSSD       SDSD  SDRR_RMSSD  \\\n0  885.157845  853.763730  140.972741  15.554505  15.553371    9.063146   \n1  939.425371  948.357865   81.317742  12.964439  12.964195    6.272369   \n2  898.186047  907.006860   84.497236  16.305279  16.305274    5.182201   \n3  881.757864  893.460030   90.370537  15.720468  15.720068    5.748591   \n4  809.625331  811.184865   62.766242  19.213819  19.213657    3.266724   \n\n          HR      pNN25     pNN50        SD1  ...         HF    HF_PCT  \\\n0  69.499952  11.133333  0.533333  11.001565  ...  15.522602  0.421047   \n1  64.363150   5.600000  0.000000   9.170129  ...   2.108525  0.070133   \n2  67.450066  13.066667  0.200000  11.533417  ...  13.769729  0.512671   \n3  68.809562  11.800000  0.133333  11.119476  ...  18.181913  0.529387   \n4  74.565728  20.200000  0.200000  13.590641  ...  48.215822  1.839473   \n\n      HF_NU           TP       LF_HF     HF_LF    sampen    higuci  datasetId  \\\n0  1.514737  3686.666157   65.018055  0.015380  2.139754  1.163485          2   \n1  0.304603  3006.487251  327.296635  0.003055  2.174499  1.084711          2   \n2  1.049528  2685.879461   94.280910  0.010607  2.135350  1.176315          2   \n3  1.775294  3434.520980   55.328701  0.018074  2.178341  1.179688          2   \n4  3.279993  2621.175204   29.487873  0.033912  2.221121  1.249612          2   \n\n   condition  \n0          0  \n1          1  \n2          1  \n3          0  \n4          0  \n\n[5 rows x 36 columns]",
      "text/html": "<div>\n<style scoped>\n    .dataframe tbody tr th:only-of-type {\n        vertical-align: middle;\n    }\n\n    .dataframe tbody tr th {\n        vertical-align: top;\n    }\n\n    .dataframe thead th {\n        text-align: right;\n    }\n</style>\n<table border=\"1\" class=\"dataframe\">\n  <thead>\n    <tr style=\"text-align: right;\">\n      <th></th>\n      <th>MEAN_RR</th>\n      <th>MEDIAN_RR</th>\n      <th>SDRR</th>\n      <th>RMSSD</th>\n      <th>SDSD</th>\n      <th>SDRR_RMSSD</th>\n      <th>HR</th>\n      <th>pNN25</th>\n      <th>pNN50</th>\n      <th>SD1</th>\n      <th>...</th>\n      <th>HF</th>\n      <th>HF_PCT</th>\n      <th>HF_NU</th>\n      <th>TP</th>\n      <th>LF_HF</th>\n      <th>HF_LF</th>\n      <th>sampen</th>\n      <th>higuci</th>\n      <th>datasetId</th>\n      <th>condition</th>\n    </tr>\n  </thead>\n  <tbody>\n    <tr>\n      <th>0</th>\n      <td>885.157845</td>\n      <td>853.763730</td>\n      <td>140.972741</td>\n      <td>15.554505</td>\n      <td>15.553371</td>\n      <td>9.063146</td>\n      <td>69.499952</td>\n      <td>11.133333</td>\n      <td>0.533333</td>\n      <td>11.001565</td>\n      <td>...</td>\n      <td>15.522602</td>\n      <td>0.421047</td>\n      <td>1.514737</td>\n      <td>3686.666157</td>\n      <td>65.018055</td>\n      <td>0.015380</td>\n      <td>2.139754</td>\n      <td>1.163485</td>\n      <td>2</td>\n      <td>0</td>\n    </tr>\n    <tr>\n      <th>1</th>\n      <td>939.425371</td>\n      <td>948.357865</td>\n      <td>81.317742</td>\n      <td>12.964439</td>\n      <td>12.964195</td>\n      <td>6.272369</td>\n      <td>64.363150</td>\n      <td>5.600000</td>\n      <td>0.000000</td>\n      <td>9.170129</td>\n      <td>...</td>\n      <td>2.108525</td>\n      <td>0.070133</td>\n      <td>0.304603</td>\n      <td>3006.487251</td>\n      <td>327.296635</td>\n      <td>0.003055</td>\n      <td>2.174499</td>\n      <td>1.084711</td>\n      <td>2</td>\n      <td>1</td>\n    </tr>\n    <tr>\n      <th>2</th>\n      <td>898.186047</td>\n      <td>907.006860</td>\n      <td>84.497236</td>\n      <td>16.305279</td>\n      <td>16.305274</td>\n      <td>5.182201</td>\n      <td>67.450066</td>\n      <td>13.066667</td>\n      <td>0.200000</td>\n      <td>11.533417</td>\n      <td>...</td>\n      <td>13.769729</td>\n      <td>0.512671</td>\n      <td>1.049528</td>\n      <td>2685.879461</td>\n      <td>94.280910</td>\n      <td>0.010607</td>\n      <td>2.135350</td>\n      <td>1.176315</td>\n      <td>2</td>\n      <td>1</td>\n    </tr>\n    <tr>\n      <th>3</th>\n      <td>881.757864</td>\n      <td>893.460030</td>\n      <td>90.370537</td>\n      <td>15.720468</td>\n      <td>15.720068</td>\n      <td>5.748591</td>\n      <td>68.809562</td>\n      <td>11.800000</td>\n      <td>0.133333</td>\n      <td>11.119476</td>\n      <td>...</td>\n      <td>18.181913</td>\n      <td>0.529387</td>\n      <td>1.775294</td>\n      <td>3434.520980</td>\n      <td>55.328701</td>\n      <td>0.018074</td>\n      <td>2.178341</td>\n      <td>1.179688</td>\n      <td>2</td>\n      <td>0</td>\n    </tr>\n    <tr>\n      <th>4</th>\n      <td>809.625331</td>\n      <td>811.184865</td>\n      <td>62.766242</td>\n      <td>19.213819</td>\n      <td>19.213657</td>\n      <td>3.266724</td>\n      <td>74.565728</td>\n      <td>20.200000</td>\n      <td>0.200000</td>\n      <td>13.590641</td>\n      <td>...</td>\n      <td>48.215822</td>\n      <td>1.839473</td>\n      <td>3.279993</td>\n      <td>2621.175204</td>\n      <td>29.487873</td>\n      <td>0.033912</td>\n      <td>2.221121</td>\n      <td>1.249612</td>\n      <td>2</td>\n      <td>0</td>\n    </tr>\n  </tbody>\n</table>\n<p>5 rows × 36 columns</p>\n</div>"
     },
     "execution_count": 4,
     "metadata": {},
     "output_type": "execute_result"
    }
   ],
   "source": [
    "df_1 = pd.read_csv(\"train1.csv\")\n",
    "df_2 = pd.read_csv(\"train2.csv\")\n",
    "df_3 = pd.read_csv(\"train3.csv\")\n",
    "df = pd.concat([df_1,df_2,df_3],axis=1)\n",
    "df.head()"
   ],
   "metadata": {
    "collapsed": false,
    "ExecuteTime": {
     "end_time": "2024-02-27T21:36:16.503884Z",
     "start_time": "2024-02-27T21:36:14.832952Z"
    }
   },
   "id": "20afe5a2a66908ae",
   "execution_count": 4
  },
  {
   "cell_type": "code",
   "outputs": [],
   "source": [
    "df_X = df.drop(columns=[\"condition\"])\n",
    "df_y = df[\"condition\"]"
   ],
   "metadata": {
    "collapsed": false,
    "ExecuteTime": {
     "end_time": "2024-02-27T21:36:17.664070Z",
     "start_time": "2024-02-27T21:36:17.630427Z"
    }
   },
   "id": "e1e7688cd4c40d23",
   "execution_count": 5
  },
  {
   "cell_type": "code",
   "outputs": [],
   "source": [
    "important_features = [\"MEAN_RR\",\"RMSSD\",\"pNN25\", \"pNN50\", \"LF\", \"HF\", \"LF_HF\"]\n",
    "df_X_1 = df_X[important_features]\n",
    "df_y_1 = df_y.copy()"
   ],
   "metadata": {
    "collapsed": false,
    "ExecuteTime": {
     "end_time": "2024-02-27T21:36:18.227754Z",
     "start_time": "2024-02-27T21:36:18.213221Z"
    }
   },
   "id": "ce883e04ef03fdae",
   "execution_count": 6
  },
  {
   "cell_type": "code",
   "outputs": [
    {
     "data": {
      "text/plain": "      MEAN_RR      RMSSD      pNN25     pNN50           LF         HF  \\\n0  885.157845  15.554505  11.133333  0.533333  1009.249419  15.522602   \n1  939.425371  12.964439   5.600000  0.000000   690.113275   2.108525   \n2  898.186047  16.305279  13.066667  0.200000  1298.222619  13.769729   \n3  881.757864  15.720468  11.800000  0.133333  1005.981659  18.181913   \n4  809.625331  19.213819  20.200000  0.200000  1421.782051  48.215822   \n\n        LF_HF  \n0   65.018055  \n1  327.296635  \n2   94.280910  \n3   55.328701  \n4   29.487873  ",
      "text/html": "<div>\n<style scoped>\n    .dataframe tbody tr th:only-of-type {\n        vertical-align: middle;\n    }\n\n    .dataframe tbody tr th {\n        vertical-align: top;\n    }\n\n    .dataframe thead th {\n        text-align: right;\n    }\n</style>\n<table border=\"1\" class=\"dataframe\">\n  <thead>\n    <tr style=\"text-align: right;\">\n      <th></th>\n      <th>MEAN_RR</th>\n      <th>RMSSD</th>\n      <th>pNN25</th>\n      <th>pNN50</th>\n      <th>LF</th>\n      <th>HF</th>\n      <th>LF_HF</th>\n    </tr>\n  </thead>\n  <tbody>\n    <tr>\n      <th>0</th>\n      <td>885.157845</td>\n      <td>15.554505</td>\n      <td>11.133333</td>\n      <td>0.533333</td>\n      <td>1009.249419</td>\n      <td>15.522602</td>\n      <td>65.018055</td>\n    </tr>\n    <tr>\n      <th>1</th>\n      <td>939.425371</td>\n      <td>12.964439</td>\n      <td>5.600000</td>\n      <td>0.000000</td>\n      <td>690.113275</td>\n      <td>2.108525</td>\n      <td>327.296635</td>\n    </tr>\n    <tr>\n      <th>2</th>\n      <td>898.186047</td>\n      <td>16.305279</td>\n      <td>13.066667</td>\n      <td>0.200000</td>\n      <td>1298.222619</td>\n      <td>13.769729</td>\n      <td>94.280910</td>\n    </tr>\n    <tr>\n      <th>3</th>\n      <td>881.757864</td>\n      <td>15.720468</td>\n      <td>11.800000</td>\n      <td>0.133333</td>\n      <td>1005.981659</td>\n      <td>18.181913</td>\n      <td>55.328701</td>\n    </tr>\n    <tr>\n      <th>4</th>\n      <td>809.625331</td>\n      <td>19.213819</td>\n      <td>20.200000</td>\n      <td>0.200000</td>\n      <td>1421.782051</td>\n      <td>48.215822</td>\n      <td>29.487873</td>\n    </tr>\n  </tbody>\n</table>\n</div>"
     },
     "execution_count": 7,
     "metadata": {},
     "output_type": "execute_result"
    }
   ],
   "source": [
    "df_X_1.head()"
   ],
   "metadata": {
    "collapsed": false,
    "ExecuteTime": {
     "end_time": "2024-02-27T21:36:18.603118Z",
     "start_time": "2024-02-27T21:36:18.591136Z"
    }
   },
   "id": "974b24bbf6ed8040",
   "execution_count": 7
  },
  {
   "cell_type": "code",
   "outputs": [
    {
     "data": {
      "text/plain": "(1322.016957, 547.4922213)"
     },
     "execution_count": 8,
     "metadata": {},
     "output_type": "execute_result"
    }
   ],
   "source": [
    "df_X_1[\"MEAN_RR\"].max(), df_X_1[\"MEAN_RR\"].min()"
   ],
   "metadata": {
    "collapsed": false,
    "ExecuteTime": {
     "end_time": "2024-02-27T21:36:18.935811Z",
     "start_time": "2024-02-27T21:36:18.928245Z"
    }
   },
   "id": "b094bf0b9009be03",
   "execution_count": 8
  },
  {
   "cell_type": "code",
   "outputs": [
    {
     "data": {
      "text/plain": "(26.62947663, 5.529742166)"
     },
     "execution_count": 9,
     "metadata": {},
     "output_type": "execute_result"
    }
   ],
   "source": [
    "df_X_1[\"RMSSD\"].max(), df_X_1[\"RMSSD\"].min()"
   ],
   "metadata": {
    "collapsed": false,
    "ExecuteTime": {
     "end_time": "2024-02-27T21:36:19.610070Z",
     "start_time": "2024-02-27T21:36:19.602585Z"
    }
   },
   "id": "bb1903116ede379",
   "execution_count": 9
  },
  {
   "cell_type": "code",
   "outputs": [],
   "source": [
    "sc = StandardScaler()\n",
    "X = pd.DataFrame(sc.fit_transform(df_X_1),columns=df_X_1.columns)\n",
    "y = df_y_1.copy()"
   ],
   "metadata": {
    "collapsed": false,
    "ExecuteTime": {
     "end_time": "2024-02-27T21:36:21.304726Z",
     "start_time": "2024-02-27T21:36:21.245993Z"
    }
   },
   "id": "9ce5da599c40baec",
   "execution_count": 10
  },
  {
   "cell_type": "code",
   "outputs": [
    {
     "data": {
      "text/plain": "array([0, 1, 2], dtype=int64)"
     },
     "execution_count": 11,
     "metadata": {},
     "output_type": "execute_result"
    }
   ],
   "source": [
    "y.unique()"
   ],
   "metadata": {
    "collapsed": false,
    "ExecuteTime": {
     "end_time": "2024-02-27T21:36:23.491281Z",
     "start_time": "2024-02-27T21:36:23.483330Z"
    }
   },
   "id": "ab135c28ce8eda35",
   "execution_count": 11
  },
  {
   "cell_type": "markdown",
   "source": [
    "### Testing the model"
   ],
   "metadata": {
    "collapsed": false
   },
   "id": "96cfc8acd0d6268a"
  },
  {
   "cell_type": "code",
   "outputs": [
    {
     "data": {
      "text/plain": "(295431, 7)"
     },
     "execution_count": 12,
     "metadata": {},
     "output_type": "execute_result"
    }
   ],
   "source": [
    "X_train, X_val, y_train, y_val = train_test_split(X,y,test_size=0.2,random_state=np.random.randint(0,1000))\n",
    "X_train.shape"
   ],
   "metadata": {
    "collapsed": false,
    "ExecuteTime": {
     "end_time": "2024-02-27T21:36:31.411274Z",
     "start_time": "2024-02-27T21:36:31.351910Z"
    }
   },
   "id": "3481f3d15bea7721",
   "execution_count": 12
  },
  {
   "cell_type": "code",
   "outputs": [
    {
     "name": "stdout",
     "output_type": "stream",
     "text": [
      "WARNING:tensorflow:From C:\\Users\\amith\\AppData\\Local\\Programs\\Python\\Python311\\Lib\\site-packages\\keras\\src\\backend.py:873: The name tf.get_default_graph is deprecated. Please use tf.compat.v1.get_default_graph instead.\n"
     ]
    }
   ],
   "source": [
    "model = tf.keras.models.Sequential(layers=[\n",
    "    tf.keras.layers.Dense(units=64, activation=\"relu\", input_shape=(X_train.shape[1],)),\n",
    "    tf.keras.layers.Dense(units=32, activation=\"relu\"),\n",
    "    tf.keras.layers.Dense(units=16, activation=\"relu\"),\n",
    "    tf.keras.layers.Dense(units=8, activation=\"relu\"),\n",
    "    tf.keras.layers.Dense(units=1, activation=\"\"),\n",
    "])"
   ],
   "metadata": {
    "collapsed": false,
    "ExecuteTime": {
     "end_time": "2024-02-27T21:36:40.779720Z",
     "start_time": "2024-02-27T21:36:40.373165Z"
    }
   },
   "id": "5992cf710c653802",
   "execution_count": 14
  },
  {
   "cell_type": "code",
   "outputs": [
    {
     "name": "stdout",
     "output_type": "stream",
     "text": [
      "WARNING:tensorflow:From C:\\Users\\amith\\AppData\\Local\\Programs\\Python\\Python311\\Lib\\site-packages\\keras\\src\\optimizers\\__init__.py:309: The name tf.train.Optimizer is deprecated. Please use tf.compat.v1.train.Optimizer instead.\n"
     ]
    }
   ],
   "source": [
    "model.compile(optimizer=\"adam\",loss=\"categorical_crossentropy\",metrics=[\"accuracy\"])"
   ],
   "metadata": {
    "collapsed": false,
    "ExecuteTime": {
     "end_time": "2024-02-27T21:33:33.408144Z",
     "start_time": "2024-02-27T21:33:33.265425Z"
    }
   },
   "id": "e194000c327b6956",
   "execution_count": 23
  },
  {
   "cell_type": "code",
   "outputs": [
    {
     "name": "stdout",
     "output_type": "stream",
     "text": [
      "Epoch 1/100\n",
      "4061/9233 [============>.................] - ETA: 8s - loss: nan - accuracy: 0.5428"
     ]
    }
   ],
   "source": [
    "model_history = model.fit(x=X_train,y=y_train,epochs=100,batch_size=32,verbose=1,validation_data=(X_val,y_val),shuffle=True,callbacks=tf.keras.callbacks.EarlyStopping(patience=2))"
   ],
   "metadata": {
    "collapsed": false,
    "ExecuteTime": {
     "start_time": "2024-02-27T21:35:46.117648Z"
    }
   },
   "id": "fa39e5de1a91eb0c",
   "execution_count": null
  },
  {
   "cell_type": "code",
   "outputs": [],
   "source": [],
   "metadata": {
    "collapsed": false
   },
   "id": "a1356b2ba8c9ffa"
  }
 ],
 "metadata": {
  "kernelspec": {
   "display_name": "Python 3",
   "language": "python",
   "name": "python3"
  },
  "language_info": {
   "codemirror_mode": {
    "name": "ipython",
    "version": 2
   },
   "file_extension": ".py",
   "mimetype": "text/x-python",
   "name": "python",
   "nbconvert_exporter": "python",
   "pygments_lexer": "ipython2",
   "version": "2.7.6"
  }
 },
 "nbformat": 4,
 "nbformat_minor": 5
}
