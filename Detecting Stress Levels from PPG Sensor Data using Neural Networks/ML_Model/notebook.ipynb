{
 "cells": [
  {
   "cell_type": "code",
   "execution_count": 4,
   "id": "initial_id",
   "metadata": {
    "collapsed": true,
    "ExecuteTime": {
     "end_time": "2024-02-18T19:42:27.998882Z",
     "start_time": "2024-02-18T19:42:27.993703Z"
    }
   },
   "outputs": [],
   "source": [
    "import numpy as np\n",
    "import pandas as pd\n",
    "import matplotlib.pyplot as plt\n",
    "import pandas as pd\n",
    "import warnings\n",
    "warnings.filterwarnings(\"ignore\")"
   ]
  },
  {
   "cell_type": "code",
   "outputs": [
    {
     "data": {
      "text/plain": "            MEAN_RR    MEDIAN_RR        SDRR      RMSSD       SDSD  \\\n0        885.157845   853.763730  140.972741  15.554505  15.553371   \n1        939.425371   948.357865   81.317742  12.964439  12.964195   \n2        898.186047   907.006860   84.497236  16.305279  16.305274   \n3        881.757864   893.460030   90.370537  15.720468  15.720068   \n4        809.625331   811.184865   62.766242  19.213819  19.213657   \n...             ...          ...         ...        ...        ...   \n369284   721.396910   721.533965   36.377559   9.609941   9.609936   \n369285   984.266492   978.622945   74.918433  13.762274  13.761705   \n369286  1025.499743  1024.968400   95.309200  23.051254  23.050395   \n369287   798.123167   803.559610   78.449897  16.736686  16.736657   \n369288   814.428911   815.178790   67.697387  20.649551  20.649546   \n\n        SDRR_RMSSD         HR      pNN25     pNN50        SD1  ...  condition  \\\n0         9.063146  69.499952  11.133333  0.533333  11.001565  ...          0   \n1         6.272369  64.363150   5.600000  0.000000   9.170129  ...          1   \n2         5.182201  67.450066  13.066667  0.200000  11.533417  ...          1   \n3         5.748591  68.809562  11.800000  0.133333  11.119476  ...          0   \n4         3.266724  74.565728  20.200000  0.200000  13.590641  ...          0   \n...            ...        ...        ...       ...        ...  ...        ...   \n369284    3.785409  83.384647   0.933333  0.000000   6.797519  ...          0   \n369285    5.443754  61.314243   6.333333  0.200000   9.734243  ...          0   \n369286    4.134664  59.028594  30.400000  2.066667  16.304530  ...          0   \n369287    4.687302  75.978628  10.000000  1.466667  11.838553  ...          0   \n369288    3.278395  74.197905  23.400000  0.533333  14.606307  ...          0   \n\n        Unnamed: 12  Unnamed: 13  Unnamed: 14  Unnamed: 15  Unnamed: 16  \\\n0               NaN          NaN          NaN          NaN          NaN   \n1               NaN          NaN          NaN          NaN          NaN   \n2               NaN          NaN          NaN          NaN          NaN   \n3               NaN          NaN          NaN          NaN          NaN   \n4               NaN          NaN          NaN          NaN          NaN   \n...             ...          ...          ...          ...          ...   \n369284          NaN          NaN          NaN          NaN          NaN   \n369285          NaN          NaN          NaN          NaN          NaN   \n369286          NaN          NaN          NaN          NaN          NaN   \n369287          NaN          NaN          NaN          NaN          NaN   \n369288          NaN          NaN          NaN          NaN          NaN   \n\n        Unnamed: 17  Unnamed: 18  Unnamed: 19  Unnamed: 20  \n0               NaN          NaN          NaN          NaN  \n1               NaN          NaN          NaN          NaN  \n2               NaN          NaN          NaN          NaN  \n3               NaN          NaN          NaN          NaN  \n4               NaN          NaN          NaN          NaN  \n...             ...          ...          ...          ...  \n369284          NaN          NaN          NaN          NaN  \n369285          NaN          NaN          NaN          NaN  \n369286          NaN          NaN          NaN          NaN  \n369287          NaN          NaN          NaN          NaN  \n369288          NaN          NaN          NaN          NaN  \n\n[369289 rows x 45 columns]",
      "text/html": "<div>\n<style scoped>\n    .dataframe tbody tr th:only-of-type {\n        vertical-align: middle;\n    }\n\n    .dataframe tbody tr th {\n        vertical-align: top;\n    }\n\n    .dataframe thead th {\n        text-align: right;\n    }\n</style>\n<table border=\"1\" class=\"dataframe\">\n  <thead>\n    <tr style=\"text-align: right;\">\n      <th></th>\n      <th>MEAN_RR</th>\n      <th>MEDIAN_RR</th>\n      <th>SDRR</th>\n      <th>RMSSD</th>\n      <th>SDSD</th>\n      <th>SDRR_RMSSD</th>\n      <th>HR</th>\n      <th>pNN25</th>\n      <th>pNN50</th>\n      <th>SD1</th>\n      <th>...</th>\n      <th>condition</th>\n      <th>Unnamed: 12</th>\n      <th>Unnamed: 13</th>\n      <th>Unnamed: 14</th>\n      <th>Unnamed: 15</th>\n      <th>Unnamed: 16</th>\n      <th>Unnamed: 17</th>\n      <th>Unnamed: 18</th>\n      <th>Unnamed: 19</th>\n      <th>Unnamed: 20</th>\n    </tr>\n  </thead>\n  <tbody>\n    <tr>\n      <th>0</th>\n      <td>885.157845</td>\n      <td>853.763730</td>\n      <td>140.972741</td>\n      <td>15.554505</td>\n      <td>15.553371</td>\n      <td>9.063146</td>\n      <td>69.499952</td>\n      <td>11.133333</td>\n      <td>0.533333</td>\n      <td>11.001565</td>\n      <td>...</td>\n      <td>0</td>\n      <td>NaN</td>\n      <td>NaN</td>\n      <td>NaN</td>\n      <td>NaN</td>\n      <td>NaN</td>\n      <td>NaN</td>\n      <td>NaN</td>\n      <td>NaN</td>\n      <td>NaN</td>\n    </tr>\n    <tr>\n      <th>1</th>\n      <td>939.425371</td>\n      <td>948.357865</td>\n      <td>81.317742</td>\n      <td>12.964439</td>\n      <td>12.964195</td>\n      <td>6.272369</td>\n      <td>64.363150</td>\n      <td>5.600000</td>\n      <td>0.000000</td>\n      <td>9.170129</td>\n      <td>...</td>\n      <td>1</td>\n      <td>NaN</td>\n      <td>NaN</td>\n      <td>NaN</td>\n      <td>NaN</td>\n      <td>NaN</td>\n      <td>NaN</td>\n      <td>NaN</td>\n      <td>NaN</td>\n      <td>NaN</td>\n    </tr>\n    <tr>\n      <th>2</th>\n      <td>898.186047</td>\n      <td>907.006860</td>\n      <td>84.497236</td>\n      <td>16.305279</td>\n      <td>16.305274</td>\n      <td>5.182201</td>\n      <td>67.450066</td>\n      <td>13.066667</td>\n      <td>0.200000</td>\n      <td>11.533417</td>\n      <td>...</td>\n      <td>1</td>\n      <td>NaN</td>\n      <td>NaN</td>\n      <td>NaN</td>\n      <td>NaN</td>\n      <td>NaN</td>\n      <td>NaN</td>\n      <td>NaN</td>\n      <td>NaN</td>\n      <td>NaN</td>\n    </tr>\n    <tr>\n      <th>3</th>\n      <td>881.757864</td>\n      <td>893.460030</td>\n      <td>90.370537</td>\n      <td>15.720468</td>\n      <td>15.720068</td>\n      <td>5.748591</td>\n      <td>68.809562</td>\n      <td>11.800000</td>\n      <td>0.133333</td>\n      <td>11.119476</td>\n      <td>...</td>\n      <td>0</td>\n      <td>NaN</td>\n      <td>NaN</td>\n      <td>NaN</td>\n      <td>NaN</td>\n      <td>NaN</td>\n      <td>NaN</td>\n      <td>NaN</td>\n      <td>NaN</td>\n      <td>NaN</td>\n    </tr>\n    <tr>\n      <th>4</th>\n      <td>809.625331</td>\n      <td>811.184865</td>\n      <td>62.766242</td>\n      <td>19.213819</td>\n      <td>19.213657</td>\n      <td>3.266724</td>\n      <td>74.565728</td>\n      <td>20.200000</td>\n      <td>0.200000</td>\n      <td>13.590641</td>\n      <td>...</td>\n      <td>0</td>\n      <td>NaN</td>\n      <td>NaN</td>\n      <td>NaN</td>\n      <td>NaN</td>\n      <td>NaN</td>\n      <td>NaN</td>\n      <td>NaN</td>\n      <td>NaN</td>\n      <td>NaN</td>\n    </tr>\n    <tr>\n      <th>...</th>\n      <td>...</td>\n      <td>...</td>\n      <td>...</td>\n      <td>...</td>\n      <td>...</td>\n      <td>...</td>\n      <td>...</td>\n      <td>...</td>\n      <td>...</td>\n      <td>...</td>\n      <td>...</td>\n      <td>...</td>\n      <td>...</td>\n      <td>...</td>\n      <td>...</td>\n      <td>...</td>\n      <td>...</td>\n      <td>...</td>\n      <td>...</td>\n      <td>...</td>\n      <td>...</td>\n    </tr>\n    <tr>\n      <th>369284</th>\n      <td>721.396910</td>\n      <td>721.533965</td>\n      <td>36.377559</td>\n      <td>9.609941</td>\n      <td>9.609936</td>\n      <td>3.785409</td>\n      <td>83.384647</td>\n      <td>0.933333</td>\n      <td>0.000000</td>\n      <td>6.797519</td>\n      <td>...</td>\n      <td>0</td>\n      <td>NaN</td>\n      <td>NaN</td>\n      <td>NaN</td>\n      <td>NaN</td>\n      <td>NaN</td>\n      <td>NaN</td>\n      <td>NaN</td>\n      <td>NaN</td>\n      <td>NaN</td>\n    </tr>\n    <tr>\n      <th>369285</th>\n      <td>984.266492</td>\n      <td>978.622945</td>\n      <td>74.918433</td>\n      <td>13.762274</td>\n      <td>13.761705</td>\n      <td>5.443754</td>\n      <td>61.314243</td>\n      <td>6.333333</td>\n      <td>0.200000</td>\n      <td>9.734243</td>\n      <td>...</td>\n      <td>0</td>\n      <td>NaN</td>\n      <td>NaN</td>\n      <td>NaN</td>\n      <td>NaN</td>\n      <td>NaN</td>\n      <td>NaN</td>\n      <td>NaN</td>\n      <td>NaN</td>\n      <td>NaN</td>\n    </tr>\n    <tr>\n      <th>369286</th>\n      <td>1025.499743</td>\n      <td>1024.968400</td>\n      <td>95.309200</td>\n      <td>23.051254</td>\n      <td>23.050395</td>\n      <td>4.134664</td>\n      <td>59.028594</td>\n      <td>30.400000</td>\n      <td>2.066667</td>\n      <td>16.304530</td>\n      <td>...</td>\n      <td>0</td>\n      <td>NaN</td>\n      <td>NaN</td>\n      <td>NaN</td>\n      <td>NaN</td>\n      <td>NaN</td>\n      <td>NaN</td>\n      <td>NaN</td>\n      <td>NaN</td>\n      <td>NaN</td>\n    </tr>\n    <tr>\n      <th>369287</th>\n      <td>798.123167</td>\n      <td>803.559610</td>\n      <td>78.449897</td>\n      <td>16.736686</td>\n      <td>16.736657</td>\n      <td>4.687302</td>\n      <td>75.978628</td>\n      <td>10.000000</td>\n      <td>1.466667</td>\n      <td>11.838553</td>\n      <td>...</td>\n      <td>0</td>\n      <td>NaN</td>\n      <td>NaN</td>\n      <td>NaN</td>\n      <td>NaN</td>\n      <td>NaN</td>\n      <td>NaN</td>\n      <td>NaN</td>\n      <td>NaN</td>\n      <td>NaN</td>\n    </tr>\n    <tr>\n      <th>369288</th>\n      <td>814.428911</td>\n      <td>815.178790</td>\n      <td>67.697387</td>\n      <td>20.649551</td>\n      <td>20.649546</td>\n      <td>3.278395</td>\n      <td>74.197905</td>\n      <td>23.400000</td>\n      <td>0.533333</td>\n      <td>14.606307</td>\n      <td>...</td>\n      <td>0</td>\n      <td>NaN</td>\n      <td>NaN</td>\n      <td>NaN</td>\n      <td>NaN</td>\n      <td>NaN</td>\n      <td>NaN</td>\n      <td>NaN</td>\n      <td>NaN</td>\n      <td>NaN</td>\n    </tr>\n  </tbody>\n</table>\n<p>369289 rows × 45 columns</p>\n</div>"
     },
     "execution_count": 7,
     "metadata": {},
     "output_type": "execute_result"
    }
   ],
   "source": [
    "df_1 = pd.read_csv(\"train1.csv\")\n",
    "df_2 = pd.read_csv(\"train2.csv\")\n",
    "df_3 = pd.read_csv(\"train3.csv\")\n",
    "\n",
    "df = pd.concat([df_1, df_2, df_3],axis=1)\n",
    "\n",
    "df"
   ],
   "metadata": {
    "collapsed": false,
    "ExecuteTime": {
     "end_time": "2024-02-18T19:43:38.906502Z",
     "start_time": "2024-02-18T19:43:36.870874Z"
    }
   },
   "id": "ed0f8c0441547e56",
   "execution_count": 7
  },
  {
   "cell_type": "code",
   "outputs": [],
   "source": [],
   "metadata": {
    "collapsed": false
   },
   "id": "77e6cf87c685499f"
  }
 ],
 "metadata": {
  "kernelspec": {
   "display_name": "Python 3",
   "language": "python",
   "name": "python3"
  },
  "language_info": {
   "codemirror_mode": {
    "name": "ipython",
    "version": 2
   },
   "file_extension": ".py",
   "mimetype": "text/x-python",
   "name": "python",
   "nbconvert_exporter": "python",
   "pygments_lexer": "ipython2",
   "version": "2.7.6"
  }
 },
 "nbformat": 4,
 "nbformat_minor": 5
}
