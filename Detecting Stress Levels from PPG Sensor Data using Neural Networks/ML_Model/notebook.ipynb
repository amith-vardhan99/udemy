{
 "cells": [
  {
   "cell_type": "code",
   "execution_count": 1,
   "id": "initial_id",
   "metadata": {
    "ExecuteTime": {
     "end_time": "2024-03-10T17:32:42.492960Z",
     "start_time": "2024-03-10T17:32:37.928564Z"
    }
   },
   "outputs": [
    {
     "name": "stdout",
     "output_type": "stream",
     "text": [
      "WARNING:tensorflow:From C:\\Users\\amith\\AppData\\Local\\Programs\\Python\\Python311\\Lib\\site-packages\\keras\\src\\losses.py:2976: The name tf.losses.sparse_softmax_cross_entropy is deprecated. Please use tf.compat.v1.losses.sparse_softmax_cross_entropy instead.\n"
     ]
    }
   ],
   "source": [
    "import numpy as np\n",
    "import pandas as pd\n",
    "import matplotlib.pyplot as plt\n",
    "import seaborn as sns\n",
    "from sklearn.feature_selection import *\n",
    "from sklearn.preprocessing import *\n",
    "import warnings\n",
    "warnings.filterwarnings(\"ignore\")\n",
    "from sklearn.model_selection import *\n",
    "import tensorflow as tf\n",
    "from sklearn.metrics import *\n",
    "import joblib"
   ]
  },
  {
   "cell_type": "code",
   "execution_count": 2,
   "id": "ed0f8c0441547e56",
   "metadata": {
    "collapsed": false,
    "ExecuteTime": {
     "end_time": "2024-03-10T17:32:43.912998Z",
     "start_time": "2024-03-10T17:32:42.494016Z"
    }
   },
   "outputs": [
    {
     "data": {
      "text/plain": "      MEAN_RR   MEDIAN_RR        SDRR      RMSSD       SDSD  SDRR_RMSSD  \\\n0  885.157845  853.763730  140.972741  15.554505  15.553371    9.063146   \n1  939.425371  948.357865   81.317742  12.964439  12.964195    6.272369   \n2  898.186047  907.006860   84.497236  16.305279  16.305274    5.182201   \n3  881.757864  893.460030   90.370537  15.720468  15.720068    5.748591   \n4  809.625331  811.184865   62.766242  19.213819  19.213657    3.266724   \n\n          HR      pNN25     pNN50        SD1  ...         HF    HF_PCT  \\\n0  69.499952  11.133333  0.533333  11.001565  ...  15.522602  0.421047   \n1  64.363150   5.600000  0.000000   9.170129  ...   2.108525  0.070133   \n2  67.450066  13.066667  0.200000  11.533417  ...  13.769729  0.512671   \n3  68.809562  11.800000  0.133333  11.119476  ...  18.181913  0.529387   \n4  74.565728  20.200000  0.200000  13.590641  ...  48.215822  1.839473   \n\n      HF_NU           TP       LF_HF     HF_LF    sampen    higuci  datasetId  \\\n0  1.514737  3686.666157   65.018055  0.015380  2.139754  1.163485          2   \n1  0.304603  3006.487251  327.296635  0.003055  2.174499  1.084711          2   \n2  1.049528  2685.879461   94.280910  0.010607  2.135350  1.176315          2   \n3  1.775294  3434.520980   55.328701  0.018074  2.178341  1.179688          2   \n4  3.279993  2621.175204   29.487873  0.033912  2.221121  1.249612          2   \n\n   condition  \n0          0  \n1          1  \n2          1  \n3          0  \n4          0  \n\n[5 rows x 36 columns]",
      "text/html": "<div>\n<style scoped>\n    .dataframe tbody tr th:only-of-type {\n        vertical-align: middle;\n    }\n\n    .dataframe tbody tr th {\n        vertical-align: top;\n    }\n\n    .dataframe thead th {\n        text-align: right;\n    }\n</style>\n<table border=\"1\" class=\"dataframe\">\n  <thead>\n    <tr style=\"text-align: right;\">\n      <th></th>\n      <th>MEAN_RR</th>\n      <th>MEDIAN_RR</th>\n      <th>SDRR</th>\n      <th>RMSSD</th>\n      <th>SDSD</th>\n      <th>SDRR_RMSSD</th>\n      <th>HR</th>\n      <th>pNN25</th>\n      <th>pNN50</th>\n      <th>SD1</th>\n      <th>...</th>\n      <th>HF</th>\n      <th>HF_PCT</th>\n      <th>HF_NU</th>\n      <th>TP</th>\n      <th>LF_HF</th>\n      <th>HF_LF</th>\n      <th>sampen</th>\n      <th>higuci</th>\n      <th>datasetId</th>\n      <th>condition</th>\n    </tr>\n  </thead>\n  <tbody>\n    <tr>\n      <th>0</th>\n      <td>885.157845</td>\n      <td>853.763730</td>\n      <td>140.972741</td>\n      <td>15.554505</td>\n      <td>15.553371</td>\n      <td>9.063146</td>\n      <td>69.499952</td>\n      <td>11.133333</td>\n      <td>0.533333</td>\n      <td>11.001565</td>\n      <td>...</td>\n      <td>15.522602</td>\n      <td>0.421047</td>\n      <td>1.514737</td>\n      <td>3686.666157</td>\n      <td>65.018055</td>\n      <td>0.015380</td>\n      <td>2.139754</td>\n      <td>1.163485</td>\n      <td>2</td>\n      <td>0</td>\n    </tr>\n    <tr>\n      <th>1</th>\n      <td>939.425371</td>\n      <td>948.357865</td>\n      <td>81.317742</td>\n      <td>12.964439</td>\n      <td>12.964195</td>\n      <td>6.272369</td>\n      <td>64.363150</td>\n      <td>5.600000</td>\n      <td>0.000000</td>\n      <td>9.170129</td>\n      <td>...</td>\n      <td>2.108525</td>\n      <td>0.070133</td>\n      <td>0.304603</td>\n      <td>3006.487251</td>\n      <td>327.296635</td>\n      <td>0.003055</td>\n      <td>2.174499</td>\n      <td>1.084711</td>\n      <td>2</td>\n      <td>1</td>\n    </tr>\n    <tr>\n      <th>2</th>\n      <td>898.186047</td>\n      <td>907.006860</td>\n      <td>84.497236</td>\n      <td>16.305279</td>\n      <td>16.305274</td>\n      <td>5.182201</td>\n      <td>67.450066</td>\n      <td>13.066667</td>\n      <td>0.200000</td>\n      <td>11.533417</td>\n      <td>...</td>\n      <td>13.769729</td>\n      <td>0.512671</td>\n      <td>1.049528</td>\n      <td>2685.879461</td>\n      <td>94.280910</td>\n      <td>0.010607</td>\n      <td>2.135350</td>\n      <td>1.176315</td>\n      <td>2</td>\n      <td>1</td>\n    </tr>\n    <tr>\n      <th>3</th>\n      <td>881.757864</td>\n      <td>893.460030</td>\n      <td>90.370537</td>\n      <td>15.720468</td>\n      <td>15.720068</td>\n      <td>5.748591</td>\n      <td>68.809562</td>\n      <td>11.800000</td>\n      <td>0.133333</td>\n      <td>11.119476</td>\n      <td>...</td>\n      <td>18.181913</td>\n      <td>0.529387</td>\n      <td>1.775294</td>\n      <td>3434.520980</td>\n      <td>55.328701</td>\n      <td>0.018074</td>\n      <td>2.178341</td>\n      <td>1.179688</td>\n      <td>2</td>\n      <td>0</td>\n    </tr>\n    <tr>\n      <th>4</th>\n      <td>809.625331</td>\n      <td>811.184865</td>\n      <td>62.766242</td>\n      <td>19.213819</td>\n      <td>19.213657</td>\n      <td>3.266724</td>\n      <td>74.565728</td>\n      <td>20.200000</td>\n      <td>0.200000</td>\n      <td>13.590641</td>\n      <td>...</td>\n      <td>48.215822</td>\n      <td>1.839473</td>\n      <td>3.279993</td>\n      <td>2621.175204</td>\n      <td>29.487873</td>\n      <td>0.033912</td>\n      <td>2.221121</td>\n      <td>1.249612</td>\n      <td>2</td>\n      <td>0</td>\n    </tr>\n  </tbody>\n</table>\n<p>5 rows × 36 columns</p>\n</div>"
     },
     "execution_count": 2,
     "metadata": {},
     "output_type": "execute_result"
    }
   ],
   "source": [
    "df_1 = pd.read_csv(\"train1.csv\")\n",
    "df_2 = pd.read_csv(\"train2.csv\")\n",
    "df_3 = pd.read_csv(\"train3.csv\")\n",
    "\n",
    "df = pd.concat([df_1, df_2, df_3],axis=1)\n",
    "\n",
    "df.head()"
   ]
  },
  {
   "cell_type": "code",
   "execution_count": 3,
   "id": "9c9b7c910d312a7d",
   "metadata": {
    "collapsed": false,
    "ExecuteTime": {
     "end_time": "2024-03-10T17:32:44.637144Z",
     "start_time": "2024-03-10T17:32:44.574816Z"
    }
   },
   "outputs": [
    {
     "data": {
      "text/plain": "Index(['MEAN_RR', 'MEDIAN_RR', 'SDRR', 'RMSSD', 'SDSD', 'SDRR_RMSSD', 'HR',\n       'pNN25', 'pNN50', 'SD1', 'SD2', 'KURT', 'SKEW', 'MEAN_REL_RR',\n       'MEDIAN_REL_RR', 'SDRR_REL_RR', 'RMSSD_REL_RR', 'SDSD_REL_RR',\n       'SDRR_RMSSD_REL_RR', 'KURT_REL_RR', 'SKEW_REL_RR', 'VLF', 'VLF_PCT',\n       'LF', 'LF_PCT', 'LF_NU', 'HF', 'HF_PCT', 'HF_NU', 'TP', 'LF_HF',\n       'HF_LF', 'sampen', 'higuci', 'datasetId'],\n      dtype='object')"
     },
     "execution_count": 3,
     "metadata": {},
     "output_type": "execute_result"
    }
   ],
   "source": [
    "df_X = df.drop(columns=[\"condition\"])\n",
    "df_y = df[\"condition\"]\n",
    "\n",
    "df_X.columns"
   ]
  },
  {
   "cell_type": "code",
   "execution_count": 4,
   "id": "81c932d8174afd6a",
   "metadata": {
    "collapsed": false,
    "ExecuteTime": {
     "end_time": "2024-03-10T17:32:45.247439Z",
     "start_time": "2024-03-10T17:32:45.237934Z"
    }
   },
   "outputs": [],
   "source": [
    "important_features = [\"MEAN_RR\", \"RMSSD\", \"pNN25\", \"pNN50\", \"LF\", \"HF\", \"LF_HF\"]\n",
    "df_X_1 = df_X[important_features]\n",
    "df_y_1 = df_y.copy()"
   ]
  },
  {
   "cell_type": "code",
   "execution_count": 5,
   "id": "7322a6502786c158",
   "metadata": {
    "collapsed": false,
    "ExecuteTime": {
     "end_time": "2024-03-10T17:32:46.432703Z",
     "start_time": "2024-03-10T17:32:46.382650Z"
    }
   },
   "outputs": [],
   "source": [
    "sc = StandardScaler()\n",
    "X = pd.DataFrame(sc.fit_transform(df_X_1),columns=df_X_1.columns)\n",
    "y = df_y_1.copy()"
   ]
  },
  {
   "cell_type": "code",
   "execution_count": 6,
   "id": "71c0107f0ee44cfa",
   "metadata": {
    "collapsed": false,
    "ExecuteTime": {
     "end_time": "2024-03-10T17:32:46.838624Z",
     "start_time": "2024-03-10T17:32:46.831780Z"
    }
   },
   "outputs": [
    {
     "data": {
      "text/plain": "array([0, 1, 2], dtype=int64)"
     },
     "execution_count": 6,
     "metadata": {},
     "output_type": "execute_result"
    }
   ],
   "source": [
    "y.unique()"
   ]
  },
  {
   "cell_type": "markdown",
   "id": "93df481adf9fe87b",
   "metadata": {
    "collapsed": false
   },
   "source": [
    "### Testing the model"
   ]
  },
  {
   "cell_type": "code",
   "execution_count": 7,
   "id": "4a8f2ddb50c731f4",
   "metadata": {
    "collapsed": false,
    "ExecuteTime": {
     "end_time": "2024-03-10T17:32:49.220389Z",
     "start_time": "2024-03-10T17:32:49.097581Z"
    }
   },
   "outputs": [
    {
     "data": {
      "text/plain": "(236344, 7)"
     },
     "execution_count": 7,
     "metadata": {},
     "output_type": "execute_result"
    }
   ],
   "source": [
    "X_train_val, X_test, y_train_val, y_test = train_test_split(X, y, test_size=0.2, random_state=np.random.randint(0,1000))\n",
    "X_train, X_val, y_train, y_val = train_test_split(X_train_val, y_train_val, test_size=0.2, random_state=np.random.randint(0,1000))\n",
    "X_train.shape"
   ]
  },
  {
   "cell_type": "code",
   "execution_count": 8,
   "id": "b0239dae19d1cbef",
   "metadata": {
    "collapsed": false,
    "ExecuteTime": {
     "end_time": "2024-03-10T17:32:51.025946Z",
     "start_time": "2024-03-10T17:32:50.672530Z"
    }
   },
   "outputs": [
    {
     "name": "stdout",
     "output_type": "stream",
     "text": [
      "WARNING:tensorflow:From C:\\Users\\amith\\AppData\\Local\\Programs\\Python\\Python311\\Lib\\site-packages\\keras\\src\\backend.py:873: The name tf.get_default_graph is deprecated. Please use tf.compat.v1.get_default_graph instead.\n"
     ]
    }
   ],
   "source": [
    "model_1 = tf.keras.models.Sequential(layers=[\n",
    "    tf.keras.layers.Dense(units=64, activation=\"relu\", input_shape=(X_train.shape[1],)),\n",
    "    tf.keras.layers.Dense(units=32, activation=\"relu\"),\n",
    "    tf.keras.layers.Dense(units=16, activation=\"relu\"),\n",
    "    tf.keras.layers.Dense(units=8, activation=\"relu\"),\n",
    "    tf.keras.layers.Dense(units=1, activation=\"softmax\")\n",
    "])"
   ]
  },
  {
   "cell_type": "code",
   "execution_count": 9,
   "id": "aff75d227662723c",
   "metadata": {
    "collapsed": false,
    "ExecuteTime": {
     "end_time": "2024-03-10T17:32:51.381649Z",
     "start_time": "2024-03-10T17:32:51.270272Z"
    }
   },
   "outputs": [
    {
     "name": "stdout",
     "output_type": "stream",
     "text": [
      "WARNING:tensorflow:From C:\\Users\\amith\\AppData\\Local\\Programs\\Python\\Python311\\Lib\\site-packages\\keras\\src\\optimizers\\__init__.py:309: The name tf.train.Optimizer is deprecated. Please use tf.compat.v1.train.Optimizer instead.\n"
     ]
    }
   ],
   "source": [
    "model_1.compile(optimizer=\"adam\", loss=\"categorical_crossentropy\", metrics=[\"accuracy\"])"
   ]
  },
  {
   "cell_type": "code",
   "execution_count": 10,
   "id": "a0008a6f1f2e8bab",
   "metadata": {
    "collapsed": false,
    "ExecuteTime": {
     "end_time": "2024-03-10T17:33:30.819127Z",
     "start_time": "2024-03-10T17:32:52.050843Z"
    }
   },
   "outputs": [
    {
     "name": "stdout",
     "output_type": "stream",
     "text": [
      "Epoch 1/100\n",
      "WARNING:tensorflow:From C:\\Users\\amith\\AppData\\Local\\Programs\\Python\\Python311\\Lib\\site-packages\\keras\\src\\utils\\tf_utils.py:492: The name tf.ragged.RaggedTensorValue is deprecated. Please use tf.compat.v1.ragged.RaggedTensorValue instead.\n",
      "WARNING:tensorflow:From C:\\Users\\amith\\AppData\\Local\\Programs\\Python\\Python311\\Lib\\site-packages\\keras\\src\\engine\\base_layer_utils.py:384: The name tf.executing_eagerly_outside_functions is deprecated. Please use tf.compat.v1.executing_eagerly_outside_functions instead.\n",
      "7386/7386 [==============================] - 13s 2ms/step - loss: 0.0000e+00 - accuracy: 0.2844 - val_loss: 0.0000e+00 - val_accuracy: 0.2829\n",
      "Epoch 2/100\n",
      "7386/7386 [==============================] - 13s 2ms/step - loss: 0.0000e+00 - accuracy: 0.2844 - val_loss: 0.0000e+00 - val_accuracy: 0.2829\n",
      "Epoch 3/100\n",
      "7386/7386 [==============================] - 12s 2ms/step - loss: 0.0000e+00 - accuracy: 0.2844 - val_loss: 0.0000e+00 - val_accuracy: 0.2829\n"
     ]
    },
    {
     "data": {
      "text/plain": "<keras.src.callbacks.History at 0x1c67002f310>"
     },
     "execution_count": 10,
     "metadata": {},
     "output_type": "execute_result"
    }
   ],
   "source": [
    "model_1.fit(X_train, y_train, batch_size=32, epochs=100, verbose=1, callbacks=tf.keras.callbacks.EarlyStopping(patience=2), validation_data=(X_val, y_val), shuffle=True)"
   ]
  },
  {
   "cell_type": "code",
   "execution_count": 11,
   "id": "a413aba9190312d3",
   "metadata": {
    "collapsed": false,
    "ExecuteTime": {
     "end_time": "2024-03-10T17:33:33.565948Z",
     "start_time": "2024-03-10T17:33:30.820188Z"
    }
   },
   "outputs": [
    {
     "name": "stdout",
     "output_type": "stream",
     "text": [
      "2309/2309 [==============================] - 3s 1ms/step - loss: 0.0000e+00 - accuracy: 0.2872\n"
     ]
    }
   ],
   "source": [
    "cat_cross_entropy_loss, accuracy_score = model_1.evaluate(X_test, y_test)"
   ]
  },
  {
   "cell_type": "code",
   "execution_count": 12,
   "id": "33d8ff82b1ee1773",
   "metadata": {
    "collapsed": false,
    "ExecuteTime": {
     "end_time": "2024-03-10T17:33:33.573545Z",
     "start_time": "2024-03-10T17:33:33.567006Z"
    }
   },
   "outputs": [
    {
     "data": {
      "text/plain": "0.0"
     },
     "execution_count": 12,
     "metadata": {},
     "output_type": "execute_result"
    }
   ],
   "source": [
    "cat_cross_entropy_loss"
   ]
  },
  {
   "cell_type": "code",
   "execution_count": 13,
   "id": "8dee146bfcd64662",
   "metadata": {
    "collapsed": false,
    "ExecuteTime": {
     "end_time": "2024-03-10T17:33:33.581502Z",
     "start_time": "2024-03-10T17:33:33.574674Z"
    }
   },
   "outputs": [
    {
     "data": {
      "text/plain": "0.29"
     },
     "execution_count": 13,
     "metadata": {},
     "output_type": "execute_result"
    }
   ],
   "source": [
    "round(accuracy_score,2)"
   ]
  },
  {
   "cell_type": "code",
   "execution_count": 14,
   "id": "ba5177098f12cb42",
   "metadata": {
    "collapsed": false,
    "ExecuteTime": {
     "end_time": "2024-03-10T17:33:37.182980Z",
     "start_time": "2024-03-10T17:33:33.582677Z"
    }
   },
   "outputs": [
    {
     "name": "stdout",
     "output_type": "stream",
     "text": [
      "2309/2309 [==============================] - 3s 1ms/step\n"
     ]
    }
   ],
   "source": [
    "y_pred = model_1.predict(X_test)"
   ]
  },
  {
   "cell_type": "code",
   "execution_count": 15,
   "id": "4f14955dd521c81d",
   "metadata": {
    "collapsed": false,
    "ExecuteTime": {
     "end_time": "2024-03-10T17:33:37.193189Z",
     "start_time": "2024-03-10T17:33:37.184157Z"
    }
   },
   "outputs": [
    {
     "data": {
      "text/plain": "0.84"
     },
     "execution_count": 15,
     "metadata": {},
     "output_type": "execute_result"
    }
   ],
   "source": [
    "root_mean_squared_error = np.round(np.sqrt(mean_squared_error(y_test, y_pred)),2)\n",
    "root_mean_squared_error"
   ]
  },
  {
   "cell_type": "markdown",
   "id": "8283f680c22eeaf4",
   "metadata": {
    "collapsed": false
   },
   "source": [
    "### Final Prediction of testing set"
   ]
  },
  {
   "cell_type": "code",
   "execution_count": 16,
   "id": "94a69d92987a2830",
   "metadata": {
    "collapsed": false,
    "ExecuteTime": {
     "end_time": "2024-03-10T17:33:37.431151Z",
     "start_time": "2024-03-10T17:33:37.195368Z"
    }
   },
   "outputs": [],
   "source": [
    "X_train_2, X_val_2, y_train_2, y_val_2 = train_test_split(X,y,test_size=0.2,random_state=np.random.randint(0,1000))\n",
    "test_df = pd.read_csv(\"test.csv\")\n",
    "X_test_2 = pd.DataFrame(sc.fit_transform(test_df[important_features]),columns=important_features)\n",
    "y_test_2 = test_df[\"condition\"]"
   ]
  },
  {
   "cell_type": "code",
   "execution_count": 17,
   "id": "3c0455f87a0bb8b4",
   "metadata": {
    "collapsed": false,
    "ExecuteTime": {
     "end_time": "2024-03-10T17:33:37.497327Z",
     "start_time": "2024-03-10T17:33:37.432331Z"
    }
   },
   "outputs": [],
   "source": [
    "model_2 = tf.keras.models.Sequential(layers=[\n",
    "    tf.keras.layers.Dense(units=64, activation=\"relu\", input_shape=(X_train_2.shape[1],)),\n",
    "    tf.keras.layers.Dense(units=32, activation=\"relu\"),\n",
    "    tf.keras.layers.Dense(units=16, activation=\"relu\"),\n",
    "    tf.keras.layers.Dense(units=8, activation=\"relu\"),\n",
    "    tf.keras.layers.Dense(units=1, activation=\"softmax\")\n",
    "])"
   ]
  },
  {
   "cell_type": "code",
   "execution_count": 18,
   "id": "90f0452723950637",
   "metadata": {
    "collapsed": false,
    "ExecuteTime": {
     "end_time": "2024-03-10T17:33:37.509645Z",
     "start_time": "2024-03-10T17:33:37.499028Z"
    }
   },
   "outputs": [],
   "source": [
    "model_2.compile(optimizer=\"adam\", loss=\"categorical_crossentropy\", metrics=[\"accuracy\"])"
   ]
  },
  {
   "cell_type": "code",
   "execution_count": 19,
   "id": "500958c9f6210a29",
   "metadata": {
    "collapsed": false,
    "ExecuteTime": {
     "end_time": "2024-03-10T17:34:25.933559Z",
     "start_time": "2024-03-10T17:33:37.512949Z"
    }
   },
   "outputs": [
    {
     "name": "stdout",
     "output_type": "stream",
     "text": [
      "Epoch 1/100\n",
      "9233/9233 [==============================] - 17s 2ms/step - loss: 0.0000e+00 - accuracy: 0.2844 - val_loss: 0.0000e+00 - val_accuracy: 0.2862\n",
      "Epoch 2/100\n",
      "9233/9233 [==============================] - 15s 2ms/step - loss: 0.0000e+00 - accuracy: 0.2844 - val_loss: 0.0000e+00 - val_accuracy: 0.2862\n",
      "Epoch 3/100\n",
      "9233/9233 [==============================] - 16s 2ms/step - loss: 0.0000e+00 - accuracy: 0.2844 - val_loss: 0.0000e+00 - val_accuracy: 0.2862\n"
     ]
    },
    {
     "data": {
      "text/plain": "<keras.src.callbacks.History at 0x1c609a69790>"
     },
     "execution_count": 19,
     "metadata": {},
     "output_type": "execute_result"
    }
   ],
   "source": [
    "model_2.fit(X_train_2, y_train_2, batch_size=32, epochs=100, verbose=1, callbacks=tf.keras.callbacks.EarlyStopping(patience=2), validation_data=(X_val_2, y_val_2), shuffle=True)"
   ]
  },
  {
   "cell_type": "code",
   "execution_count": 20,
   "id": "e14bb1cc9710ac74",
   "metadata": {
    "collapsed": false,
    "ExecuteTime": {
     "end_time": "2024-03-10T17:34:27.503972Z",
     "start_time": "2024-03-10T17:34:25.934643Z"
    }
   },
   "outputs": [
    {
     "name": "stdout",
     "output_type": "stream",
     "text": [
      "1283/1283 [==============================] - 2s 1ms/step - loss: 0.0000e+00 - accuracy: 0.2871\n"
     ]
    }
   ],
   "source": [
    "cat_cross_entropy_loss_2, accuracy_score_2 = model_2.evaluate(X_test_2, y_test_2)"
   ]
  },
  {
   "cell_type": "code",
   "execution_count": 21,
   "id": "92bbaa3bf85d31ac",
   "metadata": {
    "collapsed": false,
    "ExecuteTime": {
     "end_time": "2024-03-10T17:34:27.510677Z",
     "start_time": "2024-03-10T17:34:27.505027Z"
    }
   },
   "outputs": [
    {
     "data": {
      "text/plain": "0.0"
     },
     "execution_count": 21,
     "metadata": {},
     "output_type": "execute_result"
    }
   ],
   "source": [
    "cat_cross_entropy_loss_2"
   ]
  },
  {
   "cell_type": "code",
   "execution_count": 22,
   "id": "d62c94232ac200a7",
   "metadata": {
    "collapsed": false,
    "ExecuteTime": {
     "end_time": "2024-03-10T17:34:27.517321Z",
     "start_time": "2024-03-10T17:34:27.511737Z"
    }
   },
   "outputs": [
    {
     "data": {
      "text/plain": "0.29"
     },
     "execution_count": 22,
     "metadata": {},
     "output_type": "execute_result"
    }
   ],
   "source": [
    "round(accuracy_score_2,2)"
   ]
  },
  {
   "cell_type": "code",
   "execution_count": 23,
   "id": "cb19db4dab5547c3",
   "metadata": {
    "collapsed": false,
    "ExecuteTime": {
     "end_time": "2024-03-10T17:34:29.370198Z",
     "start_time": "2024-03-10T17:34:27.518380Z"
    }
   },
   "outputs": [
    {
     "name": "stdout",
     "output_type": "stream",
     "text": [
      "1283/1283 [==============================] - 1s 1ms/step\n"
     ]
    }
   ],
   "source": [
    "y_pred_2 = model_2.predict(X_test_2)"
   ]
  },
  {
   "cell_type": "code",
   "execution_count": 24,
   "id": "b0206c5734a28668",
   "metadata": {
    "collapsed": false,
    "ExecuteTime": {
     "end_time": "2024-03-10T17:34:29.384553Z",
     "start_time": "2024-03-10T17:34:29.371215Z"
    }
   },
   "outputs": [
    {
     "data": {
      "text/plain": "0.84"
     },
     "execution_count": 24,
     "metadata": {},
     "output_type": "execute_result"
    }
   ],
   "source": [
    "root_mean_squared_error_2 = np.round(np.sqrt(mean_squared_error(y_test_2, y_pred_2)),2)\n",
    "root_mean_squared_error_2"
   ]
  },
  {
   "cell_type": "code",
   "execution_count": 25,
   "id": "4a6093803be9cf9c",
   "metadata": {
    "collapsed": false,
    "ExecuteTime": {
     "end_time": "2024-03-10T17:34:29.475496Z",
     "start_time": "2024-03-10T17:34:29.389564Z"
    }
   },
   "outputs": [],
   "source": [
    "joblib.dump(value=sc,filename=\"scaler.joblib\",compress=9)\n",
    "model_2.save(\"model.h5\")"
   ]
  },
  {
   "cell_type": "code",
   "execution_count": 55,
   "id": "9849bc0e8fcdf6d8",
   "metadata": {
    "ExecuteTime": {
     "end_time": "2024-02-19T01:13:30.287348Z",
     "start_time": "2024-02-19T01:13:30.282305Z"
    },
    "collapsed": false
   },
   "outputs": [],
   "source": []
  },
  {
   "cell_type": "code",
   "execution_count": 55,
   "id": "868cde885dda7828",
   "metadata": {
    "ExecuteTime": {
     "end_time": "2024-02-19T01:13:31.231672Z",
     "start_time": "2024-02-19T01:13:31.227668Z"
    },
    "collapsed": false
   },
   "outputs": [],
   "source": []
  },
  {
   "cell_type": "code",
   "execution_count": null,
   "id": "b14fe25efea3ea04",
   "metadata": {
    "collapsed": false
   },
   "outputs": [],
   "source": []
  }
 ],
 "metadata": {
  "kernelspec": {
   "display_name": "Python 3 (ipykernel)",
   "language": "python",
   "name": "python3"
  },
  "language_info": {
   "codemirror_mode": {
    "name": "ipython",
    "version": 3
   },
   "file_extension": ".py",
   "mimetype": "text/x-python",
   "name": "python",
   "nbconvert_exporter": "python",
   "pygments_lexer": "ipython3",
   "version": "3.11.8"
  }
 },
 "nbformat": 4,
 "nbformat_minor": 5
}
