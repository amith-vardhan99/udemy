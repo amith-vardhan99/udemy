{
 "cells": [
  {
   "cell_type": "code",
   "execution_count": 3,
   "metadata": {},
   "outputs": [],
   "source": [
    "from ibm_watson import *\n",
    "from ibm_cloud_sdk_core.authenticators import *\n",
    "import warnings\n",
    "warnings.filterwarnings(\"ignore\")\n",
    "import streamlit as st"
   ]
  },
  {
   "cell_type": "code",
   "execution_count": 4,
   "metadata": {},
   "outputs": [],
   "source": [
    "def translate_text(normal_text,src,dest):\n",
    "    API_key = \"J9tu8EU1jUcPDgzACNB0rMKgvcHGEEZqiUOcsdL01Fvz\"\n",
    "    url = \"https://api.au-syd.language-translator.watson.cloud.ibm.com/instances/639b27de-b9fc-4bed-89c0-594fb661f917\"\n",
    "    authenticator = IAMAuthenticator(apikey=API_key)\n",
    "    language_translator = LanguageTranslatorV3(version=\"2018-05-01\",authenticator=authenticator)\n",
    "    language_translator.set_service_url(service_url=url)\n",
    "    normal_text = \"Hello World\"\n",
    "    translate_code = src+\"-\"+dest\n",
    "    translated_text = language_translator.translate(text=normal_text,model_id=translate_code)\n",
    "    teu = translated_text.get_result()[\"translations\"][0][\"translation\"]\n",
    "    return teu"
   ]
  },
  {
   "cell_type": "code",
   "execution_count": 7,
   "metadata": {},
   "outputs": [
    {
     "name": "stderr",
     "output_type": "stream",
     "text": [
      "2024-05-11 19:43:16.265 Session state does not function when running a script without `streamlit run`\n"
     ]
    }
   ],
   "source": [
    "st.title(\"Language Translator\")\n",
    "\n",
    "option = st.selectbox(label=\"Enter the source language : \",options=(\"Telugu\",\"Hindi\",\"English\",\"Spanish\",\"Bengali\",\"Korean\"))"
   ]
  },
  {
   "cell_type": "code",
   "execution_count": 3,
   "metadata": {},
   "outputs": [
    {
     "ename": "NameError",
     "evalue": "name 'ttk' is not defined",
     "output_type": "error",
     "traceback": [
      "\u001b[1;31m---------------------------------------------------------------------------\u001b[0m",
      "\u001b[1;31mNameError\u001b[0m                                 Traceback (most recent call last)",
      "Cell \u001b[1;32mIn[3], line 18\u001b[0m\n\u001b[0;32m     15\u001b[0m menu\u001b[38;5;241m.\u001b[39mpack()\n\u001b[0;32m     16\u001b[0m menu\u001b[38;5;241m.\u001b[39mplace(x\u001b[38;5;241m=\u001b[39m\u001b[38;5;241m10\u001b[39m,y\u001b[38;5;241m=\u001b[39m\u001b[38;5;241m260\u001b[39m)\n\u001b[1;32m---> 18\u001b[0m menu \u001b[38;5;241m=\u001b[39m \u001b[43mttk\u001b[49m\u001b[38;5;241m.\u001b[39mCombobox()\n\u001b[0;32m     20\u001b[0m tk\u001b[38;5;241m.\u001b[39mmainloop()\n",
      "\u001b[1;31mNameError\u001b[0m: name 'ttk' is not defined"
     ]
    }
   ],
   "source": [
    "tk = Tk(className=\"Language Translator\")\n",
    "tk.geometry(\"250x300\")\n",
    "\n",
    "Label(tk,text=\"Enter the text that you want to translate\").place(x=10,y=10)\n",
    "first_name = Text(tk)\n",
    "first_name.place(x=12.5,y=35,width=200,height=200)\n",
    "\n",
    "Label(tk,text=\"Select the target language\").place(x=10,y=240)\n",
    "sv = StringVar()\n",
    "\n",
    "\n",
    "options = [\"Monday\", \"Tuesday\", \"Wednesday\", \"Thursday\", \"Friday\", \"Saturday\", \"Sunday\"] \n",
    "\n",
    "menu = OptionMenu(tk,sv,*options)\n",
    "menu.pack()\n",
    "menu.place(x=10,y=260)\n",
    "\n",
    "menu = ttk.Combobox()\n",
    "\n",
    "tk.mainloop()"
   ]
  },
  {
   "cell_type": "code",
   "execution_count": null,
   "metadata": {},
   "outputs": [],
   "source": []
  }
 ],
 "metadata": {
  "kernelspec": {
   "display_name": "Python 3",
   "language": "python",
   "name": "python3"
  },
  "language_info": {
   "codemirror_mode": {
    "name": "ipython",
    "version": 3
   },
   "file_extension": ".py",
   "mimetype": "text/x-python",
   "name": "python",
   "nbconvert_exporter": "python",
   "pygments_lexer": "ipython3",
   "version": "3.10.11"
  }
 },
 "nbformat": 4,
 "nbformat_minor": 2
}
