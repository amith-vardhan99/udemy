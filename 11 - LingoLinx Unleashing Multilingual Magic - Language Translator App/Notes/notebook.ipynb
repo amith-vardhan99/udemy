{
 "cells": [
  {
   "cell_type": "markdown",
   "metadata": {},
   "source": [
    "### Workflow\n",
    "\n",
    "\n",
    "**We're gonna capture the text in `python`,then we're gonna send this to the `IBM` cloud where the text will be converted to our desired language and the we will convert that `translated text` into a speech using `Watson AI` and then we will output the file**"
   ]
  },
  {
   "cell_type": "markdown",
   "metadata": {},
   "source": [
    "**Inorder to set things up,go to `cloud.ibm.com` and then go to the `Categories` option,select the `Machine Learning and AI` category and then from that select the `Language Translator` category,a new window pop's up,by default the `lite` version will be selected and that's fine,as that's free version and we'll use that,hit on `create` and the service will be created for us and then we'll be getting an `API` key so we'll be using that `API` key for making things going**"
   ]
  },
  {
   "cell_type": "markdown",
   "metadata": {},
   "source": [
    "## 1. Authenticate"
   ]
  },
  {
   "cell_type": "code",
   "execution_count": 1,
   "metadata": {},
   "outputs": [],
   "source": [
    "API_key = \"J9tu8EU1jUcPDgzACNB0rMKgvcHGEEZqiUOcsdL01Fvz\"\n",
    "url = \"https://api.au-syd.language-translator.watson.cloud.ibm.com/instances/639b27de-b9fc-4bed-89c0-594fb661f917\""
   ]
  },
  {
   "cell_type": "code",
   "execution_count": 3,
   "metadata": {},
   "outputs": [],
   "source": [
    "# Importing dependencies\n",
    "\n",
    "# This is the language translator\n",
    "from ibm_watson import *\n",
    "\n",
    "# This is the authentication service\n",
    "from ibm_cloud_sdk_core.authenticators import *"
   ]
  },
  {
   "cell_type": "code",
   "execution_count": null,
   "metadata": {},
   "outputs": [],
   "source": [
    "# Authentication of API key\n",
    "authenticator = IAMAuthenticator(apikey=API_key)\n",
    "\n",
    "# Setting language translator object\n",
    "langtranslator = LanguageTranslatorV3(version=\"2018-05-01\",authenticator=authenticator)\n",
    "\n",
    "# Establishing the connection with service\n",
    "langtranslator.set_service_url(service_url=url)"
   ]
  }
 ],
 "metadata": {
  "kernelspec": {
   "display_name": "Python 3",
   "language": "python",
   "name": "python3"
  },
  "language_info": {
   "codemirror_mode": {
    "name": "ipython",
    "version": 3
   },
   "file_extension": ".py",
   "mimetype": "text/x-python",
   "name": "python",
   "nbconvert_exporter": "python",
   "pygments_lexer": "ipython3",
   "version": "3.11.8"
  }
 },
 "nbformat": 4,
 "nbformat_minor": 2
}
