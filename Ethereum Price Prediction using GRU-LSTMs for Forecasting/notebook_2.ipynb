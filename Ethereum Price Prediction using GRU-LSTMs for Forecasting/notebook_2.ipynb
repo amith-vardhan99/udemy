{
 "cells": [
  {
   "cell_type": "code",
   "outputs": [],
   "source": [
    "import datetime\n",
    "import numpy as np\n",
    "import pandas as pd\n",
    "import matplotlib.pyplot as plt\n",
    "import seaborn as sns\n",
    "import tensorflow as tf\n",
    "from sklearn.preprocessing import *\n",
    "import warnings\n",
    "warnings.filterwarnings(\"ignore\")\n",
    "import os\n",
    "from sklearn.metrics import *\n",
    "warnings.simplefilter(\"ignore\")"
   ],
   "metadata": {
    "collapsed": false,
    "ExecuteTime": {
     "end_time": "2024-02-18T18:27:20.299494Z",
     "start_time": "2024-02-18T18:27:20.298297Z"
    }
   },
   "id": "40723c4776148cd2",
   "execution_count": null
  },
  {
   "cell_type": "code",
   "outputs": [],
   "source": [
    "df = pd.read_csv(\"ETH_1H.csv\")\n",
    "df.head()"
   ],
   "metadata": {
    "collapsed": false,
    "ExecuteTime": {
     "start_time": "2024-02-18T18:27:20.300588Z"
    }
   },
   "id": "2b6c7b0de9b148f1",
   "execution_count": null
  },
  {
   "cell_type": "code",
   "outputs": [],
   "source": [
    "df.nunique()"
   ],
   "metadata": {
    "collapsed": false,
    "ExecuteTime": {
     "start_time": "2024-02-18T18:27:20.301607Z"
    }
   },
   "id": "fd4d71532eaef459",
   "execution_count": null
  },
  {
   "cell_type": "code",
   "outputs": [],
   "source": [
    "df_1 = df.drop(columns=[\"Symbol\",\"Unix Timestamp\"])\n",
    "df_1.head()"
   ],
   "metadata": {
    "collapsed": false,
    "ExecuteTime": {
     "start_time": "2024-02-18T18:27:20.302840Z"
    }
   },
   "id": "8ed679e7e13fa4e0",
   "execution_count": null
  },
  {
   "cell_type": "code",
   "outputs": [],
   "source": [
    "df_2 = df_1.copy()\n",
    "df_2[\"Date\"] = pd.to_datetime(df_2[\"Date\"]).dt.date\n",
    "grps_mean = df_2.groupby(by=\"Date\").mean()[[\"Open\",\"Close\",\"Volume\"]].reset_index()\n",
    "grps_max = df_2.groupby(by=\"Date\").max()[[\"High\"]].reset_index()\n",
    "grps_min = df_2.groupby(by=\"Date\").min()[[\"Low\"]].reset_index()\n",
    "\n",
    "grps_min_max = pd.merge(left=grps_min,right=grps_max,how=\"inner\",on=\"Date\")\n",
    "grps = pd.merge(left=grps_min_max,right=grps_mean,how=\"inner\",on=\"Date\")\n",
    "\n",
    "df_3 = grps.set_index(\"Date\")\n",
    "df_3 = df_3.round(2)\n",
    "df_3.reset_index(inplace=True)\n",
    "df_3.head()"
   ],
   "metadata": {
    "collapsed": false
   },
   "id": "d55132f81047a899",
   "execution_count": null
  },
  {
   "cell_type": "code",
   "outputs": [],
   "source": [
    "cols = df_3.columns.values[1:]\n",
    "cols"
   ],
   "metadata": {
    "collapsed": false,
    "ExecuteTime": {
     "start_time": "2024-02-18T18:27:20.306112Z"
    }
   },
   "id": "2b0945129f7eb8e9",
   "execution_count": null
  },
  {
   "cell_type": "code",
   "outputs": [],
   "source": [
    "for i in cols:\n",
    "    plt.subplots(figsize=(10,3))\n",
    "    sns.lineplot(x=df_3[\"Date\"],y=df_3[i])\n",
    "    plt.title(\"Plot for \"+i)\n",
    "    plt.xlabel(\"Date ---------->\")\n",
    "    plt.ylabel(\"Open ---------->\")\n",
    "    plt.show()"
   ],
   "metadata": {
    "collapsed": false,
    "ExecuteTime": {
     "start_time": "2024-02-18T18:27:20.307171Z"
    }
   },
   "id": "a899b38228b06946",
   "execution_count": null
  },
  {
   "cell_type": "code",
   "outputs": [],
   "source": [
    "plt.subplots(figsize=(10,10))\n",
    "df_4 = df_3.set_index(\"Date\")\n",
    "sns.heatmap(df_4.corr(),annot=True)"
   ],
   "metadata": {
    "collapsed": false
   },
   "id": "170901132c8996bd",
   "execution_count": null
  },
  {
   "cell_type": "code",
   "outputs": [],
   "source": [
    "df_5 = df_1.drop(columns=[\"High\",\"Low\",\"Open\",\"Volume\"])\n",
    "df_5[\"Date\"] = pd.to_datetime(df_5[\"Date\"])\n",
    "df_5 = df_5.sort_values(by=\"Date\").reset_index(drop=True)\n",
    "df_5.head()"
   ],
   "metadata": {
    "collapsed": false,
    "ExecuteTime": {
     "start_time": "2024-02-18T18:27:20.310395Z"
    }
   },
   "id": "b909210d07896cfe",
   "execution_count": null
  },
  {
   "cell_type": "code",
   "outputs": [],
   "source": [
    "dates = pd.to_datetime(df_5[\"Date\"]).values\n",
    "close = df_5[\"Close\"].values"
   ],
   "metadata": {
    "collapsed": false,
    "ExecuteTime": {
     "end_time": "2024-02-16T04:40:13.393248400Z",
     "start_time": "2024-02-16T04:40:13.364077900Z"
    }
   },
   "id": "7c89b0f5ba6af2a5",
   "execution_count": 10
  },
  {
   "cell_type": "code",
   "outputs": [],
   "source": [
    "window_size = 240\n",
    "initial_step = 0\n",
    "final_step = close.shape[0] - window_size\n",
    "X = []\n",
    "y = []\n",
    "window_dates = []\n",
    "for i in range(initial_step,final_step):\n",
    "    initial_index = i\n",
    "    final_index = i + window_size\n",
    "    window_values = close[initial_index:final_index]\n",
    "    target_value = close[final_index]\n",
    "    X.append(window_values)\n",
    "    y.append(target_value)\n",
    "    window_dates.append(dates[final_index])\n",
    "X = np.array(X)\n",
    "y = np.array(y)\n",
    "window_dates = np.array(window_dates)"
   ],
   "metadata": {
    "collapsed": false,
    "ExecuteTime": {
     "end_time": "2024-02-16T04:40:14.180216100Z",
     "start_time": "2024-02-16T04:40:14.080673900Z"
    }
   },
   "id": "611520d9c141f7c9",
   "execution_count": 11
  },
  {
   "cell_type": "code",
   "outputs": [
    {
     "data": {
      "text/plain": "array(['2016-05-19T13:00:00.000000000', '2016-05-19T14:00:00.000000000',\n       '2016-05-19T15:00:00.000000000', ...,\n       '2020-04-15T22:00:00.000000000', '2020-04-15T23:00:00.000000000',\n       '2020-04-16T00:00:00.000000000'], dtype='datetime64[ns]')"
     },
     "execution_count": 12,
     "metadata": {},
     "output_type": "execute_result"
    }
   ],
   "source": [
    "window_dates"
   ],
   "metadata": {
    "collapsed": false,
    "ExecuteTime": {
     "end_time": "2024-02-16T04:40:14.755349100Z",
     "start_time": "2024-02-16T04:40:14.706693200Z"
    }
   },
   "id": "971fae6653095a07",
   "execution_count": 12
  },
  {
   "cell_type": "code",
   "outputs": [],
   "source": [
    "mms = MinMaxScaler()\n",
    "X_scaled = mms.fit_transform(X)\n",
    "y_scaled = mms.fit_transform(y.reshape(-1,1))"
   ],
   "metadata": {
    "collapsed": false,
    "ExecuteTime": {
     "end_time": "2024-02-16T04:40:15.310941900Z",
     "start_time": "2024-02-16T04:40:15.222797100Z"
    }
   },
   "id": "4b2f50c70f29990b",
   "execution_count": 13
  },
  {
   "cell_type": "code",
   "outputs": [],
   "source": [
    "val_test_threshold = round(X.shape[0] * 0.8)\n",
    "train_val_threshold = round(val_test_threshold * 0.8)\n",
    "\n",
    "train_length = train_val_threshold\n",
    "X_train = X_scaled[:train_val_threshold].reshape(train_length,1,window_size)\n",
    "y_train = y_scaled[:train_val_threshold]\n",
    "\n",
    "val_length = val_test_threshold - train_val_threshold\n",
    "X_val = X_scaled[train_val_threshold:val_test_threshold].reshape(val_length,1,window_size)\n",
    "y_val = y_scaled[train_val_threshold:val_test_threshold]\n",
    "\n",
    "test_length = X.shape[0] - val_test_threshold\n",
    "X_test = X_scaled[val_test_threshold:].reshape(test_length,1,window_size)\n",
    "y_test = y_scaled[val_test_threshold:]\n",
    "test_dates = window_dates[val_test_threshold:]"
   ],
   "metadata": {
    "collapsed": false,
    "ExecuteTime": {
     "end_time": "2024-02-16T04:40:15.779595700Z",
     "start_time": "2024-02-16T04:40:15.747876400Z"
    }
   },
   "id": "5dc6634863266141",
   "execution_count": 14
  },
  {
   "cell_type": "code",
   "outputs": [
    {
     "data": {
      "text/plain": "(1, 240)"
     },
     "execution_count": 15,
     "metadata": {},
     "output_type": "execute_result"
    }
   ],
   "source": [
    "X_train[0].shape"
   ],
   "metadata": {
    "collapsed": false,
    "ExecuteTime": {
     "end_time": "2024-02-16T04:40:16.300661Z",
     "start_time": "2024-02-16T04:40:16.272230400Z"
    }
   },
   "id": "39a7afbc1d42999b",
   "execution_count": 15
  },
  {
   "cell_type": "code",
   "outputs": [
    {
     "data": {
      "text/plain": "(21925, 1, 240)"
     },
     "execution_count": 16,
     "metadata": {},
     "output_type": "execute_result"
    }
   ],
   "source": [
    "X_train.shape"
   ],
   "metadata": {
    "collapsed": false,
    "ExecuteTime": {
     "end_time": "2024-02-16T04:40:16.815609600Z",
     "start_time": "2024-02-16T04:40:16.760702700Z"
    }
   },
   "id": "9d3ffa2f7ded044a",
   "execution_count": 16
  },
  {
   "cell_type": "markdown",
   "source": [
    "### Implementation of LSTM model"
   ],
   "metadata": {
    "collapsed": false
   },
   "id": "24e52828f899f7db"
  },
  {
   "cell_type": "code",
   "outputs": [
    {
     "name": "stdout",
     "output_type": "stream",
     "text": [
      "WARNING:tensorflow:From C:\\Users\\amith\\AppData\\Local\\Programs\\Python\\Python311\\Lib\\site-packages\\keras\\src\\layers\\rnn\\lstm.py:148: The name tf.executing_eagerly_outside_functions is deprecated. Please use tf.compat.v1.executing_eagerly_outside_functions instead.\n"
     ]
    }
   ],
   "source": [
    "model = tf.keras.models.Sequential(layers=[\n",
    "    tf.keras.layers.LSTM(units=100, input_shape=(1,window_size)),\n",
    "    tf.keras.layers.Dropout(0.25),\n",
    "    tf.keras.layers.Dense(units=1,activation=\"linear\")\n",
    "])"
   ],
   "metadata": {
    "collapsed": false,
    "ExecuteTime": {
     "end_time": "2024-02-16T04:40:18.575931100Z",
     "start_time": "2024-02-16T04:40:17.720495600Z"
    }
   },
   "id": "3fc457f044f41b9a",
   "execution_count": 17
  },
  {
   "cell_type": "code",
   "outputs": [],
   "source": [
    "model.compile(optimizer=tf.keras.optimizers.Adam(),loss=tf.keras.losses.mean_squared_error)"
   ],
   "metadata": {
    "collapsed": false,
    "ExecuteTime": {
     "end_time": "2024-02-16T04:40:18.771917200Z",
     "start_time": "2024-02-16T04:40:18.575931100Z"
    }
   },
   "id": "f3d3e31c1647a3b9",
   "execution_count": 18
  },
  {
   "cell_type": "code",
   "outputs": [
    {
     "name": "stdout",
     "output_type": "stream",
     "text": [
      "Epoch 1/100\n",
      "WARNING:tensorflow:From C:\\Users\\amith\\AppData\\Local\\Programs\\Python\\Python311\\Lib\\site-packages\\keras\\src\\utils\\tf_utils.py:492: The name tf.ragged.RaggedTensorValue is deprecated. Please use tf.compat.v1.ragged.RaggedTensorValue instead.\n",
      "686/686 [==============================] - 6s 5ms/step - loss: 0.0013 - val_loss: 3.7892e-04\n",
      "Epoch 2/100\n",
      "686/686 [==============================] - 3s 4ms/step - loss: 7.8500e-04 - val_loss: 2.3359e-05\n",
      "Epoch 3/100\n",
      "686/686 [==============================] - 3s 4ms/step - loss: 6.0615e-04 - val_loss: 2.0769e-05\n",
      "Epoch 4/100\n",
      "686/686 [==============================] - 3s 4ms/step - loss: 5.8097e-04 - val_loss: 2.0900e-05\n",
      "Epoch 5/100\n",
      "686/686 [==============================] - 3s 4ms/step - loss: 5.1592e-04 - val_loss: 1.7701e-05\n",
      "Epoch 6/100\n",
      "686/686 [==============================] - 3s 4ms/step - loss: 4.9929e-04 - val_loss: 1.6520e-05\n",
      "Epoch 7/100\n",
      "686/686 [==============================] - 3s 4ms/step - loss: 4.4767e-04 - val_loss: 1.0614e-05\n",
      "Epoch 8/100\n",
      "686/686 [==============================] - 3s 4ms/step - loss: 4.4981e-04 - val_loss: 7.4760e-05\n",
      "Epoch 9/100\n",
      "686/686 [==============================] - 2s 4ms/step - loss: 4.4574e-04 - val_loss: 2.4894e-05\n"
     ]
    },
    {
     "data": {
      "text/plain": "<keras.src.callbacks.History at 0x130850c6710>"
     },
     "execution_count": 19,
     "metadata": {},
     "output_type": "execute_result"
    }
   ],
   "source": [
    "model.fit(X_train, y_train, validation_data=(X_val, y_val), epochs=100, batch_size=32, verbose=1, shuffle=True, callbacks=tf.keras.callbacks.EarlyStopping(patience=2))"
   ],
   "metadata": {
    "collapsed": false,
    "ExecuteTime": {
     "end_time": "2024-02-16T04:40:47.244185800Z",
     "start_time": "2024-02-16T04:40:19.416272300Z"
    }
   },
   "id": "8ae3f0262c220044",
   "execution_count": 19
  },
  {
   "cell_type": "code",
   "outputs": [
    {
     "data": {
      "text/plain": "182.34"
     },
     "execution_count": 20,
     "metadata": {},
     "output_type": "execute_result"
    }
   ],
   "source": [
    "y_pred = model.predict(X_test,verbose=0)\n",
    "y_pred = mms.inverse_transform(y_pred)\n",
    "root_mean_squared_error = np.round(np.sqrt(mean_squared_error(y_test,y_pred)),2)\n",
    "root_mean_squared_error"
   ],
   "metadata": {
    "collapsed": false,
    "ExecuteTime": {
     "end_time": "2024-02-16T04:40:51.940539300Z",
     "start_time": "2024-02-16T04:40:50.559696Z"
    }
   },
   "id": "d32a933afc663dcf",
   "execution_count": 20
  },
  {
   "cell_type": "code",
   "outputs": [],
   "source": [],
   "metadata": {
    "collapsed": false,
    "ExecuteTime": {
     "end_time": "2024-02-16T04:40:52.637452Z",
     "start_time": "2024-02-16T04:40:52.625212600Z"
    }
   },
   "id": "9f13b419347754ad",
   "execution_count": 20
  },
  {
   "cell_type": "code",
   "outputs": [
    {
     "data": {
      "text/plain": "Text(0.5, 1.0, 'Graph for Close Price of 1 Ethereum')"
     },
     "execution_count": 21,
     "metadata": {},
     "output_type": "execute_result"
    },
    {
     "data": {
      "text/plain": "<Figure size 1000x300 with 1 Axes>",
      "image/png": "[encoded data removed]"
     },
     "metadata": {},
     "output_type": "display_data"
    }
   ],
   "source": [
    "plt.subplots(figsize=(10,3))\n",
    "sns.lineplot(x=window_dates,y=y)\n",
    "test_dates_11 = test_dates.reshape(1,-1)\n",
    "y_pred_11 = y_pred.reshape(1,-1)\n",
    "sns.lineplot(x=test_dates_11[0],y=y_pred_11[0])\n",
    "plt.xlabel(\"Time ---------->\")\n",
    "plt.ylabel(\"Price in USD ---------->\")\n",
    "plt.title(\"Graph for Close Price of 1 Ethereum\")"
   ],
   "metadata": {
    "collapsed": false,
    "ExecuteTime": {
     "end_time": "2024-02-16T04:40:54.009035200Z",
     "start_time": "2024-02-16T04:40:53.088929100Z"
    }
   },
   "id": "e98cc04ed7a05e92",
   "execution_count": 21
  },
  {
   "cell_type": "code",
   "outputs": [
    {
     "name": "stdout",
     "output_type": "stream",
     "text": [
      "[[275.69196 276.3563  276.85562 ... 154.64336 154.38126 153.7242 ]]\n"
     ]
    }
   ],
   "source": [
    "print(y_pred_11)"
   ],
   "metadata": {
    "collapsed": false,
    "ExecuteTime": {
     "end_time": "2024-02-16T04:40:54.650867400Z",
     "start_time": "2024-02-16T04:40:54.629977Z"
    }
   },
   "id": "4aa5bdac3375efea",
   "execution_count": 22
  },
  {
   "cell_type": "code",
   "outputs": [
    {
     "data": {
      "text/plain": "6851"
     },
     "execution_count": 23,
     "metadata": {},
     "output_type": "execute_result"
    }
   ],
   "source": [
    "X_test.shape[0]"
   ],
   "metadata": {
    "collapsed": false,
    "ExecuteTime": {
     "end_time": "2024-02-16T04:40:55.461993400Z",
     "start_time": "2024-02-16T04:40:55.437990900Z"
    }
   },
   "id": "bec010299e32d004",
   "execution_count": 23
  },
  {
   "cell_type": "markdown",
   "source": [
    "### Prediction of Future Values"
   ],
   "metadata": {
    "collapsed": false
   },
   "id": "71909bbbc5068f19"
  },
  {
   "cell_type": "code",
   "outputs": [],
   "source": [
    "X_2 = X.copy()\n",
    "y_2 = y.copy()\n",
    "\n",
    "mms_2 = MinMaxScaler()\n",
    "X_2_scaled = mms_2.fit_transform(X_2)\n",
    "y_2_scaled = mms_2.fit_transform(y_2.reshape(-1,1))"
   ],
   "metadata": {
    "collapsed": false,
    "ExecuteTime": {
     "end_time": "2024-02-16T04:40:56.407642300Z",
     "start_time": "2024-02-16T04:40:56.289699800Z"
    }
   },
   "id": "1f7e3c7d413259eb",
   "execution_count": 24
  },
  {
   "cell_type": "code",
   "outputs": [],
   "source": [
    "train_val_threshold_2 = round(0.8 * X_2.shape[0])\n",
    "no_of_windows_2 = 240\n",
    "\n",
    "X_train_2 = X_2_scaled[:train_val_threshold_2]\n",
    "y_train_2 = y_2_scaled[:train_val_threshold_2]\n",
    "\n",
    "X_val_2 = X_2_scaled[train_val_threshold_2:]\n",
    "y_val_2 = y_2_scaled[train_val_threshold_2:]\n",
    "\n",
    "no_of_train_rows_2 = X_train_2.shape[0]\n",
    "no_of_val_rows_2 = X_val_2.shape[0]\n",
    "\n",
    "X_train_2 = X_train_2.reshape(no_of_train_rows_2,1,no_of_windows_2)\n",
    "X_val_2 = X_val_2.reshape(no_of_val_rows_2,1,no_of_windows_2)"
   ],
   "metadata": {
    "collapsed": false,
    "ExecuteTime": {
     "end_time": "2024-02-16T04:40:57.167988700Z",
     "start_time": "2024-02-16T04:40:57.151342300Z"
    }
   },
   "id": "a772e62abb228269",
   "execution_count": 25
  },
  {
   "cell_type": "code",
   "outputs": [],
   "source": [
    "model_2 = tf.keras.models.Sequential(layers=[\n",
    "    tf.keras.layers.LSTM(units=100, input_shape=(1, window_size)),\n",
    "    tf.keras.layers.Dropout(0.25),\n",
    "    tf.keras.layers.Dense(units=1, activation=\"linear\")\n",
    "])"
   ],
   "metadata": {
    "collapsed": false,
    "ExecuteTime": {
     "end_time": "2024-02-16T04:40:59.112170400Z",
     "start_time": "2024-02-16T04:40:58.898790900Z"
    }
   },
   "id": "5320f912e2ed1c41",
   "execution_count": 26
  },
  {
   "cell_type": "code",
   "outputs": [],
   "source": [
    "model.compile(optimizer=tf.keras.optimizers.Adam(), loss=tf.keras.losses.mean_squared_error)"
   ],
   "metadata": {
    "collapsed": false,
    "ExecuteTime": {
     "end_time": "2024-02-16T04:40:59.783932300Z",
     "start_time": "2024-02-16T04:40:59.758674500Z"
    }
   },
   "id": "7e3d49cc4a344002",
   "execution_count": 27
  },
  {
   "cell_type": "code",
   "outputs": [
    {
     "name": "stdout",
     "output_type": "stream",
     "text": [
      "Epoch 1/100\n",
      "857/857 [==============================] - 6s 5ms/step - loss: 3.5843e-04 - val_loss: 1.1408e-05\n",
      "Epoch 2/100\n",
      "857/857 [==============================] - 4s 4ms/step - loss: 3.6432e-04 - val_loss: 1.2861e-05\n",
      "Epoch 3/100\n",
      "857/857 [==============================] - 4s 4ms/step - loss: 3.4437e-04 - val_loss: 1.6966e-05\n"
     ]
    },
    {
     "data": {
      "text/plain": "<keras.src.callbacks.History at 0x13090eed9d0>"
     },
     "execution_count": 28,
     "metadata": {},
     "output_type": "execute_result"
    }
   ],
   "source": [
    "model.fit(X_train_2, y_train_2, validation_data=(X_val_2, y_val_2), epochs=100, batch_size=32, verbose=1, shuffle=True,\n",
    "          callbacks=tf.keras.callbacks.EarlyStopping(patience=2))"
   ],
   "metadata": {
    "collapsed": false,
    "ExecuteTime": {
     "end_time": "2024-02-16T04:41:13.838473Z",
     "start_time": "2024-02-16T04:41:00.544043100Z"
    }
   },
   "id": "865db346a64600e7",
   "execution_count": 28
  },
  {
   "cell_type": "code",
   "outputs": [],
   "source": [
    "future_start_date = \"2020-04-16 01:00:00\"\n",
    "future_end_date = \"2020-05-17 01:00:00\"\n",
    "\n",
    "future_dates = pd.date_range(start=future_start_date,end=future_end_date,freq=\"h\").values"
   ],
   "metadata": {
    "collapsed": false,
    "ExecuteTime": {
     "end_time": "2024-02-16T04:41:17.047144300Z",
     "start_time": "2024-02-16T04:41:17.022516300Z"
    }
   },
   "id": "314907ddb50adbdb",
   "execution_count": 29
  },
  {
   "cell_type": "code",
   "outputs": [
    {
     "name": "stdout",
     "output_type": "stream",
     "text": [
      "1  :  745\n",
      "2  :  745\n",
      "3  :  745\n",
      "4  :  745\n",
      "5  :  745\n",
      "6  :  745\n",
      "7  :  745\n",
      "8  :  745\n",
      "9  :  745\n",
      "10  :  745\n",
      "11  :  745\n",
      "12  :  745\n",
      "13  :  745\n",
      "14  :  745\n",
      "15  :  745\n",
      "16  :  745\n",
      "17  :  745\n",
      "18  :  745\n",
      "19  :  745\n",
      "20  :  745\n",
      "21  :  745\n",
      "22  :  745\n",
      "23  :  745\n",
      "24  :  745\n",
      "25  :  745\n",
      "26  :  745\n",
      "27  :  745\n",
      "28  :  745\n",
      "29  :  745\n",
      "30  :  745\n",
      "31  :  745\n",
      "32  :  745\n",
      "33  :  745\n",
      "34  :  745\n",
      "35  :  745\n",
      "36  :  745\n",
      "37  :  745\n",
      "38  :  745\n",
      "39  :  745\n",
      "40  :  745\n",
      "41  :  745\n",
      "42  :  745\n",
      "43  :  745\n",
      "44  :  745\n",
      "45  :  745\n",
      "46  :  745\n",
      "47  :  745\n",
      "48  :  745\n",
      "49  :  745\n",
      "50  :  745\n",
      "51  :  745\n",
      "52  :  745\n",
      "53  :  745\n",
      "54  :  745\n",
      "55  :  745\n",
      "56  :  745\n",
      "57  :  745\n",
      "58  :  745\n",
      "59  :  745\n",
      "60  :  745\n",
      "61  :  745\n",
      "62  :  745\n",
      "63  :  745\n",
      "64  :  745\n",
      "65  :  745\n",
      "66  :  745\n",
      "67  :  745\n",
      "68  :  745\n",
      "69  :  745\n",
      "70  :  745\n",
      "71  :  745\n",
      "72  :  745\n",
      "73  :  745\n",
      "74  :  745\n",
      "75  :  745\n",
      "76  :  745\n",
      "77  :  745\n",
      "78  :  745\n",
      "79  :  745\n",
      "80  :  745\n",
      "81  :  745\n",
      "82  :  745\n",
      "83  :  745\n",
      "84  :  745\n",
      "85  :  745\n",
      "86  :  745\n",
      "87  :  745\n",
      "88  :  745\n",
      "89  :  745\n",
      "90  :  745\n",
      "91  :  745\n",
      "92  :  745\n",
      "93  :  745\n",
      "94  :  745\n",
      "95  :  745\n",
      "96  :  745\n",
      "97  :  745\n",
      "98  :  745\n",
      "99  :  745\n",
      "100  :  745\n",
      "101  :  745\n",
      "102  :  745\n",
      "103  :  745\n",
      "104  :  745\n",
      "105  :  745\n",
      "106  :  745\n",
      "107  :  745\n",
      "108  :  745\n",
      "109  :  745\n",
      "110  :  745\n",
      "111  :  745\n",
      "112  :  745\n",
      "113  :  745\n",
      "114  :  745\n",
      "115  :  745\n",
      "116  :  745\n",
      "117  :  745\n",
      "118  :  745\n",
      "119  :  745\n",
      "120  :  745\n",
      "121  :  745\n",
      "122  :  745\n",
      "123  :  745\n",
      "124  :  745\n",
      "125  :  745\n",
      "126  :  745\n",
      "127  :  745\n",
      "128  :  745\n",
      "129  :  745\n",
      "130  :  745\n",
      "131  :  745\n",
      "132  :  745\n",
      "133  :  745\n",
      "134  :  745\n",
      "135  :  745\n",
      "136  :  745\n",
      "137  :  745\n",
      "138  :  745\n",
      "139  :  745\n",
      "140  :  745\n",
      "141  :  745\n",
      "142  :  745\n",
      "143  :  745\n",
      "144  :  745\n",
      "145  :  745\n",
      "146  :  745\n",
      "147  :  745\n",
      "148  :  745\n",
      "149  :  745\n",
      "150  :  745\n",
      "151  :  745\n",
      "152  :  745\n",
      "153  :  745\n",
      "154  :  745\n",
      "155  :  745\n",
      "156  :  745\n",
      "157  :  745\n",
      "158  :  745\n",
      "159  :  745\n",
      "160  :  745\n",
      "161  :  745\n",
      "162  :  745\n",
      "163  :  745\n",
      "164  :  745\n",
      "165  :  745\n",
      "166  :  745\n",
      "167  :  745\n",
      "168  :  745\n",
      "169  :  745\n",
      "170  :  745\n",
      "171  :  745\n",
      "172  :  745\n",
      "173  :  745\n",
      "174  :  745\n",
      "175  :  745\n",
      "176  :  745\n",
      "177  :  745\n",
      "178  :  745\n",
      "179  :  745\n",
      "180  :  745\n",
      "181  :  745\n",
      "182  :  745\n",
      "183  :  745\n",
      "184  :  745\n",
      "185  :  745\n",
      "186  :  745\n",
      "187  :  745\n",
      "188  :  745\n",
      "189  :  745\n",
      "190  :  745\n",
      "191  :  745\n",
      "192  :  745\n",
      "193  :  745\n",
      "194  :  745\n",
      "195  :  745\n",
      "196  :  745\n",
      "197  :  745\n",
      "198  :  745\n",
      "199  :  745\n",
      "200  :  745\n",
      "201  :  745\n",
      "202  :  745\n",
      "203  :  745\n",
      "204  :  745\n",
      "205  :  745\n",
      "206  :  745\n",
      "207  :  745\n",
      "208  :  745\n",
      "209  :  745\n",
      "210  :  745\n",
      "211  :  745\n",
      "212  :  745\n",
      "213  :  745\n",
      "214  :  745\n",
      "215  :  745\n",
      "216  :  745\n",
      "217  :  745\n",
      "218  :  745\n",
      "219  :  745\n",
      "220  :  745\n",
      "221  :  745\n",
      "222  :  745\n",
      "223  :  745\n",
      "224  :  745\n",
      "225  :  745\n",
      "226  :  745\n",
      "227  :  745\n",
      "228  :  745\n",
      "229  :  745\n",
      "230  :  745\n",
      "231  :  745\n",
      "232  :  745\n",
      "233  :  745\n",
      "234  :  745\n",
      "235  :  745\n",
      "236  :  745\n",
      "237  :  745\n",
      "238  :  745\n",
      "239  :  745\n",
      "240  :  745\n",
      "241  :  745\n",
      "242  :  745\n",
      "243  :  745\n",
      "244  :  745\n",
      "245  :  745\n",
      "246  :  745\n",
      "247  :  745\n",
      "248  :  745\n",
      "249  :  745\n",
      "250  :  745\n",
      "251  :  745\n",
      "252  :  745\n",
      "253  :  745\n",
      "254  :  745\n",
      "255  :  745\n",
      "256  :  745\n",
      "257  :  745\n",
      "258  :  745\n",
      "259  :  745\n",
      "260  :  745\n",
      "261  :  745\n",
      "262  :  745\n",
      "263  :  745\n",
      "264  :  745\n",
      "265  :  745\n",
      "266  :  745\n",
      "267  :  745\n",
      "268  :  745\n",
      "269  :  745\n",
      "270  :  745\n",
      "271  :  745\n",
      "272  :  745\n",
      "273  :  745\n",
      "274  :  745\n",
      "275  :  745\n",
      "276  :  745\n",
      "277  :  745\n",
      "278  :  745\n",
      "279  :  745\n",
      "280  :  745\n",
      "281  :  745\n",
      "282  :  745\n",
      "283  :  745\n",
      "284  :  745\n",
      "285  :  745\n",
      "286  :  745\n",
      "287  :  745\n",
      "288  :  745\n",
      "289  :  745\n",
      "290  :  745\n",
      "291  :  745\n",
      "292  :  745\n",
      "293  :  745\n",
      "294  :  745\n",
      "295  :  745\n",
      "296  :  745\n",
      "297  :  745\n",
      "298  :  745\n",
      "299  :  745\n",
      "300  :  745\n",
      "301  :  745\n",
      "302  :  745\n",
      "303  :  745\n",
      "304  :  745\n",
      "305  :  745\n",
      "306  :  745\n",
      "307  :  745\n",
      "308  :  745\n",
      "309  :  745\n",
      "310  :  745\n",
      "311  :  745\n",
      "312  :  745\n",
      "313  :  745\n",
      "314  :  745\n",
      "315  :  745\n",
      "316  :  745\n",
      "317  :  745\n",
      "318  :  745\n",
      "319  :  745\n",
      "320  :  745\n",
      "321  :  745\n",
      "322  :  745\n",
      "323  :  745\n",
      "324  :  745\n",
      "325  :  745\n",
      "326  :  745\n",
      "327  :  745\n",
      "328  :  745\n",
      "329  :  745\n",
      "330  :  745\n",
      "331  :  745\n",
      "332  :  745\n",
      "333  :  745\n",
      "334  :  745\n",
      "335  :  745\n",
      "336  :  745\n",
      "337  :  745\n",
      "338  :  745\n",
      "339  :  745\n",
      "340  :  745\n",
      "341  :  745\n",
      "342  :  745\n",
      "343  :  745\n",
      "344  :  745\n",
      "345  :  745\n",
      "346  :  745\n",
      "347  :  745\n",
      "348  :  745\n",
      "349  :  745\n",
      "350  :  745\n",
      "351  :  745\n",
      "352  :  745\n",
      "353  :  745\n",
      "354  :  745\n",
      "355  :  745\n",
      "356  :  745\n",
      "357  :  745\n",
      "358  :  745\n",
      "359  :  745\n",
      "360  :  745\n",
      "361  :  745\n",
      "362  :  745\n",
      "363  :  745\n",
      "364  :  745\n",
      "365  :  745\n",
      "366  :  745\n",
      "367  :  745\n",
      "368  :  745\n",
      "369  :  745\n",
      "370  :  745\n",
      "371  :  745\n",
      "372  :  745\n",
      "373  :  745\n",
      "374  :  745\n",
      "375  :  745\n",
      "376  :  745\n",
      "377  :  745\n",
      "378  :  745\n",
      "379  :  745\n",
      "380  :  745\n",
      "381  :  745\n",
      "382  :  745\n",
      "383  :  745\n",
      "384  :  745\n",
      "385  :  745\n",
      "386  :  745\n",
      "387  :  745\n",
      "388  :  745\n",
      "389  :  745\n",
      "390  :  745\n",
      "391  :  745\n",
      "392  :  745\n",
      "393  :  745\n",
      "394  :  745\n",
      "395  :  745\n",
      "396  :  745\n",
      "397  :  745\n",
      "398  :  745\n",
      "399  :  745\n",
      "400  :  745\n",
      "401  :  745\n",
      "402  :  745\n",
      "403  :  745\n",
      "404  :  745\n",
      "405  :  745\n",
      "406  :  745\n",
      "407  :  745\n",
      "408  :  745\n",
      "409  :  745\n",
      "410  :  745\n",
      "411  :  745\n",
      "412  :  745\n",
      "413  :  745\n",
      "414  :  745\n",
      "415  :  745\n",
      "416  :  745\n",
      "417  :  745\n",
      "418  :  745\n",
      "419  :  745\n",
      "420  :  745\n",
      "421  :  745\n",
      "422  :  745\n",
      "423  :  745\n",
      "424  :  745\n",
      "425  :  745\n",
      "426  :  745\n",
      "427  :  745\n",
      "428  :  745\n",
      "429  :  745\n",
      "430  :  745\n",
      "431  :  745\n",
      "432  :  745\n",
      "433  :  745\n",
      "434  :  745\n",
      "435  :  745\n",
      "436  :  745\n",
      "437  :  745\n",
      "438  :  745\n",
      "439  :  745\n",
      "440  :  745\n",
      "441  :  745\n",
      "442  :  745\n",
      "443  :  745\n",
      "444  :  745\n",
      "445  :  745\n",
      "446  :  745\n",
      "447  :  745\n",
      "448  :  745\n",
      "449  :  745\n",
      "450  :  745\n",
      "451  :  745\n",
      "452  :  745\n",
      "453  :  745\n",
      "454  :  745\n",
      "455  :  745\n",
      "456  :  745\n",
      "457  :  745\n",
      "458  :  745\n",
      "459  :  745\n",
      "460  :  745\n",
      "461  :  745\n",
      "462  :  745\n",
      "463  :  745\n",
      "464  :  745\n",
      "465  :  745\n",
      "466  :  745\n",
      "467  :  745\n",
      "468  :  745\n",
      "469  :  745\n",
      "470  :  745\n",
      "471  :  745\n",
      "472  :  745\n",
      "473  :  745\n",
      "474  :  745\n",
      "475  :  745\n",
      "476  :  745\n",
      "477  :  745\n",
      "478  :  745\n",
      "479  :  745\n",
      "480  :  745\n",
      "481  :  745\n",
      "482  :  745\n",
      "483  :  745\n",
      "484  :  745\n",
      "485  :  745\n",
      "486  :  745\n",
      "487  :  745\n",
      "488  :  745\n",
      "489  :  745\n",
      "490  :  745\n",
      "491  :  745\n",
      "492  :  745\n",
      "493  :  745\n",
      "494  :  745\n",
      "495  :  745\n",
      "496  :  745\n",
      "497  :  745\n",
      "498  :  745\n",
      "499  :  745\n",
      "500  :  745\n",
      "501  :  745\n",
      "502  :  745\n",
      "503  :  745\n",
      "504  :  745\n",
      "505  :  745\n",
      "506  :  745\n",
      "507  :  745\n",
      "508  :  745\n",
      "509  :  745\n",
      "510  :  745\n",
      "511  :  745\n",
      "512  :  745\n",
      "513  :  745\n",
      "514  :  745\n",
      "515  :  745\n",
      "516  :  745\n",
      "517  :  745\n",
      "518  :  745\n",
      "519  :  745\n",
      "520  :  745\n",
      "521  :  745\n",
      "522  :  745\n",
      "523  :  745\n",
      "524  :  745\n",
      "525  :  745\n",
      "526  :  745\n",
      "527  :  745\n",
      "528  :  745\n",
      "529  :  745\n",
      "530  :  745\n",
      "531  :  745\n",
      "532  :  745\n",
      "533  :  745\n",
      "534  :  745\n",
      "535  :  745\n",
      "536  :  745\n",
      "537  :  745\n",
      "538  :  745\n",
      "539  :  745\n",
      "540  :  745\n",
      "541  :  745\n",
      "542  :  745\n",
      "543  :  745\n",
      "544  :  745\n",
      "545  :  745\n",
      "546  :  745\n",
      "547  :  745\n",
      "548  :  745\n",
      "549  :  745\n",
      "550  :  745\n",
      "551  :  745\n",
      "552  :  745\n",
      "553  :  745\n",
      "554  :  745\n",
      "555  :  745\n",
      "556  :  745\n",
      "557  :  745\n",
      "558  :  745\n",
      "559  :  745\n",
      "560  :  745\n",
      "561  :  745\n",
      "562  :  745\n",
      "563  :  745\n",
      "564  :  745\n",
      "565  :  745\n",
      "566  :  745\n",
      "567  :  745\n",
      "568  :  745\n",
      "569  :  745\n",
      "570  :  745\n",
      "571  :  745\n",
      "572  :  745\n",
      "573  :  745\n",
      "574  :  745\n",
      "575  :  745\n",
      "576  :  745\n",
      "577  :  745\n",
      "578  :  745\n",
      "579  :  745\n",
      "580  :  745\n",
      "581  :  745\n",
      "582  :  745\n",
      "583  :  745\n",
      "584  :  745\n",
      "585  :  745\n",
      "586  :  745\n",
      "587  :  745\n",
      "588  :  745\n",
      "589  :  745\n",
      "590  :  745\n",
      "591  :  745\n",
      "592  :  745\n",
      "593  :  745\n",
      "594  :  745\n",
      "595  :  745\n",
      "596  :  745\n",
      "597  :  745\n",
      "598  :  745\n",
      "599  :  745\n",
      "600  :  745\n",
      "601  :  745\n",
      "602  :  745\n",
      "603  :  745\n",
      "604  :  745\n",
      "605  :  745\n",
      "606  :  745\n",
      "607  :  745\n",
      "608  :  745\n",
      "609  :  745\n",
      "610  :  745\n",
      "611  :  745\n",
      "612  :  745\n",
      "613  :  745\n",
      "614  :  745\n",
      "615  :  745\n",
      "616  :  745\n",
      "617  :  745\n",
      "618  :  745\n",
      "619  :  745\n",
      "620  :  745\n",
      "621  :  745\n",
      "622  :  745\n",
      "623  :  745\n",
      "624  :  745\n",
      "625  :  745\n",
      "626  :  745\n",
      "627  :  745\n",
      "628  :  745\n",
      "629  :  745\n",
      "630  :  745\n",
      "631  :  745\n",
      "632  :  745\n",
      "633  :  745\n",
      "634  :  745\n",
      "635  :  745\n",
      "636  :  745\n",
      "637  :  745\n",
      "638  :  745\n",
      "639  :  745\n",
      "640  :  745\n",
      "641  :  745\n",
      "642  :  745\n",
      "643  :  745\n",
      "644  :  745\n",
      "645  :  745\n",
      "646  :  745\n",
      "647  :  745\n",
      "648  :  745\n",
      "649  :  745\n",
      "650  :  745\n",
      "651  :  745\n",
      "652  :  745\n",
      "653  :  745\n",
      "654  :  745\n",
      "655  :  745\n",
      "656  :  745\n",
      "657  :  745\n",
      "658  :  745\n",
      "659  :  745\n",
      "660  :  745\n",
      "661  :  745\n",
      "662  :  745\n",
      "663  :  745\n",
      "664  :  745\n",
      "665  :  745\n",
      "666  :  745\n",
      "667  :  745\n",
      "668  :  745\n",
      "669  :  745\n",
      "670  :  745\n",
      "671  :  745\n",
      "672  :  745\n",
      "673  :  745\n",
      "674  :  745\n",
      "675  :  745\n",
      "676  :  745\n",
      "677  :  745\n",
      "678  :  745\n",
      "679  :  745\n",
      "680  :  745\n",
      "681  :  745\n",
      "682  :  745\n",
      "683  :  745\n",
      "684  :  745\n",
      "685  :  745\n",
      "686  :  745\n",
      "687  :  745\n",
      "688  :  745\n",
      "689  :  745\n",
      "690  :  745\n",
      "691  :  745\n",
      "692  :  745\n",
      "693  :  745\n",
      "694  :  745\n",
      "695  :  745\n",
      "696  :  745\n",
      "697  :  745\n",
      "698  :  745\n",
      "699  :  745\n",
      "700  :  745\n",
      "701  :  745\n",
      "702  :  745\n",
      "703  :  745\n",
      "704  :  745\n",
      "705  :  745\n",
      "706  :  745\n",
      "707  :  745\n",
      "708  :  745\n",
      "709  :  745\n",
      "710  :  745\n",
      "711  :  745\n",
      "712  :  745\n",
      "713  :  745\n",
      "714  :  745\n",
      "715  :  745\n",
      "716  :  745\n",
      "717  :  745\n",
      "718  :  745\n",
      "719  :  745\n",
      "720  :  745\n",
      "721  :  745\n",
      "722  :  745\n",
      "723  :  745\n",
      "724  :  745\n",
      "725  :  745\n",
      "726  :  745\n",
      "727  :  745\n",
      "728  :  745\n",
      "729  :  745\n",
      "730  :  745\n",
      "731  :  745\n",
      "732  :  745\n",
      "733  :  745\n",
      "734  :  745\n",
      "735  :  745\n",
      "736  :  745\n",
      "737  :  745\n",
      "738  :  745\n",
      "739  :  745\n",
      "740  :  745\n",
      "741  :  745\n",
      "742  :  745\n",
      "743  :  745\n",
      "744  :  745\n",
      "745  :  745\n"
     ]
    }
   ],
   "source": [
    "input_arr_2 = np.array(X_2_scaled[-1,1:].tolist() + [y_2_scaled[-1][0]])\n",
    "output_2 = model_2.predict(input_arr_2.reshape(1,1,-1),verbose=0)[0][0]\n",
    "X_test_2 = []\n",
    "y_test_2 = []\n",
    "X_test_2.append(input_arr_2)\n",
    "y_test_2.append(output_2)\n",
    "i = 0\n",
    "print((i+1),\" : \",len(future_dates))\n",
    "\n",
    "for i in range(1,len(future_dates)):\n",
    "    current_window_2 = X_test_2[i-1]\n",
    "    input_arr_2 = np.array(current_window_2[1:].tolist() + [y_test_2[i-1]])\n",
    "    output_2 = model_2.predict(input_arr_2.reshape(1,1,-1),verbose=0)[0][0]\n",
    "    X_test_2.append(input_arr_2)\n",
    "    y_test_2.append(output_2)\n",
    "    print((i+1),\" : \",len(future_dates))\n",
    "    \n",
    "X_test_2 = np.array(X_test_2)\n",
    "y_test_2 = np.array(y_test_2)"
   ],
   "metadata": {
    "collapsed": false,
    "ExecuteTime": {
     "end_time": "2024-02-16T04:52:03.800545300Z",
     "start_time": "2024-02-16T04:51:02.370107500Z"
    }
   },
   "id": "d1d24e911aa32097",
   "execution_count": 32
  },
  {
   "cell_type": "code",
   "outputs": [
    {
     "ename": "NameError",
     "evalue": "name 'plt' is not defined",
     "output_type": "error",
     "traceback": [
      "\u001B[1;31m---------------------------------------------------------------------------\u001B[0m",
      "\u001B[1;31mNameError\u001B[0m                                 Traceback (most recent call last)",
      "Cell \u001B[1;32mIn[1], line 1\u001B[0m\n\u001B[1;32m----> 1\u001B[0m \u001B[43mplt\u001B[49m\u001B[38;5;241m.\u001B[39msubplots(figsize\u001B[38;5;241m=\u001B[39m(\u001B[38;5;241m10\u001B[39m,\u001B[38;5;241m3\u001B[39m))\n\u001B[0;32m      2\u001B[0m sns\u001B[38;5;241m.\u001B[39mlineplot(x\u001B[38;5;241m=\u001B[39mwindow_dates,y\u001B[38;5;241m=\u001B[39my)\n\u001B[0;32m      3\u001B[0m test_dates_11 \u001B[38;5;241m=\u001B[39m test_dates\u001B[38;5;241m.\u001B[39mreshape(\u001B[38;5;241m1\u001B[39m,\u001B[38;5;241m-\u001B[39m\u001B[38;5;241m1\u001B[39m)\n",
      "\u001B[1;31mNameError\u001B[0m: name 'plt' is not defined"
     ]
    }
   ],
   "source": [
    "plt.subplots(figsize=(10,3))\n",
    "sns.lineplot(x=window_dates,y=y)\n",
    "test_dates_11 = test_dates.reshape(1,-1)\n",
    "y_pred_11 = y_pred.reshape(1,-1)\n",
    "sns.lineplot(x=test_dates_11[0],y=y_pred_11[0])\n",
    "sns.lineplot(x=future_dates,y=y_test_2.reshape(1,-1)[0])\n",
    "plt.xlabel(\"Time ---------->\")\n",
    "plt.ylabel(\"Price in USD ---------->\")\n",
    "plt.title(\"Graph for Close Price of 1 Ethereum\")"
   ],
   "metadata": {
    "collapsed": false,
    "ExecuteTime": {
     "end_time": "2024-02-18T18:27:20.294248Z",
     "start_time": "2024-02-18T18:27:19.632713Z"
    }
   },
   "id": "c898b692dc341798",
   "execution_count": 1
  },
  {
   "cell_type": "code",
   "outputs": [
    {
     "data": {
      "text/plain": "Text(0.5, 1.0, 'Graph for Close Price of 1 Ethereum')"
     },
     "execution_count": 34,
     "metadata": {},
     "output_type": "execute_result"
    },
    {
     "data": {
      "text/plain": "<Figure size 1000x300 with 1 Axes>",
      "image/png": "[encoded data removed]"
     },
     "metadata": {},
     "output_type": "display_data"
    }
   ],
   "source": [
    "plt.subplots(figsize=(10,3))\n",
    "test_dates_11 = test_dates.reshape(1,-1)\n",
    "y_pred_11 = y_pred.reshape(1,-1)\n",
    "sns.lineplot(x=test_dates_11[0],y=y_pred_11[0])\n",
    "sns.lineplot(x=future_dates,y=y_test_2.reshape(1,-1)[0])\n",
    "plt.xlabel(\"Time ---------->\")\n",
    "plt.ylabel(\"Price in USD ---------->\")\n",
    "plt.title(\"Graph for Close Price of 1 Ethereum\")"
   ],
   "metadata": {
    "collapsed": false,
    "ExecuteTime": {
     "end_time": "2024-02-16T04:54:24.893249600Z",
     "start_time": "2024-02-16T04:54:24.407318900Z"
    }
   },
   "id": "f6c42a3a1e7a9983",
   "execution_count": 34
  }
 ],
 "metadata": {
  "kernelspec": {
   "display_name": "Python 3",
   "language": "python",
   "name": "python3"
  },
  "language_info": {
   "codemirror_mode": {
    "name": "ipython",
    "version": 2
   },
   "file_extension": ".py",
   "mimetype": "text/x-python",
   "name": "python",
   "nbconvert_exporter": "python",
   "pygments_lexer": "ipython2",
   "version": "2.7.6"
  }
 },
 "nbformat": 4,
 "nbformat_minor": 5
}
