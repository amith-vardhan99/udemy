{
 "cells": [
  {
   "cell_type": "code",
   "execution_count": 26,
   "id": "initial_id",
   "metadata": {
    "collapsed": true,
    "ExecuteTime": {
     "end_time": "2024-02-13T23:26:17.282720400Z",
     "start_time": "2024-02-13T23:26:17.259150500Z"
    }
   },
   "outputs": [],
   "source": [
    "import numpy as np\n",
    "import pandas as pd\n",
    "import tensorflow as tf\n",
    "import joblib\n",
    "from datetime import *"
   ]
  },
  {
   "cell_type": "code",
   "outputs": [],
   "source": [
    "model = tf.keras.models.load_model(\"app/model.keras\")\n",
    "mms = joblib.load(\"app/scaler.joblib\")\n",
    "\n",
    "cont = np.load(\"closing price window and target.npz\")"
   ],
   "metadata": {
    "collapsed": false,
    "ExecuteTime": {
     "end_time": "2024-02-13T23:26:18.311986300Z",
     "start_time": "2024-02-13T23:26:17.666174700Z"
    }
   },
   "id": "1124b5940adf6d1f",
   "execution_count": 27
  },
  {
   "cell_type": "code",
   "outputs": [
    {
     "name": "stdout",
     "output_type": "stream",
     "text": [
      "240\n"
     ]
    }
   ],
   "source": [
    "X = cont[\"window\"]\n",
    "y = cont[\"target\"]\n",
    "length = cont[\"window_size\"]\n",
    "\n",
    "print(length)"
   ],
   "metadata": {
    "collapsed": false,
    "ExecuteTime": {
     "end_time": "2024-02-13T23:26:18.513117700Z",
     "start_time": "2024-02-13T23:26:18.315567Z"
    }
   },
   "id": "d24de90e4f6a6690",
   "execution_count": 28
  },
  {
   "cell_type": "code",
   "outputs": [
    {
     "name": "stdout",
     "output_type": "stream",
     "text": [
      "Epoch 1/100\n"
     ]
    }
   ],
   "source": [
    "X_train_val = mms.fit_transform(X)\n",
    "y_train_val = mms.fit_transform(y.reshape(-1,1))\n",
    "\n",
    "train_val_threshold = round(0.8 * X.shape[0])\n",
    "length_of_window = length\n",
    "\n",
    "X_train = X_train_val[:train_val_threshold]\n",
    "y_train = y_train_val[:train_val_threshold]\n",
    "\n",
    "X_val = X_train_val[train_val_threshold:]\n",
    "y_val = y_train_val[train_val_threshold:]\n",
    "\n",
    "train_rows =  X_train.shape[0]\n",
    "val_rows = X_val.shape[0]\n",
    "\n",
    "X_train = X_train.reshape(train_rows, 1, length_of_window)\n",
    "X_val = X_val.reshape(val_rows, 1, length_of_window)\n",
    "\n",
    "model.compile(optimizer=tf.keras.optimizers.Adam(), loss=tf.keras.losses.mean_squared_error)\n",
    "model.fit(X_train, y_train, validation_data = (X_val, y_val), epochs=100, batch_size=32, verbose=1, shuffle=True, callbacks=tf.keras.callbacks.EarlyStopping(patience=2))"
   ],
   "metadata": {
    "collapsed": false,
    "is_executing": true,
    "ExecuteTime": {
     "start_time": "2024-02-13T23:26:19.001710400Z"
    }
   },
   "id": "1e1b4427f3369ffa",
   "execution_count": null
  },
  {
   "cell_type": "code",
   "outputs": [],
   "source": [
    "def generate_dates(future_end_date):\n",
    "    future_start_date = \"2020-04-16 01:00:00\"\n",
    "    future_end_date = future_end_date.strip()\n",
    "    future_end_date = pd.to_datetime(future_end_date+\" 01:00:00\")\n",
    "\n",
    "    future_dates = pd.date_range(start=future_start_date,end=future_end_date,freq=\"h\").values\n",
    "    return future_dates"
   ],
   "metadata": {
    "collapsed": false,
    "ExecuteTime": {
     "end_time": "2024-02-13T23:22:24.551390200Z",
     "start_time": "2024-02-13T23:22:24.517007800Z"
    }
   },
   "id": "3887baf8ab9a1123",
   "execution_count": 25
  },
  {
   "cell_type": "code",
   "outputs": [],
   "source": [
    "def generate_future_targets(future_dates):\n",
    "\n",
    "    X_test = []\n",
    "    y_test = []\n",
    "\n",
    "    input_arr = np.array(X_train_val[-1,1:].tolist() + [y_train_val[-1][0]])\n",
    "    output = model.predict(input_arr.reshape(1,1,-1),verbose=0)[0][0]\n",
    "    X_test.append(input_arr)\n",
    "    y_test.append(output)\n",
    "    i = 0\n",
    "\n",
    "    for i in range(1,len(future_dates)):\n",
    "        current_window = X_test[i-1]\n",
    "        input_arr = np.array(current_window[1:].tolist() + [y_test[i-1]])\n",
    "        output = model.predict(input_arr.reshape(1,1,-1))[0][0]\n",
    "        X_test.append(input_arr)\n",
    "        y_test.append(output)\n",
    "\n",
    "    X_test = np.array(X_test)\n",
    "    y_test = np.array(y_test)\n",
    "\n",
    "    y_pred = mms.inverse_transform(y_test.reshape(-1,1))\n",
    "    \n",
    "    return y_pred"
   ],
   "metadata": {
    "collapsed": false,
    "ExecuteTime": {
     "end_time": "2024-02-13T23:18:25.667306400Z",
     "start_time": "2024-02-13T23:18:25.640958200Z"
    }
   },
   "id": "356a296498026962",
   "execution_count": 20
  },
  {
   "cell_type": "code",
   "outputs": [],
   "source": [],
   "metadata": {
    "collapsed": false
   },
   "id": "d7715bce37469c6"
  }
 ],
 "metadata": {
  "kernelspec": {
   "display_name": "Python 3",
   "language": "python",
   "name": "python3"
  },
  "language_info": {
   "codemirror_mode": {
    "name": "ipython",
    "version": 2
   },
   "file_extension": ".py",
   "mimetype": "text/x-python",
   "name": "python",
   "nbconvert_exporter": "python",
   "pygments_lexer": "ipython2",
   "version": "2.7.6"
  }
 },
 "nbformat": 4,
 "nbformat_minor": 5
}
