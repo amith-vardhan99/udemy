{
 "cells": [
  {
   "cell_type": "code",
   "execution_count": 14,
   "id": "initial_id",
   "metadata": {
    "collapsed": true,
    "ExecuteTime": {
     "end_time": "2024-02-06T19:00:36.803539500Z",
     "start_time": "2024-02-06T19:00:36.784506700Z"
    }
   },
   "outputs": [],
   "source": [
    "import numpy as np\n",
    "import pandas as pd\n",
    "import matplotlib.pyplot as plt\n",
    "import seaborn as sns\n",
    "from sklearn.linear_model import *\n",
    "import tensorflow as tf\n",
    "import warnings\n",
    "warnings.filterwarnings(\"ignore\")\n",
    "from datetime import *"
   ]
  },
  {
   "cell_type": "code",
   "outputs": [
    {
     "data": {
      "text/plain": "   Unix Timestamp                 Date  Symbol    Open    High     Low  \\\n0   1586995200000  2020-04-16 00:00:00  ETHUSD  152.94  152.94  150.39   \n1   1586991600000  2020-04-15 23:00:00  ETHUSD  155.81  155.81  151.39   \n2   1586988000000  2020-04-15 22:00:00  ETHUSD  157.18  157.30  155.32   \n3   1586984400000  2020-04-15 21:00:00  ETHUSD  158.04  158.31  157.16   \n4   1586980800000  2020-04-15 20:00:00  ETHUSD  157.10  158.10  156.87   \n\n    Close       Volume  \n0  150.39   650.188125  \n1  152.94  4277.567299  \n2  155.81   106.337279  \n3  157.18    55.244131  \n4  158.04   144.262622  ",
      "text/html": "<div>\n<style scoped>\n    .dataframe tbody tr th:only-of-type {\n        vertical-align: middle;\n    }\n\n    .dataframe tbody tr th {\n        vertical-align: top;\n    }\n\n    .dataframe thead th {\n        text-align: right;\n    }\n</style>\n<table border=\"1\" class=\"dataframe\">\n  <thead>\n    <tr style=\"text-align: right;\">\n      <th></th>\n      <th>Unix Timestamp</th>\n      <th>Date</th>\n      <th>Symbol</th>\n      <th>Open</th>\n      <th>High</th>\n      <th>Low</th>\n      <th>Close</th>\n      <th>Volume</th>\n    </tr>\n  </thead>\n  <tbody>\n    <tr>\n      <th>0</th>\n      <td>1586995200000</td>\n      <td>2020-04-16 00:00:00</td>\n      <td>ETHUSD</td>\n      <td>152.94</td>\n      <td>152.94</td>\n      <td>150.39</td>\n      <td>150.39</td>\n      <td>650.188125</td>\n    </tr>\n    <tr>\n      <th>1</th>\n      <td>1586991600000</td>\n      <td>2020-04-15 23:00:00</td>\n      <td>ETHUSD</td>\n      <td>155.81</td>\n      <td>155.81</td>\n      <td>151.39</td>\n      <td>152.94</td>\n      <td>4277.567299</td>\n    </tr>\n    <tr>\n      <th>2</th>\n      <td>1586988000000</td>\n      <td>2020-04-15 22:00:00</td>\n      <td>ETHUSD</td>\n      <td>157.18</td>\n      <td>157.30</td>\n      <td>155.32</td>\n      <td>155.81</td>\n      <td>106.337279</td>\n    </tr>\n    <tr>\n      <th>3</th>\n      <td>1586984400000</td>\n      <td>2020-04-15 21:00:00</td>\n      <td>ETHUSD</td>\n      <td>158.04</td>\n      <td>158.31</td>\n      <td>157.16</td>\n      <td>157.18</td>\n      <td>55.244131</td>\n    </tr>\n    <tr>\n      <th>4</th>\n      <td>1586980800000</td>\n      <td>2020-04-15 20:00:00</td>\n      <td>ETHUSD</td>\n      <td>157.10</td>\n      <td>158.10</td>\n      <td>156.87</td>\n      <td>158.04</td>\n      <td>144.262622</td>\n    </tr>\n  </tbody>\n</table>\n</div>"
     },
     "execution_count": 2,
     "metadata": {},
     "output_type": "execute_result"
    }
   ],
   "source": [
    "df = pd.read_csv(\"ETH_1H.csv\")\n",
    "df.head()"
   ],
   "metadata": {
    "collapsed": false,
    "ExecuteTime": {
     "end_time": "2024-02-06T18:32:42.161937600Z",
     "start_time": "2024-02-06T18:32:41.972628700Z"
    }
   },
   "id": "678fde5ec2372405",
   "execution_count": 2
  },
  {
   "cell_type": "code",
   "outputs": [
    {
     "data": {
      "text/plain": "Unix Timestamp      int64\nDate               object\nSymbol             object\nOpen              float64\nHigh              float64\nLow               float64\nClose             float64\nVolume            float64\ndtype: object"
     },
     "execution_count": 3,
     "metadata": {},
     "output_type": "execute_result"
    }
   ],
   "source": [
    "df.dtypes"
   ],
   "metadata": {
    "collapsed": false,
    "ExecuteTime": {
     "end_time": "2024-02-06T18:43:40.734867600Z",
     "start_time": "2024-02-06T18:43:40.631594500Z"
    }
   },
   "id": "18eb2051126581cb",
   "execution_count": 3
  },
  {
   "cell_type": "code",
   "outputs": [
    {
     "data": {
      "text/plain": "array(['ETHUSD'], dtype=object)"
     },
     "execution_count": 4,
     "metadata": {},
     "output_type": "execute_result"
    }
   ],
   "source": [
    "df[\"Symbol\"].unique()"
   ],
   "metadata": {
    "collapsed": false,
    "ExecuteTime": {
     "end_time": "2024-02-06T18:48:52.963538Z",
     "start_time": "2024-02-06T18:48:52.943470Z"
    }
   },
   "id": "6dc38304a023bf64",
   "execution_count": 4
  },
  {
   "cell_type": "code",
   "outputs": [],
   "source": [
    "df_1 = df.drop(columns=[\"Symbol\"])"
   ],
   "metadata": {
    "collapsed": false,
    "ExecuteTime": {
     "end_time": "2024-02-06T18:59:18.890873200Z",
     "start_time": "2024-02-06T18:59:18.860299400Z"
    }
   },
   "id": "cbff0db706040deb",
   "execution_count": 9
  },
  {
   "cell_type": "code",
   "outputs": [
    {
     "data": {
      "text/plain": "Unix Timestamp    0\nDate              0\nOpen              0\nHigh              0\nLow               0\nClose             0\nVolume            0\ndtype: int64"
     },
     "execution_count": 10,
     "metadata": {},
     "output_type": "execute_result"
    }
   ],
   "source": [
    "df_1.isna().sum()"
   ],
   "metadata": {
    "collapsed": false,
    "ExecuteTime": {
     "end_time": "2024-02-06T18:59:19.397080Z",
     "start_time": "2024-02-06T18:59:19.382505600Z"
    }
   },
   "id": "58ead85bc6a3eae4",
   "execution_count": 10
  },
  {
   "cell_type": "code",
   "outputs": [
    {
     "data": {
      "text/plain": "0"
     },
     "execution_count": 11,
     "metadata": {},
     "output_type": "execute_result"
    }
   ],
   "source": [
    "df_1.duplicated().sum()"
   ],
   "metadata": {
    "collapsed": false,
    "ExecuteTime": {
     "end_time": "2024-02-06T18:59:20.091438200Z",
     "start_time": "2024-02-06T18:59:20.063784Z"
    }
   },
   "id": "4608e5942e476d70",
   "execution_count": 11
  },
  {
   "cell_type": "code",
   "outputs": [
    {
     "data": {
      "text/plain": "   Unix Timestamp                 Date    Open    High     Low   Close  \\\n0   1586995200000  2020-04-16 00:00:00  152.94  152.94  150.39  150.39   \n1   1586991600000  2020-04-15 23:00:00  155.81  155.81  151.39  152.94   \n2   1586988000000  2020-04-15 22:00:00  157.18  157.30  155.32  155.81   \n3   1586984400000  2020-04-15 21:00:00  158.04  158.31  157.16  157.18   \n4   1586980800000  2020-04-15 20:00:00  157.10  158.10  156.87  158.04   \n\n        Volume  \n0   650.188125  \n1  4277.567299  \n2   106.337279  \n3    55.244131  \n4   144.262622  ",
      "text/html": "<div>\n<style scoped>\n    .dataframe tbody tr th:only-of-type {\n        vertical-align: middle;\n    }\n\n    .dataframe tbody tr th {\n        vertical-align: top;\n    }\n\n    .dataframe thead th {\n        text-align: right;\n    }\n</style>\n<table border=\"1\" class=\"dataframe\">\n  <thead>\n    <tr style=\"text-align: right;\">\n      <th></th>\n      <th>Unix Timestamp</th>\n      <th>Date</th>\n      <th>Open</th>\n      <th>High</th>\n      <th>Low</th>\n      <th>Close</th>\n      <th>Volume</th>\n    </tr>\n  </thead>\n  <tbody>\n    <tr>\n      <th>0</th>\n      <td>1586995200000</td>\n      <td>2020-04-16 00:00:00</td>\n      <td>152.94</td>\n      <td>152.94</td>\n      <td>150.39</td>\n      <td>150.39</td>\n      <td>650.188125</td>\n    </tr>\n    <tr>\n      <th>1</th>\n      <td>1586991600000</td>\n      <td>2020-04-15 23:00:00</td>\n      <td>155.81</td>\n      <td>155.81</td>\n      <td>151.39</td>\n      <td>152.94</td>\n      <td>4277.567299</td>\n    </tr>\n    <tr>\n      <th>2</th>\n      <td>1586988000000</td>\n      <td>2020-04-15 22:00:00</td>\n      <td>157.18</td>\n      <td>157.30</td>\n      <td>155.32</td>\n      <td>155.81</td>\n      <td>106.337279</td>\n    </tr>\n    <tr>\n      <th>3</th>\n      <td>1586984400000</td>\n      <td>2020-04-15 21:00:00</td>\n      <td>158.04</td>\n      <td>158.31</td>\n      <td>157.16</td>\n      <td>157.18</td>\n      <td>55.244131</td>\n    </tr>\n    <tr>\n      <th>4</th>\n      <td>1586980800000</td>\n      <td>2020-04-15 20:00:00</td>\n      <td>157.10</td>\n      <td>158.10</td>\n      <td>156.87</td>\n      <td>158.04</td>\n      <td>144.262622</td>\n    </tr>\n  </tbody>\n</table>\n</div>"
     },
     "execution_count": 12,
     "metadata": {},
     "output_type": "execute_result"
    }
   ],
   "source": [
    "df_1.head()"
   ],
   "metadata": {
    "collapsed": false,
    "ExecuteTime": {
     "end_time": "2024-02-06T18:59:21.290567700Z",
     "start_time": "2024-02-06T18:59:21.268621400Z"
    }
   },
   "id": "1db0aab389dff54a",
   "execution_count": 12
  },
  {
   "cell_type": "code",
   "outputs": [
    {
     "data": {
      "text/plain": "                       Open    High     Low   Close       Volume\nDate                                                            \n2016-05-09 13:00:00    0.00   12.00    0.00    9.55   432.562115\n2016-05-09 14:00:00    9.55   10.00    9.55   10.00   235.774075\n2016-05-09 15:00:00   10.00   10.00    9.99    9.99    10.973567\n2016-05-09 16:00:00    9.99    9.99    9.79    9.83    62.379450\n2016-05-09 17:00:00    9.83    9.83    9.48    9.49   329.553213\n...                     ...     ...     ...     ...          ...\n2020-04-15 20:00:00  157.10  158.10  156.87  158.04   144.262622\n2020-04-15 21:00:00  158.04  158.31  157.16  157.18    55.244131\n2020-04-15 22:00:00  157.18  157.30  155.32  155.81   106.337279\n2020-04-15 23:00:00  155.81  155.81  151.39  152.94  4277.567299\n2020-04-16 00:00:00  152.94  152.94  150.39  150.39   650.188125\n\n[34497 rows x 5 columns]",
      "text/html": "<div>\n<style scoped>\n    .dataframe tbody tr th:only-of-type {\n        vertical-align: middle;\n    }\n\n    .dataframe tbody tr th {\n        vertical-align: top;\n    }\n\n    .dataframe thead th {\n        text-align: right;\n    }\n</style>\n<table border=\"1\" class=\"dataframe\">\n  <thead>\n    <tr style=\"text-align: right;\">\n      <th></th>\n      <th>Open</th>\n      <th>High</th>\n      <th>Low</th>\n      <th>Close</th>\n      <th>Volume</th>\n    </tr>\n    <tr>\n      <th>Date</th>\n      <th></th>\n      <th></th>\n      <th></th>\n      <th></th>\n      <th></th>\n    </tr>\n  </thead>\n  <tbody>\n    <tr>\n      <th>2016-05-09 13:00:00</th>\n      <td>0.00</td>\n      <td>12.00</td>\n      <td>0.00</td>\n      <td>9.55</td>\n      <td>432.562115</td>\n    </tr>\n    <tr>\n      <th>2016-05-09 14:00:00</th>\n      <td>9.55</td>\n      <td>10.00</td>\n      <td>9.55</td>\n      <td>10.00</td>\n      <td>235.774075</td>\n    </tr>\n    <tr>\n      <th>2016-05-09 15:00:00</th>\n      <td>10.00</td>\n      <td>10.00</td>\n      <td>9.99</td>\n      <td>9.99</td>\n      <td>10.973567</td>\n    </tr>\n    <tr>\n      <th>2016-05-09 16:00:00</th>\n      <td>9.99</td>\n      <td>9.99</td>\n      <td>9.79</td>\n      <td>9.83</td>\n      <td>62.379450</td>\n    </tr>\n    <tr>\n      <th>2016-05-09 17:00:00</th>\n      <td>9.83</td>\n      <td>9.83</td>\n      <td>9.48</td>\n      <td>9.49</td>\n      <td>329.553213</td>\n    </tr>\n    <tr>\n      <th>...</th>\n      <td>...</td>\n      <td>...</td>\n      <td>...</td>\n      <td>...</td>\n      <td>...</td>\n    </tr>\n    <tr>\n      <th>2020-04-15 20:00:00</th>\n      <td>157.10</td>\n      <td>158.10</td>\n      <td>156.87</td>\n      <td>158.04</td>\n      <td>144.262622</td>\n    </tr>\n    <tr>\n      <th>2020-04-15 21:00:00</th>\n      <td>158.04</td>\n      <td>158.31</td>\n      <td>157.16</td>\n      <td>157.18</td>\n      <td>55.244131</td>\n    </tr>\n    <tr>\n      <th>2020-04-15 22:00:00</th>\n      <td>157.18</td>\n      <td>157.30</td>\n      <td>155.32</td>\n      <td>155.81</td>\n      <td>106.337279</td>\n    </tr>\n    <tr>\n      <th>2020-04-15 23:00:00</th>\n      <td>155.81</td>\n      <td>155.81</td>\n      <td>151.39</td>\n      <td>152.94</td>\n      <td>4277.567299</td>\n    </tr>\n    <tr>\n      <th>2020-04-16 00:00:00</th>\n      <td>152.94</td>\n      <td>152.94</td>\n      <td>150.39</td>\n      <td>150.39</td>\n      <td>650.188125</td>\n    </tr>\n  </tbody>\n</table>\n<p>34497 rows × 5 columns</p>\n</div>"
     },
     "execution_count": 37,
     "metadata": {},
     "output_type": "execute_result"
    }
   ],
   "source": [
    "df_2 = df_1.copy()\n",
    "df_2[\"Unix Timestamp\"] = pd.to_datetime(df_1[\"Date\"])\n",
    "df_2.drop(columns=[\"Unix Timestamp\"],inplace=True)\n",
    "df_2.set_index(keys=\"Date\",inplace=True)\n",
    "df_2.sort_index(axis=0,inplace=True)\n",
    "df_2"
   ],
   "metadata": {
    "collapsed": false,
    "ExecuteTime": {
     "end_time": "2024-02-06T19:26:55.576721800Z",
     "start_time": "2024-02-06T19:26:55.506062100Z"
    }
   },
   "id": "836e32127d7bebd3",
   "execution_count": 37
  },
  {
   "cell_type": "code",
   "outputs": [],
   "source": [
    "for i in df_2:\n",
    "    sns.lineplot(data=df_2[i])"
   ],
   "metadata": {
    "collapsed": false,
    "ExecuteTime": {
     "start_time": "2024-02-06T19:28:23.251633200Z"
    }
   },
   "id": "c7e6edbfd86a7c39",
   "execution_count": null
  },
  {
   "cell_type": "code",
   "outputs": [],
   "source": [],
   "metadata": {
    "collapsed": false
   },
   "id": "d75fdcf6a68d3594"
  }
 ],
 "metadata": {
  "kernelspec": {
   "display_name": "Python 3",
   "language": "python",
   "name": "python3"
  },
  "language_info": {
   "codemirror_mode": {
    "name": "ipython",
    "version": 2
   },
   "file_extension": ".py",
   "mimetype": "text/x-python",
   "name": "python",
   "nbconvert_exporter": "python",
   "pygments_lexer": "ipython2",
   "version": "2.7.6"
  }
 },
 "nbformat": 4,
 "nbformat_minor": 5
}
