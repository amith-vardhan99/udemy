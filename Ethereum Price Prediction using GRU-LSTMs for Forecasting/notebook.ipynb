{
 "cells": [
  {
   "cell_type": "code",
   "execution_count": 6,
   "id": "initial_id",
   "metadata": {
    "collapsed": true,
    "ExecuteTime": {
     "end_time": "2024-02-11T23:50:43.120857500Z",
     "start_time": "2024-02-11T23:50:43.102441500Z"
    }
   },
   "outputs": [],
   "source": [
    "import numpy as np\n",
    "import pandas as pd\n",
    "import matplotlib.pyplot as plt\n",
    "import seaborn as sns"
   ]
  },
  {
   "cell_type": "code",
   "outputs": [
    {
     "data": {
      "text/plain": "   Unix Timestamp                 Date  Symbol    Open    High     Low  \\\n0   1586995200000  2020-04-16 00:00:00  ETHUSD  152.94  152.94  150.39   \n1   1586991600000  2020-04-15 23:00:00  ETHUSD  155.81  155.81  151.39   \n2   1586988000000  2020-04-15 22:00:00  ETHUSD  157.18  157.30  155.32   \n3   1586984400000  2020-04-15 21:00:00  ETHUSD  158.04  158.31  157.16   \n4   1586980800000  2020-04-15 20:00:00  ETHUSD  157.10  158.10  156.87   \n\n    Close       Volume  \n0  150.39   650.188125  \n1  152.94  4277.567299  \n2  155.81   106.337279  \n3  157.18    55.244131  \n4  158.04   144.262622  ",
      "text/html": "<div>\n<style scoped>\n    .dataframe tbody tr th:only-of-type {\n        vertical-align: middle;\n    }\n\n    .dataframe tbody tr th {\n        vertical-align: top;\n    }\n\n    .dataframe thead th {\n        text-align: right;\n    }\n</style>\n<table border=\"1\" class=\"dataframe\">\n  <thead>\n    <tr style=\"text-align: right;\">\n      <th></th>\n      <th>Unix Timestamp</th>\n      <th>Date</th>\n      <th>Symbol</th>\n      <th>Open</th>\n      <th>High</th>\n      <th>Low</th>\n      <th>Close</th>\n      <th>Volume</th>\n    </tr>\n  </thead>\n  <tbody>\n    <tr>\n      <th>0</th>\n      <td>1586995200000</td>\n      <td>2020-04-16 00:00:00</td>\n      <td>ETHUSD</td>\n      <td>152.94</td>\n      <td>152.94</td>\n      <td>150.39</td>\n      <td>150.39</td>\n      <td>650.188125</td>\n    </tr>\n    <tr>\n      <th>1</th>\n      <td>1586991600000</td>\n      <td>2020-04-15 23:00:00</td>\n      <td>ETHUSD</td>\n      <td>155.81</td>\n      <td>155.81</td>\n      <td>151.39</td>\n      <td>152.94</td>\n      <td>4277.567299</td>\n    </tr>\n    <tr>\n      <th>2</th>\n      <td>1586988000000</td>\n      <td>2020-04-15 22:00:00</td>\n      <td>ETHUSD</td>\n      <td>157.18</td>\n      <td>157.30</td>\n      <td>155.32</td>\n      <td>155.81</td>\n      <td>106.337279</td>\n    </tr>\n    <tr>\n      <th>3</th>\n      <td>1586984400000</td>\n      <td>2020-04-15 21:00:00</td>\n      <td>ETHUSD</td>\n      <td>158.04</td>\n      <td>158.31</td>\n      <td>157.16</td>\n      <td>157.18</td>\n      <td>55.244131</td>\n    </tr>\n    <tr>\n      <th>4</th>\n      <td>1586980800000</td>\n      <td>2020-04-15 20:00:00</td>\n      <td>ETHUSD</td>\n      <td>157.10</td>\n      <td>158.10</td>\n      <td>156.87</td>\n      <td>158.04</td>\n      <td>144.262622</td>\n    </tr>\n  </tbody>\n</table>\n</div>"
     },
     "execution_count": 7,
     "metadata": {},
     "output_type": "execute_result"
    }
   ],
   "source": [
    "df = pd.read_csv(\"ETH_1H.csv\")\n",
    "df.head()"
   ],
   "metadata": {
    "collapsed": false,
    "ExecuteTime": {
     "end_time": "2024-02-11T23:50:44.315325100Z",
     "start_time": "2024-02-11T23:50:44.224356600Z"
    }
   },
   "id": "48afc22e218cd8c6",
   "execution_count": 7
  },
  {
   "cell_type": "code",
   "outputs": [
    {
     "data": {
      "text/plain": "34497"
     },
     "execution_count": 8,
     "metadata": {},
     "output_type": "execute_result"
    }
   ],
   "source": [
    "len(df)"
   ],
   "metadata": {
    "collapsed": false,
    "ExecuteTime": {
     "end_time": "2024-02-11T23:50:44.955132Z",
     "start_time": "2024-02-11T23:50:44.932467500Z"
    }
   },
   "id": "df2af64522d61fed",
   "execution_count": 8
  },
  {
   "cell_type": "code",
   "outputs": [
    {
     "data": {
      "text/plain": "Unix Timestamp    34497\nDate              34497\nSymbol                1\nOpen              20189\nHigh              19276\nLow               19259\nClose             20189\nVolume            31404\ndtype: int64"
     },
     "execution_count": 9,
     "metadata": {},
     "output_type": "execute_result"
    }
   ],
   "source": [
    "df.nunique()"
   ],
   "metadata": {
    "collapsed": false,
    "ExecuteTime": {
     "end_time": "2024-02-11T23:50:45.684298400Z",
     "start_time": "2024-02-11T23:50:45.604684600Z"
    }
   },
   "id": "1c1754954a8a2c53",
   "execution_count": 9
  },
  {
   "cell_type": "code",
   "outputs": [
    {
     "data": {
      "text/plain": "                  Date    Open    High     Low   Close       Volume\n0  2020-04-16 00:00:00  152.94  152.94  150.39  150.39   650.188125\n1  2020-04-15 23:00:00  155.81  155.81  151.39  152.94  4277.567299\n2  2020-04-15 22:00:00  157.18  157.30  155.32  155.81   106.337279\n3  2020-04-15 21:00:00  158.04  158.31  157.16  157.18    55.244131\n4  2020-04-15 20:00:00  157.10  158.10  156.87  158.04   144.262622",
      "text/html": "<div>\n<style scoped>\n    .dataframe tbody tr th:only-of-type {\n        vertical-align: middle;\n    }\n\n    .dataframe tbody tr th {\n        vertical-align: top;\n    }\n\n    .dataframe thead th {\n        text-align: right;\n    }\n</style>\n<table border=\"1\" class=\"dataframe\">\n  <thead>\n    <tr style=\"text-align: right;\">\n      <th></th>\n      <th>Date</th>\n      <th>Open</th>\n      <th>High</th>\n      <th>Low</th>\n      <th>Close</th>\n      <th>Volume</th>\n    </tr>\n  </thead>\n  <tbody>\n    <tr>\n      <th>0</th>\n      <td>2020-04-16 00:00:00</td>\n      <td>152.94</td>\n      <td>152.94</td>\n      <td>150.39</td>\n      <td>150.39</td>\n      <td>650.188125</td>\n    </tr>\n    <tr>\n      <th>1</th>\n      <td>2020-04-15 23:00:00</td>\n      <td>155.81</td>\n      <td>155.81</td>\n      <td>151.39</td>\n      <td>152.94</td>\n      <td>4277.567299</td>\n    </tr>\n    <tr>\n      <th>2</th>\n      <td>2020-04-15 22:00:00</td>\n      <td>157.18</td>\n      <td>157.30</td>\n      <td>155.32</td>\n      <td>155.81</td>\n      <td>106.337279</td>\n    </tr>\n    <tr>\n      <th>3</th>\n      <td>2020-04-15 21:00:00</td>\n      <td>158.04</td>\n      <td>158.31</td>\n      <td>157.16</td>\n      <td>157.18</td>\n      <td>55.244131</td>\n    </tr>\n    <tr>\n      <th>4</th>\n      <td>2020-04-15 20:00:00</td>\n      <td>157.10</td>\n      <td>158.10</td>\n      <td>156.87</td>\n      <td>158.04</td>\n      <td>144.262622</td>\n    </tr>\n  </tbody>\n</table>\n</div>"
     },
     "execution_count": 10,
     "metadata": {},
     "output_type": "execute_result"
    }
   ],
   "source": [
    "df_1 = df.drop(columns=[\"Symbol\",\"Unix Timestamp\"])\n",
    "df_1.head()"
   ],
   "metadata": {
    "collapsed": false,
    "ExecuteTime": {
     "end_time": "2024-02-11T23:50:46.204067500Z",
     "start_time": "2024-02-11T23:50:46.174872Z"
    }
   },
   "id": "e62efcef6f609316",
   "execution_count": 10
  },
  {
   "cell_type": "code",
   "outputs": [],
   "source": [
    "df_2 = df_1.copy()\n",
    "df_2[\"Date\"] = pd.to_datetime(df_2[\"Date\"])\n",
    "df_2[\"Date\"] = df_2[\"Date\"].dt.date\n",
    "grp = df_2.groupby(by=\"Date\").groups\n",
    "df_3 = pd.DataFrame(columns=df_2.columns)\n",
    "ctr = 0\n",
    "for i in grp:\n",
    "    date_org = i\n",
    "    date_indices = grp[i]\n",
    "    df_3.loc[ctr]\n",
    "    ctr += 1\n",
    "    "
   ],
   "metadata": {
    "collapsed": false,
    "ExecuteTime": {
     "end_time": "2024-02-11T23:50:46.847507300Z",
     "start_time": "2024-02-11T23:50:46.800015100Z"
    }
   },
   "id": "cfb4902066dad738",
   "execution_count": 11
  },
  {
   "cell_type": "code",
   "outputs": [
    {
     "data": {
      "text/plain": "Empty DataFrame\nColumns: [Date, Open, High, Low, Close, Volume]\nIndex: []",
      "text/html": "<div>\n<style scoped>\n    .dataframe tbody tr th:only-of-type {\n        vertical-align: middle;\n    }\n\n    .dataframe tbody tr th {\n        vertical-align: top;\n    }\n\n    .dataframe thead th {\n        text-align: right;\n    }\n</style>\n<table border=\"1\" class=\"dataframe\">\n  <thead>\n    <tr style=\"text-align: right;\">\n      <th></th>\n      <th>Date</th>\n      <th>Open</th>\n      <th>High</th>\n      <th>Low</th>\n      <th>Close</th>\n      <th>Volume</th>\n    </tr>\n  </thead>\n  <tbody>\n  </tbody>\n</table>\n</div>"
     },
     "execution_count": 12,
     "metadata": {},
     "output_type": "execute_result"
    }
   ],
   "source": [
    "df_3"
   ],
   "metadata": {
    "collapsed": false,
    "ExecuteTime": {
     "end_time": "2024-02-11T23:50:47.922626200Z",
     "start_time": "2024-02-11T23:50:47.823935600Z"
    }
   },
   "id": "8136c39180c4b0a",
   "execution_count": 12
  },
  {
   "cell_type": "code",
   "outputs": [],
   "source": [],
   "metadata": {
    "collapsed": false
   },
   "id": "2b5a9a00f2148dfb"
  }
 ],
 "metadata": {
  "kernelspec": {
   "display_name": "Python 3",
   "language": "python",
   "name": "python3"
  },
  "language_info": {
   "codemirror_mode": {
    "name": "ipython",
    "version": 2
   },
   "file_extension": ".py",
   "mimetype": "text/x-python",
   "name": "python",
   "nbconvert_exporter": "python",
   "pygments_lexer": "ipython2",
   "version": "2.7.6"
  }
 },
 "nbformat": 4,
 "nbformat_minor": 5
}
